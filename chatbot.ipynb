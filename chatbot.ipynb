{
 "cells": [
  {
   "cell_type": "markdown",
   "metadata": {},
   "source": [
    "# Telegram Chatbot Backed by KGQA with Lambda and API Gateway\n",
    "\n",
    "References:\n",
    "- [Building Your First Serverless Telegram Bot with AWS Lambda](https://iamondemand.com/blog/building-your-first-serverless-telegram-bot/)\n",
    "- [github:lesterchan/telegram-bot ](https://github.com/lesterchan/telegram-bot)\n",
    "- [Simple Telegram Bot with Python and AWS Lambda](https://levelup.gitconnected.com/simple-telegram-bot-with-python-and-aws-lambda-5eab1066b466)\n",
    "- [API GatewayとLambda(Python)でLINE BOT(Messaging API)開発](https://qiita.com/w2or3w/items/1b80bfbae59fe19e2015)\n",
    "- [API Gateway + LambdaでLINE Bot開発](https://xp-cloud.jp/blog/2019/06/24/5560/)\n",
    "- [Serverless github bot with AWS Lambda and API Gateway](https://kalinchernev.github.io/serverless-github-bot-aws-lambda-api-gateway-nodejs)\n",
    "- [Writing a Serverless Slack Bot](https://messagemedia.com/au/blog/writing-a-serverless-slack-bot/)\n",
    "- [Build Chatbots using Serverless Bot Framework with Salesforce Integration](https://aws.amazon.com/blogs/architecture/build-chatbots-using-serverless-bot-framework-with-salesforce-integration/)\n",
    "- [How to Deploy a Telegram Bot with Flask, pyTelegramBotAPI, Gunicorn and PostgreSQL to Heroku](https://medium.com/tech-insights/how-to-deploy-a-telegram-bot-with-flask-pytelegrambotapi-gunicorn-and-postgresql-to-heroku-19d87959a65)\n",
    "- [I built a serverless Telegram bot over the weekend. Here’s what I learned.](https://www.freecodecamp.org/news/how-to-build-a-server-less-telegram-bot-227f842f4706/)"
   ]
  },
  {
   "cell_type": "markdown",
   "metadata": {},
   "source": [
    "## Part 1: End-to-end Invocation\n",
    "\n",
    "### 1. Define and retrieve Neptune and inference endpoints\n",
    "\n",
    "We write codes of converting a question to an answer in this part.\n",
    "\n",
    "Environment variables:"
   ]
  },
  {
   "cell_type": "code",
   "execution_count": 3,
   "metadata": {},
   "outputs": [],
   "source": [
    "import boto3\n",
    "neptune_db_cluster_identifier = 'kg-neptune'\n",
    "nlu_endpoint_name_contains = 'qa-model-from-registry-ep'"
   ]
  },
  {
   "cell_type": "code",
   "execution_count": 4,
   "metadata": {},
   "outputs": [
    {
     "data": {
      "text/plain": [
       "{'AllocatedStorage': 1,\n",
       " 'AvailabilityZones': ['us-east-1b', 'us-east-1a', 'us-east-1c'],\n",
       " 'BackupRetentionPeriod': 1,\n",
       " 'DBClusterIdentifier': 'kg-neptune',\n",
       " 'DBClusterParameterGroup': 'default.neptune1',\n",
       " 'DBSubnetGroup': 'default',\n",
       " 'Status': 'available',\n",
       " 'EarliestRestorableTime': datetime.datetime(2021, 9, 29, 9, 56, 9, 536000, tzinfo=tzlocal()),\n",
       " 'Endpoint': 'kg-neptune.cluster-c2ycbhkszo5s.us-east-1.neptune.amazonaws.com',\n",
       " 'ReaderEndpoint': 'kg-neptune.cluster-ro-c2ycbhkszo5s.us-east-1.neptune.amazonaws.com',\n",
       " 'MultiAZ': False,\n",
       " 'Engine': 'neptune',\n",
       " 'EngineVersion': '1.0.5.0',\n",
       " 'LatestRestorableTime': datetime.datetime(2021, 9, 30, 10, 25, 37, 733000, tzinfo=tzlocal()),\n",
       " 'Port': 8182,\n",
       " 'MasterUsername': 'admin',\n",
       " 'PreferredBackupWindow': '09:47-10:17',\n",
       " 'PreferredMaintenanceWindow': 'fri:05:05-fri:05:35',\n",
       " 'ReadReplicaIdentifiers': [],\n",
       " 'DBClusterMembers': [{'DBInstanceIdentifier': 'kg-neptune-instance-1',\n",
       "   'IsClusterWriter': True,\n",
       "   'DBClusterParameterGroupStatus': 'in-sync',\n",
       "   'PromotionTier': 1}],\n",
       " 'VpcSecurityGroups': [{'VpcSecurityGroupId': 'sg-dc24d3db',\n",
       "   'Status': 'active'}],\n",
       " 'HostedZoneId': 'ZUFXD4SLT2LS7',\n",
       " 'StorageEncrypted': False,\n",
       " 'DbClusterResourceId': 'cluster-TW3ECHDRCDH4RVI4CDRZFG3OYI',\n",
       " 'DBClusterArn': 'arn:aws:rds:us-east-1:093729152554:cluster:kg-neptune',\n",
       " 'AssociatedRoles': [],\n",
       " 'IAMDatabaseAuthenticationEnabled': False,\n",
       " 'ClusterCreateTime': datetime.datetime(2021, 9, 15, 11, 4, 29, 47000, tzinfo=tzlocal()),\n",
       " 'CopyTagsToSnapshot': False,\n",
       " 'DeletionProtection': False,\n",
       " 'CrossAccountClone': False}"
      ]
     },
     "execution_count": 4,
     "metadata": {},
     "output_type": "execute_result"
    }
   ],
   "source": [
    "neptune = boto3.client('neptune')\n",
    "response = neptune.describe_db_clusters(DBClusterIdentifier=neptune_db_cluster_identifier)\n",
    "neptue_endpoint_desc = response['DBClusters'][0]\n",
    "neptue_endpoint_desc"
   ]
  },
  {
   "cell_type": "code",
   "execution_count": 5,
   "metadata": {},
   "outputs": [
    {
     "data": {
      "text/plain": [
       "{'EndpointName': 'qa-model-from-registry-ep',\n",
       " 'EndpointArn': 'arn:aws:sagemaker:us-east-1:093729152554:endpoint/qa-model-from-registry-ep',\n",
       " 'CreationTime': datetime.datetime(2021, 9, 28, 1, 54, 31, 267000, tzinfo=tzlocal()),\n",
       " 'LastModifiedTime': datetime.datetime(2021, 9, 28, 2, 2, 51, 936000, tzinfo=tzlocal()),\n",
       " 'EndpointStatus': 'InService'}"
      ]
     },
     "execution_count": 5,
     "metadata": {},
     "output_type": "execute_result"
    }
   ],
   "source": [
    "sm = boto3.client('sagemaker')\n",
    "response = sm.list_endpoints(\n",
    "    NameContains=nlu_endpoint_name_contains\n",
    ")\n",
    "nlu_endpoint_desc = response['Endpoints'][0]\n",
    "nlu_endpoint_desc"
   ]
  },
  {
   "cell_type": "code",
   "execution_count": 6,
   "metadata": {},
   "outputs": [],
   "source": [
    "neptune_endpoint = neptue_endpoint_desc['Endpoint']\n",
    "neptune_endpoint_port = neptue_endpoint_desc['Port']\n",
    "nlu_endpoint_name = nlu_endpoint_desc['EndpointName']"
   ]
  },
  {
   "cell_type": "markdown",
   "metadata": {},
   "source": [
    "### 2. Dump query templates\n",
    "\n",
    "Copy query templates to chatbot resources. Query templates are copied from QA data generation notebook."
   ]
  },
  {
   "cell_type": "code",
   "execution_count": 7,
   "metadata": {},
   "outputs": [],
   "source": [
    "query_templates = {\n",
    "    'ask_alumni': \"g.V().has('学校', 'name', '{}').inE().hasLabel('毕业院校').outV().values('name').toList()\",\n",
    "    'ask_school': \"g.V().has('人物','name','{}').out('毕业院校').values('name').next()\",\n",
    "    'ask_books': \"g.V().has('人物', 'name', '{}').inE().hasLabel('作者').outV().values('name').toList()\", \n",
    "    'ask_author': \"g.V().has('图书作品','name','{}').out('作者').values('name').next()\",\n",
    "    'ask_wife': \"g.V().has('人物','name','{}').out('妻子').values('name').next()\",\n",
    "    'ask_husband': \"g.V().has('人物','name','{}').out('丈夫').values('name').next()\",\n",
    "    'ask_films': \"g.V().has('人物', 'name', '{}').inE().hasLabel('导演').outV().values('name').toList()\",\n",
    "    'ask_director': \"g.V().has('影视作品','name','{}').out('导演').values('name').next()\",\n",
    "    'ask_nationality': \"g.V().has('人物','name','{}').out('国籍').values('name').next()\"\n",
    "}"
   ]
  },
  {
   "cell_type": "code",
   "execution_count": 8,
   "metadata": {},
   "outputs": [],
   "source": [
    "import json\n",
    "with open('chatbot_resource/query_templates.json', 'w') as f:\n",
    "    json.dump(query_templates, f, ensure_ascii=False)"
   ]
  },
  {
   "cell_type": "markdown",
   "metadata": {},
   "source": [
    "### 3. Parse questions and query Neptune\n",
    "\n",
    "You can go ahead to part 2 without runing the remaining section in section 3.\n",
    "\n",
    "Function for running graph query"
   ]
  },
  {
   "cell_type": "code",
   "execution_count": null,
   "metadata": {},
   "outputs": [],
   "source": [
    "!pip install gremlinpython"
   ]
  },
  {
   "cell_type": "code",
   "execution_count": 200,
   "metadata": {},
   "outputs": [],
   "source": [
    "from gremlin_python import statics\n",
    "from gremlin_python.structure.graph import Graph\n",
    "from gremlin_python.process.graph_traversal import __\n",
    "from gremlin_python.process.strategies import *\n",
    "from gremlin_python.driver.driver_remote_connection import DriverRemoteConnection\n",
    "\n",
    "def query_neptune(expr, neptune_endpoint, port):\n",
    "    graph = Graph()\n",
    "    if port == 80 or port == '80': # use unencrypted web socket if port is an http port\n",
    "        neptune_web_socket = f\"ws://{neptune_endpoint}:{port}/gremlin\"\n",
    "    else:\n",
    "        neptune_web_socket = f\"wss://{neptune_endpoint}:{port}/gremlin\"\n",
    "    remoteConn = DriverRemoteConnection(neptune_web_socket,'g')\n",
    "    g = graph.traversal().withRemote(remoteConn)\n",
    "    result = eval(expr)\n",
    "    remoteConn.close()\n",
    "    return result"
   ]
  },
  {
   "cell_type": "markdown",
   "metadata": {},
   "source": [
    "Function for converting question to intention and values. "
   ]
  },
  {
   "cell_type": "code",
   "execution_count": 29,
   "metadata": {},
   "outputs": [],
   "source": [
    "import json\n",
    "import sagemaker\n",
    "from sagemaker.pytorch.model import PyTorchPredictor\n",
    "from sagemaker.serializers import CSVSerializer\n",
    "from sagemaker.deserializers import JSONDeserializer\n",
    "\n",
    "def parse_questions(questions, nlu_endpoint_name):\n",
    "    '''\n",
    "    Args:\n",
    "        questions (list(str)): A list of natural language questions\n",
    "    '''\n",
    "    sess = sagemaker.Session()\n",
    "    predictor = PyTorchPredictor(\n",
    "        endpoint_name=nlu_endpoint_name,\n",
    "        sagemaker_session=sess,\n",
    "        serializer=CSVSerializer(),\n",
    "        deserializer=JSONDeserializer(),\n",
    "    )\n",
    "    predicted = predictor.predict(questions)\n",
    "    return predicted['text'], predicted['intentions'], predicted['slot_labels']"
   ]
  },
  {
   "cell_type": "code",
   "execution_count": 49,
   "metadata": {},
   "outputs": [],
   "source": [
    "def extract_slot_values(question, seq_label):\n",
    "    assert len(question) == len(seq_label), f\"question {question} should have the same \\\n",
    "length with sequence label {seq_label} ({len(question)} != {len(seq_label)})\"\n",
    "    value_buf = ''\n",
    "    slot_buf = ''\n",
    "    values = []\n",
    "    slots = []\n",
    "    for i, l in enumerate(seq_label):\n",
    "        if l.startswith('B'):\n",
    "            if value_buf != '':\n",
    "                values.append(value_buf)\n",
    "                slots.append(slot_buf)\n",
    "            slot_buf = l[2:] # extract label part from B_label\n",
    "            value_buf = question[i]\n",
    "        elif l.startswith('I'):\n",
    "            value_buf += question[i]\n",
    "        elif l.startswith('O'):\n",
    "            if value_buf != '':\n",
    "                values.append(value_buf)\n",
    "                slots.append(slot_buf)\n",
    "            value_buf = ''\n",
    "            slot_buf = ''  \n",
    "    return slots, values"
   ]
  },
  {
   "cell_type": "markdown",
   "metadata": {},
   "source": [
    "Function for generating graph query:"
   ]
  },
  {
   "cell_type": "code",
   "execution_count": 53,
   "metadata": {},
   "outputs": [],
   "source": [
    "def generate_graph_query(intent, slots, values, query_templates):\n",
    "    if intent not in query_templates.keys():\n",
    "        raise Exception(f\"Query templates does not have a template for {intent}\")\n",
    "    template = query_templates[intent]\n",
    "    query = template.format(*values)\n",
    "    return query"
   ]
  },
  {
   "cell_type": "code",
   "execution_count": 89,
   "metadata": {},
   "outputs": [],
   "source": [
    "question = '张艺谋导演了哪些电影'"
   ]
  },
  {
   "cell_type": "code",
   "execution_count": 54,
   "metadata": {},
   "outputs": [
    {
     "name": "stdout",
     "output_type": "stream",
     "text": [
      "Intentions:\n",
      "['ask_films']\n",
      "Slot labels:\n",
      "[['B_name', 'I_name', 'I_name', 'O', 'O', 'O', 'O', 'O', 'O', 'O']]\n"
     ]
    }
   ],
   "source": [
    "_, intentions, slot_labels = parse_questions([question], nlu_endpoint_name)\n",
    "print('Intentions:')\n",
    "print(intentions)\n",
    "print('Slot labels:')\n",
    "print(slot_labels)"
   ]
  },
  {
   "cell_type": "code",
   "execution_count": 55,
   "metadata": {},
   "outputs": [
    {
     "data": {
      "text/plain": [
       "(['name'], ['张艺谋'])"
      ]
     },
     "execution_count": 55,
     "metadata": {},
     "output_type": "execute_result"
    }
   ],
   "source": [
    "slots, values = extract_slot_values(question, slot_labels[0])\n",
    "slots, values"
   ]
  },
  {
   "cell_type": "code",
   "execution_count": 57,
   "metadata": {},
   "outputs": [
    {
     "data": {
      "text/plain": [
       "\"g.V().has('人物', 'name', '张艺谋').inE().hasLabel('导演').outV().values('name').toList()\""
      ]
     },
     "execution_count": 57,
     "metadata": {},
     "output_type": "execute_result"
    }
   ],
   "source": [
    "query = generate_graph_query(intentions[0], slots, values, query_templates)\n",
    "query"
   ]
  },
  {
   "cell_type": "markdown",
   "metadata": {},
   "source": [
    "To run the query event loop in jupyter notebook event look, run following cell:"
   ]
  },
  {
   "cell_type": "code",
   "execution_count": 60,
   "metadata": {},
   "outputs": [
    {
     "name": "stdout",
     "output_type": "stream",
     "text": [
      "/opt/conda/lib/python3.7/site-packages/secretstorage/dhcrypto.py:16: CryptographyDeprecationWarning: int_from_bytes is deprecated, use int.from_bytes instead\n",
      "  from cryptography.utils import int_from_bytes\n",
      "/opt/conda/lib/python3.7/site-packages/secretstorage/util.py:25: CryptographyDeprecationWarning: int_from_bytes is deprecated, use int.from_bytes instead\n",
      "  from cryptography.utils import int_from_bytes\n",
      "Requirement already satisfied: nest_asyncio in /opt/conda/lib/python3.7/site-packages (1.5.1)\n",
      "\u001b[33mWARNING: Running pip as the 'root' user can result in broken permissions and conflicting behaviour with the system package manager. It is recommended to use a virtual environment instead: https://pip.pypa.io/warnings/venv\u001b[0m\n"
     ]
    }
   ],
   "source": [
    "!pip install nest_asyncio\n",
    "import nest_asyncio\n",
    "nest_asyncio.apply()"
   ]
  },
  {
   "cell_type": "markdown",
   "metadata": {},
   "source": [
    "Use this command to check connectivity and status of your Neptune endpoint:"
   ]
  },
  {
   "cell_type": "code",
   "execution_count": 70,
   "metadata": {},
   "outputs": [
    {
     "name": "stdout",
     "output_type": "stream",
     "text": [
      "curl: (28) Failed to connect to database-2.cluster-ro-c2ycbhkszo5s.us-east-1.neptune.amazonaws.com port 8182: Connection timed out\n"
     ]
    }
   ],
   "source": [
    "!curl database-2.cluster-ro-c2ycbhkszo5s.us-east-1.neptune.amazonaws.com:8182/status"
   ]
  },
  {
   "cell_type": "code",
   "execution_count": 71,
   "metadata": {},
   "outputs": [
    {
     "name": "stdout",
     "output_type": "stream",
     "text": [
      "{\"status\":\"healthy\",\"startTime\":\"Fri Aug 20 04:52:57 UTC 2021\",\"dbEngineVersion\":\"1.0.4.2.R5\",\"role\":\"writer\",\"gremlin\":{\"version\":\"tinkerpop-3.4.10\"},\"sparql\":{\"version\":\"sparql-1.1\"},\"labMode\":{\"NeptuneML\":\"disabled\",\"ObjectIndex\":\"disabled\",\"DFEQueryEngine\":\"disabled\",\"ReadWriteConflictDetection\":\"enabled\"},\"resultCache\":{\"status\":\"Disabled\"}}"
     ]
    }
   ],
   "source": [
    "!curl alb-neptune-test-62758122.us-east-1.elb.amazonaws.com/status"
   ]
  },
  {
   "cell_type": "code",
   "execution_count": 79,
   "metadata": {},
   "outputs": [
    {
     "data": {
      "text/plain": [
       "['阳光灿烂的日子',\n",
       " '三枪',\n",
       " '一个陌生女人的来信',\n",
       " '2046',\n",
       " '三枪拍案惊奇',\n",
       " '万里长城',\n",
       " '山楂树之恋',\n",
       " '金陵十三钗',\n",
       " '印象·刘三姐',\n",
       " '影子武士',\n",
       " '秋菊打官司',\n",
       " '太阳照常升起',\n",
       " '让子弹飞',\n",
       " '王朝的女人·杨贵妃',\n",
       " '建国大业',\n",
       " '大红灯笼高高挂',\n",
       " '英雄',\n",
       " '我的父亲母亲',\n",
       " '妻妾成群',\n",
       " '菊豆',\n",
       " '左耳',\n",
       " '山乡书记',\n",
       " '北京人在纽约',\n",
       " '对话·寓言2047',\n",
       " '十面埋伏',\n",
       " '长城',\n",
       " '习近平',\n",
       " '栀子花开']"
      ]
     },
     "execution_count": 79,
     "metadata": {},
     "output_type": "execute_result"
    }
   ],
   "source": [
    "query_neptune(query, 'alb-neptune-test-62758122.us-east-1.elb.amazonaws.com', 80)"
   ]
  },
  {
   "cell_type": "code",
   "execution_count": 175,
   "metadata": {},
   "outputs": [],
   "source": [
    "def question2answer(question, query_templates, nlu_endpoint_name, neptune_endpoint, neptune_endpoint_port):\n",
    "    _, intentions, slot_labels = parse_questions([question], nlu_endpoint_name)\n",
    "    print(f\"Intention: {intentions[0]}\")\n",
    "    slots, values = extract_slot_values(question, slot_labels[0])\n",
    "    print(f\"Slot labels: {slots},{values}\")\n",
    "    query = generate_graph_query(intentions[0], slots, values, query_templates)\n",
    "    print(f\"Query: {query}\")\n",
    "    try:\n",
    "        query_result = query_neptune(query, neptune_endpoint, neptune_endpoint_port)\n",
    "    except Exception as e:\n",
    "        print(e)\n",
    "        query_result = '我不知道'\n",
    "    return query_result"
   ]
  },
  {
   "cell_type": "code",
   "execution_count": 209,
   "metadata": {},
   "outputs": [],
   "source": [
    "question = '异界之再战风云是谁的作品'"
   ]
  },
  {
   "cell_type": "code",
   "execution_count": 210,
   "metadata": {},
   "outputs": [
    {
     "name": "stdout",
     "output_type": "stream",
     "text": [
      "Intention: ask_author\n",
      "Slot labels: ['book'],['异界之再战风云']\n",
      "Query: g.V().has('图书作品','name','异界之再战风云').out('作者').values('name').next()\n"
     ]
    },
    {
     "data": {
      "text/plain": [
       "'品味人生'"
      ]
     },
     "execution_count": 210,
     "metadata": {},
     "output_type": "execute_result"
    }
   ],
   "source": [
    "question2answer(question, query_templates, nlu_endpoint_name, 'alb-neptune-test-62758122.us-east-1.elb.amazonaws.com', 80)"
   ]
  },
  {
   "cell_type": "markdown",
   "metadata": {},
   "source": [
    "## Part 2: Deploy an Invocation Lambda Function\n",
    "\n",
    "This architecture looks like this:\n",
    "![Access Neptune from Lambda](https://aws-samples.github.io/aws-dbs-refarch-graph/src/accessing-from-aws-lambda/lambda-neptune.png)\n",
    "\n",
    "> **Walkthrough of the Architecture** </br>\n",
    "> - In this architecture your Neptune cluster is run in at least two subnets in two Availability Zones, with each subnet in a different Availability Zone. By distributing your cluster instances across at least two Availability Zones, you help ensure that there are instances available in your DB cluster in the unlikely event of an Availability Zone failure.\n",
    "> - Neptune’s VPC security group is configured to allow access from the AWS Lambda security group on the Neptune cluster’s port.\n",
    "> - AWS Lambda is configured to access resources in your VPC. Doing so allows Lambda to create elastic network interfaces (ENIs) that enable your function to connect securely to Neptune.</br>\n",
    "> - The Lambda VPC configuration information includes at least 2 private subnets, allowing Lambda to run in high availability mode.\n",
    "> - The VPC security group that Lambda uses is permitted to access Neptune via an inbound rule on the Neptune VPC security group.\n",
    "> - Code running in your Lambda function uses a Gremlin or SPARQL client to submit queries to the Neptune cluster’s cluster, reader and/or instance endpoints.\n",
    "> - API Gateway exposes API operations that accept client requests and execute your backend Lambda functions.\n",
    "\n",
    "\n",
    "References:\n",
    "- [Accessing Amazon Neptune from AWS Lambda Functions](https://aws-samples.github.io/aws-dbs-refarch-graph/src/accessing-from-aws-lambda/)\n",
    "- Role setting: [Configuring a Lambda function to access resources in a VPC](https://docs.aws.amazon.com/lambda/latest/dg/configuration-vpc.html)"
   ]
  },
  {
   "cell_type": "markdown",
   "metadata": {},
   "source": [
    "### 1. Gather Neptune VPC information\n",
    "\n",
    "Get VPC ID of neptune db:"
   ]
  },
  {
   "cell_type": "code",
   "execution_count": 9,
   "metadata": {},
   "outputs": [],
   "source": [
    "respones = neptune.describe_db_instances(\n",
    "        Filters=[\n",
    "            {\n",
    "                'Name': 'db-cluster-id',\n",
    "                'Values': [neptune_db_cluster_identifier]\n",
    "            },\n",
    "            {\n",
    "                'Name': 'engine',\n",
    "                'Values': ['neptune']\n",
    "            }\n",
    "        ]\n",
    "    )\n",
    "db_instances = respones['DBInstances']"
   ]
  },
  {
   "cell_type": "code",
   "execution_count": 10,
   "metadata": {},
   "outputs": [
    {
     "data": {
      "text/plain": [
       "['sg-dc24d3db']"
      ]
     },
     "execution_count": 10,
     "metadata": {},
     "output_type": "execute_result"
    }
   ],
   "source": [
    "neptune_security_groups = neptue_endpoint_desc['VpcSecurityGroups']\n",
    "neptune_secutiry_group_ids = [security_group['VpcSecurityGroupId'] for security_group in neptune_security_groups]\n",
    "neptune_secutiry_group_ids"
   ]
  },
  {
   "cell_type": "code",
   "execution_count": 11,
   "metadata": {},
   "outputs": [
    {
     "data": {
      "text/plain": [
       "['subnet-fccf40cd',\n",
       " 'subnet-f8676fb5',\n",
       " 'subnet-2f611949',\n",
       " 'subnet-a0d0e2ae',\n",
       " 'subnet-94084eb5',\n",
       " 'subnet-2b094c74']"
      ]
     },
     "execution_count": 11,
     "metadata": {},
     "output_type": "execute_result"
    }
   ],
   "source": [
    "first_neptune_instance_subnets = db_instances[0]['DBSubnetGroup']['Subnets']\n",
    "neptune_subnet_ids = [subnet['SubnetIdentifier'] for subnet in first_neptune_instance_subnets]\n",
    "neptune_subnet_ids"
   ]
  },
  {
   "cell_type": "code",
   "execution_count": 12,
   "metadata": {},
   "outputs": [
    {
     "data": {
      "text/plain": [
       "'vpc-851683f8'"
      ]
     },
     "execution_count": 12,
     "metadata": {},
     "output_type": "execute_result"
    }
   ],
   "source": [
    "neptune_instance_vpc_id = db_instances[0]['DBSubnetGroup']['VpcId']\n",
    "neptune_instance_vpc_id"
   ]
  },
  {
   "cell_type": "markdown",
   "metadata": {},
   "source": [
    "### 2. Create an IAM role for lambda function\n",
    "\n",
    "- [AWS Lambda execution role](https://docs.aws.amazon.com/lambda/latest/dg/lambda-intro-execution-role.html)\n",
    "- [Configuring a Lambda function to access resources in a VPC](https://docs.aws.amazon.com/lambda/latest/dg/configuration-vpc.html)"
   ]
  },
  {
   "cell_type": "code",
   "execution_count": 13,
   "metadata": {},
   "outputs": [],
   "source": [
    "iam_role_lambda_name = 'LambdaAccessNeptuneRole'"
   ]
  },
  {
   "cell_type": "code",
   "execution_count": 15,
   "metadata": {},
   "outputs": [],
   "source": [
    "from botocore.exceptions import ClientError\n",
    "import json\n",
    "\n",
    "iam = boto3.client(\"iam\")"
   ]
  },
  {
   "cell_type": "code",
   "execution_count": 14,
   "metadata": {},
   "outputs": [
    {
     "name": "stdout",
     "output_type": "stream",
     "text": [
      "Role already exists\n"
     ]
    }
   ],
   "source": [
    "assume_role_policy_doc = {\n",
    "    \"Version\": \"2012-10-17\",\n",
    "    \"Statement\": [\n",
    "#         {\n",
    "#             \"Effect\": \"Allow\", \n",
    "#             \"Principal\": {\"Service\": \"events.amazonaws.com\"}, \n",
    "#             \"Action\": \"sts:AssumeRole\"\n",
    "#         },\n",
    "        {\n",
    "          \"Effect\": \"Allow\",\n",
    "          \"Principal\": {\"Service\": \"lambda.amazonaws.com\"},\n",
    "          \"Action\": \"sts:AssumeRole\"\n",
    "        }\n",
    "    ],\n",
    "}\n",
    "\n",
    "try:\n",
    "    iam_role_lambda = iam.create_role(\n",
    "        RoleName=iam_role_lambda_name,\n",
    "        AssumeRolePolicyDocument=json.dumps(assume_role_policy_doc),\n",
    "        Description=\"Lambda Role to Interact with Neptune VPC\",\n",
    "    )\n",
    "except ClientError as e:\n",
    "    if e.response[\"Error\"][\"Code\"] == \"EntityAlreadyExists\":\n",
    "        print(\"Role already exists\")\n",
    "    else:\n",
    "        print(\"Unexpected error: %s\" % e)"
   ]
  },
  {
   "cell_type": "code",
   "execution_count": 16,
   "metadata": {},
   "outputs": [],
   "source": [
    "role_lambda = iam.get_role(RoleName=iam_role_lambda_name)\n",
    "role_lambda_arn = role_lambda[\"Role\"][\"Arn\"]"
   ]
  },
  {
   "cell_type": "markdown",
   "metadata": {},
   "source": [
    "Attach AWS Managed Policy to the role to allow it to access a resource within a VPC - create, describe, delete network interfaces and write permissions to CloudWatch Logs."
   ]
  },
  {
   "cell_type": "code",
   "execution_count": 263,
   "metadata": {},
   "outputs": [],
   "source": [
    "response = iam.attach_role_policy(\n",
    "    RoleName=iam_role_lambda_name,\n",
    "    PolicyArn='arn:aws:iam::aws:policy/service-role/AWSLambdaVPCAccessExecutionRole'\n",
    ")"
   ]
  },
  {
   "cell_type": "markdown",
   "metadata": {},
   "source": [
    "### 3. Create a security group for the Lambda function. \n",
    "\n",
    "This security group configures AWS Lambda to access resources in your VPC. Doing so allows Lambda to create elastic network interfaces (ENIs) that enable your function to connect securely to Neptune.\n",
    "\n",
    "- [Configuring a Lambda function to access resources in a VPC](https://docs.aws.amazon.com/lambda/latest/dg/configuration-vpc.html)"
   ]
  },
  {
   "cell_type": "code",
   "execution_count": 17,
   "metadata": {},
   "outputs": [],
   "source": [
    "lambda_security_group_name = 'lambda-kg-neptune-sg'\n",
    "lambda_security_group_description = 'Allow Lambda function to access resources in a VPC'"
   ]
  },
  {
   "cell_type": "code",
   "execution_count": 255,
   "metadata": {},
   "outputs": [],
   "source": [
    "# to delete an existing security group\n",
    "# !aws ec2 delete-security-group --group-name $lambda_security_group_name"
   ]
  },
  {
   "cell_type": "code",
   "execution_count": 18,
   "metadata": {},
   "outputs": [
    {
     "name": "stdout",
     "output_type": "stream",
     "text": [
      "An error occurred (InvalidGroup.Duplicate) when calling the CreateSecurityGroup operation: The security group 'lambda-kg-neptune-sg' already exists for VPC 'vpc-851683f8'\n"
     ]
    },
    {
     "data": {
      "text/plain": [
       "'sg-00a42a19c11b4b31a'"
      ]
     },
     "execution_count": 18,
     "metadata": {},
     "output_type": "execute_result"
    }
   ],
   "source": [
    "import boto3\n",
    "from botocore.exceptions import ClientError\n",
    "\n",
    "ec2 = boto3.client('ec2')\n",
    "\n",
    "try:\n",
    "    response = ec2.create_security_group(GroupName=lambda_security_group_name,\n",
    "                                         Description=lambda_security_group_description,\n",
    "                                         VpcId=neptune_instance_vpc_id)\n",
    "    lambda_security_group_id = response['GroupId']\n",
    "    print('Security Group Created %s in vpc %s.' % (lambda_security_group_id, neptune_instance_vpc_id))\n",
    "\n",
    "    data = ec2.authorize_security_group_ingress(\n",
    "        GroupId=lambda_security_group_id,\n",
    "        IpPermissions=[\n",
    "            {'IpProtocol': 'tcp',\n",
    "             'FromPort': 80,\n",
    "             'ToPort': 80,\n",
    "             'IpRanges': [{'CidrIp': '0.0.0.0/0'}]},\n",
    "            {'IpProtocol': 'tcp',\n",
    "             'FromPort': 22,\n",
    "             'ToPort': 22,\n",
    "             'IpRanges': [{'CidrIp': '0.0.0.0/0'}]}\n",
    "        ])\n",
    "    print('Ingress Successfully Set %s' % data)\n",
    "except ClientError as e:\n",
    "    print(e)\n",
    "    response = ec2.describe_security_groups(\n",
    "        Filters=[\n",
    "          {\n",
    "              'Name': 'group-name',\n",
    "              'Values': [\n",
    "                  lambda_security_group_name\n",
    "              ]\n",
    "          },\n",
    "      ]\n",
    "    )\n",
    "    lambda_security_group_id = response['SecurityGroups'][0]['GroupId']\n",
    "lambda_security_group_id"
   ]
  },
  {
   "cell_type": "markdown",
   "metadata": {},
   "source": [
    "### 4. Allow Lambda Access Neptune\n",
    "\n",
    "Also, we need to configure Neptune’s VPC security group to allow access from the AWS Lambda security group on the Neptune cluster’s port. \n",
    "\n",
    "In the PortRange text box, enter 8182, the default port value for a Neptune DB instance. Then enter choose a security group name in the Source text box.\n",
    "\n",
    "\n",
    "References:\n",
    "- [Use AWS Lambda functions with Amazon Neptune](https://aws.amazon.com/blogs/database/use-aws-lambda-functions-with-amazon-neptune/)\n",
    "- [Creating a Security Group to Provide Access to a Neptune DB Instance in a VPC](https://docs.aws.amazon.com/neptune/latest/userguide/security-vpc-security-group.html)"
   ]
  },
  {
   "cell_type": "code",
   "execution_count": 269,
   "metadata": {},
   "outputs": [
    {
     "name": "stdout",
     "output_type": "stream",
     "text": [
      "Ingress Successfully Set {'Return': True, 'SecurityGroupRules': [{'SecurityGroupRuleId': 'sgr-005ebe058cc8f7fc3', 'GroupId': 'sg-00a42a19c11b4b31a', 'GroupOwnerId': '093729152554', 'IsEgress': False, 'IpProtocol': 'tcp', 'FromPort': 80, 'ToPort': 80, 'CidrIpv4': '0.0.0.0/0'}, {'SecurityGroupRuleId': 'sgr-0334230d3604590ff', 'GroupId': 'sg-00a42a19c11b4b31a', 'GroupOwnerId': '093729152554', 'IsEgress': False, 'IpProtocol': 'tcp', 'FromPort': 22, 'ToPort': 22, 'CidrIpv4': '0.0.0.0/0'}], 'ResponseMetadata': {'RequestId': '0712862b-eebb-4440-a4b8-11ecf796a9ca', 'HTTPStatusCode': 200, 'HTTPHeaders': {'x-amzn-requestid': '0712862b-eebb-4440-a4b8-11ecf796a9ca', 'cache-control': 'no-cache, no-store', 'strict-transport-security': 'max-age=31536000; includeSubDomains', 'content-type': 'text/xml;charset=UTF-8', 'content-length': '1124', 'date': 'Wed, 29 Sep 2021 10:08:56 GMT', 'server': 'AmazonEC2'}, 'RetryAttempts': 0}}\n"
     ]
    }
   ],
   "source": [
    "try:\n",
    "    for neptune_secutiry_group_id in neptune_secutiry_group_ids:\n",
    "        ec2.authorize_security_group_ingress(\n",
    "            GroupId=neptune_secutiry_group_id,\n",
    "            SourceSecurityGroupName=lambda_security_group_name, # allow incoming connection from lambda's security group\n",
    "        )\n",
    "        print('Ingress Successfully Set %s' % data)\n",
    "except ClientError as e:\n",
    "    print(e)"
   ]
  },
  {
   "cell_type": "markdown",
   "metadata": {},
   "source": [
    "### 5. Create a Lambda function for to query Neptune DB:\n",
    "\n",
    "- Check docs of `create_function`: [create_function](https://boto3.amazonaws.com/v1/documentation/api/latest/reference/services/lambda.html#Lambda.Client.create_function)\n",
    "- An example of Lambda function accessing Neptune: [Lambda Functions Examples Python](https://docs.amazonaws.cn/en_us/neptune/latest/userguide/lambda-functions-examples.html#lambda-functions-examples-python)"
   ]
  },
  {
   "cell_type": "markdown",
   "metadata": {},
   "source": [
    "Package source code and resources to a zip file:\n",
    "\n",
    "> `-j` option do the following:</br>\n",
    "Store just the name of a saved file (junk the path), and do not store directory \n",
    "names. By default, zip will store the full path (relative to the current \n",
    "directory)."
   ]
  },
  {
   "cell_type": "markdown",
   "metadata": {},
   "source": [
    "We need to package dependencies manually, as specified here: [Deployment package with dependencies](https://docs.aws.amazon.com/lambda/latest/dg/python-package.html#python-package-create-package-with-dependency)\n",
    "1. Install backoff and gremlin_python library to a new package directory"
   ]
  },
  {
   "cell_type": "code",
   "execution_count": null,
   "metadata": {},
   "outputs": [],
   "source": [
    "!pip install --target ./package backoff gremlinpython tornado sagemaker numpy"
   ]
  },
  {
   "cell_type": "markdown",
   "metadata": {},
   "source": [
    "2. Create a deployment package with the installed library at the root."
   ]
  },
  {
   "cell_type": "code",
   "execution_count": null,
   "metadata": {},
   "outputs": [],
   "source": [
    "%%bash\n",
    "cd package\n",
    "zip -r ../my-deployment-package.zip ."
   ]
  },
  {
   "cell_type": "markdown",
   "metadata": {},
   "source": [
    "3. Add the lambda_function.py file to the root of the zip file. "
   ]
  },
  {
   "cell_type": "code",
   "execution_count": 80,
   "metadata": {},
   "outputs": [
    {
     "name": "stdout",
     "output_type": "stream",
     "text": [
      "updating: lambda_script.py (deflated 68%)\n",
      "updating: query_templates.json (deflated 68%)\n"
     ]
    }
   ],
   "source": [
    "%%bash\n",
    "zip -g -j my-deployment-package.zip chatbot_resource/*"
   ]
  },
  {
   "cell_type": "markdown",
   "metadata": {},
   "source": [
    "4. Upload it to S3"
   ]
  },
  {
   "cell_type": "code",
   "execution_count": 87,
   "metadata": {},
   "outputs": [
    {
     "name": "stdout",
     "output_type": "stream",
     "text": [
      "upload: ./my-deployment-package.zip to s3://sagemaker-us-east-1-093729152554/lambda_scripts/query_neptune.zip\n"
     ]
    }
   ],
   "source": [
    "import sagemaker\n",
    "default_bucket = sagemaker.Session().default_bucket()\n",
    "lambda_function_script_key = 'lambda_scripts/query_neptune.zip'\n",
    "!aws s3 cp my-deployment-package.zip s3://$default_bucket/$lambda_function_script_key"
   ]
  },
  {
   "cell_type": "markdown",
   "metadata": {},
   "source": [
    "Export credentials to environment in the same image console (or do it in a cell):\n",
    "\n",
    "```bash\n",
    "export AWS_ACCESS_KEY_ID=XXXXXXXXXXXXXXX\n",
    "export AWS_SECRET_ACCESS_KEY=XXXXXXXXXXXXXXX\n",
    "export AWS_REGION=us-east-1\n",
    "export AWS_SESSION_TOKEN=XXXXXXXXXXXXXXX\n",
    "```"
   ]
  },
  {
   "cell_type": "code",
   "execution_count": 292,
   "metadata": {},
   "outputs": [],
   "source": [
    "sts = boto3.client('sts')\n",
    "credentials = sts.get_session_token()['Credentials']"
   ]
  },
  {
   "cell_type": "code",
   "execution_count": 288,
   "metadata": {},
   "outputs": [],
   "source": [
    "!export AWS_ACCESS_KEY_ID=\n",
    "!export AWS_SECRET_ACCESS_KEY=credentials['SecretAccessKey']\n",
    "!export AWS_SESSION_TOKEN=credentials['SessionToken']\n",
    "!export AWS_REGION='us-east-1'"
   ]
  },
  {
   "cell_type": "code",
   "execution_count": 293,
   "metadata": {},
   "outputs": [],
   "source": [
    "aws_access_key = credentials['AccessKeyId']\n",
    "aws_secret_access_key = credentials['SecretAccessKey']\n",
    "aws_session_token = credentials['SessionToken']\n",
    "aws_region = 'us-east-1'"
   ]
  },
  {
   "cell_type": "code",
   "execution_count": 25,
   "metadata": {},
   "outputs": [],
   "source": [
    "lmd = boto3.client('lambda')"
   ]
  },
  {
   "cell_type": "code",
   "execution_count": 22,
   "metadata": {},
   "outputs": [
    {
     "name": "stdout",
     "output_type": "stream",
     "text": [
      "updating: lambda_script.py (deflated 68%)\n",
      "updating: query_templates.json (deflated 68%)\n",
      "  adding: __init__.py (deflated 18%)\n"
     ]
    }
   ],
   "source": [
    "function_name = 'query-kg-neptune'\n",
    "# To connect to a VPC, the function execution role must have the following permissions\n",
    "#    ec2:CreateNetworkInterface\n",
    "#    ec2:DescribeNetworkInterfaces\n",
    "#    ec2:DeleteNetworkInterface\n",
    "function_exec_role = role_lambda_arn\n",
    "# The name of the method within your code that Lambda calls to execute your function. \n",
    "# The format includes the file name. It can also include namespaces and other qualifiers, \n",
    "# depending on the runtime. \n",
    "function_handler = 'lambda_script.lambda_handler'\n",
    "# The base64-encoded contents of the deployment package. Amazon Web Services SDK and Amazon \n",
    "# Web Services CLI clients handle the encoding for you.\n",
    "# !apt update\n",
    "# !apt install zip\n",
    "!zip -j chatbot_resource.zip chatbot_resource/*\n",
    "function_zip_bytes = open('chatbot_resource.zip', 'rb').read()"
   ]
  },
  {
   "cell_type": "code",
   "execution_count": 23,
   "metadata": {},
   "outputs": [],
   "source": [
    "# use this command to delete a previously created function\n",
    "!aws lambda delete-function --function-name $function_name"
   ]
  },
  {
   "cell_type": "code",
   "execution_count": 26,
   "metadata": {},
   "outputs": [
    {
     "data": {
      "text/plain": [
       "{'ResponseMetadata': {'RequestId': 'd219d037-6af2-4fd8-8093-9e9a02fda344',\n",
       "  'HTTPStatusCode': 201,\n",
       "  'HTTPHeaders': {'date': 'Thu, 30 Sep 2021 10:32:47 GMT',\n",
       "   'content-type': 'application/json',\n",
       "   'content-length': '1297',\n",
       "   'connection': 'keep-alive',\n",
       "   'x-amzn-requestid': 'd219d037-6af2-4fd8-8093-9e9a02fda344'},\n",
       "  'RetryAttempts': 0},\n",
       " 'FunctionName': 'query-kg-neptune',\n",
       " 'FunctionArn': 'arn:aws:lambda:us-east-1:093729152554:function:query-kg-neptune',\n",
       " 'Runtime': 'python3.8',\n",
       " 'Role': 'arn:aws:iam::093729152554:role/LambdaAccessNeptuneRole',\n",
       " 'Handler': 'lambda_script.lambda_handler',\n",
       " 'CodeSize': 3229,\n",
       " 'Description': 'query neptune db',\n",
       " 'Timeout': 100,\n",
       " 'MemorySize': 256,\n",
       " 'LastModified': '2021-09-30T10:32:46.321+0000',\n",
       " 'CodeSha256': 'Imihs1rty3vVL7KBI+s3zLE0DcdPVEdDhZ/tzCBJskA=',\n",
       " 'Version': '12',\n",
       " 'VpcConfig': {'SubnetIds': ['subnet-2f611949',\n",
       "   'subnet-f8676fb5',\n",
       "   'subnet-fccf40cd'],\n",
       "  'SecurityGroupIds': ['sg-00a42a19c11b4b31a'],\n",
       "  'VpcId': 'vpc-851683f8'},\n",
       " 'Environment': {'Variables': {'USE_IAM': 'false',\n",
       "   'nluEndpoint': 'qa-model-from-registry-ep',\n",
       "   'neptunePort': '8182',\n",
       "   'neptuneEndpoint': 'kg-neptune.cluster-c2ycbhkszo5s.us-east-1.neptune.amazonaws.com'}},\n",
       " 'TracingConfig': {'Mode': 'PassThrough'},\n",
       " 'RevisionId': 'e5a9948d-0dee-43a9-a0f4-65901dc798c8',\n",
       " 'State': 'Pending',\n",
       " 'StateReason': 'The function is being created.',\n",
       " 'StateReasonCode': 'Creating',\n",
       " 'PackageType': 'Zip'}"
      ]
     },
     "execution_count": 26,
     "metadata": {},
     "output_type": "execute_result"
    }
   ],
   "source": [
    "import os\n",
    "\n",
    "lmd.create_function(\n",
    "    FunctionName=function_name,\n",
    "    Runtime='python3.8',\n",
    "    Role=function_exec_role,\n",
    "    Handler=function_handler,\n",
    "    Code={\n",
    "#         'S3Bucket': default_bucket,\n",
    "#         'S3Key': lambda_function_script_key,\n",
    "        'ZipFile': function_zip_bytes\n",
    "    },\n",
    "    Description='query neptune db',\n",
    "    Timeout=100,    # in seconds\n",
    "    MemorySize=256, # in MB\n",
    "    Publish=True,\n",
    "    VpcConfig={\n",
    "        'SubnetIds': neptune_subnet_ids[:3], # for convenience, using the same set of subnet ids as neptune subnets\n",
    "        'SecurityGroupIds': [lambda_security_group_id] \n",
    "    },\n",
    "    PackageType='Zip',\n",
    "    Environment={\n",
    "        'Variables': {\n",
    "#             'AWS_ACCESS_KEY_ID': aws_access_key,\n",
    "#             'AWS_SECRET_ACCESS_KEY': aws_secret_access_key,\n",
    "#             'AWS_REGION': aws_region,\n",
    "#             'AWS_SESSION_TOKEN': aws_session_token,\n",
    "            'USE_IAM': 'false',\n",
    "            'neptuneEndpoint': neptune_endpoint,\n",
    "            'neptunePort': str(neptune_endpoint_port),\n",
    "            'nluEndpoint': nlu_endpoint_name\n",
    "        }\n",
    "    }\n",
    ")"
   ]
  },
  {
   "cell_type": "code",
   "execution_count": 76,
   "metadata": {},
   "outputs": [
    {
     "data": {
      "text/plain": [
       "{'ResponseMetadata': {'RequestId': '4b6bd986-75ca-4cc3-a142-a36e76bafb72',\n",
       "  'HTTPStatusCode': 200,\n",
       "  'HTTPHeaders': {'date': 'Thu, 30 Sep 2021 04:14:35 GMT',\n",
       "   'content-type': 'application/json',\n",
       "   'content-length': '1274',\n",
       "   'connection': 'keep-alive',\n",
       "   'x-amzn-requestid': '4b6bd986-75ca-4cc3-a142-a36e76bafb72'},\n",
       "  'RetryAttempts': 1},\n",
       " 'FunctionName': 'query-kg-neptune',\n",
       " 'FunctionArn': 'arn:aws:lambda:us-east-1:093729152554:function:query-kg-neptune:7',\n",
       " 'Runtime': 'python3.9',\n",
       " 'Role': 'arn:aws:iam::093729152554:role/LambdaAccessNeptuneRole',\n",
       " 'Handler': 'lambda_script.lambda_handler',\n",
       " 'CodeSize': 3941576,\n",
       " 'Description': 'query neptune db',\n",
       " 'Timeout': 100,\n",
       " 'MemorySize': 256,\n",
       " 'LastModified': '2021-09-30T04:14:34.900+0000',\n",
       " 'CodeSha256': 'J1J8c2olYjuASoeQWg745zPTRXEGmc7jrRtmDdv0fzc=',\n",
       " 'Version': '7',\n",
       " 'VpcConfig': {'SubnetIds': ['subnet-2f611949',\n",
       "   'subnet-f8676fb5',\n",
       "   'subnet-fccf40cd'],\n",
       "  'SecurityGroupIds': ['sg-00a42a19c11b4b31a'],\n",
       "  'VpcId': 'vpc-851683f8'},\n",
       " 'Environment': {'Variables': {'USE_IAM': 'false',\n",
       "   'nluEndpoint': 'qa-model-from-registry-ep',\n",
       "   'neptunePort': '8182',\n",
       "   'neptuneEndpoint': 'kg-neptune.cluster-c2ycbhkszo5s.us-east-1.neptune.amazonaws.com'}},\n",
       " 'TracingConfig': {'Mode': 'PassThrough'},\n",
       " 'RevisionId': '73f2db8d-d9c2-464a-ae88-4b7a59d7b8be',\n",
       " 'State': 'Active',\n",
       " 'LastUpdateStatus': 'Successful',\n",
       " 'PackageType': 'Zip'}"
      ]
     },
     "execution_count": 76,
     "metadata": {},
     "output_type": "execute_result"
    }
   ],
   "source": [
    "lmd.update_function_code(\n",
    "    FunctionName=function_name,\n",
    "    S3Bucket=default_bucket,\n",
    "    S3Key=lambda_function_script_key,\n",
    "    Publish=True,\n",
    ")"
   ]
  },
  {
   "cell_type": "code",
   "execution_count": 91,
   "metadata": {},
   "outputs": [],
   "source": [
    "import numpy"
   ]
  },
  {
   "cell_type": "code",
   "execution_count": 92,
   "metadata": {},
   "outputs": [
    {
     "data": {
      "text/plain": [
       "'1.20.3'"
      ]
     },
     "execution_count": 92,
     "metadata": {},
     "output_type": "execute_result"
    }
   ],
   "source": [
    "numpy.__version__"
   ]
  },
  {
   "cell_type": "code",
   "execution_count": 99,
   "metadata": {},
   "outputs": [],
   "source": [
    "with open('chatbot_resource/query_templates.json') as f:\n",
    "    t = json.load(f)"
   ]
  },
  {
   "cell_type": "code",
   "execution_count": 97,
   "metadata": {},
   "outputs": [
    {
     "data": {
      "text/plain": [
       "{'ask_alumni': \"g.V().has('学校', 'name', '{}').inE().hasLabel('毕业院校').outV().values('name').toList()\",\n",
       " 'ask_school': \"g.V().has('人物','name','{}').out('毕业院校').values('name').next()\",\n",
       " 'ask_books': \"g.V().has('人物', 'name', '{}').inE().hasLabel('作者').outV().values('name').toList()\",\n",
       " 'ask_author': \"g.V().has('图书作品','name','{}').out('作者').values('name').next()\",\n",
       " 'ask_wife': \"g.V().has('人物','name','{}').out('妻子').values('name').next()\",\n",
       " 'ask_husband': \"g.V().has('人物','name','{}').out('丈夫').values('name').next()\",\n",
       " 'ask_films': \"g.V().has('人物', 'name', '{}').inE().hasLabel('导演').outV().values('name').toList()\",\n",
       " 'ask_director': \"g.V().has('影视作品','name','{}').out('导演').values('name').next()\",\n",
       " 'ask_nationality': \"g.V().has('人物','name','{}').out('国籍').values('name').next()\"}"
      ]
     },
     "execution_count": 97,
     "metadata": {},
     "output_type": "execute_result"
    }
   ],
   "source": [
    "t"
   ]
  },
  {
   "cell_type": "code",
   "execution_count": null,
   "metadata": {},
   "outputs": [],
   "source": []
  }
 ],
 "metadata": {
  "instance_type": "ml.g4dn.xlarge",
  "kernelspec": {
   "display_name": "Python 3 (PyTorch 1.6 Python 3.6 GPU Optimized)",
   "language": "python",
   "name": "python3__SAGEMAKER_INTERNAL__arn:aws:sagemaker:us-east-1:081325390199:image/pytorch-1.6-gpu-py36-cu110-ubuntu18.04-v3"
  },
  "language_info": {
   "codemirror_mode": {
    "name": "ipython",
    "version": 3
   },
   "file_extension": ".py",
   "mimetype": "text/x-python",
   "name": "python",
   "nbconvert_exporter": "python",
   "pygments_lexer": "ipython3",
   "version": "3.6.13"
  }
 },
 "nbformat": 4,
 "nbformat_minor": 4
}
