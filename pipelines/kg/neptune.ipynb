{
 "cells": [
  {
   "cell_type": "markdown",
   "metadata": {},
   "source": [
    "# Neptune Lab\n",
    "\n",
    "This notebook tests create Neptune DB with boto3.\n",
    "\n",
    "This notebook follows guidance from [Example: Loading Data into a Neptune DB Instance](https://docs.aws.amazon.com/neptune/latest/userguide/bulk-load-data.html).\n",
    "\n",
    "## 1. Create a Neptune DB cluster."
   ]
  },
  {
   "cell_type": "code",
   "execution_count": 2,
   "metadata": {},
   "outputs": [],
   "source": [
    "import boto3\n",
    "from botocore.errorfactory import ClientError"
   ]
  },
  {
   "cell_type": "code",
   "execution_count": 3,
   "metadata": {},
   "outputs": [],
   "source": [
    "neptune = boto3.client('neptune')\n",
    "db_cluster_identifier = 'kg-neptune'"
   ]
  },
  {
   "cell_type": "code",
   "execution_count": 19,
   "metadata": {},
   "outputs": [
    {
     "name": "stdout",
     "output_type": "stream",
     "text": [
      "{'DBClusters': [{'AllocatedStorage': 1, 'AvailabilityZones': ['us-east-1b', 'us-east-1a', 'us-east-1c'], 'BackupRetentionPeriod': 1, 'DBClusterIdentifier': 'kg-neptune', 'DBClusterParameterGroup': 'default.neptune1', 'DBSubnetGroup': 'default', 'Status': 'available', 'EarliestRestorableTime': datetime.datetime(2021, 9, 15, 11, 5, 29, 136000, tzinfo=tzlocal()), 'Endpoint': 'kg-neptune.cluster-c2ycbhkszo5s.us-east-1.neptune.amazonaws.com', 'ReaderEndpoint': 'kg-neptune.cluster-ro-c2ycbhkszo5s.us-east-1.neptune.amazonaws.com', 'MultiAZ': False, 'Engine': 'neptune', 'EngineVersion': '1.0.5.0', 'LatestRestorableTime': datetime.datetime(2021, 9, 16, 6, 4, 46, 486000, tzinfo=tzlocal()), 'Port': 8182, 'MasterUsername': 'admin', 'PreferredBackupWindow': '09:47-10:17', 'PreferredMaintenanceWindow': 'fri:05:05-fri:05:35', 'ReadReplicaIdentifiers': [], 'DBClusterMembers': [{'DBInstanceIdentifier': 'kg-neptune-instance-1', 'IsClusterWriter': True, 'DBClusterParameterGroupStatus': 'in-sync', 'PromotionTier': 1}], 'VpcSecurityGroups': [{'VpcSecurityGroupId': 'sg-dc24d3db', 'Status': 'active'}], 'HostedZoneId': 'ZUFXD4SLT2LS7', 'StorageEncrypted': False, 'DbClusterResourceId': 'cluster-TW3ECHDRCDH4RVI4CDRZFG3OYI', 'DBClusterArn': 'arn:aws:rds:us-east-1:093729152554:cluster:kg-neptune', 'AssociatedRoles': [], 'IAMDatabaseAuthenticationEnabled': False, 'ClusterCreateTime': datetime.datetime(2021, 9, 15, 11, 4, 29, 47000, tzinfo=tzlocal()), 'CopyTagsToSnapshot': False, 'DeletionProtection': False, 'CrossAccountClone': False}], 'ResponseMetadata': {'RequestId': '4b6f1750-c238-48f5-aae4-6e46f183f18b', 'HTTPStatusCode': 200, 'HTTPHeaders': {'x-amzn-requestid': '4b6f1750-c238-48f5-aae4-6e46f183f18b', 'content-type': 'text/xml', 'content-length': '3247', 'date': 'Thu, 16 Sep 2021 06:05:44 GMT'}, 'RetryAttempts': 0}}\n"
     ]
    }
   ],
   "source": [
    "try:\n",
    "    response = neptune.describe_db_clusters(DBClusterIdentifier=db_cluster_identifier)\n",
    "    print(response)\n",
    "except ClientError as e:\n",
    "    print(e)\n",
    "    print(f\"Trying to create a Neptune DB Cluster with identifier {db_cluster_identifier}\")\n",
    "    neptune.create_db_cluster(\n",
    "        DBClusterIdentifier=db_cluster_identifier, \n",
    "        Engine='neptune'\n",
    "    )"
   ]
  },
  {
   "cell_type": "code",
   "execution_count": 21,
   "metadata": {},
   "outputs": [
    {
     "name": "stdout",
     "output_type": "stream",
     "text": [
      "DB Cluster Endpoint: kg-neptune.cluster-c2ycbhkszo5s.us-east-1.neptune.amazonaws.com\n",
      "DB Cluster Port: 8182\n",
      "DB Cluster Region: us-east-1\n"
     ]
    }
   ],
   "source": [
    "db_cluster_endpoint = response['DBClusters'][0]['Endpoint']\n",
    "db_cluster_port = response['DBClusters'][0]['Port']\n",
    "db_cluster_arn = response['DBClusters'][0]['DBClusterArn']\n",
    "db_cluster_region = db_cluster_arn.split(':')[3]\n",
    "print(f\"DB Cluster Endpoint: {db_cluster_endpoint}\")\n",
    "print(f\"DB Cluster Port: {db_cluster_port}\")\n",
    "print(f\"DB Cluster Region: {db_cluster_region}\")"
   ]
  },
  {
   "cell_type": "markdown",
   "metadata": {},
   "source": [
    "## 2.Create a Neptune DB instance within the cluster"
   ]
  },
  {
   "cell_type": "code",
   "execution_count": 7,
   "metadata": {},
   "outputs": [],
   "source": [
    "db_instance_identifier = f\"{db_cluster_identifier}-instance-1\"\n",
    "db_instance_class = 'db.t3.medium'"
   ]
  },
  {
   "cell_type": "code",
   "execution_count": 8,
   "metadata": {},
   "outputs": [],
   "source": [
    "try:\n",
    "    response = neptune.describe_db_instances(DBInstanceIdentifier=db_instance_identifier)\n",
    "except ClientError as e:\n",
    "    print(e)\n",
    "    print(f\"Trying to create a Neptune DB instance with identifier {db_instance_identifier}\")\n",
    "    response = neptune.create_db_instance(\n",
    "        DBInstanceIdentifier=db_instance_identifier,\n",
    "        DBInstanceClass=db_instance_class,\n",
    "        Engine='neptune',\n",
    "        DBClusterIdentifier=db_cluster_identifier,\n",
    "    )\n",
    "    response"
   ]
  },
  {
   "cell_type": "markdown",
   "metadata": {},
   "source": [
    "Extract **VpcId** from DB instance response:"
   ]
  },
  {
   "cell_type": "code",
   "execution_count": 9,
   "metadata": {},
   "outputs": [],
   "source": [
    "vpc_id = response['DBInstances'][0]['DBSubnetGroup']['VpcId']"
   ]
  },
  {
   "cell_type": "markdown",
   "metadata": {},
   "source": [
    "## 3. Create an IAM role to allow Neptune access S3 bucket\n",
    "\n",
    "Read this to get further details: [Prerequisites: IAM Role and Amazon S3 Access](https://docs.aws.amazon.com/neptune/latest/userguide/bulk-load-tutorial-IAM.html). </br>\n",
    "Docs for boto3 IAM API: [IAM](https://boto3.amazonaws.com/v1/documentation/api/latest/reference/services/iam.html)"
   ]
  },
  {
   "cell_type": "code",
   "execution_count": 10,
   "metadata": {},
   "outputs": [],
   "source": [
    "iam = boto3.client(\"iam\")\n",
    "iam_role_name = 'NeptuneLoadFromS3'"
   ]
  },
  {
   "cell_type": "code",
   "execution_count": 18,
   "metadata": {},
   "outputs": [
    {
     "name": "stdout",
     "output_type": "stream",
     "text": [
      "Role already exists\n",
      "{'Role': {'Path': '/', 'RoleName': 'NeptuneLoadFromS3', 'RoleId': 'AROARLUVRLYVCD5OPEFC7', 'Arn': 'arn:aws:iam::093729152554:role/NeptuneLoadFromS3', 'CreateDate': datetime.datetime(2021, 6, 17, 7, 31, 51, tzinfo=tzlocal()), 'AssumeRolePolicyDocument': {'Version': '2012-10-17', 'Statement': [{'Sid': '', 'Effect': 'Allow', 'Principal': {'Service': 'rds.amazonaws.com'}, 'Action': 'sts:AssumeRole'}]}, 'Description': 'Allows S3 to call AWS services on your behalf.', 'MaxSessionDuration': 3600, 'RoleLastUsed': {'LastUsedDate': datetime.datetime(2021, 8, 3, 8, 53, 3, tzinfo=tzlocal()), 'Region': 'us-east-1'}}, 'ResponseMetadata': {'RequestId': 'c2351ba6-11ac-40bf-bb1d-16dcac159207', 'HTTPStatusCode': 200, 'HTTPHeaders': {'x-amzn-requestid': 'c2351ba6-11ac-40bf-bb1d-16dcac159207', 'content-type': 'text/xml', 'content-length': '1035', 'date': 'Thu, 16 Sep 2021 06:02:01 GMT'}, 'RetryAttempts': 0}}\n"
     ]
    }
   ],
   "source": [
    "import json\n",
    "\n",
    "s3_read_only_policy_arn = 'arn:aws:iam::aws:policy/AmazonS3ReadOnlyAccess'\n",
    "\n",
    "assume_role_policy_doc = {\n",
    "    \"Version\": \"2012-10-17\",\n",
    "    \"Statement\": [\n",
    "        {\n",
    "            \"Sid\": \"\",\n",
    "            \"Effect\": \"Allow\", \n",
    "            \"Principal\": {\n",
    "                \"Service\": [\n",
    "                  \"rds.amazonaws.com\"\n",
    "                ]\n",
    "              },\n",
    "            \"Action\": \"sts:AssumeRole\"\n",
    "        }\n",
    "    ],\n",
    "}\n",
    "\n",
    "try:\n",
    "    iam_role_loadfroms3 = iam.create_role(\n",
    "        RoleName=iam_role_name,\n",
    "        AssumeRolePolicyDocument=json.dumps(assume_role_policy_doc),\n",
    "        Description=\"Allow Amazon Neptune to Access Amazon S3 Resources\",\n",
    "    )\n",
    "    # attach s3 read only policy\n",
    "    response = iam.attach_role_policy(\n",
    "        RoleName=iam_role_name,\n",
    "        PolicyArn=s3_read_only_policy_arn\n",
    "    )\n",
    "    print('Role:\\n', iam_role_loadfroms3)\n",
    "    print('Attach Policy Response:\\n', response)\n",
    "except ClientError as e:\n",
    "    if e.response[\"Error\"][\"Code\"] == \"EntityAlreadyExists\":\n",
    "        print(\"Role already exists\")\n",
    "        iam_role_loadfroms3 = iam.get_role(\n",
    "            RoleName=iam_role_name\n",
    "        )\n",
    "        print(iam_role_loadfroms3)\n",
    "    else:\n",
    "        print(\"Unexpected error: %s\" % e)"
   ]
  },
  {
   "cell_type": "markdown",
   "metadata": {},
   "source": [
    "## 4. Creating an Amazon S3 VPC Endpoint \n",
    "\n",
    "The Neptune loader requires a VPC endpoint for Amazon S3. An s3 endpoint allows other AWS services to access s3 without leaving Amazon network.\n",
    "\n",
    "Here we check whether a VPC endpoints already exists for S3 service in the given VPC. We create one only if there is no VPC exists. \n",
    "\n",
    "Docs for EC2 boto3 API: [EC2](https://boto3.amazonaws.com/v1/documentation/api/latest/reference/services/ec2.html)"
   ]
  },
  {
   "cell_type": "code",
   "execution_count": 12,
   "metadata": {},
   "outputs": [],
   "source": [
    "ec2 = boto3.client('ec2')"
   ]
  },
  {
   "cell_type": "code",
   "execution_count": 13,
   "metadata": {},
   "outputs": [],
   "source": [
    "region = 'us-east-1'\n",
    "s3_service_name = f\"com.amazonaws.{region}.s3\""
   ]
  },
  {
   "cell_type": "markdown",
   "metadata": {},
   "source": [
    "`VpcId` is defined in [section 2](#2.Create-a-Neptune-DB-instance-within-the-cluster)."
   ]
  },
  {
   "cell_type": "code",
   "execution_count": 14,
   "metadata": {},
   "outputs": [
    {
     "name": "stdout",
     "output_type": "stream",
     "text": [
      "There exists 3 S3 endpoints in VPC vpc-851683f8:\n"
     ]
    },
    {
     "data": {
      "text/plain": [
       "[{'VpcEndpointId': 'vpce-097a269924ed1df04',\n",
       "  'VpcEndpointType': 'Gateway',\n",
       "  'VpcId': 'vpc-851683f8',\n",
       "  'ServiceName': 'com.amazonaws.us-east-1.s3',\n",
       "  'State': 'available',\n",
       "  'PolicyDocument': '{\"Version\":\"2008-10-17\",\"Statement\":[{\"Effect\":\"Allow\",\"Principal\":\"*\",\"Action\":\"*\",\"Resource\":\"*\"}]}',\n",
       "  'RouteTableIds': [],\n",
       "  'SubnetIds': [],\n",
       "  'Groups': [],\n",
       "  'PrivateDnsEnabled': False,\n",
       "  'RequesterManaged': False,\n",
       "  'NetworkInterfaceIds': [],\n",
       "  'DnsEntries': [],\n",
       "  'CreationTimestamp': datetime.datetime(2021, 6, 17, 7, 37, 44, tzinfo=tzlocal()),\n",
       "  'Tags': [],\n",
       "  'OwnerId': '093729152554'},\n",
       " {'VpcEndpointId': 'vpce-0b804e31709c7d3f2',\n",
       "  'VpcEndpointType': 'Gateway',\n",
       "  'VpcId': 'vpc-851683f8',\n",
       "  'ServiceName': 'com.amazonaws.us-east-1.s3',\n",
       "  'State': 'available',\n",
       "  'PolicyDocument': '{\"Version\":\"2008-10-17\",\"Statement\":[{\"Effect\":\"Allow\",\"Principal\":\"*\",\"Action\":\"*\",\"Resource\":\"*\"}]}',\n",
       "  'RouteTableIds': ['rtb-1246556c'],\n",
       "  'SubnetIds': [],\n",
       "  'Groups': [],\n",
       "  'PrivateDnsEnabled': False,\n",
       "  'RequesterManaged': False,\n",
       "  'NetworkInterfaceIds': [],\n",
       "  'DnsEntries': [],\n",
       "  'CreationTimestamp': datetime.datetime(2021, 6, 21, 5, 17, 5, tzinfo=tzlocal()),\n",
       "  'Tags': [],\n",
       "  'OwnerId': '093729152554'},\n",
       " {'VpcEndpointId': 'vpce-0694552e90f4263fb',\n",
       "  'VpcEndpointType': 'Gateway',\n",
       "  'VpcId': 'vpc-851683f8',\n",
       "  'ServiceName': 'com.amazonaws.us-east-1.s3',\n",
       "  'State': 'available',\n",
       "  'PolicyDocument': '{\"Version\":\"2008-10-17\",\"Statement\":[{\"Effect\":\"Allow\",\"Principal\":\"*\",\"Action\":\"*\",\"Resource\":\"*\"}]}',\n",
       "  'RouteTableIds': [],\n",
       "  'SubnetIds': [],\n",
       "  'Groups': [],\n",
       "  'PrivateDnsEnabled': False,\n",
       "  'RequesterManaged': False,\n",
       "  'NetworkInterfaceIds': [],\n",
       "  'DnsEntries': [],\n",
       "  'CreationTimestamp': datetime.datetime(2021, 9, 16, 3, 29, 10, tzinfo=tzlocal()),\n",
       "  'Tags': [],\n",
       "  'OwnerId': '093729152554'}]"
      ]
     },
     "execution_count": 14,
     "metadata": {},
     "output_type": "execute_result"
    }
   ],
   "source": [
    "# Check endpoints existence\n",
    "response = ec2.describe_vpc_endpoints(\n",
    "    Filters=[\n",
    "        {\n",
    "            'Name': 'service-name',\n",
    "            'Values': [s3_service_name]\n",
    "        },\n",
    "        {\n",
    "            'Name': 'vpc-id',\n",
    "            'Values': [vpc_id]\n",
    "        },\n",
    "        {\n",
    "            'Name': 'vpc-endpoint-type',\n",
    "            'Values': ['Gateway']\n",
    "        }\n",
    "    ]\n",
    ")\n",
    "print(f\"There exists {len(response['VpcEndpoints'])} S3 endpoints in VPC {vpc_id}:\")\n",
    "response['VpcEndpoints']"
   ]
  },
  {
   "cell_type": "code",
   "execution_count": 15,
   "metadata": {},
   "outputs": [],
   "source": [
    "if len(response['VpcEndpoints']) > 0:\n",
    "    vpc_endpoint_id = response['VpcEndpoints'][0]['VpcEndpointId']\n",
    "else:\n",
    "    print('Trying to create an VPC endpoint ID:')\n",
    "    response = ec2.create_vpc_endpoint(\n",
    "        VpcEndpointType='Gateway',\n",
    "        VpcId=vpc_id,\n",
    "        ServiceName=s3_service_name,\n",
    "    )\n",
    "    vpc_endpoint_id = response['VpcEndpoint']['VpcEndpointId']\n",
    "    response"
   ]
  },
  {
   "cell_type": "code",
   "execution_count": 16,
   "metadata": {},
   "outputs": [
    {
     "name": "stdout",
     "output_type": "stream",
     "text": [
      "S3 VPC Endpoint ID: vpce-097a269924ed1df04\n"
     ]
    }
   ],
   "source": [
    "print(f\"S3 VPC Endpoint ID: {vpc_endpoint_id}\")"
   ]
  },
  {
   "cell_type": "markdown",
   "metadata": {},
   "source": [
    "## 5. Bulkload\n",
    "\n",
    "Amazon Neptune uses a cluster of DB instances rather than a single instance. Each Neptune connection is handled by a specific DB instance. When you connect to a Neptune cluster, the host name and port that you specify point to an intermediate handler called an *endpoint*. An endpoint is a URL that contains a host address and a port. [[src]](https://docs.aws.amazon.com/neptune/latest/userguide/feature-overview-endpoints.html)\n",
    "\n",
    "Learn more about connection to Neptune DB: [Connecting to Amazon Neptune Endpoints](https://docs.aws.amazon.com/neptune/latest/userguide/feature-overview-endpoints.html)"
   ]
  },
  {
   "cell_type": "code",
   "execution_count": 28,
   "metadata": {},
   "outputs": [],
   "source": [
    "bucket = 'sm-nlp-data'\n",
    "save_prefix = 'ie-baseline/outputs'"
   ]
  },
  {
   "cell_type": "code",
   "execution_count": 29,
   "metadata": {},
   "outputs": [],
   "source": [
    "load_script = f\"\"\"curl -X POST \\\n",
    "    -H 'Content-Type: application/json' \\\n",
    "    https://{db_cluster_endpoint}:{db_cluster_port}/loader -d \"\n",
    "    {{\n",
    "      'source' : 's3://{bucket}/{save_prefix}/',\n",
    "      'format' : 'csv',\n",
    "      'iamRoleArn' : '{iam_role_loadfroms3['Role']['Arn']}',\n",
    "      'region' : '{db_cluster_region}',\n",
    "      'failOnError' : 'FALSE',\n",
    "      'parallelism' : 'MEDIUM',\n",
    "      'updateSingleCardinalityProperties' : 'FALSE',\n",
    "      'queueRequest' : 'TRUE',\n",
    "      'dependencies' : []\n",
    "    }}\"\n",
    "    \"\"\""
   ]
  },
  {
   "cell_type": "code",
   "execution_count": null,
   "metadata": {},
   "outputs": [],
   "source": [
    "import subprocess\n",
    "\n",
    "subprocess.run(load_script, shell=True)"
   ]
  },
  {
   "cell_type": "code",
   "execution_count": null,
   "metadata": {},
   "outputs": [],
   "source": []
  }
 ],
 "metadata": {
  "instance_type": "ml.g4dn.xlarge",
  "kernelspec": {
   "display_name": "Python 3 (PyTorch 1.6 Python 3.6 GPU Optimized)",
   "language": "python",
   "name": "python3__SAGEMAKER_INTERNAL__arn:aws:sagemaker:us-east-1:081325390199:image/pytorch-1.6-gpu-py36-cu110-ubuntu18.04-v3"
  },
  "language_info": {
   "codemirror_mode": {
    "name": "ipython",
    "version": 3
   },
   "file_extension": ".py",
   "mimetype": "text/x-python",
   "name": "python",
   "nbconvert_exporter": "python",
   "pygments_lexer": "ipython3",
   "version": "3.6.13"
  }
 },
 "nbformat": 4,
 "nbformat_minor": 4
}
