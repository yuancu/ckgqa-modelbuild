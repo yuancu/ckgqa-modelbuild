{
 "cells": [
  {
   "cell_type": "markdown",
   "metadata": {},
   "source": [
    "# Triggers\n",
    "\n",
    "## Scheduled Trigger\n",
    "\n",
    "Check created events in AmazonEventBridge->Events->Rules in your AWS console.\n",
    "\n",
    "**Parameters for scheduled trigger**\n",
    "\n",
    "You can list all your pipelines with: </br>\n",
    "`$ aws sagemaker --list-pipelines`\n",
    "\n",
    "If you already know your pipeline name, you can get its detail information with: </br>\n",
    "`$ aws sagemaker --list-pipelines --pipeline-name [your-pipeline-name]`\n",
    "\n",
    "For `pipeline_id`, just use a memorable and unique string.\n",
    "\n",
    "For `run_pipeline_role_arn`, you can try get one with `sagemaker.get_execution_role()`"
   ]
  },
  {
   "cell_type": "code",
   "execution_count": 19,
   "metadata": {},
   "outputs": [],
   "source": [
    "rule_name = 'DailyKGPipelineTrigger'\n",
    "pipeline_name = 'KGPipeline1631789947'\n",
    "pipeline_id = 'Id26b29827-319a-45b4-8726-f33a37e5f22b' # randomly assigned"
   ]
  },
  {
   "cell_type": "markdown",
   "metadata": {},
   "source": [
    "Run following code to get `pipeline_arn` and `run_pipeline_role_arn` if you only know the pipeline name."
   ]
  },
  {
   "cell_type": "code",
   "execution_count": 20,
   "metadata": {},
   "outputs": [
    {
     "name": "stdout",
     "output_type": "stream",
     "text": [
      "pipeline_arn:\t\t arn:aws:sagemaker:us-east-1:093729152554:pipeline/kgpipeline1631789947\n",
      "run_pipeline_role_arn:\t arn:aws:iam::093729152554:role/service-role/AWSNeptuneNotebookRole-NepTestRole\n"
     ]
    }
   ],
   "source": [
    "import boto3\n",
    "from pprint import pprint\n",
    "\n",
    "sm = boto3.client('sagemaker')\n",
    "\n",
    "pipeline = sm.describe_pipeline(PipelineName=pipeline_name)\n",
    "pipeline_arn = pipeline['PipelineArn']\n",
    "run_pipeline_role_arn = pipeline['RoleArn']\n",
    "\n",
    "print(f\"pipeline_arn:\\t\\t {pipeline_arn}\")\n",
    "print(f\"run_pipeline_role_arn:\\t {run_pipeline_role_arn}\")"
   ]
  },
  {
   "cell_type": "markdown",
   "metadata": {},
   "source": [
    "Create a rule that rules every 1 day:"
   ]
  },
  {
   "cell_type": "code",
   "execution_count": 8,
   "metadata": {},
   "outputs": [
    {
     "data": {
      "text/plain": [
       "{'RuleArn': 'arn:aws:events:us-east-1:093729152554:rule/DailyKGPipelineTrigger',\n",
       " 'ResponseMetadata': {'RequestId': 'ee572c89-eee7-4e29-8dde-a0cad909eb8e',\n",
       "  'HTTPStatusCode': 200,\n",
       "  'HTTPHeaders': {'x-amzn-requestid': 'ee572c89-eee7-4e29-8dde-a0cad909eb8e',\n",
       "   'content-type': 'application/x-amz-json-1.1',\n",
       "   'content-length': '79',\n",
       "   'date': 'Tue, 14 Sep 2021 05:55:07 GMT'},\n",
       "  'RetryAttempts': 0}}"
      ]
     },
     "execution_count": 8,
     "metadata": {},
     "output_type": "execute_result"
    }
   ],
   "source": [
    "import boto3\n",
    "\n",
    "events = boto3.client('events')\n",
    "\n",
    "# use the same name will update the trigger\n",
    "events.put_rule(\n",
    "    Name=rule_name,\n",
    "    ScheduleExpression='rate(1 day)',\n",
    "    State='DISABLED',\n",
    "    Description='Daily re-run the knowledge graph generation pipeline',\n",
    "    EventBusName='default'\n",
    ")"
   ]
  },
  {
   "cell_type": "markdown",
   "metadata": {},
   "source": [
    "Add the code pipeline as a target:</br>\n",
    "Check docs for [put_targets](https://boto3.amazonaws.com/v1/documentation/api/latest/reference/services/events.html#EventBridge.Client.put_targets)"
   ]
  },
  {
   "cell_type": "code",
   "execution_count": 29,
   "metadata": {},
   "outputs": [
    {
     "data": {
      "text/plain": [
       "{'FailedEntryCount': 0,\n",
       " 'FailedEntries': [],\n",
       " 'ResponseMetadata': {'RequestId': 'f2dc35f0-fb5b-4a08-9bf2-db697467c0cb',\n",
       "  'HTTPStatusCode': 200,\n",
       "  'HTTPHeaders': {'x-amzn-requestid': 'f2dc35f0-fb5b-4a08-9bf2-db697467c0cb',\n",
       "   'content-type': 'application/x-amz-json-1.1',\n",
       "   'content-length': '41',\n",
       "   'date': 'Fri, 17 Sep 2021 10:51:46 GMT'},\n",
       "  'RetryAttempts': 0}}"
      ]
     },
     "execution_count": 29,
     "metadata": {},
     "output_type": "execute_result"
    }
   ],
   "source": [
    "events.put_targets(\n",
    "    Rule=rule_name,\n",
    "    EventBusName='default',\n",
    "    Targets=[\n",
    "        {\n",
    "            \"Id\": pipeline_id,\n",
    "            \"Arn\": pipeline_arn,\n",
    "            \"RoleArn\": run_pipeline_role_arn\n",
    "        }\n",
    "    ]\n",
    ")"
   ]
  },
  {
   "cell_type": "markdown",
   "metadata": {},
   "source": [
    "Check events with aws cli"
   ]
  },
  {
   "cell_type": "code",
   "execution_count": 23,
   "metadata": {},
   "outputs": [
    {
     "name": "stdout",
     "output_type": "stream",
     "text": [
      "Rule description:\n",
      "{\n",
      "    \"Name\": \"DailyKGPipelineTrigger\",\n",
      "    \"Arn\": \"arn:aws:events:us-east-1:093729152554:rule/DailyKGPipelineTrigger\",\n",
      "    \"ScheduleExpression\": \"rate(1 day)\",\n",
      "    \"State\": \"ENABLED\",\n",
      "    \"Description\": \"Daily re-run the knowledge graph generation pipeline\",\n",
      "    \"EventBusName\": \"default\",\n",
      "    \"CreatedBy\": \"093729152554\"\n",
      "}\n",
      "Targets associated:\n",
      "{\n",
      "    \"Targets\": [\n",
      "        {\n",
      "            \"Id\": \"Id26b29827-319a-45b4-8726-f33a37e5f22b\",\n",
      "            \"Arn\": \"arn:aws:sagemaker:us-east-1:093729152554:pipeline/ckgqa-p-kiqtyrraeiec1631235879\",\n",
      "            \"RoleArn\": \"arn:aws:iam::093729152554:role/service-role/AmazonSageMakerServiceCatalogProductsUseRole\"\n",
      "        }\n",
      "    ]\n",
      "}\n"
     ]
    }
   ],
   "source": [
    "!echo 'Rule description:'\n",
    "!aws events describe-rule --name $rule_name\n",
    "!echo 'Targets associated:'\n",
    "!aws events list-targets-by-rule --rule $rule_name"
   ]
  },
  {
   "cell_type": "markdown",
   "metadata": {},
   "source": [
    "## S3 Trigger\n",
    "\n",
    "This step follows instructions from [Automate Pipeline BERT S3 Trigger](https://github.com/data-science-on-aws/workshop/blob/dcb1c95a612d0caf9217c19d639dca16261088bc/10_pipeline/stepfunctions/03_Automate_Pipeline_Train_and_Deploy_Reviews_BERT_TensorFlow_S3_Trigger.ipynb)\n",
    "\n",
    "Also, check this tutorial: [Log Amazon S3 object-level operations using EventBridge](https://docs.aws.amazon.com/eventbridge/latest/userguide/eb-log-s3-data-events.html)\n",
    "\n",
    "Object-level **data events** are not logged by default, check these docs to know more about data events and **management events**:</br>\n",
    "- [What are data events](https://docs.aws.amazon.com/awscloudtrail/latest/userguide/cloudtrail-concepts.html#cloudtrail-concepts-data-events)\n",
    "- [How do you log management and data events](https://docs.aws.amazon.com/awscloudtrail/latest/userguide/cloudtrail-concepts.html#understanding-event-selectors)\n",
    "- [Logging data events for trails](https://docs.aws.amazon.com/awscloudtrail/latest/userguide/logging-data-events-with-cloudtrail.html#logging-data-events)\n",
    "- [Examples: Logging data events for Amazon S3 objects](https://docs.aws.amazon.com/awscloudtrail/latest/userguide/logging-data-events-with-cloudtrail.html#logging-data-events-examples)\n",
    "\n",
    "\n",
    "Parameters for S3 trigger:"
   ]
  },
  {
   "cell_type": "code",
   "execution_count": 22,
   "metadata": {},
   "outputs": [
    {
     "data": {
      "text/plain": [
       "'sagemaker-us-east-1-093729152554'"
      ]
     },
     "execution_count": 22,
     "metadata": {},
     "output_type": "execute_result"
    }
   ],
   "source": [
    "watched_bucket = 'sm-nlp-data'\n",
    "watched_prefix = 'ie-baseline/raw/DuIE_2_0.zip' # set watchted prefix to '' if you want to watch the whole bucket\n",
    "trail_name = 'WatchKGInputDataset'\n",
    "s3_rule_name = 'KG-S3-Trigger'\n",
    "s3_rule_description = 'Run knowledge graph generation pipeline every time new data uploaded to specified location.'\n",
    "\n",
    "# We use default_bucket to save logs as it's better to store logs in a different bucket to avoid spin triggering.\n",
    "import sagemaker\n",
    "default_bucket = sagemaker.session.Session().default_bucket()\n",
    "default_bucket"
   ]
  },
  {
   "cell_type": "markdown",
   "metadata": {},
   "source": [
    "### 1. Attach policy to S3 bucket to receive the log files \n",
    "\n",
    "\n",
    "    \n",
    "Check [permission for cloudtrail](https://docs.aws.amazon.com/awscloudtrail/latest/userguide/create-s3-bucket-policy-for-cloudtrail.html?icmpid=docs_cloudtrail_console) for more detail.\n",
    "\n",
    "You can delete bucket policy to revoke permission using:</br>\n",
    "`$ aws s3api delete-bucket-policy --bucket [your-bucket]`\n",
    "\n",
    "Note: you might want to keep original policy statements. But for the sake of simplicity, here I just overwrite the bucket policy. You can check the original policy with the following code."
   ]
  },
  {
   "cell_type": "code",
   "execution_count": 9,
   "metadata": {
    "scrolled": true
   },
   "outputs": [
    {
     "name": "stdout",
     "output_type": "stream",
     "text": [
      "{'Statement': [{'Action': 's3:GetBucketAcl',\n",
      "                'Effect': 'Allow',\n",
      "                'Principal': {'Service': 'cloudtrail.amazonaws.com'},\n",
      "                'Resource': 'arn:aws:s3:::sagemaker-us-east-1-093729152554',\n",
      "                'Sid': 'AWSCloudTrailAclCheck20150319'},\n",
      "               {'Action': 's3:PutObject',\n",
      "                'Condition': {'StringEquals': {'s3:x-amz-acl': 'bucket-owner-full-control'}},\n",
      "                'Effect': 'Allow',\n",
      "                'Principal': {'Service': 'cloudtrail.amazonaws.com'},\n",
      "                'Resource': 'arn:aws:s3:::sagemaker-us-east-1-093729152554/AWSLogs/093729152554/*',\n",
      "                'Sid': 'AWSCloudTrailWrite20150319'}],\n",
      " 'Version': '2012-10-17'}\n"
     ]
    }
   ],
   "source": [
    "import boto3\n",
    "import json\n",
    "from pprint import pprint\n",
    "\n",
    "# Retrieve the original policy of the specified bucket (this would be overwritten by new policies)\n",
    "s3 = boto3.client('s3')\n",
    "result = s3.get_bucket_policy(Bucket=default_bucket)\n",
    "pprint(json.loads(result['Policy']))"
   ]
  },
  {
   "cell_type": "code",
   "execution_count": 70,
   "metadata": {},
   "outputs": [
    {
     "data": {
      "text/plain": [
       "{'ResponseMetadata': {'RequestId': 'S6S2R0GVZ6QY2JZ4',\n",
       "  'HostId': 'h66G1+6NrZ04n97NaCIkB8Lj2tZMAf+dhJ+7FQps9HCtOSmo0qHAGydgXBuXBf+LnlJoZlqXIug=',\n",
       "  'HTTPStatusCode': 204,\n",
       "  'HTTPHeaders': {'x-amz-id-2': 'h66G1+6NrZ04n97NaCIkB8Lj2tZMAf+dhJ+7FQps9HCtOSmo0qHAGydgXBuXBf+LnlJoZlqXIug=',\n",
       "   'x-amz-request-id': 'S6S2R0GVZ6QY2JZ4',\n",
       "   'date': 'Fri, 17 Sep 2021 12:54:45 GMT',\n",
       "   'server': 'AmazonS3'},\n",
       "  'RetryAttempts': 0}}"
      ]
     },
     "execution_count": 70,
     "metadata": {},
     "output_type": "execute_result"
    }
   ],
   "source": [
    "account_id = boto3.client('sts').get_caller_identity().get('Account')\n",
    "log_bucket_policy = {\n",
    "    \"Version\": \"2012-10-17\",\n",
    "    \"Statement\": [\n",
    "        {\n",
    "            \"Sid\": \"AWSCloudTrailAclCheck20150319\",\n",
    "            \"Effect\": \"Allow\",\n",
    "            \"Principal\": {\"Service\": \"cloudtrail.amazonaws.com\"},\n",
    "            \"Action\": \"s3:GetBucketAcl\",\n",
    "            \"Resource\": f\"arn:aws:s3:::{default_bucket}\"\n",
    "        },\n",
    "        {\n",
    "            \"Sid\": \"AWSCloudTrailWrite20150319\",\n",
    "            \"Effect\": \"Allow\",\n",
    "            \"Principal\": {\"Service\": \"cloudtrail.amazonaws.com\"},\n",
    "            \"Action\": \"s3:PutObject\",\n",
    "            \"Resource\": f\"arn:aws:s3:::{default_bucket}/AWSLogs/{account_id}/*\",\n",
    "            \"Condition\": {\"StringEquals\": {\"s3:x-amz-acl\": \"bucket-owner-full-control\"}}\n",
    "        }\n",
    "    ]\n",
    "}\n",
    "\n",
    "log_bucket_policy = json.dumps(log_bucket_policy)\n",
    "s3.put_bucket_policy(Bucket=default_bucket, Policy=log_bucket_policy)"
   ]
  },
  {
   "cell_type": "markdown",
   "metadata": {},
   "source": [
    "### 2. Create a trail to log S3 events (check [`create_trail`](https://boto3.amazonaws.com/v1/documentation/api/latest/reference/services/cloudtrail.html#CloudTrail.Client.create_trail)):\n",
    "\n",
    "A trail captures API calls and related events in your account and then delivers the log files to an S3 bucket that you specify.\n",
    "\n",
    "You can delete a previously defined trail by running (the default trail name we defined is `WatchKGInputDataset`):</br>\n",
    "`$ aws cloudtrail delete-trail --name [your-trail-name]`"
   ]
  },
  {
   "cell_type": "code",
   "execution_count": 24,
   "metadata": {},
   "outputs": [],
   "source": [
    "#!aws cloudtrail delete-trail --name $trail_name"
   ]
  },
  {
   "cell_type": "code",
   "execution_count": 25,
   "metadata": {},
   "outputs": [],
   "source": [
    "cloudtrail = boto3.client('cloudtrail')"
   ]
  },
  {
   "cell_type": "code",
   "execution_count": 26,
   "metadata": {},
   "outputs": [
    {
     "data": {
      "text/plain": [
       "{'Name': 'WatchKGInputDataset',\n",
       " 'S3BucketName': 'sagemaker-us-east-1-093729152554',\n",
       " 'IncludeGlobalServiceEvents': True,\n",
       " 'IsMultiRegionTrail': False,\n",
       " 'TrailARN': 'arn:aws:cloudtrail:us-east-1:093729152554:trail/WatchKGInputDataset',\n",
       " 'LogFileValidationEnabled': False,\n",
       " 'IsOrganizationTrail': False,\n",
       " 'ResponseMetadata': {'RequestId': '1209d4a6-0c46-4651-a80e-4fafdb2fb025',\n",
       "  'HTTPStatusCode': 200,\n",
       "  'HTTPHeaders': {'x-amzn-requestid': '1209d4a6-0c46-4651-a80e-4fafdb2fb025',\n",
       "   'content-type': 'application/x-amz-json-1.1',\n",
       "   'content-length': '283',\n",
       "   'date': 'Sun, 26 Sep 2021 04:30:41 GMT'},\n",
       "  'RetryAttempts': 0}}"
      ]
     },
     "execution_count": 26,
     "metadata": {},
     "output_type": "execute_result"
    }
   ],
   "source": [
    "cloudtrail.create_trail(\n",
    "    Name=trail_name,\n",
    "    S3BucketName=default_bucket, # this specifies the bucket to save logs\n",
    "    TagsList=[\n",
    "        {\n",
    "            'Key': 'event',\n",
    "            'Value': 'kg-dataset-update'\n",
    "        }\n",
    "    ]\n",
    ")"
   ]
  },
  {
   "cell_type": "markdown",
   "metadata": {},
   "source": [
    "### 3. Define event selector for CloudTrail\n",
    "\n",
    "Use event selectors or advanced event selectors to specify management and data event settings for your trail. For each trail, if the event matches any event selector, the trail processes and logs the event.\n",
    "\n",
    "Learn more about event selectors: [put_event_selector](https://boto3.amazonaws.com/v1/documentation/api/latest/reference/services/cloudtrail.html#CloudTrail.Client.put_event_selectors)"
   ]
  },
  {
   "cell_type": "code",
   "execution_count": 27,
   "metadata": {},
   "outputs": [],
   "source": [
    "watched_s3_resource_arn = \"arn:aws:s3:::{}/{}\".format(watched_bucket, watched_prefix)\n",
    "event_selector = [\n",
    "    { \n",
    "        \"ReadWriteType\": \"WriteOnly\", \n",
    "        \"IncludeManagementEvents\":False, \n",
    "        \"DataResources\": \n",
    "            [\n",
    "                { \n",
    "                    \"Type\": \"AWS::S3::Object\", \n",
    "                    \"Values\": [watched_s3_resource_arn] \n",
    "                }\n",
    "            ]\n",
    "    }\n",
    "]"
   ]
  },
  {
   "cell_type": "code",
   "execution_count": 28,
   "metadata": {},
   "outputs": [
    {
     "data": {
      "text/plain": [
       "{'TrailARN': 'arn:aws:cloudtrail:us-east-1:093729152554:trail/WatchKGInputDataset',\n",
       " 'EventSelectors': [{'ReadWriteType': 'WriteOnly',\n",
       "   'IncludeManagementEvents': False,\n",
       "   'DataResources': [{'Type': 'AWS::S3::Object',\n",
       "     'Values': ['arn:aws:s3:::sm-nlp-data/ie-baseline/raw/DuIE_2_0.zip']}],\n",
       "   'ExcludeManagementEventSources': []}],\n",
       " 'ResponseMetadata': {'RequestId': 'ffe10f7f-83d6-40b9-8af4-c871e2e01dff',\n",
       "  'HTTPStatusCode': 200,\n",
       "  'HTTPHeaders': {'x-amzn-requestid': 'ffe10f7f-83d6-40b9-8af4-c871e2e01dff',\n",
       "   'content-type': 'application/x-amz-json-1.1',\n",
       "   'content-length': '310',\n",
       "   'date': 'Sun, 26 Sep 2021 04:32:00 GMT'},\n",
       "  'RetryAttempts': 0}}"
      ]
     },
     "execution_count": 28,
     "metadata": {},
     "output_type": "execute_result"
    }
   ],
   "source": [
    "cloudtrail.put_event_selectors(\n",
    "    TrailName=trail_name,\n",
    "    EventSelectors=event_selector\n",
    ")"
   ]
  },
  {
   "cell_type": "code",
   "execution_count": 29,
   "metadata": {},
   "outputs": [
    {
     "data": {
      "text/plain": [
       "{'ResponseMetadata': {'RequestId': 'cedcc533-62a8-434a-b163-b00b5afd6419',\n",
       "  'HTTPStatusCode': 200,\n",
       "  'HTTPHeaders': {'x-amzn-requestid': 'cedcc533-62a8-434a-b163-b00b5afd6419',\n",
       "   'content-type': 'application/x-amz-json-1.1',\n",
       "   'content-length': '2',\n",
       "   'date': 'Sun, 26 Sep 2021 04:32:06 GMT'},\n",
       "  'RetryAttempts': 0}}"
      ]
     },
     "execution_count": 29,
     "metadata": {},
     "output_type": "execute_result"
    }
   ],
   "source": [
    "cloudtrail.start_logging(\n",
    "    Name=trail_name\n",
    ")"
   ]
  },
  {
   "cell_type": "markdown",
   "metadata": {},
   "source": [
    "### 4. Create EventBridge rule that can trigger SageMaker pipeline.\n",
    "\n",
    "**A Question:**\n",
    "\n",
    "How is this step associated with the `event_selector` defined above?\n",
    "\n",
    "In my understanding, CloudTrail puts an event to the `default` event bus, this matches the pattern defined by the EventBridge rule. Therefore, the EventBridge rule is triggered to invoke further steps."
   ]
  },
  {
   "cell_type": "markdown",
   "metadata": {},
   "source": [
    "A sample of original logged data event by S3 looks like this:\n",
    "```json\n",
    "{\n",
    "    \"eventVersion\": \"1.08\",\n",
    "    \"userIdentity\": {\n",
    "        \"accountId\": \"093729152554\",\n",
    "        \"userName\": \"edXSageMakerUser\",\n",
    "        ...\n",
    "    },\n",
    "    \"eventTime\": \"2021-09-26T04:35:07Z\",\n",
    "    \"eventSource\": \"s3.amazonaws.com\",\n",
    "    \"eventName\": \"PutObject\",\n",
    "    \"readOnly\": false,\n",
    "    \"resources\": [\n",
    "        {\n",
    "            \"type\": \"AWS::S3::Object\",\n",
    "            \"ARN\": \"arn:aws:s3:::sm-nlp-data/ie-baseline/raw/DuIE_2_0.zip\"\n",
    "        },\n",
    "        {\n",
    "            \"accountId\": \"093729152554\",\n",
    "            \"type\": \"AWS::S3::Bucket\",\n",
    "            \"ARN\": \"arn:aws:s3:::sm-nlp-data\"\n",
    "        }\n",
    "    ],\n",
    "    \"eventType\": \"AwsApiCall\",\n",
    "    \"managementEvent\": false,\n",
    "    \"recipientAccountId\": \"093729152554\",\n",
    "    \"eventCategory\": \"Data\"\n",
    "}\n",
    "```\n",
    "\n",
    "A call send to EventBridge looks like this (This is what the pattern should match)</br>\n",
    "I followed this [tutorial](https://docs.aws.amazon.com/eventbridge/latest/userguide/eb-log-s3-data-events.html) to create a lambda function to capture this event json data\n",
    "```json\n",
    "{\n",
    "    \"version\": \"0\",\n",
    "    \"id\": \"6ac6b633-d9ff-7bb3-5846-b5e40f81ea33\",\n",
    "    \"detail-type\": \"AWS API Call via CloudTrail\",\n",
    "    \"source\": \"aws.s3\",\n",
    "    \"account\": \"093729152554\",\n",
    "    \"time\": \"2021-09-26T06:39:17Z\",\n",
    "    \"region\": \"us-east-1\",\n",
    "    \"resources\": [],\n",
    "    \"detail\": {\n",
    "        \"eventVersion\": \"1.08\",\n",
    "        \"userIdentity\": {\n",
    "            \"type\": \"IAMUser\",\n",
    "            \"accountId\": \"093729152554\",\n",
    "            ...\n",
    "        },\n",
    "        \"eventTime\": \"2021-09-26T06:39:17Z\",\n",
    "        \"eventSource\": \"s3.amazonaws.com\",\n",
    "        \"eventName\": \"PutObject\",\n",
    "        \"awsRegion\": \"us-east-1\",\n",
    "        \"sourceIPAddress\": \"52.201.136.146\",\n",
    "        \"requestParameters\": {\n",
    "            \"bucketName\": \"sm-nlp-data\",\n",
    "            \"Host\": \"sm-nlp-data.s3.amazonaws.com\",\n",
    "            \"key\": \"ie-baseline/raw/DuIE_2_0.zip\"\n",
    "        },\n",
    "        ...\n",
    "        \"eventID\": \"10cdc61c-7934-41a3-8a2b-1be8e0a7346c\",\n",
    "        \"readOnly\": false,\n",
    "        \"resources\": [\n",
    "            {\n",
    "                \"type\": \"AWS::S3::Object\",\n",
    "                \"ARN\": \"arn:aws:s3:::sm-nlp-data/ie-baseline/raw/DuIE_2_0.zip\"\n",
    "            },\n",
    "            {\n",
    "                \"accountId\": \"093729152554\",\n",
    "                \"type\": \"AWS::S3::Bucket\",\n",
    "                \"ARN\": \"arn:aws:s3:::sm-nlp-data\"\n",
    "            }\n",
    "        ],\n",
    "        \"eventType\": \"AwsApiCall\",\n",
    "        \"managementEvent\": false,\n",
    "        \"recipientAccountId\": \"093729152554\",\n",
    "        \"eventCategory\": \"Data\"\n",
    "    }\n",
    "}\n",
    "```\n",
    "\n",
    "We create a pattern to filter events (know more at [Event Patterns](https://docs.aws.amazon.com/eventbridge/latest/userguide/eb-event-patterns.html)):"
   ]
  },
  {
   "cell_type": "code",
   "execution_count": 16,
   "metadata": {},
   "outputs": [
    {
     "name": "stdout",
     "output_type": "stream",
     "text": [
      "{'detail': {'eventName': ['PutObject', 'CompleteMultipartUpload', 'CopyObject'],\n",
      "            'eventSource': ['s3.amazonaws.com'],\n",
      "            'requestParameters': {'bucketName': ['sm-nlp-data'],\n",
      "                                  'key': ['ie-baseline/raw/DuIE_2_0.zip']}},\n",
      " 'detail-type': ['AWS API Call via CloudTrail'],\n",
      " 'source': ['aws.s3']}\n"
     ]
    }
   ],
   "source": [
    "pattern = {\n",
    "    \"source\": [\"aws.s3\"],\n",
    "    \"detail-type\": [\"AWS API Call via CloudTrail\"],\n",
    "    \"detail\": {\n",
    "        \"eventSource\": [\"s3.amazonaws.com\"],\n",
    "        \"eventName\": [\"PutObject\", \"CompleteMultipartUpload\", \"CopyObject\"],\n",
    "        \"requestParameters\": {\n",
    "            \"bucketName\": [\"{}\".format(watched_bucket)],\n",
    "            \"key\": [watched_prefix]\n",
    "        },\n",
    "    },\n",
    "}\n",
    "\n",
    "pattern_json = json.dumps(pattern)\n",
    "pprint(pattern)"
   ]
  },
  {
   "cell_type": "markdown",
   "metadata": {},
   "source": [
    "`put_rule` API reference: [put_rule](https://boto3.amazonaws.com/v1/documentation/api/latest/reference/services/events.html#EventBridge.Client.put_rule)"
   ]
  },
  {
   "cell_type": "code",
   "execution_count": 17,
   "metadata": {},
   "outputs": [
    {
     "data": {
      "text/plain": [
       "{'RuleArn': 'arn:aws:events:us-east-1:093729152554:rule/S3-Trigger',\n",
       " 'ResponseMetadata': {'RequestId': '207ed37d-a8a6-426d-9d39-0b5435ca0b7f',\n",
       "  'HTTPStatusCode': 200,\n",
       "  'HTTPHeaders': {'x-amzn-requestid': '207ed37d-a8a6-426d-9d39-0b5435ca0b7f',\n",
       "   'content-type': 'application/x-amz-json-1.1',\n",
       "   'content-length': '67',\n",
       "   'date': 'Sun, 26 Sep 2021 04:19:50 GMT'},\n",
       "  'RetryAttempts': 0}}"
      ]
     },
     "execution_count": 17,
     "metadata": {},
     "output_type": "execute_result"
    }
   ],
   "source": [
    "import boto3\n",
    "\n",
    "events = boto3.client('events')\n",
    "\n",
    "response = events.put_rule(\n",
    "    Name=s3_rule_name,\n",
    "    EventPattern=pattern_json,\n",
    "    State=\"ENABLED\",\n",
    "    Description=s3_rule_description,\n",
    "    EventBusName=\"default\",\n",
    "    Tags=[\n",
    "        {\n",
    "            'Key': 'event',\n",
    "            'Value': 'kg-dataset-update'\n",
    "        },\n",
    "    ],\n",
    ")\n",
    "response"
   ]
  },
  {
   "cell_type": "code",
   "execution_count": 18,
   "metadata": {},
   "outputs": [
    {
     "name": "stdout",
     "output_type": "stream",
     "text": [
      "arn:aws:events:us-east-1:093729152554:rule/S3-Trigger\n"
     ]
    }
   ],
   "source": [
    "rule_arn = response[\"RuleArn\"]\n",
    "print(rule_arn)"
   ]
  },
  {
   "cell_type": "markdown",
   "metadata": {},
   "source": [
    "### 5. Add pipeline as target to the rule\n",
    "\n",
    "**Parameters:**"
   ]
  },
  {
   "cell_type": "code",
   "execution_count": 23,
   "metadata": {},
   "outputs": [],
   "source": [
    "lambda_fn_name = 'invoke-kg-pipeline'"
   ]
  },
  {
   "cell_type": "markdown",
   "metadata": {},
   "source": [
    "### Option 1: Directly set the CodePipeline as the target event (least operational overhead)"
   ]
  },
  {
   "cell_type": "code",
   "execution_count": 129,
   "metadata": {},
   "outputs": [
    {
     "data": {
      "text/plain": [
       "{'FailedEntryCount': 0,\n",
       " 'FailedEntries': [],\n",
       " 'ResponseMetadata': {'RequestId': 'b4775a1a-c333-4deb-b9ae-f2c0526c6eb2',\n",
       "  'HTTPStatusCode': 200,\n",
       "  'HTTPHeaders': {'x-amzn-requestid': 'b4775a1a-c333-4deb-b9ae-f2c0526c6eb2',\n",
       "   'content-type': 'application/x-amz-json-1.1',\n",
       "   'content-length': '41',\n",
       "   'date': 'Sat, 18 Sep 2021 02:46:32 GMT'},\n",
       "  'RetryAttempts': 0}}"
      ]
     },
     "execution_count": 129,
     "metadata": {},
     "output_type": "execute_result"
    }
   ],
   "source": [
    "response = events.put_targets(\n",
    "    Rule=s3_rule_name,\n",
    "    EventBusName='default',\n",
    "    Targets=[\n",
    "        {\n",
    "            \"Id\": pipeline_id,\n",
    "            \"Arn\": pipeline_arn,\n",
    "            \"RoleArn\": run_pipeline_role_arn\n",
    "        }\n",
    "    ]\n",
    ")\n",
    "response"
   ]
  },
  {
   "cell_type": "markdown",
   "metadata": {},
   "source": [
    "### Option 2: Define a Lambda function to run pipeline on your behalf\n",
    "\n",
    "This is troublesome and prone to errors. Don't run 5.1~5.6 if you opt the first option."
   ]
  },
  {
   "cell_type": "markdown",
   "metadata": {},
   "source": [
    "#### 5.1 Create an IAM role that enables event bridge to trigger pipeline"
   ]
  },
  {
   "cell_type": "code",
   "execution_count": 38,
   "metadata": {},
   "outputs": [],
   "source": [
    "iam = boto3.client(\"iam\")\n",
    "iam_role_name_eventbridge = \"EventBridge_Invoke_Pipeline\""
   ]
  },
  {
   "cell_type": "markdown",
   "metadata": {},
   "source": [
    "Create AssumeRolePolicyDocument"
   ]
  },
  {
   "cell_type": "code",
   "execution_count": 39,
   "metadata": {},
   "outputs": [
    {
     "name": "stdout",
     "output_type": "stream",
     "text": [
      "Role already exists\n"
     ]
    }
   ],
   "source": [
    "from botocore.exceptions import ClientError\n",
    "\n",
    "assume_role_policy_doc = {\n",
    "    \"Version\": \"2012-10-17\",\n",
    "    \"Statement\": [\n",
    "        {\n",
    "            \"Effect\": \"Allow\", \n",
    "            \"Principal\": {\"Service\": \"events.amazonaws.com\"}, \n",
    "            \"Action\": \"sts:AssumeRole\"\n",
    "        },\n",
    "        {\n",
    "          \"Effect\": \"Allow\",\n",
    "          \"Principal\": {\"Service\": \"lambda.amazonaws.com\"},\n",
    "          \"Action\": \"sts:AssumeRole\"\n",
    "        }\n",
    "    ],\n",
    "}\n",
    "\n",
    "try:\n",
    "    iam_role_eventbridge = iam.create_role(\n",
    "        RoleName=iam_role_name_eventbridge,\n",
    "        AssumeRolePolicyDocument=json.dumps(assume_role_policy_doc),\n",
    "        Description=\"DSOAWS EventBridge Role\",\n",
    "    )\n",
    "except ClientError as e:\n",
    "    if e.response[\"Error\"][\"Code\"] == \"EntityAlreadyExists\":\n",
    "        print(\"Role already exists\")\n",
    "    else:\n",
    "        print(\"Unexpected error: %s\" % e)"
   ]
  },
  {
   "cell_type": "markdown",
   "metadata": {},
   "source": [
    "Get the Role ARN"
   ]
  },
  {
   "cell_type": "code",
   "execution_count": 40,
   "metadata": {},
   "outputs": [
    {
     "name": "stdout",
     "output_type": "stream",
     "text": [
      "arn:aws:iam::093729152554:role/EventBridge_Invoke_Pipeline\n"
     ]
    }
   ],
   "source": [
    "role_eventbridge = iam.get_role(RoleName=iam_role_name_eventbridge)\n",
    "iam_role_eventbridge_arn = role_eventbridge[\"Role\"][\"Arn\"]\n",
    "print(iam_role_eventbridge_arn)"
   ]
  },
  {
   "cell_type": "markdown",
   "metadata": {},
   "source": [
    "#### 5.2 Define and Create Eventbridge Policy"
   ]
  },
  {
   "cell_type": "code",
   "execution_count": 43,
   "metadata": {},
   "outputs": [
    {
     "name": "stdout",
     "output_type": "stream",
     "text": [
      "Policy already exists\n",
      "Policy updated.\n",
      "arn:aws:iam::093729152554:policy/EventBridgeInvokePipeline\n"
     ]
    }
   ],
   "source": [
    "eventbridge_sfn_policy = {\n",
    "    \"Version\": \"2012-10-17\",\n",
    "    \"Statement\": [\n",
    "        {\"Sid\": \"VisualEditor0\", \"Effect\": \"Allow\", \"Action\": \"states:StartExecution\", \"Resource\": \"*\"}\n",
    "    ],\n",
    "}\n",
    "\n",
    "\n",
    "try:\n",
    "    policy_eventbridge_sfn = iam.create_policy(\n",
    "        PolicyName=\"EventBridgeInvokePipeline\", PolicyDocument=json.dumps(eventbridge_sfn_policy)\n",
    "    )\n",
    "    print(\"Done.\")\n",
    "except ClientError as e:\n",
    "    if e.response[\"Error\"][\"Code\"] == \"EntityAlreadyExists\":\n",
    "        print(\"Policy already exists\")\n",
    "        policy_eventbridge_sfn_arn = f\"arn:aws:iam::{account_id}:policy/EventBridgeInvokePipeline\"\n",
    "        iam.create_policy_version(\n",
    "            PolicyArn=policy_eventbridge_sfn_arn, PolicyDocument=json.dumps(eventbridge_sfn_policy), SetAsDefault=True\n",
    "        )\n",
    "        print(\"Policy updated.\")\n",
    "    else:\n",
    "        print(\"Unexpected error: %s\" % e)\n",
    "\n",
    "# Get policy ARN        \n",
    "policy_eventbridge_sfn_arn = f\"arn:aws:iam::{account_id}:policy/EventBridgeInvokePipeline\"\n",
    "print(policy_eventbridge_sfn_arn)"
   ]
  },
  {
   "cell_type": "markdown",
   "metadata": {},
   "source": [
    "#### 5.3 Attach Policy To Role"
   ]
  },
  {
   "cell_type": "code",
   "execution_count": 44,
   "metadata": {},
   "outputs": [
    {
     "name": "stdout",
     "output_type": "stream",
     "text": [
      "Done.\n"
     ]
    }
   ],
   "source": [
    "try:\n",
    "    response = iam.attach_role_policy(PolicyArn=policy_eventbridge_sfn_arn, RoleName=iam_role_name_eventbridge)\n",
    "    print(\"Done.\")\n",
    "except ClientError as e:\n",
    "    if e.response[\"Error\"][\"Code\"] == \"EntityAlreadyExists\":\n",
    "        print(\"Policy is already attached. This is ok.\")\n",
    "    else:\n",
    "        print(\"Unexpected error: %s\" % e)"
   ]
  },
  {
   "cell_type": "markdown",
   "metadata": {},
   "source": [
    "#### 5.4 Define a Lambda to execute pipeline"
   ]
  },
  {
   "cell_type": "code",
   "execution_count": 33,
   "metadata": {},
   "outputs": [],
   "source": [
    "lambda_script = '''\n",
    "import json\n",
    "import os\n",
    "import time\n",
    "import sys\n",
    "from pip._internal import main\n",
    "\n",
    "main(['install', '-I', '-q', 'boto3==1.16.47', '--target', '/tmp/', '--no-cache-dir', '--disable-pip-version-check'])\n",
    "sys.path.insert(0,'/tmp/')\n",
    "\n",
    "import boto3\n",
    "\n",
    "region = boto3.Session().region_name\n",
    "s3 = boto3.client('s3', region_name=region)\n",
    "sm = boto3.client('sagemaker', region_name=region)\n",
    "\n",
    "# Need to set the Pipeline Name as Lambda environment variable\n",
    "PIPELINE_NAME = os.environ['PIPELINE_NAME']\n",
    "print('Pipeline Name: {}'.format(PIPELINE_NAME))\n",
    "\n",
    "timestamp = int(time.time())\n",
    "\n",
    "def lambda_handler(event, context):\n",
    "    print('boto3: {}'.format(boto3.__version__))\n",
    "    print('Starting execution of pipeline {}...'.format(PIPELINE_NAME))\n",
    "\n",
    "    response = sm.start_pipeline_execution(\n",
    "        PipelineName=PIPELINE_NAME,\n",
    "        PipelineExecutionDisplayName='trigger-{}'.format(timestamp),\n",
    "        PipelineParameters=[\n",
    "        ],\n",
    "        PipelineExecutionDescription= PIPELINE_NAME,\n",
    "        # ClientRequestToken='string'\n",
    "    )\n",
    "\n",
    "    print('Response: {}'.format(response))\n",
    "\n",
    "    execution_arn=response['PipelineExecutionArn']\n",
    "    print('Pipeline execution started with execution ARN: {}'.format(execution_arn))\n",
    "    print('Done.')\n",
    "'''"
   ]
  },
  {
   "cell_type": "code",
   "execution_count": 34,
   "metadata": {},
   "outputs": [
    {
     "name": "stdout",
     "output_type": "stream",
     "text": [
      "Get:1 http://deb.debian.org/debian buster InRelease [122 kB]\n",
      "Get:2 http://security.debian.org/debian-security buster/updates InRelease [65.4 kB]\n",
      "Get:3 http://deb.debian.org/debian buster-updates InRelease [51.9 kB]\n",
      "Get:4 http://security.debian.org/debian-security buster/updates/main amd64 Packages [303 kB]\n",
      "Get:5 http://deb.debian.org/debian buster/main amd64 Packages [7907 kB]\n",
      "Get:6 http://deb.debian.org/debian buster-updates/main amd64 Packages [15.2 kB]\n",
      "Fetched 8465 kB in 2s (4230 kB/s)\n",
      "Reading package lists... Done\n",
      "Reading package lists... Done\n",
      "Building dependency tree       \n",
      "Reading state information... Done\n",
      "The following NEW packages will be installed:\n",
      "  zip\n",
      "0 upgraded, 1 newly installed, 0 to remove and 34 not upgraded.\n",
      "Need to get 234 kB of archives.\n",
      "After this operation, 623 kB of additional disk space will be used.\n",
      "Get:1 http://deb.debian.org/debian buster/main amd64 zip amd64 3.0-11+b1 [234 kB]\n",
      "Fetched 234 kB in 0s (22.2 MB/s)\n",
      "debconf: delaying package configuration, since apt-utils is not installed\n",
      "Selecting previously unselected package zip.\n",
      "(Reading database ... 20589 files and directories currently installed.)\n",
      "Preparing to unpack .../zip_3.0-11+b1_amd64.deb ...\n",
      "Unpacking zip (3.0-11+b1) ...\n",
      "Setting up zip (3.0-11+b1) ...\n",
      "  adding: lambda_function.py (deflated 54%)\n",
      "upload: ./lambda_function.zip to s3://sm-nlp-data/ie-baseline/lambda/lambda_function.zip\n"
     ]
    }
   ],
   "source": [
    "fn_bucket = watched_bucket\n",
    "fn_key = 'ie-baseline/lambda/'\n",
    "upload_name = 'lambda_function.zip'\n",
    "!apt-get update\n",
    "!apt-get install zip\n",
    "!echo \"$lambda_script\" >> lambda_function.py\n",
    "!zip $upload_name lambda_function.py\n",
    "!aws s3 cp $upload_name s3://$fn_bucket/$fn_key\n",
    "!rm lambda_function.py $upload_name"
   ]
  },
  {
   "cell_type": "markdown",
   "metadata": {},
   "source": [
    "Use `!aws lambda delete-function --function-name invoke-kg-pipeline` to remove the pipeline if it already exists."
   ]
  },
  {
   "cell_type": "code",
   "execution_count": 45,
   "metadata": {},
   "outputs": [
    {
     "data": {
      "text/plain": [
       "{'ResponseMetadata': {'RequestId': '2f6e3576-a176-4de7-9f8a-2dc6ad7df085',\n",
       "  'HTTPStatusCode': 201,\n",
       "  'HTTPHeaders': {'date': 'Wed, 15 Sep 2021 06:46:38 GMT',\n",
       "   'content-type': 'application/json',\n",
       "   'content-length': '965',\n",
       "   'connection': 'keep-alive',\n",
       "   'x-amzn-requestid': '2f6e3576-a176-4de7-9f8a-2dc6ad7df085'},\n",
       "  'RetryAttempts': 0},\n",
       " 'FunctionName': 'invoke-kg-pipeline',\n",
       " 'FunctionArn': 'arn:aws:lambda:us-east-1:093729152554:function:invoke-kg-pipeline',\n",
       " 'Runtime': 'python3.9',\n",
       " 'Role': 'arn:aws:iam::093729152554:role/EventBridge_Invoke_Pipeline',\n",
       " 'Handler': 'lambda_handler',\n",
       " 'CodeSize': 737,\n",
       " 'Description': '',\n",
       " 'Timeout': 3,\n",
       " 'MemorySize': 128,\n",
       " 'LastModified': '2021-09-15T06:46:38.341+0000',\n",
       " 'CodeSha256': 'obHM5qcxtY+LY/pRNtpT7uyNKcNlV2BhYqdXNOuELVk=',\n",
       " 'Version': '$LATEST',\n",
       " 'Environment': {'Variables': {'PIPELINE_NAME': 'KGPipeline1631239572'}},\n",
       " 'TracingConfig': {'Mode': 'PassThrough'},\n",
       " 'RevisionId': 'f6c4aa4a-66c5-4f3c-8cbc-7eb65c93d674',\n",
       " 'State': 'Active',\n",
       " 'LastUpdateStatus': 'Successful',\n",
       " 'PackageType': 'Zip'}"
      ]
     },
     "execution_count": 45,
     "metadata": {},
     "output_type": "execute_result"
    }
   ],
   "source": [
    "lmd = boto3.client('lambda')\n",
    "\n",
    "response = lmd.create_function(\n",
    "    FunctionName=lambda_fn_name,\n",
    "    Runtime='python3.9',\n",
    "    Role=iam_role_eventbridge_arn,\n",
    "    Handler='lambda_handler',\n",
    "    Code={\n",
    "        'S3Bucket': fn_bucket,\n",
    "        'S3Key': fn_key+upload_name,\n",
    "    },\n",
    "    Environment={\n",
    "        'Variables': {\n",
    "            'PIPELINE_NAME': pipeline_name\n",
    "        }\n",
    "    },\n",
    ")\n",
    "response"
   ]
  },
  {
   "cell_type": "code",
   "execution_count": 46,
   "metadata": {},
   "outputs": [
    {
     "data": {
      "text/plain": [
       "'arn:aws:lambda:us-east-1:093729152554:function:invoke-kg-pipeline'"
      ]
     },
     "execution_count": 46,
     "metadata": {},
     "output_type": "execute_result"
    }
   ],
   "source": [
    "lambda_fn_arn = response['FunctionArn']\n",
    "lambda_fn_arn"
   ]
  },
  {
   "cell_type": "markdown",
   "metadata": {},
   "source": [
    "#### 5.5 Set the Lambda function as a target of the EventBridge rule"
   ]
  },
  {
   "cell_type": "code",
   "execution_count": 47,
   "metadata": {},
   "outputs": [
    {
     "data": {
      "text/plain": [
       "{'FailedEntryCount': 0,\n",
       " 'FailedEntries': [],\n",
       " 'ResponseMetadata': {'RequestId': '650e8af7-d5d8-4fa7-8c4f-d52a07d60a06',\n",
       "  'HTTPStatusCode': 200,\n",
       "  'HTTPHeaders': {'x-amzn-requestid': '650e8af7-d5d8-4fa7-8c4f-d52a07d60a06',\n",
       "   'content-type': 'application/x-amz-json-1.1',\n",
       "   'content-length': '41',\n",
       "   'date': 'Wed, 15 Sep 2021 06:46:47 GMT'},\n",
       "  'RetryAttempts': 0}}"
      ]
     },
     "execution_count": 47,
     "metadata": {},
     "output_type": "execute_result"
    }
   ],
   "source": [
    "import uuid\n",
    "\n",
    "response = events.put_targets(\n",
    "    Rule=\"S3-Trigger\",\n",
    "    EventBusName=\"default\",\n",
    "    Targets=[\n",
    "        {\n",
    "            \"Id\": 'Id'+str(uuid.uuid1()), \n",
    "            \"Arn\": lambda_fn_arn\n",
    "        }\n",
    "    ],\n",
    ")\n",
    "\n",
    "response"
   ]
  },
  {
   "cell_type": "markdown",
   "metadata": {},
   "source": [
    "### 6. Trigger pipeline by writing to the watched location\n",
    "\n",
    "To check whether a data event is logged, go to CloudTrail console, select the trail you created. At the CloudWatch Logs section, create a CloudWatch group for this trail. Then, go to CloudWatch and check the stream logs of this group."
   ]
  },
  {
   "cell_type": "code",
   "execution_count": 103,
   "metadata": {},
   "outputs": [
    {
     "name": "stdout",
     "output_type": "stream",
     "text": [
      "download: s3://sm-nlp-data/psudo/DuIE_2_0.zip to data/pseudo/DuIE_2_0.zip\n",
      "download: s3://sm-nlp-data/ie-baseline/raw/DuIE_2_0.zip to data/real/DuIE_2_0.zip\n"
     ]
    }
   ],
   "source": [
    "# download a fake data\n",
    "!aws s3 cp s3://$watched_bucket/psudo/DuIE_2_0.zip data/pseudo/\n",
    "# save a copy of real data\n",
    "!aws s3 cp s3://$watched_bucket/ie-baseline/raw/DuIE_2_0.zip data/real/"
   ]
  },
  {
   "cell_type": "code",
   "execution_count": 32,
   "metadata": {},
   "outputs": [
    {
     "name": "stdout",
     "output_type": "stream",
     "text": [
      "upload: data/pseudo/DuIE_2_0.zip to s3://sm-nlp-data/ie-baseline/raw/DuIE_2_0.zip\n"
     ]
    }
   ],
   "source": [
    "# upload fake data to the watched location\n",
    "!aws s3 cp data/pseudo/DuIE_2_0.zip s3://$watched_bucket/ie-baseline/raw/DuIE_2_0.zip"
   ]
  },
  {
   "cell_type": "markdown",
   "metadata": {},
   "source": [
    "Now go to the CloudTrail console and EventBridge console to check whether there are something happening!\n",
    "\n",
    "And check whether there is a new pipeline running as well!\n",
    "\n",
    "If everything goes well, well, we revert the pseudo data to its original version."
   ]
  },
  {
   "cell_type": "code",
   "execution_count": 33,
   "metadata": {},
   "outputs": [
    {
     "name": "stdout",
     "output_type": "stream",
     "text": [
      "upload: data/real/DuIE_2_0.zip to s3://sm-nlp-data/ie-baseline/raw/DuIE_2_0.zip\n"
     ]
    }
   ],
   "source": [
    "!aws s3 cp data/real/DuIE_2_0.zip s3://$watched_bucket/ie-baseline/raw/"
   ]
  },
  {
   "cell_type": "code",
   "execution_count": null,
   "metadata": {},
   "outputs": [],
   "source": []
  }
 ],
 "metadata": {
  "instance_type": "ml.t3.medium",
  "kernelspec": {
   "display_name": "Python 3",
   "language": "python",
   "name": "python3"
  },
  "language_info": {
   "codemirror_mode": {
    "name": "ipython",
    "version": 3
   },
   "file_extension": ".py",
   "mimetype": "text/x-python",
   "name": "python",
   "nbconvert_exporter": "python",
   "pygments_lexer": "ipython3",
   "version": "3.7.0"
  }
 },
 "nbformat": 4,
 "nbformat_minor": 4
}
