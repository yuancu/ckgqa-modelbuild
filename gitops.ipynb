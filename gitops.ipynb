{
 "cells": [
  {
   "cell_type": "markdown",
   "metadata": {},
   "source": [
    "# Custom GitOps\n",
    "\n",
    "Instead of using the GitOps comes with the MLOps project template, here I implement a custom version of GitOps, where a git commit to code commit would automatically trigger a pipeline execution.\n",
    "\n",
    "Reference:\n",
    "- [aws-samples / mlops-amazon-sagemaker-devops-with-ml](https://github.com/aws-samples/mlops-amazon-sagemaker-devops-with-ml)\n",
    "- [Complete CI/CD with AWS CodeCommit, AWS CodeBuild, AWS CodeDeploy, and AWS CodePipeline](https://aws.amazon.com/blogs/devops/complete-ci-cd-with-aws-codecommit-aws-codebuild-aws-codedeploy-and-aws-codepipeline/)\n",
    "- [AWS MLOps Framework](https://aws.amazon.com/solutions/implementations/aws-mlops-framework)"
   ]
  },
  {
   "cell_type": "markdown",
   "metadata": {},
   "source": [
    "## 1. Create a build project\n",
    "\n",
    "A codebuild project updates or creates a pipeline everytime source code changes.\n",
    "\n",
    "Build script is defined under the root directory of source code: `codebuild-buildspec.yml`"
   ]
  },
  {
   "cell_type": "code",
   "execution_count": 20,
   "metadata": {},
   "outputs": [],
   "source": [
    "import boto3\n",
    "import sagemaker\n",
    "from botocore.exceptions import ClientError\n",
    "\n",
    "codebuild = boto3.client('codebuild')"
   ]
  },
  {
   "cell_type": "code",
   "execution_count": 21,
   "metadata": {},
   "outputs": [],
   "source": [
    "code_build_repository = 'https://git-codecommit.us-east-1.amazonaws.com/v1/repos/sagemaker-CKGQA-p-kiqtyrraeiec-modelbuild'\n",
    "build_output_bucket = 'sm-nlp-data'\n",
    "build_output_prefix = 'project-kgqa/outputs/'\n",
    "code_build_project_name = 'project-kgqa'"
   ]
  },
  {
   "cell_type": "code",
   "execution_count": 22,
   "metadata": {},
   "outputs": [
    {
     "data": {
      "text/plain": [
       "'arn:aws:iam::093729152554:role/service-role/AWSNeptuneNotebookRole-NepTestRole'"
      ]
     },
     "execution_count": 22,
     "metadata": {},
     "output_type": "execute_result"
    }
   ],
   "source": [
    "role = sagemaker.session.get_execution_role()\n",
    "role"
   ]
  },
  {
   "cell_type": "code",
   "execution_count": 23,
   "metadata": {},
   "outputs": [],
   "source": [
    "iam = boto3.client('iam')\n",
    "sm_products_use_role = iam.get_role(RoleName='AmazonSageMakerServiceCatalogProductsUseRole')\n",
    "sm_products_use_role_arn = sm_products_use_role['Role']['Arn']"
   ]
  },
  {
   "cell_type": "code",
   "execution_count": 24,
   "metadata": {},
   "outputs": [
    {
     "data": {
      "text/plain": [
       "{'name': 'project-kgqa',\n",
       " 'arn': 'arn:aws:codebuild:us-east-1:093729152554:project/project-kgqa',\n",
       " 'source': {'type': 'CODECOMMIT',\n",
       "  'location': 'https://git-codecommit.us-east-1.amazonaws.com/v1/repos/sagemaker-CKGQA-p-kiqtyrraeiec-modelbuild',\n",
       "  'buildspec': 'codebuild-buildspec.yml',\n",
       "  'insecureSsl': False},\n",
       " 'artifacts': {'type': 'S3',\n",
       "  'location': 'sm-nlp-data',\n",
       "  'path': 'project-kgqa/outputs/',\n",
       "  'namespaceType': 'NONE',\n",
       "  'name': 'project-kgqa',\n",
       "  'packaging': 'NONE',\n",
       "  'encryptionDisabled': False},\n",
       " 'cache': {'type': 'NO_CACHE'},\n",
       " 'environment': {'type': 'LINUX_CONTAINER',\n",
       "  'image': 'aws/codebuild/standard:4.0',\n",
       "  'computeType': 'BUILD_GENERAL1_LARGE',\n",
       "  'environmentVariables': [{'name': 'test',\n",
       "    'value': 'test',\n",
       "    'type': 'PLAINTEXT'}],\n",
       "  'privilegedMode': False,\n",
       "  'imagePullCredentialsType': 'CODEBUILD'},\n",
       " 'serviceRole': 'arn:aws:iam::093729152554:role/service-role/AWSNeptuneNotebookRole-NepTestRole',\n",
       " 'timeoutInMinutes': 60,\n",
       " 'queuedTimeoutInMinutes': 480,\n",
       " 'encryptionKey': 'arn:aws:kms:us-east-1:093729152554:alias/aws/s3',\n",
       " 'created': datetime.datetime(2021, 9, 23, 12, 24, 49, 119000, tzinfo=tzlocal()),\n",
       " 'lastModified': datetime.datetime(2021, 9, 23, 12, 24, 49, 119000, tzinfo=tzlocal()),\n",
       " 'badge': {'badgeEnabled': False},\n",
       " 'logsConfig': {'cloudWatchLogs': {'status': 'ENABLED'}}}"
      ]
     },
     "execution_count": 24,
     "metadata": {},
     "output_type": "execute_result"
    }
   ],
   "source": [
    "try:\n",
    "    response = codebuild.create_project(\n",
    "        name=code_build_project_name,\n",
    "        source={\n",
    "            'type': 'CODECOMMIT',\n",
    "            'location': code_build_repository,\n",
    "            'buildspec': 'codebuild-buildspec.yml', # an alternate buildspec file relative to the value of the built-in CODEBUILD_SRC_DIR environment variable\n",
    "        },\n",
    "        artifacts={\n",
    "            'type': 'S3',\n",
    "            'location': build_output_bucket,\n",
    "            'path': build_output_prefix\n",
    "        },\n",
    "        environment={\n",
    "            'type': 'LINUX_CONTAINER', # LINUX_GPU_CONTAINER\n",
    "            'image': 'aws/codebuild/standard:4.0', # The image tag or image digest that identifies the Docker image to use for this build project\n",
    "            'computeType': 'BUILD_GENERAL1_LARGE',\n",
    "            'environmentVariables': [\n",
    "                {\n",
    "                    'name': 'test',\n",
    "                    'value': 'test'\n",
    "                }\n",
    "            ],\n",
    "        },\n",
    "        logsConfig={\n",
    "            'cloudWatchLogs': {\n",
    "                'status': 'ENABLED'\n",
    "            },\n",
    "        },\n",
    "        serviceRole=role\n",
    "    )\n",
    "    code_build_project = response['project']\n",
    "except ClientError as e:\n",
    "    if e.response[\"Error\"][\"Code\"] == 'ResourceAlreadyExistsException':\n",
    "        print(f\"CodeBuild project with name {code_build_project_name} already exists\")\n",
    "    code_build_project = codebuild.batch_get_projects(names=[code_build_project_name])['projects'][0]\n",
    "    \n",
    "code_build_project"
   ]
  },
  {
   "cell_type": "code",
   "execution_count": 26,
   "metadata": {},
   "outputs": [
    {
     "data": {
      "text/plain": [
       "'arn:aws:codebuild:us-east-1:093729152554:project/project-kgqa'"
      ]
     },
     "execution_count": 26,
     "metadata": {},
     "output_type": "execute_result"
    }
   ],
   "source": [
    "code_build_project_arn = code_build_project['arn']\n",
    "code_build_project_arn"
   ]
  },
  {
   "cell_type": "markdown",
   "metadata": {},
   "source": [
    "## 2. Create an Event that Triggers Codebuild with Codecommit"
   ]
  },
  {
   "cell_type": "code",
   "execution_count": 17,
   "metadata": {},
   "outputs": [],
   "source": [
    "import boto3\n",
    "import json\n",
    "\n",
    "events = boto3.client('events')"
   ]
  },
  {
   "cell_type": "code",
   "execution_count": 32,
   "metadata": {},
   "outputs": [],
   "source": [
    "code_build_repository_arn = 'arn:aws:codecommit:us-east-1:093729152554:sagemaker-CKGQA-p-kiqtyrraeiec-modelbuild'\n",
    "code_build_repository_branch = 'main'\n",
    "build_trigger_rule_name = 'ModelBuildOnCommit'\n",
    "build_trigger_rule_description = 'Run both pipeline when new commit arrives'\n",
    "code_build_project_target_id = 'codecommit-CKGQA-modelbuild'\n"
   ]
  },
  {
   "cell_type": "code",
   "execution_count": 20,
   "metadata": {},
   "outputs": [
    {
     "data": {
      "text/plain": [
       "'{\"detail-type\": [\"Mode Build CodeCommit Repository State Change\"], \"resources\": [\"arn:aws:codecommit:us-east-1:093729152554:sagemaker-CKGQA-p-kiqtyrraeiec-modelbuild\"], \"source\": [\"aws.codecommit\"], \"detail\": {\"referenceType\": [\"branch\"], \"referenceName\": [\"main\"]}}'"
      ]
     },
     "execution_count": 20,
     "metadata": {},
     "output_type": "execute_result"
    }
   ],
   "source": [
    "codecommit_pattern = {\n",
    "    \"detail-type\": [\"Mode Build CodeCommit Repository State Change\"],\n",
    "    \"resources\": [code_build_repository_arn],\n",
    "    \"source\": [\"aws.codecommit\"],\n",
    "    \"detail\": {\n",
    "        \"referenceType\": [\"branch\"],\n",
    "        \"referenceName\": [code_build_repository_branch]\n",
    "    }\n",
    "}\n",
    "codecommit_pattern_json = json.dumps(codecommit_pattern)"
   ]
  },
  {
   "cell_type": "code",
   "execution_count": 33,
   "metadata": {},
   "outputs": [
    {
     "data": {
      "text/plain": [
       "{'RuleArn': 'arn:aws:events:us-east-1:093729152554:rule/ModelBuildOnCommit',\n",
       " 'ResponseMetadata': {'RequestId': '2edaf038-f8f7-429e-a72a-f16bcbe51b7b',\n",
       "  'HTTPStatusCode': 200,\n",
       "  'HTTPHeaders': {'x-amzn-requestid': '2edaf038-f8f7-429e-a72a-f16bcbe51b7b',\n",
       "   'content-type': 'application/x-amz-json-1.1',\n",
       "   'content-length': '75',\n",
       "   'date': 'Thu, 23 Sep 2021 09:05:22 GMT'},\n",
       "  'RetryAttempts': 0}}"
      ]
     },
     "execution_count": 33,
     "metadata": {},
     "output_type": "execute_result"
    }
   ],
   "source": [
    "response = events.put_rule(\n",
    "    Name=build_trigger_rule_name,\n",
    "    EventPattern=codecommit_pattern_json,\n",
    "    State=\"ENABLED\",\n",
    "    Description=build_trigger_rule_description,\n",
    "    EventBusName=\"default\",\n",
    "    Tags=[\n",
    "        {\n",
    "            'Key': 'event',\n",
    "            'Value': 'model-build-commited'\n",
    "        },\n",
    "    ],\n",
    ")\n",
    "response"
   ]
  },
  {
   "cell_type": "code",
   "execution_count": 51,
   "metadata": {},
   "outputs": [
    {
     "data": {
      "text/plain": [
       "{'FailedEntryCount': 0,\n",
       " 'FailedEntries': [],\n",
       " 'ResponseMetadata': {'RequestId': '119ce638-b740-4dcd-ac41-93b4716b563a',\n",
       "  'HTTPStatusCode': 200,\n",
       "  'HTTPHeaders': {'x-amzn-requestid': '119ce638-b740-4dcd-ac41-93b4716b563a',\n",
       "   'content-type': 'application/x-amz-json-1.1',\n",
       "   'content-length': '41',\n",
       "   'date': 'Thu, 23 Sep 2021 09:21:29 GMT'},\n",
       "  'RetryAttempts': 0}}"
      ]
     },
     "execution_count": 51,
     "metadata": {},
     "output_type": "execute_result"
    }
   ],
   "source": [
    "response = events.put_targets(\n",
    "    Rule=build_trigger_rule_name,\n",
    "    EventBusName='default',\n",
    "    Targets=[\n",
    "        {\n",
    "            \"Id\": code_build_repository_target_id,\n",
    "            \"Arn\": code_build_project_arn,\n",
    "            \"RoleArn\": sm_products_use_role_arn\n",
    "        }\n",
    "    ]\n",
    ")\n",
    "response"
   ]
  },
  {
   "cell_type": "code",
   "execution_count": null,
   "metadata": {},
   "outputs": [],
   "source": []
  }
 ],
 "metadata": {
  "instance_type": "ml.g4dn.xlarge",
  "kernelspec": {
   "display_name": "Python 3 (PyTorch 1.6 Python 3.6 GPU Optimized)",
   "language": "python",
   "name": "python3__SAGEMAKER_INTERNAL__arn:aws:sagemaker:us-east-1:081325390199:image/pytorch-1.6-gpu-py36-cu110-ubuntu18.04-v3"
  },
  "language_info": {
   "codemirror_mode": {
    "name": "ipython",
    "version": 3
   },
   "file_extension": ".py",
   "mimetype": "text/x-python",
   "name": "python",
   "nbconvert_exporter": "python",
   "pygments_lexer": "ipython3",
   "version": "3.6.13"
  }
 },
 "nbformat": 4,
 "nbformat_minor": 4
}
