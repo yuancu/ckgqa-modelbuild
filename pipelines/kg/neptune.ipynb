{
 "cells": [
  {
   "cell_type": "markdown",
   "metadata": {},
   "source": [
    "# Neptune Lab\n",
    "\n",
    "This notebook tests create Neptune DB with boto3.\n",
    "\n",
    "This notebook follows guidance from [Example: Loading Data into a Neptune DB Instance](https://docs.aws.amazon.com/neptune/latest/userguide/bulk-load-data.html).\n",
    "\n",
    "## 1. Create a Neptune DB cluster."
   ]
  },
  {
   "cell_type": "code",
   "execution_count": 2,
   "metadata": {},
   "outputs": [],
   "source": [
    "import boto3\n",
    "from botocore.errorfactory import ClientError"
   ]
  },
  {
   "cell_type": "code",
   "execution_count": 7,
   "metadata": {},
   "outputs": [],
   "source": [
    "neptune = boto3.client('neptune')\n",
    "db_cluster_identifier = 'kg-neptune'"
   ]
  },
  {
   "cell_type": "code",
   "execution_count": 13,
   "metadata": {},
   "outputs": [
    {
     "name": "stdout",
     "output_type": "stream",
     "text": [
      "An error occurred (DBClusterNotFoundFault) when calling the DescribeDBClusters operation: DBCluster kg-neptune-1 not found.\n",
      "Trying to create a Neptune DB Cluster with identifier kg-neptune-1\n"
     ]
    }
   ],
   "source": [
    "try:\n",
    "    response = neptune.describe_db_clusters(DBClusterIdentifier=db_cluster_identifier)['DBClusters'][0]\n",
    "    print(response)\n",
    "except ClientError as e:\n",
    "    print(e)\n",
    "    print(f\"Trying to create a Neptune DB Cluster with identifier {db_cluster_identifier}\")\n",
    "    response = neptune.create_db_cluster(\n",
    "        DBClusterIdentifier=db_cluster_identifier, \n",
    "        Engine='neptune'\n",
    "    )['DBCluster']"
   ]
  },
  {
   "cell_type": "code",
   "execution_count": 16,
   "metadata": {},
   "outputs": [
    {
     "data": {
      "text/plain": [
       "{'AllocatedStorage': 1,\n",
       " 'AvailabilityZones': ['us-east-1f', 'us-east-1b', 'us-east-1d'],\n",
       " 'BackupRetentionPeriod': 1,\n",
       " 'DBClusterIdentifier': 'kg-neptune-1',\n",
       " 'DBClusterParameterGroup': 'default.neptune1',\n",
       " 'DBSubnetGroup': 'default',\n",
       " 'Status': 'creating',\n",
       " 'Endpoint': 'kg-neptune-1.cluster-c2ycbhkszo5s.us-east-1.neptune.amazonaws.com',\n",
       " 'ReaderEndpoint': 'kg-neptune-1.cluster-ro-c2ycbhkszo5s.us-east-1.neptune.amazonaws.com',\n",
       " 'MultiAZ': False,\n",
       " 'Engine': 'neptune',\n",
       " 'EngineVersion': '1.0.5.0',\n",
       " 'Port': 8182,\n",
       " 'MasterUsername': 'admin',\n",
       " 'PreferredBackupWindow': '08:53-09:23',\n",
       " 'PreferredMaintenanceWindow': 'sat:04:52-sat:05:22',\n",
       " 'ReadReplicaIdentifiers': [],\n",
       " 'DBClusterMembers': [],\n",
       " 'VpcSecurityGroups': [{'VpcSecurityGroupId': 'sg-dc24d3db',\n",
       "   'Status': 'active'}],\n",
       " 'HostedZoneId': 'ZUFXD4SLT2LS7',\n",
       " 'StorageEncrypted': False,\n",
       " 'DbClusterResourceId': 'cluster-VNRV4H6V2Q3YSS3RY6PZJFZFSA',\n",
       " 'DBClusterArn': 'arn:aws:rds:us-east-1:093729152554:cluster:kg-neptune-1',\n",
       " 'AssociatedRoles': [],\n",
       " 'IAMDatabaseAuthenticationEnabled': False,\n",
       " 'ClusterCreateTime': datetime.datetime(2021, 9, 17, 2, 5, 31, 699000, tzinfo=tzlocal()),\n",
       " 'CopyTagsToSnapshot': False,\n",
       " 'DeletionProtection': False,\n",
       " 'CrossAccountClone': False}"
      ]
     },
     "execution_count": 16,
     "metadata": {},
     "output_type": "execute_result"
    }
   ],
   "source": [
    "response['DBCluster']"
   ]
  },
  {
   "cell_type": "code",
   "execution_count": 21,
   "metadata": {},
   "outputs": [
    {
     "name": "stdout",
     "output_type": "stream",
     "text": [
      "DB Cluster Endpoint: kg-neptune.cluster-c2ycbhkszo5s.us-east-1.neptune.amazonaws.com\n",
      "DB Cluster Port: 8182\n",
      "DB Cluster Region: us-east-1\n"
     ]
    }
   ],
   "source": [
    "db_cluster_endpoint = response['DBClusters'][0]['Endpoint']\n",
    "db_cluster_port = response['DBClusters'][0]['Port']\n",
    "db_cluster_arn = response['DBClusters'][0]['DBClusterArn']\n",
    "db_cluster_region = db_cluster_arn.split(':')[3]\n",
    "print(f\"DB Cluster Endpoint: {db_cluster_endpoint}\")\n",
    "print(f\"DB Cluster Port: {db_cluster_port}\")\n",
    "print(f\"DB Cluster Region: {db_cluster_region}\")"
   ]
  },
  {
   "cell_type": "markdown",
   "metadata": {},
   "source": [
    "### Test function"
   ]
  },
  {
   "cell_type": "code",
   "execution_count": 7,
   "metadata": {},
   "outputs": [],
   "source": [
    "def get_or_create_db_cluster(db_cluster_identifier):\n",
    "    neptune = boto3.client('neptune')\n",
    "    try:\n",
    "        response = neptune.describe_db_clusters(DBClusterIdentifier=db_cluster_identifier)\n",
    "        db_cluster = response['DBClusters'][0]\n",
    "    except ClientError as e:\n",
    "        if e.response[\"Error\"][\"Code\"] != 'DBClusterNotFoundFault':\n",
    "            raise e\n",
    "        print(f\"Neptune Cluster {db_cluster_identifier} does not exist.\")\n",
    "        print(f\"Trying to create a Neptune Cluster with identifier {db_cluster_identifier}\")\n",
    "        response = neptune.create_db_cluster(\n",
    "            DBClusterIdentifier=db_cluster_identifier, \n",
    "            Engine='neptune'\n",
    "        )\n",
    "        db_cluster = response['DBCluster']\n",
    "    return db_cluster"
   ]
  },
  {
   "cell_type": "code",
   "execution_count": 8,
   "metadata": {},
   "outputs": [
    {
     "data": {
      "text/plain": [
       "{'AllocatedStorage': 1,\n",
       " 'AvailabilityZones': ['us-east-1b', 'us-east-1a', 'us-east-1c'],\n",
       " 'BackupRetentionPeriod': 1,\n",
       " 'DBClusterIdentifier': 'kg-neptune',\n",
       " 'DBClusterParameterGroup': 'default.neptune1',\n",
       " 'DBSubnetGroup': 'default',\n",
       " 'Status': 'available',\n",
       " 'EarliestRestorableTime': datetime.datetime(2021, 9, 15, 11, 5, 29, 136000, tzinfo=tzlocal()),\n",
       " 'Endpoint': 'kg-neptune.cluster-c2ycbhkszo5s.us-east-1.neptune.amazonaws.com',\n",
       " 'ReaderEndpoint': 'kg-neptune.cluster-ro-c2ycbhkszo5s.us-east-1.neptune.amazonaws.com',\n",
       " 'MultiAZ': True,\n",
       " 'Engine': 'neptune',\n",
       " 'EngineVersion': '1.0.5.0',\n",
       " 'LatestRestorableTime': datetime.datetime(2021, 9, 17, 2, 1, 22, 32000, tzinfo=tzlocal()),\n",
       " 'Port': 8182,\n",
       " 'MasterUsername': 'admin',\n",
       " 'PreferredBackupWindow': '09:47-10:17',\n",
       " 'PreferredMaintenanceWindow': 'fri:05:05-fri:05:35',\n",
       " 'ReadReplicaIdentifiers': [],\n",
       " 'DBClusterMembers': [{'DBInstanceIdentifier': 'kg-neptune-instance-4',\n",
       "   'IsClusterWriter': False,\n",
       "   'DBClusterParameterGroupStatus': 'in-sync',\n",
       "   'PromotionTier': 1},\n",
       "  {'DBInstanceIdentifier': 'kg-neptune-instance-3',\n",
       "   'IsClusterWriter': False,\n",
       "   'DBClusterParameterGroupStatus': 'in-sync',\n",
       "   'PromotionTier': 1},\n",
       "  {'DBInstanceIdentifier': 'kg-neptune-instance-2',\n",
       "   'IsClusterWriter': False,\n",
       "   'DBClusterParameterGroupStatus': 'in-sync',\n",
       "   'PromotionTier': 1},\n",
       "  {'DBInstanceIdentifier': 'kg-neptune-instance-1',\n",
       "   'IsClusterWriter': True,\n",
       "   'DBClusterParameterGroupStatus': 'in-sync',\n",
       "   'PromotionTier': 1}],\n",
       " 'VpcSecurityGroups': [{'VpcSecurityGroupId': 'sg-dc24d3db',\n",
       "   'Status': 'active'}],\n",
       " 'HostedZoneId': 'ZUFXD4SLT2LS7',\n",
       " 'StorageEncrypted': False,\n",
       " 'DbClusterResourceId': 'cluster-TW3ECHDRCDH4RVI4CDRZFG3OYI',\n",
       " 'DBClusterArn': 'arn:aws:rds:us-east-1:093729152554:cluster:kg-neptune',\n",
       " 'AssociatedRoles': [],\n",
       " 'IAMDatabaseAuthenticationEnabled': False,\n",
       " 'ClusterCreateTime': datetime.datetime(2021, 9, 15, 11, 4, 29, 47000, tzinfo=tzlocal()),\n",
       " 'CopyTagsToSnapshot': False,\n",
       " 'DeletionProtection': False,\n",
       " 'CrossAccountClone': False}"
      ]
     },
     "execution_count": 8,
     "metadata": {},
     "output_type": "execute_result"
    }
   ],
   "source": [
    "get_or_create_db_cluster('kg-neptune')"
   ]
  },
  {
   "cell_type": "code",
   "execution_count": 30,
   "metadata": {},
   "outputs": [
    {
     "name": "stdout",
     "output_type": "stream",
     "text": [
      "Neptune Cluster kg-neptune-3 does not exist.\n",
      "Trying to create a Neptune Cluster with identifier kg-neptune-3\n",
      "Cluster kg-neptune-3 is still in status creating\n",
      "Cluster kg-neptune-3 is still in status creating\n",
      "Cluster kg-neptune-3 is now in state 'available'\n"
     ]
    }
   ],
   "source": [
    "import time\n",
    "db_cluster = get_or_create_db_cluster(db_cluster_identifier)\n",
    "while db_cluster['Status'] == 'creating':\n",
    "    print(f\"Cluster {db_cluster_identifier} is in status \\'creating\\'\")\n",
    "    time.sleep(30) # check status every 30 seconds\n",
    "    db_cluster = get_or_create_db_cluster(db_cluster_identifier)\n",
    "print(f\"Cluster {db_cluster_identifier} is now in state \\'{db_cluster['Status']}\\'\")"
   ]
  },
  {
   "cell_type": "markdown",
   "metadata": {},
   "source": [
    "## 2.Create a Neptune DB instance within the cluster"
   ]
  },
  {
   "cell_type": "code",
   "execution_count": 12,
   "metadata": {},
   "outputs": [],
   "source": [
    "db_cluster_identifier = 'kg-neptune'"
   ]
  },
  {
   "cell_type": "code",
   "execution_count": 14,
   "metadata": {},
   "outputs": [
    {
     "data": {
      "text/plain": [
       "{'DBInstanceIdentifier': 'kg-neptune-instance-1',\n",
       " 'DBInstanceClass': 'db.t3.medium',\n",
       " 'Engine': 'neptune',\n",
       " 'DBInstanceStatus': 'available',\n",
       " 'MasterUsername': 'admin',\n",
       " 'Endpoint': {'Address': 'kg-neptune-instance-1.c2ycbhkszo5s.us-east-1.neptune.amazonaws.com',\n",
       "  'Port': 8182,\n",
       "  'HostedZoneId': 'ZUFXD4SLT2LS7'},\n",
       " 'AllocatedStorage': 1,\n",
       " 'InstanceCreateTime': datetime.datetime(2021, 9, 16, 1, 53, 40, 578000, tzinfo=tzlocal()),\n",
       " 'PreferredBackupWindow': '09:47-10:17',\n",
       " 'BackupRetentionPeriod': 1,\n",
       " 'DBSecurityGroups': [],\n",
       " 'VpcSecurityGroups': [{'VpcSecurityGroupId': 'sg-dc24d3db',\n",
       "   'Status': 'active'}],\n",
       " 'DBParameterGroups': [{'DBParameterGroupName': 'default.neptune1',\n",
       "   'ParameterApplyStatus': 'in-sync'}],\n",
       " 'AvailabilityZone': 'us-east-1c',\n",
       " 'DBSubnetGroup': {'DBSubnetGroupName': 'default',\n",
       "  'DBSubnetGroupDescription': 'default',\n",
       "  'VpcId': 'vpc-851683f8',\n",
       "  'SubnetGroupStatus': 'Complete',\n",
       "  'Subnets': [{'SubnetIdentifier': 'subnet-fccf40cd',\n",
       "    'SubnetAvailabilityZone': {'Name': 'us-east-1e'},\n",
       "    'SubnetStatus': 'Active'},\n",
       "   {'SubnetIdentifier': 'subnet-f8676fb5',\n",
       "    'SubnetAvailabilityZone': {'Name': 'us-east-1c'},\n",
       "    'SubnetStatus': 'Active'},\n",
       "   {'SubnetIdentifier': 'subnet-2f611949',\n",
       "    'SubnetAvailabilityZone': {'Name': 'us-east-1a'},\n",
       "    'SubnetStatus': 'Active'},\n",
       "   {'SubnetIdentifier': 'subnet-a0d0e2ae',\n",
       "    'SubnetAvailabilityZone': {'Name': 'us-east-1f'},\n",
       "    'SubnetStatus': 'Active'},\n",
       "   {'SubnetIdentifier': 'subnet-94084eb5',\n",
       "    'SubnetAvailabilityZone': {'Name': 'us-east-1b'},\n",
       "    'SubnetStatus': 'Active'},\n",
       "   {'SubnetIdentifier': 'subnet-2b094c74',\n",
       "    'SubnetAvailabilityZone': {'Name': 'us-east-1d'},\n",
       "    'SubnetStatus': 'Active'}]},\n",
       " 'PreferredMaintenanceWindow': 'thu:06:04-thu:06:34',\n",
       " 'PendingModifiedValues': {},\n",
       " 'MultiAZ': False,\n",
       " 'EngineVersion': '1.0.5.0',\n",
       " 'AutoMinorVersionUpgrade': True,\n",
       " 'ReadReplicaDBInstanceIdentifiers': [],\n",
       " 'LicenseModel': 'amazon-license',\n",
       " 'OptionGroupMemberships': [{'OptionGroupName': 'default:neptune-1-0',\n",
       "   'Status': 'in-sync'}],\n",
       " 'PubliclyAccessible': False,\n",
       " 'StorageType': 'aurora',\n",
       " 'DbInstancePort': 0,\n",
       " 'DBClusterIdentifier': 'kg-neptune',\n",
       " 'StorageEncrypted': False,\n",
       " 'DbiResourceId': 'db-N5OKW2IAXTYF76MRJEE7UQIKLA',\n",
       " 'DomainMemberships': [],\n",
       " 'CopyTagsToSnapshot': False,\n",
       " 'MonitoringInterval': 0,\n",
       " 'PromotionTier': 1,\n",
       " 'DBInstanceArn': 'arn:aws:rds:us-east-1:093729152554:db:kg-neptune-instance-1',\n",
       " 'IAMDatabaseAuthenticationEnabled': False,\n",
       " 'PerformanceInsightsEnabled': False,\n",
       " 'DeletionProtection': False}"
      ]
     },
     "execution_count": 14,
     "metadata": {},
     "output_type": "execute_result"
    }
   ],
   "source": [
    "respones = neptune.describe_db_instances(\n",
    "        Filters=[\n",
    "            {\n",
    "                'Name': 'db-cluster-id',\n",
    "                'Values': [db_cluster_identifier]\n",
    "            },\n",
    "            {\n",
    "                'Name': 'engine',\n",
    "                'Values': ['neptune']\n",
    "            }\n",
    "        ]\n",
    "    )\n",
    "db_instances = respones['DBInstances']\n",
    "db_instances[0]"
   ]
  },
  {
   "cell_type": "code",
   "execution_count": 43,
   "metadata": {},
   "outputs": [],
   "source": [
    "db_instance_identifier = f\"{db_cluster_identifier}-instance-1\"\n",
    "db_instance_class = 'db.t3.medium'"
   ]
  },
  {
   "cell_type": "code",
   "execution_count": 44,
   "metadata": {},
   "outputs": [
    {
     "name": "stdout",
     "output_type": "stream",
     "text": [
      "An error occurred (DBInstanceNotFound) when calling the DescribeDBInstances operation: DBInstance kg-neptune-instance-2 not found.\n",
      "Trying to create a Neptune DB instance with identifier kg-neptune-instance-2\n",
      "{'DBInstanceIdentifier': 'kg-neptune-instance-2', 'DBInstanceClass': 'db.t3.medium', 'Engine': 'neptune', 'DBInstanceStatus': 'creating', 'MasterUsername': 'admin', 'AllocatedStorage': 1, 'PreferredBackupWindow': '09:47-10:17', 'BackupRetentionPeriod': 1, 'DBSecurityGroups': [], 'VpcSecurityGroups': [{'VpcSecurityGroupId': 'sg-dc24d3db', 'Status': 'active'}], 'DBParameterGroups': [{'DBParameterGroupName': 'default.neptune1', 'ParameterApplyStatus': 'in-sync'}], 'DBSubnetGroup': {'DBSubnetGroupName': 'default', 'DBSubnetGroupDescription': 'default', 'VpcId': 'vpc-851683f8', 'SubnetGroupStatus': 'Complete', 'Subnets': [{'SubnetIdentifier': 'subnet-fccf40cd', 'SubnetAvailabilityZone': {'Name': 'us-east-1e'}, 'SubnetStatus': 'Active'}, {'SubnetIdentifier': 'subnet-f8676fb5', 'SubnetAvailabilityZone': {'Name': 'us-east-1c'}, 'SubnetStatus': 'Active'}, {'SubnetIdentifier': 'subnet-2f611949', 'SubnetAvailabilityZone': {'Name': 'us-east-1a'}, 'SubnetStatus': 'Active'}, {'SubnetIdentifier': 'subnet-a0d0e2ae', 'SubnetAvailabilityZone': {'Name': 'us-east-1f'}, 'SubnetStatus': 'Active'}, {'SubnetIdentifier': 'subnet-94084eb5', 'SubnetAvailabilityZone': {'Name': 'us-east-1b'}, 'SubnetStatus': 'Active'}, {'SubnetIdentifier': 'subnet-2b094c74', 'SubnetAvailabilityZone': {'Name': 'us-east-1d'}, 'SubnetStatus': 'Active'}]}, 'PreferredMaintenanceWindow': 'thu:05:41-thu:06:11', 'PendingModifiedValues': {}, 'MultiAZ': False, 'EngineVersion': '1.0.5.0', 'AutoMinorVersionUpgrade': True, 'ReadReplicaDBInstanceIdentifiers': [], 'LicenseModel': 'amazon-license', 'OptionGroupMemberships': [{'OptionGroupName': 'default:neptune-1-0', 'Status': 'in-sync'}], 'PubliclyAccessible': False, 'StorageType': 'aurora', 'DbInstancePort': 0, 'DBClusterIdentifier': 'kg-neptune', 'StorageEncrypted': False, 'DbiResourceId': 'db-DLBPH3IE4QKVWPYOOU75W6Q4ZY', 'CACertificateIdentifier': 'rds-ca-2019', 'DomainMemberships': [], 'CopyTagsToSnapshot': False, 'MonitoringInterval': 0, 'PromotionTier': 1, 'DBInstanceArn': 'arn:aws:rds:us-east-1:093729152554:db:kg-neptune-instance-2', 'IAMDatabaseAuthenticationEnabled': False, 'PerformanceInsightsEnabled': False, 'DeletionProtection': False}\n"
     ]
    }
   ],
   "source": [
    "try:\n",
    "    response = neptune.describe_db_instances(DBInstanceIdentifier=db_instance_identifier)\n",
    "    db_instance = response['DBInstances'][0]\n",
    "except ClientError as e:\n",
    "    print(e)\n",
    "    print(f\"Trying to create a Neptune DB instance with identifier {db_instance_identifier}\")\n",
    "    response = neptune.create_db_instance(\n",
    "        DBInstanceIdentifier=db_instance_identifier,\n",
    "        DBInstanceClass=db_instance_class,\n",
    "        Engine='neptune',\n",
    "        DBClusterIdentifier=db_cluster_identifier,\n",
    "    )\n",
    "    db_instance = response['DBInstance']\n",
    "print(db_instance)"
   ]
  },
  {
   "cell_type": "markdown",
   "metadata": {},
   "source": [
    "Extract **VpcId** from DB instance response:"
   ]
  },
  {
   "cell_type": "code",
   "execution_count": 9,
   "metadata": {},
   "outputs": [],
   "source": [
    "vpc_id = response['DBInstances'][0]['DBSubnetGroup']['VpcId']"
   ]
  },
  {
   "cell_type": "markdown",
   "metadata": {},
   "source": [
    "### Test function"
   ]
  },
  {
   "cell_type": "code",
   "execution_count": 32,
   "metadata": {},
   "outputs": [],
   "source": [
    "def get_or_create_db_instance(db_cluster_identifier, db_instance_suffix, db_instance_class):\n",
    "    neptune = boto3.client('neptune')\n",
    "    db_instance_identifier = f\"{db_cluster_identifier}-{db_instance_suffix}\"\n",
    "    try:\n",
    "        response = neptune.describe_db_instances(DBInstanceIdentifier=db_instance_identifier)\n",
    "        db_instance = response['DBInstances'][0]\n",
    "    except ClientError as e:\n",
    "        if e.response[\"Error\"][\"Code\"] != 'DBInstanceNotFound':\n",
    "            raise e\n",
    "        print(f\"Trying to create a Neptune DB instance with identifier {db_instance_identifier}\")\n",
    "        response = neptune.create_db_instance(\n",
    "            DBInstanceIdentifier=db_instance_identifier,\n",
    "            DBInstanceClass=db_instance_class,\n",
    "            Engine='neptune',\n",
    "            DBClusterIdentifier=db_cluster_identifier,\n",
    "        )\n",
    "        db_instance = response['DBInstance']\n",
    "    return db_instance"
   ]
  },
  {
   "cell_type": "code",
   "execution_count": 33,
   "metadata": {},
   "outputs": [],
   "source": [
    "db_instance_suffix = 'instance-1'\n",
    "db_instance_class = 'db.t3.medium'"
   ]
  },
  {
   "cell_type": "code",
   "execution_count": null,
   "metadata": {},
   "outputs": [],
   "source": [
    "db_instance = get_or_create_db_instance(db_cluster_identifier, db_instance_suffix, db_instance_class)\n",
    "while db_instance['DBInstanceStatus'] == 'creating':\n",
    "    print(f\"Instance {db_cluster_identifier}-{db_instance_suffix} is in status \\'creating\\'\")\n",
    "    time.sleep(30) # check status every 30 seconds\n",
    "    db_instance = get_or_create_db_instance(db_cluster_identifier, db_instance_suffix, db_instance_class)\n",
    "print(f\"Instance {db_cluster_identifier}-{db_instance_suffix} is now in status \\'{db_instance['DBInstanceStatus']}\\'\")"
   ]
  },
  {
   "cell_type": "code",
   "execution_count": 35,
   "metadata": {},
   "outputs": [
    {
     "data": {
      "text/plain": [
       "{'DBInstanceIdentifier': 'kg-neptune-3-instance-1',\n",
       " 'DBInstanceClass': 'db.t3.medium',\n",
       " 'Engine': 'neptune',\n",
       " 'DBInstanceStatus': 'creating',\n",
       " 'MasterUsername': 'admin',\n",
       " 'AllocatedStorage': 1,\n",
       " 'PreferredBackupWindow': '09:18-09:48',\n",
       " 'BackupRetentionPeriod': 1,\n",
       " 'DBSecurityGroups': [],\n",
       " 'VpcSecurityGroups': [{'VpcSecurityGroupId': 'sg-dc24d3db',\n",
       "   'Status': 'active'}],\n",
       " 'DBParameterGroups': [{'DBParameterGroupName': 'default.neptune1',\n",
       "   'ParameterApplyStatus': 'in-sync'}],\n",
       " 'DBSubnetGroup': {'DBSubnetGroupName': 'default',\n",
       "  'DBSubnetGroupDescription': 'default',\n",
       "  'VpcId': 'vpc-851683f8',\n",
       "  'SubnetGroupStatus': 'Complete',\n",
       "  'Subnets': [{'SubnetIdentifier': 'subnet-fccf40cd',\n",
       "    'SubnetAvailabilityZone': {'Name': 'us-east-1e'},\n",
       "    'SubnetStatus': 'Active'},\n",
       "   {'SubnetIdentifier': 'subnet-f8676fb5',\n",
       "    'SubnetAvailabilityZone': {'Name': 'us-east-1c'},\n",
       "    'SubnetStatus': 'Active'},\n",
       "   {'SubnetIdentifier': 'subnet-2f611949',\n",
       "    'SubnetAvailabilityZone': {'Name': 'us-east-1a'},\n",
       "    'SubnetStatus': 'Active'},\n",
       "   {'SubnetIdentifier': 'subnet-a0d0e2ae',\n",
       "    'SubnetAvailabilityZone': {'Name': 'us-east-1f'},\n",
       "    'SubnetStatus': 'Active'},\n",
       "   {'SubnetIdentifier': 'subnet-94084eb5',\n",
       "    'SubnetAvailabilityZone': {'Name': 'us-east-1b'},\n",
       "    'SubnetStatus': 'Active'},\n",
       "   {'SubnetIdentifier': 'subnet-2b094c74',\n",
       "    'SubnetAvailabilityZone': {'Name': 'us-east-1d'},\n",
       "    'SubnetStatus': 'Active'}]},\n",
       " 'PreferredMaintenanceWindow': 'fri:07:59-fri:08:29',\n",
       " 'PendingModifiedValues': {},\n",
       " 'MultiAZ': False,\n",
       " 'EngineVersion': '1.0.5.0',\n",
       " 'AutoMinorVersionUpgrade': True,\n",
       " 'ReadReplicaDBInstanceIdentifiers': [],\n",
       " 'LicenseModel': 'amazon-license',\n",
       " 'OptionGroupMemberships': [{'OptionGroupName': 'default:neptune-1-0',\n",
       "   'Status': 'in-sync'}],\n",
       " 'PubliclyAccessible': False,\n",
       " 'StorageType': 'aurora',\n",
       " 'DbInstancePort': 0,\n",
       " 'DBClusterIdentifier': 'kg-neptune-3',\n",
       " 'StorageEncrypted': False,\n",
       " 'DbiResourceId': 'db-GSSEA3RBKTZXEYUKXBGXTU7AJ4',\n",
       " 'CACertificateIdentifier': 'rds-ca-2019',\n",
       " 'DomainMemberships': [],\n",
       " 'CopyTagsToSnapshot': False,\n",
       " 'MonitoringInterval': 0,\n",
       " 'PromotionTier': 1,\n",
       " 'DBInstanceArn': 'arn:aws:rds:us-east-1:093729152554:db:kg-neptune-3-instance-1',\n",
       " 'IAMDatabaseAuthenticationEnabled': False,\n",
       " 'PerformanceInsightsEnabled': False,\n",
       " 'DeletionProtection': False}"
      ]
     },
     "execution_count": 35,
     "metadata": {},
     "output_type": "execute_result"
    }
   ],
   "source": [
    "db_instance"
   ]
  },
  {
   "cell_type": "markdown",
   "metadata": {},
   "source": [
    "## 3. Create an IAM role to allow Neptune access S3 bucket\n",
    "\n",
    "Read this to get further details: [Prerequisites: IAM Role and Amazon S3 Access](https://docs.aws.amazon.com/neptune/latest/userguide/bulk-load-tutorial-IAM.html). </br>\n",
    "Docs for boto3 IAM API: [IAM](https://boto3.amazonaws.com/v1/documentation/api/latest/reference/services/iam.html)"
   ]
  },
  {
   "cell_type": "code",
   "execution_count": 10,
   "metadata": {},
   "outputs": [],
   "source": [
    "iam = boto3.client(\"iam\")\n",
    "iam_role_name = 'NeptuneLoadFromS3'"
   ]
  },
  {
   "cell_type": "code",
   "execution_count": 18,
   "metadata": {},
   "outputs": [
    {
     "name": "stdout",
     "output_type": "stream",
     "text": [
      "Role already exists\n",
      "{'Role': {'Path': '/', 'RoleName': 'NeptuneLoadFromS3', 'RoleId': 'AROARLUVRLYVCD5OPEFC7', 'Arn': 'arn:aws:iam::093729152554:role/NeptuneLoadFromS3', 'CreateDate': datetime.datetime(2021, 6, 17, 7, 31, 51, tzinfo=tzlocal()), 'AssumeRolePolicyDocument': {'Version': '2012-10-17', 'Statement': [{'Sid': '', 'Effect': 'Allow', 'Principal': {'Service': 'rds.amazonaws.com'}, 'Action': 'sts:AssumeRole'}]}, 'Description': 'Allows S3 to call AWS services on your behalf.', 'MaxSessionDuration': 3600, 'RoleLastUsed': {'LastUsedDate': datetime.datetime(2021, 8, 3, 8, 53, 3, tzinfo=tzlocal()), 'Region': 'us-east-1'}}, 'ResponseMetadata': {'RequestId': 'c2351ba6-11ac-40bf-bb1d-16dcac159207', 'HTTPStatusCode': 200, 'HTTPHeaders': {'x-amzn-requestid': 'c2351ba6-11ac-40bf-bb1d-16dcac159207', 'content-type': 'text/xml', 'content-length': '1035', 'date': 'Thu, 16 Sep 2021 06:02:01 GMT'}, 'RetryAttempts': 0}}\n"
     ]
    }
   ],
   "source": [
    "import json\n",
    "\n",
    "s3_read_only_policy_arn = 'arn:aws:iam::aws:policy/AmazonS3ReadOnlyAccess'\n",
    "\n",
    "assume_role_policy_doc = {\n",
    "    \"Version\": \"2012-10-17\",\n",
    "    \"Statement\": [\n",
    "        {\n",
    "            \"Sid\": \"\",\n",
    "            \"Effect\": \"Allow\", \n",
    "            \"Principal\": {\n",
    "                \"Service\": [\n",
    "                  \"rds.amazonaws.com\"\n",
    "                ]\n",
    "              },\n",
    "            \"Action\": \"sts:AssumeRole\"\n",
    "        }\n",
    "    ],\n",
    "}\n",
    "\n",
    "try:\n",
    "    iam_role_loadfroms3 = iam.create_role(\n",
    "        RoleName=iam_role_name,\n",
    "        AssumeRolePolicyDocument=json.dumps(assume_role_policy_doc),\n",
    "        Description=\"Allow Amazon Neptune to Access Amazon S3 Resources\",\n",
    "    )\n",
    "    # attach s3 read only policy\n",
    "    response = iam.attach_role_policy(\n",
    "        RoleName=iam_role_name,\n",
    "        PolicyArn=s3_read_only_policy_arn\n",
    "    )\n",
    "    print('Role:\\n', iam_role_loadfroms3)\n",
    "    print('Attach Policy Response:\\n', response)\n",
    "except ClientError as e:\n",
    "    if e.response[\"Error\"][\"Code\"] == \"EntityAlreadyExists\":\n",
    "        print(\"Role already exists\")\n",
    "        iam_role_loadfroms3 = iam.get_role(\n",
    "            RoleName=iam_role_name\n",
    "        )\n",
    "        print(iam_role_loadfroms3)\n",
    "    else:\n",
    "        print(\"Unexpected error: %s\" % e)"
   ]
  },
  {
   "cell_type": "markdown",
   "metadata": {},
   "source": [
    "## 4. Creating an Amazon S3 VPC Endpoint \n",
    "\n",
    "The Neptune loader requires a VPC endpoint for Amazon S3. An s3 endpoint allows other AWS services to access s3 without leaving Amazon network.\n",
    "\n",
    "Here we check whether a VPC endpoints already exists for S3 service in the given VPC. We create one only if there is no VPC exists. \n",
    "\n",
    "Docs for EC2 boto3 API: [EC2](https://boto3.amazonaws.com/v1/documentation/api/latest/reference/services/ec2.html)"
   ]
  },
  {
   "cell_type": "code",
   "execution_count": 12,
   "metadata": {},
   "outputs": [],
   "source": [
    "ec2 = boto3.client('ec2')"
   ]
  },
  {
   "cell_type": "code",
   "execution_count": 34,
   "metadata": {},
   "outputs": [],
   "source": [
    "s3_service_name = f\"com.amazonaws.{db_cluster_region}.s3\""
   ]
  },
  {
   "cell_type": "markdown",
   "metadata": {},
   "source": [
    "`VpcId` is defined in [section 2](#2.Create-a-Neptune-DB-instance-within-the-cluster)."
   ]
  },
  {
   "cell_type": "code",
   "execution_count": 14,
   "metadata": {},
   "outputs": [
    {
     "name": "stdout",
     "output_type": "stream",
     "text": [
      "There exists 3 S3 endpoints in VPC vpc-851683f8:\n"
     ]
    },
    {
     "data": {
      "text/plain": [
       "[{'VpcEndpointId': 'vpce-097a269924ed1df04',\n",
       "  'VpcEndpointType': 'Gateway',\n",
       "  'VpcId': 'vpc-851683f8',\n",
       "  'ServiceName': 'com.amazonaws.us-east-1.s3',\n",
       "  'State': 'available',\n",
       "  'PolicyDocument': '{\"Version\":\"2008-10-17\",\"Statement\":[{\"Effect\":\"Allow\",\"Principal\":\"*\",\"Action\":\"*\",\"Resource\":\"*\"}]}',\n",
       "  'RouteTableIds': [],\n",
       "  'SubnetIds': [],\n",
       "  'Groups': [],\n",
       "  'PrivateDnsEnabled': False,\n",
       "  'RequesterManaged': False,\n",
       "  'NetworkInterfaceIds': [],\n",
       "  'DnsEntries': [],\n",
       "  'CreationTimestamp': datetime.datetime(2021, 6, 17, 7, 37, 44, tzinfo=tzlocal()),\n",
       "  'Tags': [],\n",
       "  'OwnerId': '093729152554'},\n",
       " {'VpcEndpointId': 'vpce-0b804e31709c7d3f2',\n",
       "  'VpcEndpointType': 'Gateway',\n",
       "  'VpcId': 'vpc-851683f8',\n",
       "  'ServiceName': 'com.amazonaws.us-east-1.s3',\n",
       "  'State': 'available',\n",
       "  'PolicyDocument': '{\"Version\":\"2008-10-17\",\"Statement\":[{\"Effect\":\"Allow\",\"Principal\":\"*\",\"Action\":\"*\",\"Resource\":\"*\"}]}',\n",
       "  'RouteTableIds': ['rtb-1246556c'],\n",
       "  'SubnetIds': [],\n",
       "  'Groups': [],\n",
       "  'PrivateDnsEnabled': False,\n",
       "  'RequesterManaged': False,\n",
       "  'NetworkInterfaceIds': [],\n",
       "  'DnsEntries': [],\n",
       "  'CreationTimestamp': datetime.datetime(2021, 6, 21, 5, 17, 5, tzinfo=tzlocal()),\n",
       "  'Tags': [],\n",
       "  'OwnerId': '093729152554'},\n",
       " {'VpcEndpointId': 'vpce-0694552e90f4263fb',\n",
       "  'VpcEndpointType': 'Gateway',\n",
       "  'VpcId': 'vpc-851683f8',\n",
       "  'ServiceName': 'com.amazonaws.us-east-1.s3',\n",
       "  'State': 'available',\n",
       "  'PolicyDocument': '{\"Version\":\"2008-10-17\",\"Statement\":[{\"Effect\":\"Allow\",\"Principal\":\"*\",\"Action\":\"*\",\"Resource\":\"*\"}]}',\n",
       "  'RouteTableIds': [],\n",
       "  'SubnetIds': [],\n",
       "  'Groups': [],\n",
       "  'PrivateDnsEnabled': False,\n",
       "  'RequesterManaged': False,\n",
       "  'NetworkInterfaceIds': [],\n",
       "  'DnsEntries': [],\n",
       "  'CreationTimestamp': datetime.datetime(2021, 9, 16, 3, 29, 10, tzinfo=tzlocal()),\n",
       "  'Tags': [],\n",
       "  'OwnerId': '093729152554'}]"
      ]
     },
     "execution_count": 14,
     "metadata": {},
     "output_type": "execute_result"
    }
   ],
   "source": [
    "# Check endpoints existence\n",
    "response = ec2.describe_vpc_endpoints(\n",
    "    Filters=[\n",
    "        {\n",
    "            'Name': 'service-name',\n",
    "            'Values': [s3_service_name]\n",
    "        },\n",
    "        {\n",
    "            'Name': 'vpc-id',\n",
    "            'Values': [vpc_id]\n",
    "        },\n",
    "        {\n",
    "            'Name': 'vpc-endpoint-type',\n",
    "            'Values': ['Gateway']\n",
    "        }\n",
    "    ]\n",
    ")\n",
    "print(f\"There exists {len(response['VpcEndpoints'])} S3 endpoints in VPC {vpc_id}:\")\n",
    "response['VpcEndpoints']"
   ]
  },
  {
   "cell_type": "code",
   "execution_count": 15,
   "metadata": {},
   "outputs": [],
   "source": [
    "if len(response['VpcEndpoints']) > 0:\n",
    "    vpc_endpoint_id = response['VpcEndpoints'][0]['VpcEndpointId']\n",
    "else:\n",
    "    print('Trying to create an VPC endpoint ID:')\n",
    "    response = ec2.create_vpc_endpoint(\n",
    "        VpcEndpointType='Gateway',\n",
    "        VpcId=vpc_id,\n",
    "        ServiceName=s3_service_name,\n",
    "    )\n",
    "    vpc_endpoint_id = response['VpcEndpoint']['VpcEndpointId']\n",
    "    response"
   ]
  },
  {
   "cell_type": "code",
   "execution_count": 16,
   "metadata": {},
   "outputs": [
    {
     "name": "stdout",
     "output_type": "stream",
     "text": [
      "S3 VPC Endpoint ID: vpce-097a269924ed1df04\n"
     ]
    }
   ],
   "source": [
    "print(f\"S3 VPC Endpoint ID: {vpc_endpoint_id}\")"
   ]
  },
  {
   "cell_type": "markdown",
   "metadata": {},
   "source": [
    "## 5. Bulkload\n",
    "\n",
    "Amazon Neptune uses a cluster of DB instances rather than a single instance. Each Neptune connection is handled by a specific DB instance. When you connect to a Neptune cluster, the host name and port that you specify point to an intermediate handler called an *endpoint*. An endpoint is a URL that contains a host address and a port. [[src]](https://docs.aws.amazon.com/neptune/latest/userguide/feature-overview-endpoints.html)\n",
    "\n",
    "Learn more about connection to Neptune DB: [Connecting to Amazon Neptune Endpoints](https://docs.aws.amazon.com/neptune/latest/userguide/feature-overview-endpoints.html)"
   ]
  },
  {
   "cell_type": "code",
   "execution_count": 28,
   "metadata": {},
   "outputs": [],
   "source": [
    "bucket = 'sm-nlp-data'\n",
    "save_prefix = 'ie-baseline/outputs'"
   ]
  },
  {
   "cell_type": "code",
   "execution_count": 29,
   "metadata": {},
   "outputs": [],
   "source": [
    "load_script = f\"\"\"curl -X POST \\\n",
    "    -H 'Content-Type: application/json' \\\n",
    "    https://{db_cluster_endpoint}:{db_cluster_port}/loader -d \"\n",
    "    {{\n",
    "      'source' : 's3://{bucket}/{save_prefix}/',\n",
    "      'format' : 'csv',\n",
    "      'iamRoleArn' : '{iam_role_loadfroms3['Role']['Arn']}',\n",
    "      'region' : '{db_cluster_region}',\n",
    "      'failOnError' : 'FALSE',\n",
    "      'parallelism' : 'MEDIUM',\n",
    "      'updateSingleCardinalityProperties' : 'FALSE',\n",
    "      'queueRequest' : 'TRUE',\n",
    "      'dependencies' : []\n",
    "    }}\"\n",
    "    \"\"\""
   ]
  },
  {
   "cell_type": "code",
   "execution_count": 33,
   "metadata": {},
   "outputs": [
    {
     "data": {
      "text/plain": [
       "CompletedProcess(args='curl -X POST     -H \\'Content-Type: application/json\\'     https://kg-neptune.cluster-c2ycbhkszo5s.us-east-1.neptune.amazonaws.com:8182/loader -d \"\\n    {\\n      \\'source\\' : \\'s3://sm-nlp-data/ie-baseline/outputs/\\',\\n      \\'format\\' : \\'csv\\',\\n      \\'iamRoleArn\\' : \\'arn:aws:iam::093729152554:role/NeptuneLoadFromS3\\',\\n      \\'region\\' : \\'us-east-1\\',\\n      \\'failOnError\\' : \\'FALSE\\',\\n      \\'parallelism\\' : \\'MEDIUM\\',\\n      \\'updateSingleCardinalityProperties\\' : \\'FALSE\\',\\n      \\'queueRequest\\' : \\'TRUE\\',\\n      \\'dependencies\\' : []\\n    }\"\\n    ', returncode=7)"
      ]
     },
     "execution_count": 33,
     "metadata": {},
     "output_type": "execute_result"
    }
   ],
   "source": [
    "import subprocess\n",
    "\n",
    "subprocess.run(load_script, shell=True)"
   ]
  },
  {
   "cell_type": "code",
   "execution_count": null,
   "metadata": {},
   "outputs": [],
   "source": []
  }
 ],
 "metadata": {
  "instance_type": "ml.g4dn.xlarge",
  "kernelspec": {
   "display_name": "Python 3 (PyTorch 1.6 Python 3.6 GPU Optimized)",
   "language": "python",
   "name": "python3__SAGEMAKER_INTERNAL__arn:aws:sagemaker:us-east-1:081325390199:image/pytorch-1.6-gpu-py36-cu110-ubuntu18.04-v3"
  },
  "language_info": {
   "codemirror_mode": {
    "name": "ipython",
    "version": 3
   },
   "file_extension": ".py",
   "mimetype": "text/x-python",
   "name": "python",
   "nbconvert_exporter": "python",
   "pygments_lexer": "ipython3",
   "version": "3.6.13"
  }
 },
 "nbformat": 4,
 "nbformat_minor": 4
}
