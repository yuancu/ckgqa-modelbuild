{
 "cells": [
  {
   "cell_type": "markdown",
   "metadata": {},
   "source": [
    "# Telegram Chatbot Backed by KGQA with Lambda and API Gateway\n",
    "\n",
    "References:\n",
    "- [Building Your First Serverless Telegram Bot with AWS Lambda](https://iamondemand.com/blog/building-your-first-serverless-telegram-bot/)\n",
    "- [github:lesterchan/telegram-bot ](https://github.com/lesterchan/telegram-bot)\n",
    "- [Simple Telegram Bot with Python and AWS Lambda](https://levelup.gitconnected.com/simple-telegram-bot-with-python-and-aws-lambda-5eab1066b466)\n",
    "- [API GatewayとLambda(Python)でLINE BOT(Messaging API)開発](https://qiita.com/w2or3w/items/1b80bfbae59fe19e2015)\n",
    "- [API Gateway + LambdaでLINE Bot開発](https://xp-cloud.jp/blog/2019/06/24/5560/)\n",
    "- [Serverless github bot with AWS Lambda and API Gateway](https://kalinchernev.github.io/serverless-github-bot-aws-lambda-api-gateway-nodejs)\n",
    "- [Writing a Serverless Slack Bot](https://messagemedia.com/au/blog/writing-a-serverless-slack-bot/)\n",
    "- [Build Chatbots using Serverless Bot Framework with Salesforce Integration](https://aws.amazon.com/blogs/architecture/build-chatbots-using-serverless-bot-framework-with-salesforce-integration/)\n",
    "- [How to Deploy a Telegram Bot with Flask, pyTelegramBotAPI, Gunicorn and PostgreSQL to Heroku](https://medium.com/tech-insights/how-to-deploy-a-telegram-bot-with-flask-pytelegrambotapi-gunicorn-and-postgresql-to-heroku-19d87959a65)\n",
    "- [I built a serverless Telegram bot over the weekend. Here’s what I learned.](https://www.freecodecamp.org/news/how-to-build-a-server-less-telegram-bot-227f842f4706/)"
   ]
  },
  {
   "cell_type": "markdown",
   "metadata": {},
   "source": [
    "## Part 1: End-to-end Invocation\n",
    "\n",
    "We write codes of converting a question to an answer"
   ]
  },
  {
   "cell_type": "code",
   "execution_count": null,
   "metadata": {},
   "outputs": [],
   "source": []
  }
 ],
 "metadata": {
  "instance_type": "ml.t3.medium",
  "kernelspec": {
   "display_name": "Python 3 (Data Science)",
   "language": "python",
   "name": "python3__SAGEMAKER_INTERNAL__arn:aws:sagemaker:us-east-1:081325390199:image/datascience-1.0"
  },
  "language_info": {
   "codemirror_mode": {
    "name": "ipython",
    "version": 3
   },
   "file_extension": ".py",
   "mimetype": "text/x-python",
   "name": "python",
   "nbconvert_exporter": "python",
   "pygments_lexer": "ipython3",
   "version": "3.7.10"
  }
 },
 "nbformat": 4,
 "nbformat_minor": 4
}
