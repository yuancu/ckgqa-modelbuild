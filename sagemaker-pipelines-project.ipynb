{
 "cells": [
  {
   "cell_type": "markdown",
   "metadata": {},
   "source": [
    "# Orchestrating Jobs, Model Registration, and Continuous Deployment with Amazon SageMaker\n",
    "\n",
    "Amazon SageMaker offers Machine Learning application developers and Machine Learning operations engineers the ability to orchestrate SageMaker jobs and author reproducible Machine Learning pipelines, deploy custom-build models for inference in real-time with low latency or offline inferences with Batch Transform, and track lineage of artifacts. You can institute sound operational practices in deploying and monitoring production workflows, deployment of model artifacts, and track artifact lineage through a simple interface, adhering to safety and best-practice paradigmsfor Machine Learning application development.\n",
    "\n",
    "The SageMaker Pipelines service supports a SageMaker Machine Learning Pipeline Domain Specific Language (DSL), which is a declarative Json specification. This DSL defines a Directed Acyclic Graph (DAG) of pipeline parameters and SageMaker job steps. The SageMaker Python Software Developer Kit (SDK) streamlines the generation of the pipeline DSL using constructs that are already familiar to engineers and scientists alike.\n",
    "\n",
    "The SageMaker Model Registry is where trained models are stored, versioned, and managed. Data Scientists and Machine Learning Engineers can compare model versions, approve models for deployment, and deploy models from different AWS accounts, all from a single Model Registry. SageMaker enables customers to follow the best practices with ML Ops and getting started right. Customers are able to standup a full ML Ops end-to-end system with a single API call."
   ]
  },
  {
   "cell_type": "markdown",
   "metadata": {},
   "source": [
    "## SageMaker Pipelines\n",
    "\n",
    "Amazon SageMaker Pipelines support the following activites:\n",
    "\n",
    "* Pipelines - A Directed Acyclic Graph of steps and conditions to orchestrate SageMaker jobs and resource creation.\n",
    "* Processing Job steps - A simplified, managed experience on SageMaker to run data processing workloads, such as feature engineering, data validation, model evaluation, and model interpretation.\n",
    "* Training Job steps - An iterative process that teaches a model to make predictions by presenting examples from a training dataset.\n",
    "* Conditional step execution - Provides conditional execution of branches in a pipeline.\n",
    "* Registering Models - Creates a model package resource in the Model Registry that can be used to create deployable models in Amazon SageMaker.\n",
    "* Creating Model steps - Create a model for use in transform steps or later publication as an endpoint.\n",
    "* Parameterized Pipeline executions - Allows pipeline executions to vary by supplied parameters.\n",
    "* Transform Job steps - A batch transform to preprocess datasets to remove noise or bias that interferes with training or inference from your dataset, get inferences from large datasets, and run inference when you don't need a persistent endpoint."
   ]
  },
  {
   "cell_type": "markdown",
   "metadata": {},
   "source": [
    "## Layout of the SageMaker ModelBuild Project Template\n",
    "\n",
    "The template provides a starting point for bringing your SageMaker Pipeline development to production.\n",
    "\n",
    "```\n",
    "|-- codebuild-buildspec.yml\n",
    "|-- CONTRIBUTING.md\n",
    "|-- pipelines\n",
    "|   |-- abalone\n",
    "|   |   |-- evaluate.py\n",
    "|   |   |-- __init__.py\n",
    "|   |   |-- pipeline.py\n",
    "|   |   `-- preprocess.py\n",
    "|   |-- get_pipeline_definition.py\n",
    "|   |-- __init__.py\n",
    "|   |-- run_pipeline.py\n",
    "|   |-- _utils.py\n",
    "|   `-- __version__.py\n",
    "|-- README.md\n",
    "|-- sagemaker-pipelines-project.ipynb\n",
    "|-- setup.cfg\n",
    "|-- setup.py\n",
    "|-- tests\n",
    "|   `-- test_pipelines.py\n",
    "`-- tox.ini\n",
    "```"
   ]
  },
  {
   "cell_type": "markdown",
   "metadata": {},
   "source": [
    "A description of some of the artifacts is provided below:\n",
    "<br/><br/>\n",
    "Your codebuild execution instructions:\n",
    "```\n",
    "|-- codebuild-buildspec.yml\n",
    "```\n",
    "<br/><br/>\n",
    "Your pipeline artifacts, which includes a pipeline module defining the required `get_pipeline` method that returns an instance of a SageMaker pipeline, a preprocessing script that is used in feature engineering, and a model evaluation script to measure the Mean Squared Error of the model that's trained by the pipeline:\n",
    "\n",
    "```\n",
    "|-- pipelines\n",
    "|   |-- kg\n",
    "|   |   |-- __init__.py\n",
    "|   |   |-- database.py\n",
    "|   |   |-- evaluate.py\n",
    "|   |   |-- inference.py\n",
    "|   |   |-- pipeline.py\n",
    "|   |   |-- preprocess.py\n",
    "|   |   |-- train.py\n",
    "|   |   |-- utils.py\n",
    "\n",
    "```\n",
    "<br/><br/>\n",
    "Utility modules for getting pipeline definition jsons and running pipelines:\n",
    "\n",
    "```\n",
    "|-- pipelines\n",
    "|   |-- get_pipeline_definition.py\n",
    "|   |-- __init__.py\n",
    "|   |-- run_pipeline.py\n",
    "|   |-- _utils.py\n",
    "|   `-- __version__.py\n",
    "```\n",
    "<br/><br/>\n",
    "Python package artifacts:\n",
    "```\n",
    "|-- setup.cfg\n",
    "|-- setup.py\n",
    "```\n",
    "<br/><br/>\n",
    "A stubbed testing module for testing your pipeline as you develop:\n",
    "```\n",
    "|-- tests\n",
    "|   `-- test_pipelines.py\n",
    "```\n",
    "<br/><br/>\n",
    "The `tox` testing framework configuration:\n",
    "```\n",
    "`-- tox.ini\n",
    "```"
   ]
  },
  {
   "cell_type": "markdown",
   "metadata": {},
   "source": [
    "### A SageMaker Pipeline\n",
    "\n",
    "The pipeline that we create follows a typical Machine Learning Application pattern of pre-processing, training, evaluation, and conditional model registration and publication, if the quality of the model is sufficient.\n",
    "\n",
    "![A typical ML Application pipeline](img/pipeline-full.png)\n",
    "\n",
    "### Getting some constants\n",
    "\n",
    "We get some constants from the local execution environment."
   ]
  },
  {
   "cell_type": "code",
   "execution_count": 1,
   "metadata": {},
   "outputs": [
    {
     "name": "stdout",
     "output_type": "stream",
     "text": [
      "Requirement already satisfied: sagemaker in /opt/conda/lib/python3.6/site-packages (2.59.1)\n",
      "Requirement already satisfied: numpy>=1.9.0 in /opt/conda/lib/python3.6/site-packages (from sagemaker) (1.19.1)\n",
      "Requirement already satisfied: google-pasta in /opt/conda/lib/python3.6/site-packages (from sagemaker) (0.2.0)\n",
      "Requirement already satisfied: importlib-metadata>=1.4.0 in /opt/conda/lib/python3.6/site-packages (from sagemaker) (4.4.0)\n",
      "Requirement already satisfied: attrs in /opt/conda/lib/python3.6/site-packages (from sagemaker) (21.2.0)\n",
      "Requirement already satisfied: protobuf>=3.1 in /opt/conda/lib/python3.6/site-packages (from sagemaker) (3.17.1)\n",
      "Requirement already satisfied: boto3>=1.16.32 in /opt/conda/lib/python3.6/site-packages (from sagemaker) (1.17.85)\n",
      "Requirement already satisfied: packaging>=20.0 in /opt/conda/lib/python3.6/site-packages (from sagemaker) (20.9)\n",
      "Requirement already satisfied: pandas in /opt/conda/lib/python3.6/site-packages (from sagemaker) (1.1.5)\n",
      "Requirement already satisfied: smdebug-rulesconfig==1.0.1 in /opt/conda/lib/python3.6/site-packages (from sagemaker) (1.0.1)\n",
      "Requirement already satisfied: protobuf3-to-dict>=0.1.5 in /opt/conda/lib/python3.6/site-packages (from sagemaker) (0.1.5)\n",
      "Requirement already satisfied: pathos in /opt/conda/lib/python3.6/site-packages (from sagemaker) (0.2.7)\n",
      "Requirement already satisfied: jmespath<1.0.0,>=0.7.1 in /opt/conda/lib/python3.6/site-packages (from boto3>=1.16.32->sagemaker) (0.10.0)\n",
      "Requirement already satisfied: botocore<1.21.0,>=1.20.85 in /opt/conda/lib/python3.6/site-packages (from boto3>=1.16.32->sagemaker) (1.20.85)\n",
      "Requirement already satisfied: s3transfer<0.5.0,>=0.4.0 in /opt/conda/lib/python3.6/site-packages (from boto3>=1.16.32->sagemaker) (0.4.2)\n",
      "Requirement already satisfied: urllib3<1.27,>=1.25.4 in /opt/conda/lib/python3.6/site-packages (from botocore<1.21.0,>=1.20.85->boto3>=1.16.32->sagemaker) (1.25.11)\n",
      "Requirement already satisfied: python-dateutil<3.0.0,>=2.1 in /opt/conda/lib/python3.6/site-packages (from botocore<1.21.0,>=1.20.85->boto3>=1.16.32->sagemaker) (2.8.1)\n",
      "Requirement already satisfied: zipp>=0.5 in /opt/conda/lib/python3.6/site-packages (from importlib-metadata>=1.4.0->sagemaker) (3.4.1)\n",
      "Requirement already satisfied: typing-extensions>=3.6.4 in /opt/conda/lib/python3.6/site-packages (from importlib-metadata>=1.4.0->sagemaker) (3.10.0.0)\n",
      "Requirement already satisfied: pyparsing>=2.0.2 in /opt/conda/lib/python3.6/site-packages (from packaging>=20.0->sagemaker) (2.4.7)\n",
      "Requirement already satisfied: six>=1.9 in /opt/conda/lib/python3.6/site-packages (from protobuf>=3.1->sagemaker) (1.16.0)\n",
      "Requirement already satisfied: pytz>=2017.2 in /opt/conda/lib/python3.6/site-packages (from pandas->sagemaker) (2021.1)\n",
      "Requirement already satisfied: dill>=0.3.3 in /opt/conda/lib/python3.6/site-packages (from pathos->sagemaker) (0.3.3)\n",
      "Requirement already satisfied: pox>=0.2.9 in /opt/conda/lib/python3.6/site-packages (from pathos->sagemaker) (0.2.9)\n",
      "Requirement already satisfied: ppft>=1.6.6.3 in /opt/conda/lib/python3.6/site-packages (from pathos->sagemaker) (1.6.6.3)\n",
      "Requirement already satisfied: multiprocess>=0.70.11 in /opt/conda/lib/python3.6/site-packages (from pathos->sagemaker) (0.70.11.1)\n",
      "\u001b[33mWARNING: Running pip as root will break packages and permissions. You should install packages reliably by using venv: https://pip.pypa.io/warnings/venv\u001b[0m\n"
     ]
    }
   ],
   "source": [
    "!pip install -U sagemaker"
   ]
  },
  {
   "cell_type": "markdown",
   "metadata": {},
   "source": [
    "Specify your `default_bucket` or use `sagemaker.session.Session().default_bucket()`."
   ]
  },
  {
   "cell_type": "code",
   "execution_count": 2,
   "metadata": {},
   "outputs": [],
   "source": [
    "import boto3\n",
    "import sagemaker\n",
    "\n",
    "\n",
    "region = boto3.Session().region_name\n",
    "role = sagemaker.get_execution_role()\n",
    "# default_bucket = sagemaker.session.Session().default_bucket()\n",
    "default_bucket = 'sm-nlp-data'"
   ]
  },
  {
   "cell_type": "markdown",
   "metadata": {},
   "source": [
    "### Get the pipeline instance\n",
    "\n",
    "Here we get the pipeline instance from your pipeline module so that we can work with it."
   ]
  },
  {
   "cell_type": "code",
   "execution_count": 3,
   "metadata": {},
   "outputs": [
    {
     "name": "stdout",
     "output_type": "stream",
     "text": [
      "BASE_DIR: /root/ckgqa-p-kiqtyrraeiec/sagemaker-ckgqa-p-kiqtyrraeiec-modelbuild/pipelines/kg\n",
      "SM role ARN: None\n",
      "Step process created!\n",
      "Step train created!\n",
      "Step evaluate created!\n",
      "Step register model created!\n",
      "Step create model created!\n"
     ]
    },
    {
     "name": "stderr",
     "output_type": "stream",
     "text": [
      "The class JsonGet has been renamed in sagemaker>=2.\n",
      "See: https://sagemaker.readthedocs.io/en/stable/v2.html for details.\n"
     ]
    },
    {
     "name": "stdout",
     "output_type": "stream",
     "text": [
      "Step transform created!\n",
      "Step condition created!\n",
      "Pipeline created\n"
     ]
    }
   ],
   "source": [
    "from pipelines.kg.pipeline import get_pipeline\n",
    "\n",
    "\n",
    "pipeline = get_pipeline(\n",
    "    region=region,\n",
    "    role=role,\n",
    "    default_bucket=default_bucket,\n",
    "    model_package_group_name='KGModelPackageGroup',\n",
    "    pipeline_name='KGPipeline',\n",
    ")"
   ]
  },
  {
   "cell_type": "markdown",
   "metadata": {},
   "source": [
    "### Submit the pipeline to SageMaker and start execution\n",
    "\n",
    "Let's submit our pipeline definition to the workflow service. The role passed in will be used by the workflow service to create all the jobs defined in the steps."
   ]
  },
  {
   "cell_type": "code",
   "execution_count": 4,
   "metadata": {},
   "outputs": [
    {
     "name": "stderr",
     "output_type": "stream",
     "text": [
      "No finished training job found associated with this estimator. Please make sure this estimator is only used for building workflow config\n"
     ]
    },
    {
     "data": {
      "text/plain": [
       "{'PipelineArn': 'arn:aws:sagemaker:us-east-1:093729152554:pipeline/kgpipeline1631100651',\n",
       " 'ResponseMetadata': {'RequestId': 'f487bf11-5b46-4ec7-a202-c860eb61aee2',\n",
       "  'HTTPStatusCode': 200,\n",
       "  'HTTPHeaders': {'x-amzn-requestid': 'f487bf11-5b46-4ec7-a202-c860eb61aee2',\n",
       "   'content-type': 'application/x-amz-json-1.1',\n",
       "   'content-length': '88',\n",
       "   'date': 'Wed, 08 Sep 2021 11:31:04 GMT'},\n",
       "  'RetryAttempts': 0}}"
      ]
     },
     "execution_count": 4,
     "metadata": {},
     "output_type": "execute_result"
    }
   ],
   "source": [
    "pipeline.upsert(role_arn=role)"
   ]
  },
  {
   "cell_type": "code",
   "execution_count": 5,
   "metadata": {},
   "outputs": [
    {
     "name": "stderr",
     "output_type": "stream",
     "text": [
      "No finished training job found associated with this estimator. Please make sure this estimator is only used for building workflow config\n"
     ]
    },
    {
     "name": "stdout",
     "output_type": "stream",
     "text": [
      "{'Metadata': {},\n",
      " 'Parameters': [{'DefaultValue': 's3://sm-nlp-data/ie-baseline/raw/DuIE_2_0.zip',\n",
      "                 'Name': 'InputData',\n",
      "                 'Type': 'String'},\n",
      "                {'DefaultValue': 's3://sm-nlp-data/ie-baseline/processed/',\n",
      "                 'Name': 'ProcessingOutputData',\n",
      "                 'Type': 'String'},\n",
      "                {'DefaultValue': 1,\n",
      "                 'Name': 'ProcessingInstanceCount',\n",
      "                 'Type': 'Integer'},\n",
      "                {'DefaultValue': 'ml.c5.2xlarge',\n",
      "                 'Name': 'ProcessingInstanceType',\n",
      "                 'Type': 'String'},\n",
      "                {'DefaultValue': 'ml.g4dn.4xlarge',\n",
      "                 'Name': 'TrainInstanceType',\n",
      "                 'Type': 'String'},\n",
      "                {'DefaultValue': 1,\n",
      "                 'Name': 'TrainInstanceCount',\n",
      "                 'Type': 'Integer'},\n",
      "                {'DefaultValue': '20', 'Name': 'Epochs', 'Type': 'String'},\n",
      "                {'DefaultValue': '0.005',\n",
      "                 'Name': 'LearningRate',\n",
      "                 'Type': 'String'},\n",
      "                {'DefaultValue': '64', 'Name': 'BatchSize', 'Type': 'String'},\n",
      "                {'DefaultValue': 1,\n",
      "                 'Name': 'EvaluationInstanceCount',\n",
      "                 'Type': 'Integer'},\n",
      "                {'DefaultValue': 'ml.c5.2xlarge',\n",
      "                 'Name': 'EvaluationInstanceType',\n",
      "                 'Type': 'String'},\n",
      "                {'DefaultValue': 'transform-model-1631100652',\n",
      "                 'Name': 'TransformModelName',\n",
      "                 'Type': 'String'},\n",
      "                {'DefaultValue': 'ml.c5.4xlarge',\n",
      "                 'Name': 'InferenceInstanceType',\n",
      "                 'Type': 'String'},\n",
      "                {'DefaultValue': 'ml.c5.4xlarge',\n",
      "                 'Name': 'TransformInstanceType',\n",
      "                 'Type': 'String'},\n",
      "                {'DefaultValue': 's3://sm-nlp-data/psudo/psudo.json',\n",
      "                 'Name': 'BatchData',\n",
      "                 'Type': 'String'},\n",
      "                {'DefaultValue': 'PendingManualApproval',\n",
      "                 'Name': 'ModelApprovalStatus',\n",
      "                 'Type': 'String'},\n",
      "                {'DefaultValue': 'ml.m4.xlarge',\n",
      "                 'Name': 'DeployInstanceType',\n",
      "                 'Type': 'String'},\n",
      "                {'DefaultValue': 0.5, 'Name': 'MinF1Value', 'Type': 'Float'}],\n",
      " 'PipelineExperimentConfig': {'ExperimentName': {'Get': 'Execution.PipelineName'},\n",
      "                              'TrialName': {'Get': 'Execution.PipelineExecutionId'}},\n",
      " 'Steps': [{'Arguments': {'AppSpecification': {'ContainerArguments': ['--input-data',\n",
      "                                                                      '/opt/ml/processing/ie/data/raw'],\n",
      "                                               'ContainerEntrypoint': ['python3',\n",
      "                                                                       '/opt/ml/processing/input/code/preprocess.py'],\n",
      "                                               'ImageUri': '683313688378.dkr.ecr.us-east-1.amazonaws.com/sagemaker-scikit-learn:0.23-1-cpu-py3'},\n",
      "                          'Environment': {'AWS_DEFAULT_REGION': 'us-east-1'},\n",
      "                          'ProcessingInputs': [{'AppManaged': False,\n",
      "                                                'InputName': 'raw',\n",
      "                                                'S3Input': {'LocalPath': '/opt/ml/processing/ie/data/raw',\n",
      "                                                            'S3CompressionType': 'None',\n",
      "                                                            'S3DataDistributionType': 'ShardedByS3Key',\n",
      "                                                            'S3DataType': 'S3Prefix',\n",
      "                                                            'S3InputMode': 'File',\n",
      "                                                            'S3Uri': {'Get': 'Parameters.InputData'}}},\n",
      "                                               {'AppManaged': False,\n",
      "                                                'InputName': 'code',\n",
      "                                                'S3Input': {'LocalPath': '/opt/ml/processing/input/code',\n",
      "                                                            'S3CompressionType': 'None',\n",
      "                                                            'S3DataDistributionType': 'FullyReplicated',\n",
      "                                                            'S3DataType': 'S3Prefix',\n",
      "                                                            'S3InputMode': 'File',\n",
      "                                                            'S3Uri': 's3://sagemaker-us-east-1-093729152554/sagemaker-scikit-learn-2021-09-08-11-31-04-944/input/code/preprocess.py'}}],\n",
      "                          'ProcessingOutputConfig': {'Outputs': [{'AppManaged': False,\n",
      "                                                                  'OutputName': 'train',\n",
      "                                                                  'S3Output': {'LocalPath': '/opt/ml/processing/ie/data/processed',\n",
      "                                                                               'S3UploadMode': 'EndOfJob',\n",
      "                                                                               'S3Uri': {'Get': 'Parameters.ProcessingOutputData'}}}]},\n",
      "                          'ProcessingResources': {'ClusterConfig': {'InstanceCount': {'Get': 'Parameters.ProcessingInstanceCount'},\n",
      "                                                                    'InstanceType': {'Get': 'Parameters.ProcessingInstanceType'},\n",
      "                                                                    'VolumeSizeInGB': 30}},\n",
      "                          'RoleArn': 'arn:aws:iam::093729152554:role/service-role/AWSNeptuneNotebookRole-NepTestRole'},\n",
      "            'Name': 'Processing',\n",
      "            'Type': 'Processing'},\n",
      "           {'Arguments': {'AlgorithmSpecification': {'EnableSageMakerMetricsTimeSeries': True,\n",
      "                                                     'MetricDefinitions': [{'Name': 'eval:f1',\n",
      "                                                                            'Regex': 'f1: '\n",
      "                                                                                     '([0-9\\\\.]+)'},\n",
      "                                                                           {'Name': 'eval:prec',\n",
      "                                                                            'Regex': 'precision: '\n",
      "                                                                                     '([0-9\\\\.]+)'},\n",
      "                                                                           {'Name': 'eval:recall',\n",
      "                                                                            'Regex': 'recall: '\n",
      "                                                                                     '([0-9\\\\./]+)'}],\n",
      "                                                     'TrainingImage': '763104351884.dkr.ecr.us-east-1.amazonaws.com/pytorch-training:1.8.1-gpu-py3',\n",
      "                                                     'TrainingInputMode': 'File'},\n",
      "                          'DebugHookConfig': {'CollectionConfigurations': [],\n",
      "                                              'S3OutputPath': 's3://sm-nlp-data/ie-baseline/debug'},\n",
      "                          'HyperParameters': {'batch-size': {'Get': 'Parameters.BatchSize'},\n",
      "                                              'epochs': {'Get': 'Parameters.Epochs'},\n",
      "                                              'learning-rate': {'Get': 'Parameters.LearningRate'},\n",
      "                                              'sagemaker_container_log_level': '20',\n",
      "                                              'sagemaker_job_name': '\"pytorch-training-2021-09-08-11-31-05-042\"',\n",
      "                                              'sagemaker_program': '\"train.py\"',\n",
      "                                              'sagemaker_region': '\"us-east-1\"',\n",
      "                                              'sagemaker_submit_directory': '\"s3://sm-nlp-data/ie-baseline/source/train/pytorch-training-2021-09-08-11-31-05-042/source/sourcedir.tar.gz\"',\n",
      "                                              'use-cuda': 'true'},\n",
      "                          'InputDataConfig': [{'ChannelName': 'train',\n",
      "                                               'ContentType': 'application/json',\n",
      "                                               'DataSource': {'S3DataSource': {'S3DataDistributionType': 'FullyReplicated',\n",
      "                                                                               'S3DataType': 'S3Prefix',\n",
      "                                                                               'S3Uri': {'Get': \"Steps.Processing.ProcessingOutputConfig.Outputs['train'].S3Output.S3Uri\"}}}}],\n",
      "                          'OutputDataConfig': {'S3OutputPath': 's3://sm-nlp-data/ie-baseline/outputs'},\n",
      "                          'ProfilerConfig': {'ProfilingIntervalInMilliseconds': 500,\n",
      "                                             'ProfilingParameters': {'DataloaderProfilingConfig': '{\"StartStep\": '\n",
      "                                                                                                  '5, '\n",
      "                                                                                                  '\"NumSteps\": '\n",
      "                                                                                                  '10, '\n",
      "                                                                                                  '\"MetricsRegex\": '\n",
      "                                                                                                  '\".*\", '\n",
      "                                                                                                  '}',\n",
      "                                                                     'DetailedProfilingConfig': '{\"StartStep\": '\n",
      "                                                                                                '5, '\n",
      "                                                                                                '\"NumSteps\": '\n",
      "                                                                                                '10, '\n",
      "                                                                                                '}',\n",
      "                                                                     'FileOpenFailThreshold': '50',\n",
      "                                                                     'HorovodProfilingConfig': '{\"StartStep\": '\n",
      "                                                                                               '5, '\n",
      "                                                                                               '\"NumSteps\": '\n",
      "                                                                                               '10, '\n",
      "                                                                                               '}',\n",
      "                                                                     'LocalPath': '/opt/ml/output/profiler/',\n",
      "                                                                     'PythonProfilingConfig': '{\"StartStep\": '\n",
      "                                                                                              '5, '\n",
      "                                                                                              '\"NumSteps\": '\n",
      "                                                                                              '10, '\n",
      "                                                                                              '\"ProfilerName\": '\n",
      "                                                                                              '\"cprofile\", '\n",
      "                                                                                              '\"cProfileTimer\": '\n",
      "                                                                                              '\"total_time\", '\n",
      "                                                                                              '}',\n",
      "                                                                     'RotateFileCloseIntervalInSeconds': '60',\n",
      "                                                                     'RotateMaxFileSizeInBytes': '10485760',\n",
      "                                                                     'SMDataParallelProfilingConfig': '{\"StartStep\": '\n",
      "                                                                                                      '5, '\n",
      "                                                                                                      '\"NumSteps\": '\n",
      "                                                                                                      '10, '\n",
      "                                                                                                      '}'},\n",
      "                                             'S3OutputPath': 's3://sm-nlp-data/ie-baseline/outputs'},\n",
      "                          'ProfilerRuleConfigurations': [{'RuleConfigurationName': 'ProfilerReport',\n",
      "                                                          'RuleEvaluatorImage': '503895931360.dkr.ecr.us-east-1.amazonaws.com/sagemaker-debugger-rules:latest',\n",
      "                                                          'RuleParameters': {'rule_to_invoke': 'ProfilerReport'}}],\n",
      "                          'ResourceConfig': {'InstanceCount': {'Get': 'Parameters.TrainInstanceCount'},\n",
      "                                             'InstanceType': {'Get': 'Parameters.TrainInstanceType'},\n",
      "                                             'VolumeSizeInGB': 30},\n",
      "                          'RoleArn': 'arn:aws:iam::093729152554:role/service-role/AWSNeptuneNotebookRole-NepTestRole',\n",
      "                          'StoppingCondition': {'MaxRuntimeInSeconds': 86400}},\n",
      "            'CacheConfig': {'Enabled': True, 'ExpireAfter': 'PT1H'},\n",
      "            'Name': 'Train',\n",
      "            'Type': 'Training'},\n",
      "           {'Arguments': {'AppSpecification': {'ContainerArguments': ['--max-seq-length',\n",
      "                                                                      '128',\n",
      "                                                                      '--source-dir',\n",
      "                                                                      '/opt/ml/processing/input/source/train'],\n",
      "                                               'ContainerEntrypoint': ['python3',\n",
      "                                                                       '/opt/ml/processing/input/code/evaluate.py'],\n",
      "                                               'ImageUri': '683313688378.dkr.ecr.us-east-1.amazonaws.com/sagemaker-scikit-learn:0.23-1-cpu-py3'},\n",
      "                          'Environment': {'AWS_DEFAULT_REGION': 'us-east-1'},\n",
      "                          'ProcessingInputs': [{'AppManaged': False,\n",
      "                                                'InputName': 'model',\n",
      "                                                'S3Input': {'LocalPath': '/opt/ml/processing/input/model',\n",
      "                                                            'S3CompressionType': 'None',\n",
      "                                                            'S3DataDistributionType': 'FullyReplicated',\n",
      "                                                            'S3DataType': 'S3Prefix',\n",
      "                                                            'S3InputMode': 'File',\n",
      "                                                            'S3Uri': {'Get': 'Steps.Train.ModelArtifacts.S3ModelArtifacts'}}},\n",
      "                                               {'AppManaged': False,\n",
      "                                                'InputName': 'data',\n",
      "                                                'S3Input': {'LocalPath': '/opt/ml/processing/input/data',\n",
      "                                                            'S3CompressionType': 'None',\n",
      "                                                            'S3DataDistributionType': 'FullyReplicated',\n",
      "                                                            'S3DataType': 'S3Prefix',\n",
      "                                                            'S3InputMode': 'File',\n",
      "                                                            'S3Uri': {'Get': \"Steps.Processing.ProcessingOutputConfig.Outputs['train'].S3Output.S3Uri\"}}},\n",
      "                                               {'AppManaged': False,\n",
      "                                                'InputName': 'source',\n",
      "                                                'S3Input': {'LocalPath': '/opt/ml/processing/input/source/train',\n",
      "                                                            'S3CompressionType': 'None',\n",
      "                                                            'S3DataDistributionType': 'FullyReplicated',\n",
      "                                                            'S3DataType': 'S3Prefix',\n",
      "                                                            'S3InputMode': 'File',\n",
      "                                                            'S3Uri': 's3://sm-nlp-data/ie-baseline/source/train/pytorch-training-2021-09-08-11-30-52-267/source/sourcedir.tar.gz'}},\n",
      "                                               {'AppManaged': False,\n",
      "                                                'InputName': 'code',\n",
      "                                                'S3Input': {'LocalPath': '/opt/ml/processing/input/code',\n",
      "                                                            'S3CompressionType': 'None',\n",
      "                                                            'S3DataDistributionType': 'FullyReplicated',\n",
      "                                                            'S3DataType': 'S3Prefix',\n",
      "                                                            'S3InputMode': 'File',\n",
      "                                                            'S3Uri': 's3://sagemaker-us-east-1-093729152554/sagemaker-scikit-learn-2021-09-08-11-31-10-576/input/code/evaluate.py'}}],\n",
      "                          'ProcessingOutputConfig': {'Outputs': [{'AppManaged': False,\n",
      "                                                                  'OutputName': 'metrics',\n",
      "                                                                  'S3Output': {'LocalPath': '/opt/ml/processing/output/metrics/',\n",
      "                                                                               'S3UploadMode': 'EndOfJob',\n",
      "                                                                               'S3Uri': 's3://sagemaker-us-east-1-093729152554/sagemaker-scikit-learn-2021-09-08-11-30-58-236/output/metrics'}}]},\n",
      "                          'ProcessingResources': {'ClusterConfig': {'InstanceCount': {'Get': 'Parameters.EvaluationInstanceCount'},\n",
      "                                                                    'InstanceType': {'Get': 'Parameters.EvaluationInstanceType'},\n",
      "                                                                    'VolumeSizeInGB': 30}},\n",
      "                          'RoleArn': 'arn:aws:iam::093729152554:role/service-role/AWSNeptuneNotebookRole-NepTestRole',\n",
      "                          'StoppingCondition': {'MaxRuntimeInSeconds': 7200}},\n",
      "            'Name': 'EvaluateModel',\n",
      "            'PropertyFiles': [{'FilePath': 'evaluation.json',\n",
      "                               'OutputName': 'metrics',\n",
      "                               'PropertyFileName': 'EvaluationReport'}],\n",
      "            'Type': 'Processing'},\n",
      "           {'Arguments': {'Conditions': [{'LeftValue': {'Std:JsonGet': {'Path': 'f1',\n",
      "                                                                        'PropertyFile': {'Get': 'Steps.EvaluateModel.PropertyFiles.EvaluationReport'}}},\n",
      "                                          'RightValue': {'Get': 'Parameters.MinF1Value'},\n",
      "                                          'Type': 'GreaterThanOrEqualTo'}],\n",
      "                          'ElseSteps': [],\n",
      "                          'IfSteps': [{'Arguments': {'InferenceSpecification': {'Containers': [{'Image': '763104351884.dkr.ecr.us-east-1.amazonaws.com/pytorch-inference:1.8.1-gpu-py3',\n",
      "                                                                                                'ModelDataUrl': {'Get': 'Steps.Train.ModelArtifacts.S3ModelArtifacts'}}],\n",
      "                                                                                'SupportedContentTypes': ['application/json'],\n",
      "                                                                                'SupportedRealtimeInferenceInstanceTypes': [{'Get': 'Parameters.DeployInstanceType'}],\n",
      "                                                                                'SupportedResponseMIMETypes': ['application/json'],\n",
      "                                                                                'SupportedTransformInstanceTypes': [{'Get': 'Parameters.TransformInstanceType'}]},\n",
      "                                                     'ModelApprovalStatus': {'Get': 'Parameters.ModelApprovalStatus'},\n",
      "                                                     'ModelMetrics': {'ModelQuality': {'Statistics': {'ContentType': 'application/json',\n",
      "                                                                                                      'S3Uri': 's3://sagemaker-us-east-1-093729152554/sagemaker-scikit-learn-2021-09-08-11-30-58-236/output/metrics/evaluation.json'}}},\n",
      "                                                     'ModelPackageGroupName': 'KGModelPackageGroup'},\n",
      "                                       'Name': 'KgRegisterModel',\n",
      "                                       'Type': 'RegisterModel'},\n",
      "                                      {'Arguments': {'ExecutionRoleArn': 'arn:aws:iam::093729152554:role/service-role/AWSNeptuneNotebookRole-NepTestRole',\n",
      "                                                     'PrimaryContainer': {'Environment': {'SAGEMAKER_CONTAINER_LOG_LEVEL': '20',\n",
      "                                                                                          'SAGEMAKER_PROGRAM': 'inference.py',\n",
      "                                                                                          'SAGEMAKER_REGION': 'us-east-1',\n",
      "                                                                                          'SAGEMAKER_SUBMIT_DIRECTORY': 'file:///root/ckgqa-p-kiqtyrraeiec/sagemaker-ckgqa-p-kiqtyrraeiec-modelbuild/pipelines/kg'},\n",
      "                                                                          'Image': '763104351884.dkr.ecr.us-east-1.amazonaws.com/pytorch-inference-eia:1.3.1-cpu-py3',\n",
      "                                                                          'ModelDataUrl': {'Get': 'Steps.Train.ModelArtifacts.S3ModelArtifacts'}}},\n",
      "                                       'Name': 'CreateKgGenModel',\n",
      "                                       'Type': 'Model'},\n",
      "                                      {'Arguments': {'ModelName': {'Get': 'Steps.CreateKgGenModel.ModelName'},\n",
      "                                                     'TransformInput': {'DataSource': {'S3DataSource': {'S3DataType': 'S3Prefix',\n",
      "                                                                                                        'S3Uri': {'Get': 'Parameters.BatchData'}}}},\n",
      "                                                     'TransformOutput': {'S3OutputPath': 's3://sm-nlp-data/ie-baseline/outputs'},\n",
      "                                                     'TransformResources': {'InstanceCount': 1,\n",
      "                                                                            'InstanceType': {'Get': 'Parameters.TransformInstanceType'}}},\n",
      "                                       'Name': 'KgTransform',\n",
      "                                       'Type': 'Transform'}]},\n",
      "            'Name': 'F1Condition',\n",
      "            'Type': 'Condition'}],\n",
      " 'Version': '2020-12-01'}\n"
     ]
    }
   ],
   "source": [
    "from pprint import pprint\n",
    "import json\n",
    "definition = json.loads(pipeline.definition())\n",
    "pprint(definition)"
   ]
  },
  {
   "cell_type": "markdown",
   "metadata": {},
   "source": [
    "Prepare data for the knowledge graph pipeline."
   ]
  },
  {
   "cell_type": "code",
   "execution_count": null,
   "metadata": {},
   "outputs": [],
   "source": [
    "%%bash -s \"$default_bucket\"\n",
    "\n",
    "wget http://dataset-bj.cdn.bcebos.com/qianyan/DuIE_2_0.zip\n",
    "aws s3 cp DuIE_2_0.zip \"s3://$1/ie-baseline/raw/DuIE_2_0.zip\"\n",
    "rm DuIE_2_0.zip"
   ]
  },
  {
   "cell_type": "code",
   "execution_count": 7,
   "metadata": {},
   "outputs": [
    {
     "name": "stdout",
     "output_type": "stream",
     "text": [
      "upload: pipelines/kg/data/psudo_transform_input.json to s3://sm-nlp-data/psudo/psudo.json\n"
     ]
    }
   ],
   "source": [
    "!aws s3 cp ./pipelines/kg/data/psudo_transform_input.json s3://$default_bucket/psudo/psudo.json"
   ]
  },
  {
   "cell_type": "code",
   "execution_count": 8,
   "metadata": {},
   "outputs": [
    {
     "name": "stdout",
     "output_type": "stream",
     "text": [
      "2021-09-08 11:31:26   37097755 DuIE_2_0.zip\n"
     ]
    }
   ],
   "source": [
    "raw_input_data_s3_uri = f\"s3://{default_bucket}/ie-baseline/raw/DuIE_2_0.zip\"\n",
    "!aws s3 ls $raw_input_data_s3_uri"
   ]
  },
  {
   "cell_type": "markdown",
   "metadata": {},
   "source": [
    "We'll start the pipeline, accepting all the default parameters.\n",
    "\n",
    "Values can also be passed into these pipeline parameters on starting of the pipeline, and will be covered later. "
   ]
  },
  {
   "cell_type": "code",
   "execution_count": 9,
   "metadata": {},
   "outputs": [],
   "source": [
    "execution = pipeline.start(\n",
    "    parameters=dict(\n",
    "        InputData=raw_input_data_s3_uri,\n",
    "        ProcessingOutputData=f\"s3://{default_bucket}/ie-baseline/processed/\",\n",
    "        BatchData=f\"s3://{default_bucket}/psudo/psudo.json\"\n",
    "    )\n",
    ")"
   ]
  },
  {
   "cell_type": "markdown",
   "metadata": {},
   "source": [
    "### Pipeline Operations: examining and waiting for pipeline execution\n",
    "\n",
    "Now we describe execution instance and list the steps in the execution to find out more about the execution."
   ]
  },
  {
   "cell_type": "code",
   "execution_count": 10,
   "metadata": {},
   "outputs": [
    {
     "data": {
      "text/plain": [
       "{'PipelineArn': 'arn:aws:sagemaker:us-east-1:093729152554:pipeline/kgpipeline1631100651',\n",
       " 'PipelineName': 'KGPipeline1631100651',\n",
       " 'PipelineDisplayName': 'KGPipeline1631100651',\n",
       " 'PipelineDefinition': '{\"Version\": \"2020-12-01\", \"Metadata\": {}, \"Parameters\": [{\"Name\": \"InputData\", \"Type\": \"String\", \"DefaultValue\": \"s3://sm-nlp-data/ie-baseline/raw/DuIE_2_0.zip\"}, {\"Name\": \"ProcessingOutputData\", \"Type\": \"String\", \"DefaultValue\": \"s3://sm-nlp-data/ie-baseline/processed/\"}, {\"Name\": \"ProcessingInstanceCount\", \"Type\": \"Integer\", \"DefaultValue\": 1}, {\"Name\": \"ProcessingInstanceType\", \"Type\": \"String\", \"DefaultValue\": \"ml.c5.2xlarge\"}, {\"Name\": \"TrainInstanceType\", \"Type\": \"String\", \"DefaultValue\": \"ml.g4dn.4xlarge\"}, {\"Name\": \"TrainInstanceCount\", \"Type\": \"Integer\", \"DefaultValue\": 1}, {\"Name\": \"Epochs\", \"Type\": \"String\", \"DefaultValue\": \"20\"}, {\"Name\": \"LearningRate\", \"Type\": \"String\", \"DefaultValue\": \"0.005\"}, {\"Name\": \"BatchSize\", \"Type\": \"String\", \"DefaultValue\": \"64\"}, {\"Name\": \"EvaluationInstanceCount\", \"Type\": \"Integer\", \"DefaultValue\": 1}, {\"Name\": \"EvaluationInstanceType\", \"Type\": \"String\", \"DefaultValue\": \"ml.c5.2xlarge\"}, {\"Name\": \"TransformModelName\", \"Type\": \"String\", \"DefaultValue\": \"transform-model-1631100652\"}, {\"Name\": \"InferenceInstanceType\", \"Type\": \"String\", \"DefaultValue\": \"ml.c5.4xlarge\"}, {\"Name\": \"TransformInstanceType\", \"Type\": \"String\", \"DefaultValue\": \"ml.c5.4xlarge\"}, {\"Name\": \"BatchData\", \"Type\": \"String\", \"DefaultValue\": \"s3://sm-nlp-data/psudo/psudo.json\"}, {\"Name\": \"ModelApprovalStatus\", \"Type\": \"String\", \"DefaultValue\": \"PendingManualApproval\"}, {\"Name\": \"DeployInstanceType\", \"Type\": \"String\", \"DefaultValue\": \"ml.m4.xlarge\"}, {\"Name\": \"MinF1Value\", \"Type\": \"Float\", \"DefaultValue\": 0.5}], \"PipelineExperimentConfig\": {\"ExperimentName\": {\"Get\": \"Execution.PipelineName\"}, \"TrialName\": {\"Get\": \"Execution.PipelineExecutionId\"}}, \"Steps\": [{\"Name\": \"Processing\", \"Type\": \"Processing\", \"Arguments\": {\"ProcessingResources\": {\"ClusterConfig\": {\"InstanceType\": {\"Get\": \"Parameters.ProcessingInstanceType\"}, \"InstanceCount\": {\"Get\": \"Parameters.ProcessingInstanceCount\"}, \"VolumeSizeInGB\": 30}}, \"AppSpecification\": {\"ImageUri\": \"683313688378.dkr.ecr.us-east-1.amazonaws.com/sagemaker-scikit-learn:0.23-1-cpu-py3\", \"ContainerArguments\": [\"--input-data\", \"/opt/ml/processing/ie/data/raw\"], \"ContainerEntrypoint\": [\"python3\", \"/opt/ml/processing/input/code/preprocess.py\"]}, \"RoleArn\": \"arn:aws:iam::093729152554:role/service-role/AWSNeptuneNotebookRole-NepTestRole\", \"ProcessingInputs\": [{\"InputName\": \"raw\", \"AppManaged\": false, \"S3Input\": {\"S3Uri\": {\"Get\": \"Parameters.InputData\"}, \"LocalPath\": \"/opt/ml/processing/ie/data/raw\", \"S3DataType\": \"S3Prefix\", \"S3InputMode\": \"File\", \"S3DataDistributionType\": \"ShardedByS3Key\", \"S3CompressionType\": \"None\"}}, {\"InputName\": \"code\", \"AppManaged\": false, \"S3Input\": {\"S3Uri\": \"s3://sagemaker-us-east-1-093729152554/sagemaker-scikit-learn-2021-09-08-11-30-58-571/input/code/preprocess.py\", \"LocalPath\": \"/opt/ml/processing/input/code\", \"S3DataType\": \"S3Prefix\", \"S3InputMode\": \"File\", \"S3DataDistributionType\": \"FullyReplicated\", \"S3CompressionType\": \"None\"}}], \"ProcessingOutputConfig\": {\"Outputs\": [{\"OutputName\": \"train\", \"AppManaged\": false, \"S3Output\": {\"S3Uri\": {\"Get\": \"Parameters.ProcessingOutputData\"}, \"LocalPath\": \"/opt/ml/processing/ie/data/processed\", \"S3UploadMode\": \"EndOfJob\"}}]}, \"Environment\": {\"AWS_DEFAULT_REGION\": \"us-east-1\"}}}, {\"Name\": \"Train\", \"Type\": \"Training\", \"Arguments\": {\"AlgorithmSpecification\": {\"TrainingInputMode\": \"File\", \"TrainingImage\": \"763104351884.dkr.ecr.us-east-1.amazonaws.com/pytorch-training:1.8.1-gpu-py3\", \"MetricDefinitions\": [{\"Name\": \"eval:f1\", \"Regex\": \"f1: ([0-9\\\\\\\\.]+)\"}, {\"Name\": \"eval:prec\", \"Regex\": \"precision: ([0-9\\\\\\\\.]+)\"}, {\"Name\": \"eval:recall\", \"Regex\": \"recall: ([0-9\\\\\\\\./]+)\"}], \"EnableSageMakerMetricsTimeSeries\": true}, \"OutputDataConfig\": {\"S3OutputPath\": \"s3://sm-nlp-data/ie-baseline/outputs\"}, \"StoppingCondition\": {\"MaxRuntimeInSeconds\": 86400}, \"ResourceConfig\": {\"InstanceCount\": {\"Get\": \"Parameters.TrainInstanceCount\"}, \"InstanceType\": {\"Get\": \"Parameters.TrainInstanceType\"}, \"VolumeSizeInGB\": 30}, \"RoleArn\": \"arn:aws:iam::093729152554:role/service-role/AWSNeptuneNotebookRole-NepTestRole\", \"InputDataConfig\": [{\"DataSource\": {\"S3DataSource\": {\"S3DataType\": \"S3Prefix\", \"S3Uri\": {\"Get\": \"Steps.Processing.ProcessingOutputConfig.Outputs[\\'train\\'].S3Output.S3Uri\"}, \"S3DataDistributionType\": \"FullyReplicated\"}}, \"ContentType\": \"application/json\", \"ChannelName\": \"train\"}], \"HyperParameters\": {\"epochs\": {\"Get\": \"Parameters.Epochs\"}, \"use-cuda\": \"true\", \"batch-size\": {\"Get\": \"Parameters.BatchSize\"}, \"learning-rate\": {\"Get\": \"Parameters.LearningRate\"}, \"sagemaker_submit_directory\": \"\\\\\"s3://sm-nlp-data/ie-baseline/source/train/pytorch-training-2021-09-08-11-30-58-777/source/sourcedir.tar.gz\\\\\"\", \"sagemaker_program\": \"\\\\\"train.py\\\\\"\", \"sagemaker_container_log_level\": \"20\", \"sagemaker_job_name\": \"\\\\\"pytorch-training-2021-09-08-11-30-58-777\\\\\"\", \"sagemaker_region\": \"\\\\\"us-east-1\\\\\"\"}, \"DebugHookConfig\": {\"S3OutputPath\": \"s3://sm-nlp-data/ie-baseline/debug\", \"CollectionConfigurations\": []}, \"ProfilerRuleConfigurations\": [{\"RuleConfigurationName\": \"ProfilerReport\", \"RuleEvaluatorImage\": \"503895931360.dkr.ecr.us-east-1.amazonaws.com/sagemaker-debugger-rules:latest\", \"RuleParameters\": {\"rule_to_invoke\": \"ProfilerReport\"}}], \"ProfilerConfig\": {\"S3OutputPath\": \"s3://sm-nlp-data/ie-baseline/outputs\", \"ProfilingIntervalInMilliseconds\": 500, \"ProfilingParameters\": {\"LocalPath\": \"/opt/ml/output/profiler/\", \"RotateMaxFileSizeInBytes\": \"10485760\", \"RotateFileCloseIntervalInSeconds\": \"60\", \"FileOpenFailThreshold\": \"50\", \"DetailedProfilingConfig\": \"{\\\\\"StartStep\\\\\": 5, \\\\\"NumSteps\\\\\": 10, }\", \"DataloaderProfilingConfig\": \"{\\\\\"StartStep\\\\\": 5, \\\\\"NumSteps\\\\\": 10, \\\\\"MetricsRegex\\\\\": \\\\\".*\\\\\", }\", \"PythonProfilingConfig\": \"{\\\\\"StartStep\\\\\": 5, \\\\\"NumSteps\\\\\": 10, \\\\\"ProfilerName\\\\\": \\\\\"cprofile\\\\\", \\\\\"cProfileTimer\\\\\": \\\\\"total_time\\\\\", }\", \"HorovodProfilingConfig\": \"{\\\\\"StartStep\\\\\": 5, \\\\\"NumSteps\\\\\": 10, }\", \"SMDataParallelProfilingConfig\": \"{\\\\\"StartStep\\\\\": 5, \\\\\"NumSteps\\\\\": 10, }\"}}}, \"CacheConfig\": {\"Enabled\": true, \"ExpireAfter\": \"PT1H\"}}, {\"Name\": \"EvaluateModel\", \"Type\": \"Processing\", \"Arguments\": {\"ProcessingResources\": {\"ClusterConfig\": {\"InstanceType\": {\"Get\": \"Parameters.EvaluationInstanceType\"}, \"InstanceCount\": {\"Get\": \"Parameters.EvaluationInstanceCount\"}, \"VolumeSizeInGB\": 30}}, \"AppSpecification\": {\"ImageUri\": \"683313688378.dkr.ecr.us-east-1.amazonaws.com/sagemaker-scikit-learn:0.23-1-cpu-py3\", \"ContainerArguments\": [\"--max-seq-length\", \"128\", \"--source-dir\", \"/opt/ml/processing/input/source/train\"], \"ContainerEntrypoint\": [\"python3\", \"/opt/ml/processing/input/code/evaluate.py\"]}, \"RoleArn\": \"arn:aws:iam::093729152554:role/service-role/AWSNeptuneNotebookRole-NepTestRole\", \"ProcessingInputs\": [{\"InputName\": \"model\", \"AppManaged\": false, \"S3Input\": {\"S3Uri\": {\"Get\": \"Steps.Train.ModelArtifacts.S3ModelArtifacts\"}, \"LocalPath\": \"/opt/ml/processing/input/model\", \"S3DataType\": \"S3Prefix\", \"S3InputMode\": \"File\", \"S3DataDistributionType\": \"FullyReplicated\", \"S3CompressionType\": \"None\"}}, {\"InputName\": \"data\", \"AppManaged\": false, \"S3Input\": {\"S3Uri\": {\"Get\": \"Steps.Processing.ProcessingOutputConfig.Outputs[\\'train\\'].S3Output.S3Uri\"}, \"LocalPath\": \"/opt/ml/processing/input/data\", \"S3DataType\": \"S3Prefix\", \"S3InputMode\": \"File\", \"S3DataDistributionType\": \"FullyReplicated\", \"S3CompressionType\": \"None\"}}, {\"InputName\": \"source\", \"AppManaged\": false, \"S3Input\": {\"S3Uri\": \"s3://sm-nlp-data/ie-baseline/source/train/pytorch-training-2021-09-08-11-30-52-267/source/sourcedir.tar.gz\", \"LocalPath\": \"/opt/ml/processing/input/source/train\", \"S3DataType\": \"S3Prefix\", \"S3InputMode\": \"File\", \"S3DataDistributionType\": \"FullyReplicated\", \"S3CompressionType\": \"None\"}}, {\"InputName\": \"code\", \"AppManaged\": false, \"S3Input\": {\"S3Uri\": \"s3://sagemaker-us-east-1-093729152554/sagemaker-scikit-learn-2021-09-08-11-31-04-313/input/code/evaluate.py\", \"LocalPath\": \"/opt/ml/processing/input/code\", \"S3DataType\": \"S3Prefix\", \"S3InputMode\": \"File\", \"S3DataDistributionType\": \"FullyReplicated\", \"S3CompressionType\": \"None\"}}], \"ProcessingOutputConfig\": {\"Outputs\": [{\"OutputName\": \"metrics\", \"AppManaged\": false, \"S3Output\": {\"S3Uri\": \"s3://sagemaker-us-east-1-093729152554/sagemaker-scikit-learn-2021-09-08-11-30-58-236/output/metrics\", \"LocalPath\": \"/opt/ml/processing/output/metrics/\", \"S3UploadMode\": \"EndOfJob\"}}]}, \"Environment\": {\"AWS_DEFAULT_REGION\": \"us-east-1\"}, \"StoppingCondition\": {\"MaxRuntimeInSeconds\": 7200}}, \"PropertyFiles\": [{\"PropertyFileName\": \"EvaluationReport\", \"OutputName\": \"metrics\", \"FilePath\": \"evaluation.json\"}]}, {\"Name\": \"F1Condition\", \"Type\": \"Condition\", \"Arguments\": {\"Conditions\": [{\"Type\": \"GreaterThanOrEqualTo\", \"LeftValue\": {\"Std:JsonGet\": {\"PropertyFile\": {\"Get\": \"Steps.EvaluateModel.PropertyFiles.EvaluationReport\"}, \"Path\": \"f1\"}}, \"RightValue\": {\"Get\": \"Parameters.MinF1Value\"}}], \"IfSteps\": [{\"Name\": \"KgRegisterModel\", \"Type\": \"RegisterModel\", \"Arguments\": {\"ModelPackageGroupName\": \"KGModelPackageGroup\", \"ModelMetrics\": {\"ModelQuality\": {\"Statistics\": {\"ContentType\": \"application/json\", \"S3Uri\": \"s3://sagemaker-us-east-1-093729152554/sagemaker-scikit-learn-2021-09-08-11-30-58-236/output/metrics/evaluation.json\"}}}, \"InferenceSpecification\": {\"Containers\": [{\"Image\": \"763104351884.dkr.ecr.us-east-1.amazonaws.com/pytorch-inference:1.8.1-gpu-py3\", \"ModelDataUrl\": {\"Get\": \"Steps.Train.ModelArtifacts.S3ModelArtifacts\"}}], \"SupportedContentTypes\": [\"application/json\"], \"SupportedResponseMIMETypes\": [\"application/json\"], \"SupportedRealtimeInferenceInstanceTypes\": [{\"Get\": \"Parameters.DeployInstanceType\"}], \"SupportedTransformInstanceTypes\": [{\"Get\": \"Parameters.TransformInstanceType\"}]}, \"ModelApprovalStatus\": {\"Get\": \"Parameters.ModelApprovalStatus\"}}}, {\"Name\": \"CreateKgGenModel\", \"Type\": \"Model\", \"Arguments\": {\"ExecutionRoleArn\": \"arn:aws:iam::093729152554:role/service-role/AWSNeptuneNotebookRole-NepTestRole\", \"PrimaryContainer\": {\"Image\": \"763104351884.dkr.ecr.us-east-1.amazonaws.com/pytorch-inference-eia:1.3.1-cpu-py3\", \"Environment\": {\"SAGEMAKER_PROGRAM\": \"inference.py\", \"SAGEMAKER_SUBMIT_DIRECTORY\": \"file:///root/ckgqa-p-kiqtyrraeiec/sagemaker-ckgqa-p-kiqtyrraeiec-modelbuild/pipelines/kg\", \"SAGEMAKER_CONTAINER_LOG_LEVEL\": \"20\", \"SAGEMAKER_REGION\": \"us-east-1\"}, \"ModelDataUrl\": {\"Get\": \"Steps.Train.ModelArtifacts.S3ModelArtifacts\"}}}}, {\"Name\": \"KgTransform\", \"Type\": \"Transform\", \"Arguments\": {\"ModelName\": {\"Get\": \"Steps.CreateKgGenModel.ModelName\"}, \"TransformInput\": {\"DataSource\": {\"S3DataSource\": {\"S3DataType\": \"S3Prefix\", \"S3Uri\": {\"Get\": \"Parameters.BatchData\"}}}}, \"TransformOutput\": {\"S3OutputPath\": \"s3://sm-nlp-data/ie-baseline/outputs\"}, \"TransformResources\": {\"InstanceCount\": 1, \"InstanceType\": {\"Get\": \"Parameters.TransformInstanceType\"}}}}], \"ElseSteps\": []}}]}',\n",
       " 'RoleArn': 'arn:aws:iam::093729152554:role/service-role/AWSNeptuneNotebookRole-NepTestRole',\n",
       " 'PipelineStatus': 'Active',\n",
       " 'CreationTime': datetime.datetime(2021, 9, 8, 11, 31, 4, 537000, tzinfo=tzlocal()),\n",
       " 'LastModifiedTime': datetime.datetime(2021, 9, 8, 11, 31, 27, 836000, tzinfo=tzlocal()),\n",
       " 'CreatedBy': {},\n",
       " 'LastModifiedBy': {},\n",
       " 'ResponseMetadata': {'RequestId': '7f35f49b-67ea-4c0e-8d80-efae9a8cd21b',\n",
       "  'HTTPStatusCode': 200,\n",
       "  'HTTPHeaders': {'x-amzn-requestid': '7f35f49b-67ea-4c0e-8d80-efae9a8cd21b',\n",
       "   'content-type': 'application/x-amz-json-1.1',\n",
       "   'content-length': '12246',\n",
       "   'date': 'Wed, 08 Sep 2021 11:31:27 GMT'},\n",
       "  'RetryAttempts': 0}}"
      ]
     },
     "execution_count": 10,
     "metadata": {},
     "output_type": "execute_result"
    }
   ],
   "source": [
    "pipeline.describe()"
   ]
  },
  {
   "cell_type": "code",
   "execution_count": 11,
   "metadata": {},
   "outputs": [
    {
     "data": {
      "text/plain": [
       "{'PipelineArn': 'arn:aws:sagemaker:us-east-1:093729152554:pipeline/kgpipeline1631100651',\n",
       " 'PipelineExecutionArn': 'arn:aws:sagemaker:us-east-1:093729152554:pipeline/kgpipeline1631100651/execution/3f8n1kaksi4r',\n",
       " 'PipelineExecutionDisplayName': 'execution-1631100687836',\n",
       " 'PipelineExecutionStatus': 'Executing',\n",
       " 'CreationTime': datetime.datetime(2021, 9, 8, 11, 31, 27, 715000, tzinfo=tzlocal()),\n",
       " 'LastModifiedTime': datetime.datetime(2021, 9, 8, 11, 31, 27, 715000, tzinfo=tzlocal()),\n",
       " 'CreatedBy': {},\n",
       " 'LastModifiedBy': {},\n",
       " 'ResponseMetadata': {'RequestId': '32ea7502-450c-45fd-a318-ea3b03bd680b',\n",
       "  'HTTPStatusCode': 200,\n",
       "  'HTTPHeaders': {'x-amzn-requestid': '32ea7502-450c-45fd-a318-ea3b03bd680b',\n",
       "   'content-type': 'application/x-amz-json-1.1',\n",
       "   'content-length': '405',\n",
       "   'date': 'Wed, 08 Sep 2021 11:31:27 GMT'},\n",
       "  'RetryAttempts': 0}}"
      ]
     },
     "execution_count": 11,
     "metadata": {},
     "output_type": "execute_result"
    }
   ],
   "source": [
    "execution.describe()"
   ]
  },
  {
   "cell_type": "markdown",
   "metadata": {},
   "source": [
    "We can wait for the execution by invoking `wait()` on the execution:"
   ]
  },
  {
   "cell_type": "code",
   "execution_count": 12,
   "metadata": {},
   "outputs": [],
   "source": [
    "# execution.wait()"
   ]
  },
  {
   "cell_type": "markdown",
   "metadata": {},
   "source": [
    "We can list the execution steps to check out the status and artifacts:"
   ]
  },
  {
   "cell_type": "code",
   "execution_count": 13,
   "metadata": {},
   "outputs": [
    {
     "data": {
      "text/plain": [
       "[]"
      ]
     },
     "execution_count": 13,
     "metadata": {},
     "output_type": "execute_result"
    }
   ],
   "source": [
    "execution.list_steps()"
   ]
  },
  {
   "cell_type": "markdown",
   "metadata": {},
   "source": [
    "### Parameterized Executions\n",
    "\n",
    "We can run additional executions of the pipeline specifying different pipeline parameters. The parameters argument is a dictionary whose names are the parameter names, and whose values are the primitive values to use as overrides of the defaults.\n",
    "\n",
    "Of particular note, based on the performance of the model, we may want to kick off another pipeline execution, but this time on a compute-optimized instance type and set the model approval status automatically be \"Approved\". This means that the model package version generated by the `RegisterModel` step will automatically be ready for deployment through CI/CD pipelines, such as with SageMaker Projects."
   ]
  },
  {
   "cell_type": "code",
   "execution_count": 14,
   "metadata": {},
   "outputs": [],
   "source": [
    "execution = pipeline.start(\n",
    "    parameters=dict(\n",
    "        ProcessingInstanceType=\"ml.c5.xlarge\",\n",
    "        ModelApprovalStatus=\"Approved\",\n",
    "    )\n",
    ")"
   ]
  },
  {
   "cell_type": "code",
   "execution_count": 16,
   "metadata": {},
   "outputs": [],
   "source": [
    "# execution.wait()"
   ]
  },
  {
   "cell_type": "code",
   "execution_count": null,
   "metadata": {},
   "outputs": [],
   "source": [
    "execution.list_steps()"
   ]
  },
  {
   "cell_type": "markdown",
   "metadata": {},
   "source": [
    "# It is the same for the QA pipeline"
   ]
  },
  {
   "cell_type": "code",
   "execution_count": 19,
   "metadata": {},
   "outputs": [
    {
     "name": "stderr",
     "output_type": "stream",
     "text": [
      "The class JsonGet has been renamed in sagemaker>=2.\n",
      "See: https://sagemaker.readthedocs.io/en/stable/v2.html for details.\n",
      "The class JsonGet has been renamed in sagemaker>=2.\n",
      "See: https://sagemaker.readthedocs.io/en/stable/v2.html for details.\n",
      "No finished training job found associated with this estimator. Please make sure this estimator is only used for building workflow config\n"
     ]
    },
    {
     "name": "stdout",
     "output_type": "stream",
     "text": [
      "{'Metadata': {},\n",
      " 'Parameters': [{'DefaultValue': 's3://sm-nlp-data/nlu/data/qa_raw.zip',\n",
      "                 'Name': 'InputData',\n",
      "                 'Type': 'String'},\n",
      "                {'DefaultValue': 's3://sm-nlp-data/nlu/data/processed/',\n",
      "                 'Name': 'ProcessingOutputData',\n",
      "                 'Type': 'String'},\n",
      "                {'DefaultValue': '0.1',\n",
      "                 'Name': 'ValidationSplit',\n",
      "                 'Type': 'String'},\n",
      "                {'DefaultValue': '0.1', 'Name': 'TestSplit', 'Type': 'String'},\n",
      "                {'DefaultValue': 1,\n",
      "                 'Name': 'ProcessingInstanceCount',\n",
      "                 'Type': 'Integer'},\n",
      "                {'DefaultValue': 'ml.c5.2xlarge',\n",
      "                 'Name': 'ProcessingInstanceType',\n",
      "                 'Type': 'String'},\n",
      "                {'DefaultValue': 'ml.g4dn.4xlarge',\n",
      "                 'Name': 'TrainInstanceType',\n",
      "                 'Type': 'String'},\n",
      "                {'DefaultValue': 1,\n",
      "                 'Name': 'TrainInstanceCount',\n",
      "                 'Type': 'Integer'},\n",
      "                {'DefaultValue': '10', 'Name': 'Epochs', 'Type': 'String'},\n",
      "                {'DefaultValue': '5e-5',\n",
      "                 'Name': 'LearningRate',\n",
      "                 'Type': 'String'},\n",
      "                {'DefaultValue': '64', 'Name': 'BatchSize', 'Type': 'String'},\n",
      "                {'DefaultValue': '50',\n",
      "                 'Name': 'MaxSeqLength',\n",
      "                 'Type': 'String'},\n",
      "                {'DefaultValue': 1,\n",
      "                 'Name': 'EvaluationInstanceCount',\n",
      "                 'Type': 'Integer'},\n",
      "                {'DefaultValue': 'ml.c5.2xlarge',\n",
      "                 'Name': 'EvaluationInstanceType',\n",
      "                 'Type': 'String'},\n",
      "                {'DefaultValue': 'ml.c5.4xlarge',\n",
      "                 'Name': 'InferenceInstanceType',\n",
      "                 'Type': 'String'},\n",
      "                {'DefaultValue': 'PendingManualApproval',\n",
      "                 'Name': 'ModelApprovalStatus',\n",
      "                 'Type': 'String'},\n",
      "                {'DefaultValue': 'ml.m4.xlarge',\n",
      "                 'Name': 'DeployInstanceType',\n",
      "                 'Type': 'String'},\n",
      "                {'DefaultValue': 0.9,\n",
      "                 'Name': 'MinIntentAccuracy',\n",
      "                 'Type': 'Float'},\n",
      "                {'DefaultValue': 0.95, 'Name': 'MinSlotF1', 'Type': 'Float'}],\n",
      " 'PipelineExperimentConfig': {'ExperimentName': {'Get': 'Execution.PipelineName'},\n",
      "                              'TrialName': {'Get': 'Execution.PipelineExecutionId'}},\n",
      " 'Steps': [{'Arguments': {'AppSpecification': {'ContainerArguments': ['--input-data',\n",
      "                                                                      '/opt/ml/processing/qa/data/raw',\n",
      "                                                                      '--validation-split',\n",
      "                                                                      {'Get': 'Parameters.ValidationSplit'},\n",
      "                                                                      '--test-split',\n",
      "                                                                      {'Get': 'Parameters.TestSplit'}],\n",
      "                                               'ContainerEntrypoint': ['python3',\n",
      "                                                                       '/opt/ml/processing/input/code/preprocess.py'],\n",
      "                                               'ImageUri': '683313688378.dkr.ecr.us-east-1.amazonaws.com/sagemaker-scikit-learn:0.23-1-cpu-py3'},\n",
      "                          'Environment': {'AWS_DEFAULT_REGION': 'us-east-1'},\n",
      "                          'ProcessingInputs': [{'AppManaged': False,\n",
      "                                                'InputName': 'raw',\n",
      "                                                'S3Input': {'LocalPath': '/opt/ml/processing/qa/data/raw',\n",
      "                                                            'S3CompressionType': 'None',\n",
      "                                                            'S3DataDistributionType': 'ShardedByS3Key',\n",
      "                                                            'S3DataType': 'S3Prefix',\n",
      "                                                            'S3InputMode': 'File',\n",
      "                                                            'S3Uri': {'Get': 'Parameters.InputData'}}},\n",
      "                                               {'AppManaged': False,\n",
      "                                                'InputName': 'code',\n",
      "                                                'S3Input': {'LocalPath': '/opt/ml/processing/input/code',\n",
      "                                                            'S3CompressionType': 'None',\n",
      "                                                            'S3DataDistributionType': 'FullyReplicated',\n",
      "                                                            'S3DataType': 'S3Prefix',\n",
      "                                                            'S3InputMode': 'File',\n",
      "                                                            'S3Uri': 's3://sagemaker-us-east-1-093729152554/sagemaker-scikit-learn-2021-09-08-11-33-23-425/input/code/preprocess.py'}}],\n",
      "                          'ProcessingOutputConfig': {'Outputs': [{'AppManaged': False,\n",
      "                                                                  'OutputName': 'train',\n",
      "                                                                  'S3Output': {'LocalPath': '/opt/ml/processing/qa/data/processed',\n",
      "                                                                               'S3UploadMode': 'EndOfJob',\n",
      "                                                                               'S3Uri': {'Get': 'Parameters.ProcessingOutputData'}}}]},\n",
      "                          'ProcessingResources': {'ClusterConfig': {'InstanceCount': {'Get': 'Parameters.ProcessingInstanceCount'},\n",
      "                                                                    'InstanceType': {'Get': 'Parameters.ProcessingInstanceType'},\n",
      "                                                                    'VolumeSizeInGB': 30}},\n",
      "                          'RoleArn': 'arn:aws:iam::093729152554:role/service-role/AWSNeptuneNotebookRole-NepTestRole'},\n",
      "            'Name': 'Processing',\n",
      "            'Type': 'Processing'},\n",
      "           {'Arguments': {'AlgorithmSpecification': {'EnableSageMakerMetricsTimeSeries': True,\n",
      "                                                     'MetricDefinitions': [{'Name': 'eval:intent_acc',\n",
      "                                                                            'Regex': 'intent_acc '\n",
      "                                                                                     '= '\n",
      "                                                                                     '([0-9\\\\.]+)'},\n",
      "                                                                           {'Name': 'eval:loss',\n",
      "                                                                            'Regex': 'loss '\n",
      "                                                                                     '= '\n",
      "                                                                                     '([0-9\\\\.]+)'},\n",
      "                                                                           {'Name': 'eval:semantic_frame_acc',\n",
      "                                                                            'Regex': 'sementic_frame_acc '\n",
      "                                                                                     '= '\n",
      "                                                                                     '([0-9\\\\.]+)'},\n",
      "                                                                           {'Name': 'eval:slot_f1',\n",
      "                                                                            'Regex': 'slot_f1 '\n",
      "                                                                                     '= '\n",
      "                                                                                     '([0-9\\\\.]+)'},\n",
      "                                                                           {'Name': 'eval:slot_precision',\n",
      "                                                                            'Regex': 'slot_precision '\n",
      "                                                                                     '= '\n",
      "                                                                                     '([0-9\\\\.]+)'},\n",
      "                                                                           {'Name': 'eval:slot_recall',\n",
      "                                                                            'Regex': 'slot_recall '\n",
      "                                                                                     '= '\n",
      "                                                                                     '([0-9\\\\.]+)'}],\n",
      "                                                     'TrainingImage': '763104351884.dkr.ecr.us-east-1.amazonaws.com/pytorch-training:1.8.1-gpu-py3',\n",
      "                                                     'TrainingInputMode': 'File'},\n",
      "                          'DebugHookConfig': {'CollectionConfigurations': [],\n",
      "                                              'S3OutputPath': 's3://sm-nlp-data/nlu/debug'},\n",
      "                          'HyperParameters': {'do_eval': '\"False\"',\n",
      "                                              'do_train': '\"True\"',\n",
      "                                              'learning_rate': {'Get': 'Parameters.LearningRate'},\n",
      "                                              'max_seq_len': {'Get': 'Parameters.MaxSeqLength'},\n",
      "                                              'model_type': '\"bert\"',\n",
      "                                              'num_train_epochs': {'Get': 'Parameters.Epochs'},\n",
      "                                              'sagemaker_container_log_level': '20',\n",
      "                                              'sagemaker_job_name': '\"pytorch-training-2021-09-08-11-33-23-624\"',\n",
      "                                              'sagemaker_program': '\"main.py\"',\n",
      "                                              'sagemaker_region': '\"us-east-1\"',\n",
      "                                              'sagemaker_submit_directory': '\"s3://sm-nlp-data/nlu/source/train/pytorch-training-2021-09-08-11-33-23-624/source/sourcedir.tar.gz\"',\n",
      "                                              'task': '\"naive\"',\n",
      "                                              'train_batch_size': {'Get': 'Parameters.BatchSize'}},\n",
      "                          'InputDataConfig': [{'ChannelName': 'train',\n",
      "                                               'DataSource': {'S3DataSource': {'S3DataDistributionType': 'FullyReplicated',\n",
      "                                                                               'S3DataType': 'S3Prefix',\n",
      "                                                                               'S3Uri': {'Get': \"Steps.Processing.ProcessingOutputConfig.Outputs['train'].S3Output.S3Uri\"}}}}],\n",
      "                          'OutputDataConfig': {'S3OutputPath': 's3://sm-nlp-data/nlu/outputs'},\n",
      "                          'ProfilerConfig': {'ProfilingIntervalInMilliseconds': 500,\n",
      "                                             'ProfilingParameters': {'DataloaderProfilingConfig': '{\"StartStep\": '\n",
      "                                                                                                  '5, '\n",
      "                                                                                                  '\"NumSteps\": '\n",
      "                                                                                                  '10, '\n",
      "                                                                                                  '\"MetricsRegex\": '\n",
      "                                                                                                  '\".*\", '\n",
      "                                                                                                  '}',\n",
      "                                                                     'DetailedProfilingConfig': '{\"StartStep\": '\n",
      "                                                                                                '5, '\n",
      "                                                                                                '\"NumSteps\": '\n",
      "                                                                                                '10, '\n",
      "                                                                                                '}',\n",
      "                                                                     'FileOpenFailThreshold': '50',\n",
      "                                                                     'HorovodProfilingConfig': '{\"StartStep\": '\n",
      "                                                                                               '5, '\n",
      "                                                                                               '\"NumSteps\": '\n",
      "                                                                                               '10, '\n",
      "                                                                                               '}',\n",
      "                                                                     'LocalPath': '/opt/ml/output/profiler/',\n",
      "                                                                     'PythonProfilingConfig': '{\"StartStep\": '\n",
      "                                                                                              '5, '\n",
      "                                                                                              '\"NumSteps\": '\n",
      "                                                                                              '10, '\n",
      "                                                                                              '\"ProfilerName\": '\n",
      "                                                                                              '\"cprofile\", '\n",
      "                                                                                              '\"cProfileTimer\": '\n",
      "                                                                                              '\"total_time\", '\n",
      "                                                                                              '}',\n",
      "                                                                     'RotateFileCloseIntervalInSeconds': '60',\n",
      "                                                                     'RotateMaxFileSizeInBytes': '10485760',\n",
      "                                                                     'SMDataParallelProfilingConfig': '{\"StartStep\": '\n",
      "                                                                                                      '5, '\n",
      "                                                                                                      '\"NumSteps\": '\n",
      "                                                                                                      '10, '\n",
      "                                                                                                      '}'},\n",
      "                                             'S3OutputPath': 's3://sm-nlp-data/nlu/outputs'},\n",
      "                          'ProfilerRuleConfigurations': [{'RuleConfigurationName': 'ProfilerReport',\n",
      "                                                          'RuleEvaluatorImage': '503895931360.dkr.ecr.us-east-1.amazonaws.com/sagemaker-debugger-rules:latest',\n",
      "                                                          'RuleParameters': {'rule_to_invoke': 'ProfilerReport'}}],\n",
      "                          'ResourceConfig': {'InstanceCount': {'Get': 'Parameters.TrainInstanceCount'},\n",
      "                                             'InstanceType': {'Get': 'Parameters.TrainInstanceType'},\n",
      "                                             'VolumeSizeInGB': 30},\n",
      "                          'RoleArn': 'arn:aws:iam::093729152554:role/service-role/AWSNeptuneNotebookRole-NepTestRole',\n",
      "                          'StoppingCondition': {'MaxRuntimeInSeconds': 86400}},\n",
      "            'CacheConfig': {'Enabled': True, 'ExpireAfter': 'PT1H'},\n",
      "            'Name': 'Train',\n",
      "            'Type': 'Training'},\n",
      "           {'Arguments': {'AppSpecification': {'ContainerArguments': ['--do_eval',\n",
      "                                                                      'True',\n",
      "                                                                      '--do_train',\n",
      "                                                                      'False',\n",
      "                                                                      '--model_dir',\n",
      "                                                                      '/opt/ml/processing/input/model/',\n",
      "                                                                      '--task',\n",
      "                                                                      'naive',\n",
      "                                                                      '--model_type',\n",
      "                                                                      'bert',\n",
      "                                                                      '--output_data_dir',\n",
      "                                                                      '/opt/ml/processing/output/metrics/',\n",
      "                                                                      '--data_dir',\n",
      "                                                                      '/opt/ml/processing/input/data'],\n",
      "                                               'ContainerEntrypoint': ['python3',\n",
      "                                                                       '/opt/ml/processing/input/code/main.py'],\n",
      "                                               'ImageUri': '683313688378.dkr.ecr.us-east-1.amazonaws.com/sagemaker-scikit-learn:0.23-1-cpu-py3'},\n",
      "                          'Environment': {'AWS_DEFAULT_REGION': 'us-east-1'},\n",
      "                          'ProcessingInputs': [{'AppManaged': False,\n",
      "                                                'InputName': 'model',\n",
      "                                                'S3Input': {'LocalPath': '/opt/ml/processing/input/model',\n",
      "                                                            'S3CompressionType': 'None',\n",
      "                                                            'S3DataDistributionType': 'FullyReplicated',\n",
      "                                                            'S3DataType': 'S3Prefix',\n",
      "                                                            'S3InputMode': 'File',\n",
      "                                                            'S3Uri': {'Get': 'Steps.Train.ModelArtifacts.S3ModelArtifacts'}}},\n",
      "                                               {'AppManaged': False,\n",
      "                                                'InputName': 'data',\n",
      "                                                'S3Input': {'LocalPath': '/opt/ml/processing/input/data',\n",
      "                                                            'S3CompressionType': 'None',\n",
      "                                                            'S3DataDistributionType': 'FullyReplicated',\n",
      "                                                            'S3DataType': 'S3Prefix',\n",
      "                                                            'S3InputMode': 'File',\n",
      "                                                            'S3Uri': {'Get': \"Steps.Processing.ProcessingOutputConfig.Outputs['train'].S3Output.S3Uri\"}}},\n",
      "                                               {'AppManaged': False,\n",
      "                                                'InputName': 'code',\n",
      "                                                'S3Input': {'LocalPath': '/opt/ml/processing/input/code',\n",
      "                                                            'S3CompressionType': 'None',\n",
      "                                                            'S3DataDistributionType': 'FullyReplicated',\n",
      "                                                            'S3DataType': 'S3Prefix',\n",
      "                                                            'S3InputMode': 'File',\n",
      "                                                            'S3Uri': 's3://sagemaker-us-east-1-093729152554/sagemaker-scikit-learn-2021-09-08-11-33-24-423/input/code/main.py'}}],\n",
      "                          'ProcessingOutputConfig': {'Outputs': [{'AppManaged': False,\n",
      "                                                                  'OutputName': 'metrics',\n",
      "                                                                  'S3Output': {'LocalPath': '/opt/ml/processing/output/metrics/',\n",
      "                                                                               'S3UploadMode': 'EndOfJob',\n",
      "                                                                               'S3Uri': 's3://sagemaker-us-east-1-093729152554/sagemaker-scikit-learn-2021-09-08-11-33-23-243/output/metrics'}}]},\n",
      "                          'ProcessingResources': {'ClusterConfig': {'InstanceCount': {'Get': 'Parameters.EvaluationInstanceCount'},\n",
      "                                                                    'InstanceType': {'Get': 'Parameters.EvaluationInstanceType'},\n",
      "                                                                    'VolumeSizeInGB': 30}},\n",
      "                          'RoleArn': 'arn:aws:iam::093729152554:role/service-role/AWSNeptuneNotebookRole-NepTestRole',\n",
      "                          'StoppingCondition': {'MaxRuntimeInSeconds': 7200}},\n",
      "            'Name': 'EvaluateModel',\n",
      "            'PropertyFiles': [{'FilePath': 'evaluation.json',\n",
      "                               'OutputName': 'metrics',\n",
      "                               'PropertyFileName': 'EvaluationReport'}],\n",
      "            'Type': 'Processing'},\n",
      "           {'Arguments': {'Conditions': [{'LeftValue': {'Std:JsonGet': {'Path': 'intent_acc',\n",
      "                                                                        'PropertyFile': {'Get': 'Steps.EvaluateModel.PropertyFiles.EvaluationReport'}}},\n",
      "                                          'RightValue': {'Get': 'Parameters.MinIntentAccuracy'},\n",
      "                                          'Type': 'GreaterThanOrEqualTo'},\n",
      "                                         {'LeftValue': {'Std:JsonGet': {'Path': 'slot_f1',\n",
      "                                                                        'PropertyFile': {'Get': 'Steps.EvaluateModel.PropertyFiles.EvaluationReport'}}},\n",
      "                                          'RightValue': {'Get': 'Parameters.MinSlotF1'},\n",
      "                                          'Type': 'GreaterThanOrEqualTo'}],\n",
      "                          'ElseSteps': [],\n",
      "                          'IfSteps': [{'Arguments': {'InferenceSpecification': {'Containers': [{'Image': '763104351884.dkr.ecr.us-east-1.amazonaws.com/pytorch-inference:1.8.1-gpu-py3',\n",
      "                                                                                                'ModelDataUrl': {'Get': 'Steps.Train.ModelArtifacts.S3ModelArtifacts'}}],\n",
      "                                                                                'SupportedContentTypes': ['application/json'],\n",
      "                                                                                'SupportedRealtimeInferenceInstanceTypes': [{'Get': 'Parameters.DeployInstanceType'}],\n",
      "                                                                                'SupportedResponseMIMETypes': ['application/json'],\n",
      "                                                                                'SupportedTransformInstanceTypes': ['ml.c5.4xlarge']},\n",
      "                                                     'ModelApprovalStatus': {'Get': 'Parameters.ModelApprovalStatus'},\n",
      "                                                     'ModelMetrics': {'ModelQuality': {'Statistics': {'ContentType': 'application/json',\n",
      "                                                                                                      'S3Uri': 's3://sagemaker-us-east-1-093729152554/sagemaker-scikit-learn-2021-09-08-11-33-23-243/output/metrics/evaluation.json'}}},\n",
      "                                                     'ModelPackageGroupName': 'QAModelPackageGroup'},\n",
      "                                       'Name': 'QARegisterModel',\n",
      "                                       'Type': 'RegisterModel'},\n",
      "                                      {'Arguments': {'ExecutionRoleArn': 'arn:aws:iam::093729152554:role/service-role/AWSNeptuneNotebookRole-NepTestRole',\n",
      "                                                     'PrimaryContainer': {'Environment': {'SAGEMAKER_CONTAINER_LOG_LEVEL': '20',\n",
      "                                                                                          'SAGEMAKER_PROGRAM': 'inference.py',\n",
      "                                                                                          'SAGEMAKER_REGION': 'us-east-1',\n",
      "                                                                                          'SAGEMAKER_SUBMIT_DIRECTORY': 'file:///root/ckgqa-p-kiqtyrraeiec/sagemaker-ckgqa-p-kiqtyrraeiec-modelbuild/pipelines/qa'},\n",
      "                                                                          'Image': '763104351884.dkr.ecr.us-east-1.amazonaws.com/pytorch-inference-eia:1.3.1-cpu-py3',\n",
      "                                                                          'ModelDataUrl': {'Get': 'Steps.Train.ModelArtifacts.S3ModelArtifacts'}}},\n",
      "                                       'Name': 'CreateQAModel',\n",
      "                                       'Type': 'Model'}]},\n",
      "            'Name': 'IntentAndSlotCondition',\n",
      "            'Type': 'Condition'}],\n",
      " 'Version': '2020-12-01'}\n"
     ]
    }
   ],
   "source": [
    "from pipelines.qa.pipeline import get_pipeline\n",
    "import time\n",
    "\n",
    "pipeline = get_pipeline(\n",
    "    region=region,\n",
    "    role=role,\n",
    "    default_bucket=default_bucket,\n",
    "    model_package_group_name=\"QAModelPackageGroup\",\n",
    "    pipeline_name=f\"qa-pipeline-{int(time.time())}\",\n",
    ")\n",
    "\n",
    "definition = json.loads(pipeline.definition())\n",
    "pprint(definition)"
   ]
  },
  {
   "cell_type": "markdown",
   "metadata": {},
   "source": [
    "Prepare data for the QA pipeline"
   ]
  },
  {
   "cell_type": "code",
   "execution_count": 20,
   "metadata": {},
   "outputs": [
    {
     "name": "stdout",
     "output_type": "stream",
     "text": [
      "upload: pipelines/qa/data/qa_raw.zip to s3://sm-nlp-data/nlu/data/qa_raw.zip\n"
     ]
    }
   ],
   "source": [
    "!aws s3 cp pipelines/qa/data/qa_raw.zip s3://$default_bucket/nlu/data/qa_raw.zip"
   ]
  },
  {
   "cell_type": "code",
   "execution_count": 22,
   "metadata": {},
   "outputs": [
    {
     "name": "stderr",
     "output_type": "stream",
     "text": [
      "No finished training job found associated with this estimator. Please make sure this estimator is only used for building workflow config\n"
     ]
    },
    {
     "name": "stdout",
     "output_type": "stream",
     "text": [
      "arn:aws:sagemaker:us-east-1:093729152554:pipeline/qa-pipeline-16311008021631100802\n"
     ]
    }
   ],
   "source": [
    "response = pipeline.upsert(role_arn=role)\n",
    "pipeline_arn = response[\"PipelineArn\"]\n",
    "print(pipeline_arn)"
   ]
  },
  {
   "cell_type": "code",
   "execution_count": 23,
   "metadata": {},
   "outputs": [],
   "source": [
    "execution = pipeline.start(\n",
    "    parameters=dict(\n",
    "        InputData=f\"s3://{default_bucket}/nlu/data/qa_raw.zip\",\n",
    "        ProcessingOutputData=f\"s3://{default_bucket}/nlu/data/processed/\"\n",
    "    )\n",
    ")"
   ]
  },
  {
   "cell_type": "code",
   "execution_count": 24,
   "metadata": {},
   "outputs": [
    {
     "data": {
      "text/plain": [
       "{'PipelineArn': 'arn:aws:sagemaker:us-east-1:093729152554:pipeline/qa-pipeline-16311008021631100802',\n",
       " 'PipelineExecutionArn': 'arn:aws:sagemaker:us-east-1:093729152554:pipeline/qa-pipeline-16311008021631100802/execution/5b1f3d30mp9l',\n",
       " 'PipelineExecutionDisplayName': 'execution-1631101009815',\n",
       " 'PipelineExecutionStatus': 'Executing',\n",
       " 'CreationTime': datetime.datetime(2021, 9, 8, 11, 36, 49, 749000, tzinfo=tzlocal()),\n",
       " 'LastModifiedTime': datetime.datetime(2021, 9, 8, 11, 36, 49, 749000, tzinfo=tzlocal()),\n",
       " 'CreatedBy': {},\n",
       " 'LastModifiedBy': {},\n",
       " 'ResponseMetadata': {'RequestId': 'd4f2daa7-6144-4ac5-8137-a293f5f006f2',\n",
       "  'HTTPStatusCode': 200,\n",
       "  'HTTPHeaders': {'x-amzn-requestid': 'd4f2daa7-6144-4ac5-8137-a293f5f006f2',\n",
       "   'content-type': 'application/x-amz-json-1.1',\n",
       "   'content-length': '537',\n",
       "   'date': 'Wed, 08 Sep 2021 11:36:51 GMT'},\n",
       "  'RetryAttempts': 0}}"
      ]
     },
     "execution_count": 24,
     "metadata": {},
     "output_type": "execute_result"
    }
   ],
   "source": [
    "execution.describe()"
   ]
  },
  {
   "cell_type": "code",
   "execution_count": null,
   "metadata": {},
   "outputs": [],
   "source": []
  }
 ],
 "metadata": {
  "instance_type": "ml.g4dn.xlarge",
  "kernelspec": {
   "display_name": "Python 3 (PyTorch 1.6 Python 3.6 GPU Optimized)",
   "language": "python",
   "name": "python3__SAGEMAKER_INTERNAL__arn:aws:sagemaker:us-east-1:081325390199:image/pytorch-1.6-gpu-py36-cu110-ubuntu18.04-v3"
  },
  "language_info": {
   "codemirror_mode": {
    "name": "ipython",
    "version": 3
   },
   "file_extension": ".py",
   "mimetype": "text/x-python",
   "name": "python",
   "nbconvert_exporter": "python",
   "pygments_lexer": "ipython3",
   "version": "3.6.13"
  }
 },
 "nbformat": 4,
 "nbformat_minor": 4
}
