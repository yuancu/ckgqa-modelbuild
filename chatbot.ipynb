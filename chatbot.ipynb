{
 "cells": [
  {
   "cell_type": "markdown",
   "metadata": {},
   "source": [
    "# Telegram Chatbot Backed by KGQA with Lambda and API Gateway\n",
    "\n",
    "References:\n",
    "- [Building Your First Serverless Telegram Bot with AWS Lambda](https://iamondemand.com/blog/building-your-first-serverless-telegram-bot/)\n",
    "- [github:lesterchan/telegram-bot ](https://github.com/lesterchan/telegram-bot)\n",
    "- [Simple Telegram Bot with Python and AWS Lambda](https://levelup.gitconnected.com/simple-telegram-bot-with-python-and-aws-lambda-5eab1066b466)\n",
    "- [API GatewayとLambda(Python)でLINE BOT(Messaging API)開発](https://qiita.com/w2or3w/items/1b80bfbae59fe19e2015)\n",
    "- [API Gateway + LambdaでLINE Bot開発](https://xp-cloud.jp/blog/2019/06/24/5560/)\n",
    "- [Serverless github bot with AWS Lambda and API Gateway](https://kalinchernev.github.io/serverless-github-bot-aws-lambda-api-gateway-nodejs)\n",
    "- [Writing a Serverless Slack Bot](https://messagemedia.com/au/blog/writing-a-serverless-slack-bot/)\n",
    "- [Build Chatbots using Serverless Bot Framework with Salesforce Integration](https://aws.amazon.com/blogs/architecture/build-chatbots-using-serverless-bot-framework-with-salesforce-integration/)\n",
    "- [How to Deploy a Telegram Bot with Flask, pyTelegramBotAPI, Gunicorn and PostgreSQL to Heroku](https://medium.com/tech-insights/how-to-deploy-a-telegram-bot-with-flask-pytelegrambotapi-gunicorn-and-postgresql-to-heroku-19d87959a65)\n",
    "- [I built a serverless Telegram bot over the weekend. Here’s what I learned.](https://www.freecodecamp.org/news/how-to-build-a-server-less-telegram-bot-227f842f4706/)"
   ]
  },
  {
   "cell_type": "markdown",
   "metadata": {},
   "source": [
    "## Part 1: End-to-end Invocation\n",
    "\n",
    "We write codes of converting a question to an answer in this part.\n",
    "\n",
    "Environment variables:"
   ]
  },
  {
   "cell_type": "code",
   "execution_count": 18,
   "metadata": {},
   "outputs": [],
   "source": [
    "import boto3\n",
    "neptune_db_cluster_identifier = 'kg-neptune'\n",
    "nlu_endpoint_name_contains = 'qa-model-from-registry-ep'"
   ]
  },
  {
   "cell_type": "code",
   "execution_count": 80,
   "metadata": {},
   "outputs": [
    {
     "data": {
      "text/plain": [
       "{'AllocatedStorage': 1,\n",
       " 'AvailabilityZones': ['us-east-1b', 'us-east-1a', 'us-east-1c'],\n",
       " 'BackupRetentionPeriod': 1,\n",
       " 'DBClusterIdentifier': 'kg-neptune',\n",
       " 'DBClusterParameterGroup': 'default.neptune1',\n",
       " 'DBSubnetGroup': 'default',\n",
       " 'Status': 'available',\n",
       " 'EarliestRestorableTime': datetime.datetime(2021, 9, 27, 9, 56, 26, 863000, tzinfo=tzlocal()),\n",
       " 'Endpoint': 'kg-neptune.cluster-c2ycbhkszo5s.us-east-1.neptune.amazonaws.com',\n",
       " 'ReaderEndpoint': 'kg-neptune.cluster-ro-c2ycbhkszo5s.us-east-1.neptune.amazonaws.com',\n",
       " 'MultiAZ': False,\n",
       " 'Engine': 'neptune',\n",
       " 'EngineVersion': '1.0.5.0',\n",
       " 'LatestRestorableTime': datetime.datetime(2021, 9, 29, 2, 43, 12, 181000, tzinfo=tzlocal()),\n",
       " 'Port': 8182,\n",
       " 'MasterUsername': 'admin',\n",
       " 'PreferredBackupWindow': '09:47-10:17',\n",
       " 'PreferredMaintenanceWindow': 'fri:05:05-fri:05:35',\n",
       " 'ReadReplicaIdentifiers': [],\n",
       " 'DBClusterMembers': [{'DBInstanceIdentifier': 'kg-neptune-instance-1',\n",
       "   'IsClusterWriter': True,\n",
       "   'DBClusterParameterGroupStatus': 'in-sync',\n",
       "   'PromotionTier': 1}],\n",
       " 'VpcSecurityGroups': [{'VpcSecurityGroupId': 'sg-dc24d3db',\n",
       "   'Status': 'active'}],\n",
       " 'HostedZoneId': 'ZUFXD4SLT2LS7',\n",
       " 'StorageEncrypted': False,\n",
       " 'DbClusterResourceId': 'cluster-TW3ECHDRCDH4RVI4CDRZFG3OYI',\n",
       " 'DBClusterArn': 'arn:aws:rds:us-east-1:093729152554:cluster:kg-neptune',\n",
       " 'AssociatedRoles': [],\n",
       " 'IAMDatabaseAuthenticationEnabled': False,\n",
       " 'ClusterCreateTime': datetime.datetime(2021, 9, 15, 11, 4, 29, 47000, tzinfo=tzlocal()),\n",
       " 'CopyTagsToSnapshot': False,\n",
       " 'DeletionProtection': False,\n",
       " 'CrossAccountClone': False}"
      ]
     },
     "execution_count": 80,
     "metadata": {},
     "output_type": "execute_result"
    }
   ],
   "source": [
    "neptune = boto3.client('neptune')\n",
    "response = neptune.describe_db_clusters(DBClusterIdentifier=neptune_db_cluster_identifier)\n",
    "neptue_endpoint_desc = response['DBClusters'][0]\n",
    "neptue_endpoint_desc"
   ]
  },
  {
   "cell_type": "code",
   "execution_count": 81,
   "metadata": {},
   "outputs": [
    {
     "data": {
      "text/plain": [
       "{'DBClusters': [{'AllocatedStorage': 1,\n",
       "   'AvailabilityZones': ['us-east-1b', 'us-east-1a', 'us-east-1c'],\n",
       "   'BackupRetentionPeriod': 1,\n",
       "   'DBClusterIdentifier': 'kg-neptune',\n",
       "   'DBClusterParameterGroup': 'default.neptune1',\n",
       "   'DBSubnetGroup': 'default',\n",
       "   'Status': 'available',\n",
       "   'EarliestRestorableTime': datetime.datetime(2021, 9, 27, 9, 56, 26, 863000, tzinfo=tzlocal()),\n",
       "   'Endpoint': 'kg-neptune.cluster-c2ycbhkszo5s.us-east-1.neptune.amazonaws.com',\n",
       "   'ReaderEndpoint': 'kg-neptune.cluster-ro-c2ycbhkszo5s.us-east-1.neptune.amazonaws.com',\n",
       "   'MultiAZ': False,\n",
       "   'Engine': 'neptune',\n",
       "   'EngineVersion': '1.0.5.0',\n",
       "   'LatestRestorableTime': datetime.datetime(2021, 9, 29, 2, 43, 12, 181000, tzinfo=tzlocal()),\n",
       "   'Port': 8182,\n",
       "   'MasterUsername': 'admin',\n",
       "   'PreferredBackupWindow': '09:47-10:17',\n",
       "   'PreferredMaintenanceWindow': 'fri:05:05-fri:05:35',\n",
       "   'ReadReplicaIdentifiers': [],\n",
       "   'DBClusterMembers': [{'DBInstanceIdentifier': 'kg-neptune-instance-1',\n",
       "     'IsClusterWriter': True,\n",
       "     'DBClusterParameterGroupStatus': 'in-sync',\n",
       "     'PromotionTier': 1}],\n",
       "   'VpcSecurityGroups': [{'VpcSecurityGroupId': 'sg-dc24d3db',\n",
       "     'Status': 'active'}],\n",
       "   'HostedZoneId': 'ZUFXD4SLT2LS7',\n",
       "   'StorageEncrypted': False,\n",
       "   'DbClusterResourceId': 'cluster-TW3ECHDRCDH4RVI4CDRZFG3OYI',\n",
       "   'DBClusterArn': 'arn:aws:rds:us-east-1:093729152554:cluster:kg-neptune',\n",
       "   'AssociatedRoles': [],\n",
       "   'IAMDatabaseAuthenticationEnabled': False,\n",
       "   'ClusterCreateTime': datetime.datetime(2021, 9, 15, 11, 4, 29, 47000, tzinfo=tzlocal()),\n",
       "   'CopyTagsToSnapshot': False,\n",
       "   'DeletionProtection': False,\n",
       "   'CrossAccountClone': False}],\n",
       " 'ResponseMetadata': {'RequestId': '09b7f408-4af3-4b20-bab3-a55c1caf00bb',\n",
       "  'HTTPStatusCode': 200,\n",
       "  'HTTPHeaders': {'x-amzn-requestid': '09b7f408-4af3-4b20-bab3-a55c1caf00bb',\n",
       "   'content-type': 'text/xml',\n",
       "   'content-length': '3247',\n",
       "   'date': 'Wed, 29 Sep 2021 02:44:15 GMT'},\n",
       "  'RetryAttempts': 0}}"
      ]
     },
     "execution_count": 81,
     "metadata": {},
     "output_type": "execute_result"
    }
   ],
   "source": [
    "response"
   ]
  },
  {
   "cell_type": "code",
   "execution_count": 20,
   "metadata": {},
   "outputs": [
    {
     "data": {
      "text/plain": [
       "{'EndpointName': 'qa-model-from-registry-ep',\n",
       " 'EndpointArn': 'arn:aws:sagemaker:us-east-1:093729152554:endpoint/qa-model-from-registry-ep',\n",
       " 'CreationTime': datetime.datetime(2021, 9, 28, 1, 54, 31, 267000, tzinfo=tzlocal()),\n",
       " 'LastModifiedTime': datetime.datetime(2021, 9, 28, 2, 2, 51, 936000, tzinfo=tzlocal()),\n",
       " 'EndpointStatus': 'InService'}"
      ]
     },
     "execution_count": 20,
     "metadata": {},
     "output_type": "execute_result"
    }
   ],
   "source": [
    "sm = boto3.client('sagemaker')\n",
    "response = sm.list_endpoints(\n",
    "    NameContains=nlu_endpoint_name_contains\n",
    ")\n",
    "nlu_endpoint_desc = response['Endpoints'][0]\n",
    "nlu_endpoint_desc"
   ]
  },
  {
   "cell_type": "code",
   "execution_count": 21,
   "metadata": {},
   "outputs": [],
   "source": [
    "neptune_endpoint = neptue_endpoint_desc['Endpoint']\n",
    "neptune_endpoint_port = neptue_endpoint_desc['Port']\n",
    "nlu_endpoint_name = nlu_endpoint_desc['EndpointName']"
   ]
  },
  {
   "cell_type": "markdown",
   "metadata": {},
   "source": [
    "Function for running graph query"
   ]
  },
  {
   "cell_type": "code",
   "execution_count": null,
   "metadata": {},
   "outputs": [],
   "source": [
    "!pip install gremlinpython"
   ]
  },
  {
   "cell_type": "code",
   "execution_count": 200,
   "metadata": {},
   "outputs": [],
   "source": [
    "from gremlin_python import statics\n",
    "from gremlin_python.structure.graph import Graph\n",
    "from gremlin_python.process.graph_traversal import __\n",
    "from gremlin_python.process.strategies import *\n",
    "from gremlin_python.driver.driver_remote_connection import DriverRemoteConnection\n",
    "\n",
    "def query_neptune(expr, neptune_endpoint, port):\n",
    "    graph = Graph()\n",
    "    if port == 80 or port == '80': # use unencrypted web socket if port is an http port\n",
    "        neptune_web_socket = f\"ws://{neptune_endpoint}:{port}/gremlin\"\n",
    "    else:\n",
    "        neptune_web_socket = f\"wss://{neptune_endpoint}:{port}/gremlin\"\n",
    "    remoteConn = DriverRemoteConnection(neptune_web_socket,'g')\n",
    "    g = graph.traversal().withRemote(remoteConn)\n",
    "    result = eval(expr)\n",
    "    remoteConn.close()\n",
    "    return result"
   ]
  },
  {
   "cell_type": "markdown",
   "metadata": {},
   "source": [
    "Function for converting question to intention and values. "
   ]
  },
  {
   "cell_type": "code",
   "execution_count": 29,
   "metadata": {},
   "outputs": [],
   "source": [
    "import json\n",
    "import sagemaker\n",
    "from sagemaker.pytorch.model import PyTorchPredictor\n",
    "from sagemaker.serializers import CSVSerializer\n",
    "from sagemaker.deserializers import JSONDeserializer\n",
    "\n",
    "def parse_questions(questions, nlu_endpoint_name):\n",
    "    '''\n",
    "    Args:\n",
    "        questions (list(str)): A list of natural language questions\n",
    "    '''\n",
    "    sess = sagemaker.Session()\n",
    "    predictor = PyTorchPredictor(\n",
    "        endpoint_name=nlu_endpoint_name,\n",
    "        sagemaker_session=sess,\n",
    "        serializer=CSVSerializer(),\n",
    "        deserializer=JSONDeserializer(),\n",
    "    )\n",
    "    predicted = predictor.predict(questions)\n",
    "    return predicted['text'], predicted['intentions'], predicted['slot_labels']"
   ]
  },
  {
   "cell_type": "code",
   "execution_count": 49,
   "metadata": {},
   "outputs": [],
   "source": [
    "def extract_slot_values(question, seq_label):\n",
    "    assert len(question) == len(seq_label), f\"question {question} should have the same \\\n",
    "length with sequence label {seq_label} ({len(question)} != {len(seq_label)})\"\n",
    "    value_buf = ''\n",
    "    slot_buf = ''\n",
    "    values = []\n",
    "    slots = []\n",
    "    for i, l in enumerate(seq_label):\n",
    "        if l.startswith('B'):\n",
    "            if value_buf != '':\n",
    "                values.append(value_buf)\n",
    "                slots.append(slot_buf)\n",
    "            slot_buf = l[2:] # extract label part from B_label\n",
    "            value_buf = question[i]\n",
    "        elif l.startswith('I'):\n",
    "            value_buf += question[i]\n",
    "        elif l.startswith('O'):\n",
    "            if value_buf != '':\n",
    "                values.append(value_buf)\n",
    "                slots.append(slot_buf)\n",
    "            value_buf = ''\n",
    "            slot_buf = ''  \n",
    "    return slots, values"
   ]
  },
  {
   "cell_type": "markdown",
   "metadata": {},
   "source": [
    "Function for generating graph query:"
   ]
  },
  {
   "cell_type": "code",
   "execution_count": 122,
   "metadata": {},
   "outputs": [],
   "source": [
    "query_templates = {\n",
    "    'ask_alumni': \"g.V().has('学校', 'name', '{}').inE().hasLabel('毕业院校').outV().values('name').toList()\",\n",
    "    'ask_school': \"g.V().has('人物','name','{}').out('毕业院校').values('name').next()\",\n",
    "    'ask_books': \"g.V().has('人物', 'name', '{}').inE().hasLabel('作者').outV().values('name').toList()\", \n",
    "    'ask_author': \"g.V().has('图书作品','name','{}').out('作者').values('name').next()\",\n",
    "    'ask_wife': \"g.V().has('人物','name','{}').out('妻子').values('name').next()\",\n",
    "    'ask_husband': \"g.V().has('人物','name','{}').out('丈夫').values('name').next()\",\n",
    "    'ask_films': \"g.V().has('人物', 'name', '{}').inE().hasLabel('导演').outV().values('name').toList()\",\n",
    "    'ask_director': \"g.V().has('影视作品','name','{}').out('导演').values('name').next()\",\n",
    "    'ask_nationality': \"g.V().has('人物','name','{}').out('国籍').values('name').next()\"\n",
    "}"
   ]
  },
  {
   "cell_type": "code",
   "execution_count": 53,
   "metadata": {},
   "outputs": [],
   "source": [
    "def generate_graph_query(intent, slots, values, query_templates):\n",
    "    if intent not in query_templates.keys():\n",
    "        raise Exception(f\"Query templates does not have a template for {intent}\")\n",
    "    template = query_templates[intent]\n",
    "    query = template.format(*values)\n",
    "    return query"
   ]
  },
  {
   "cell_type": "code",
   "execution_count": 89,
   "metadata": {},
   "outputs": [],
   "source": [
    "question = '张艺谋导演了哪些电影'"
   ]
  },
  {
   "cell_type": "code",
   "execution_count": 54,
   "metadata": {},
   "outputs": [
    {
     "name": "stdout",
     "output_type": "stream",
     "text": [
      "Intentions:\n",
      "['ask_films']\n",
      "Slot labels:\n",
      "[['B_name', 'I_name', 'I_name', 'O', 'O', 'O', 'O', 'O', 'O', 'O']]\n"
     ]
    }
   ],
   "source": [
    "_, intentions, slot_labels = parse_questions([question], nlu_endpoint_name)\n",
    "print('Intentions:')\n",
    "print(intentions)\n",
    "print('Slot labels:')\n",
    "print(slot_labels)"
   ]
  },
  {
   "cell_type": "code",
   "execution_count": 55,
   "metadata": {},
   "outputs": [
    {
     "data": {
      "text/plain": [
       "(['name'], ['张艺谋'])"
      ]
     },
     "execution_count": 55,
     "metadata": {},
     "output_type": "execute_result"
    }
   ],
   "source": [
    "slots, values = extract_slot_values(question, slot_labels[0])\n",
    "slots, values"
   ]
  },
  {
   "cell_type": "code",
   "execution_count": 57,
   "metadata": {},
   "outputs": [
    {
     "data": {
      "text/plain": [
       "\"g.V().has('人物', 'name', '张艺谋').inE().hasLabel('导演').outV().values('name').toList()\""
      ]
     },
     "execution_count": 57,
     "metadata": {},
     "output_type": "execute_result"
    }
   ],
   "source": [
    "query = generate_graph_query(intentions[0], slots, values, query_templates)\n",
    "query"
   ]
  },
  {
   "cell_type": "markdown",
   "metadata": {},
   "source": [
    "To run the query event loop in jupyter notebook event look, run following cell:"
   ]
  },
  {
   "cell_type": "code",
   "execution_count": 60,
   "metadata": {},
   "outputs": [
    {
     "name": "stdout",
     "output_type": "stream",
     "text": [
      "/opt/conda/lib/python3.7/site-packages/secretstorage/dhcrypto.py:16: CryptographyDeprecationWarning: int_from_bytes is deprecated, use int.from_bytes instead\n",
      "  from cryptography.utils import int_from_bytes\n",
      "/opt/conda/lib/python3.7/site-packages/secretstorage/util.py:25: CryptographyDeprecationWarning: int_from_bytes is deprecated, use int.from_bytes instead\n",
      "  from cryptography.utils import int_from_bytes\n",
      "Requirement already satisfied: nest_asyncio in /opt/conda/lib/python3.7/site-packages (1.5.1)\n",
      "\u001b[33mWARNING: Running pip as the 'root' user can result in broken permissions and conflicting behaviour with the system package manager. It is recommended to use a virtual environment instead: https://pip.pypa.io/warnings/venv\u001b[0m\n"
     ]
    }
   ],
   "source": [
    "!pip install nest_asyncio\n",
    "import nest_asyncio\n",
    "nest_asyncio.apply()"
   ]
  },
  {
   "cell_type": "markdown",
   "metadata": {},
   "source": [
    "Use this command to check connectivity and status of your Neptune endpoint:"
   ]
  },
  {
   "cell_type": "code",
   "execution_count": 70,
   "metadata": {},
   "outputs": [
    {
     "name": "stdout",
     "output_type": "stream",
     "text": [
      "curl: (28) Failed to connect to database-2.cluster-ro-c2ycbhkszo5s.us-east-1.neptune.amazonaws.com port 8182: Connection timed out\n"
     ]
    }
   ],
   "source": [
    "!curl database-2.cluster-ro-c2ycbhkszo5s.us-east-1.neptune.amazonaws.com:8182/status"
   ]
  },
  {
   "cell_type": "code",
   "execution_count": 71,
   "metadata": {},
   "outputs": [
    {
     "name": "stdout",
     "output_type": "stream",
     "text": [
      "{\"status\":\"healthy\",\"startTime\":\"Fri Aug 20 04:52:57 UTC 2021\",\"dbEngineVersion\":\"1.0.4.2.R5\",\"role\":\"writer\",\"gremlin\":{\"version\":\"tinkerpop-3.4.10\"},\"sparql\":{\"version\":\"sparql-1.1\"},\"labMode\":{\"NeptuneML\":\"disabled\",\"ObjectIndex\":\"disabled\",\"DFEQueryEngine\":\"disabled\",\"ReadWriteConflictDetection\":\"enabled\"},\"resultCache\":{\"status\":\"Disabled\"}}"
     ]
    }
   ],
   "source": [
    "!curl alb-neptune-test-62758122.us-east-1.elb.amazonaws.com/status"
   ]
  },
  {
   "cell_type": "code",
   "execution_count": 79,
   "metadata": {},
   "outputs": [
    {
     "data": {
      "text/plain": [
       "['阳光灿烂的日子',\n",
       " '三枪',\n",
       " '一个陌生女人的来信',\n",
       " '2046',\n",
       " '三枪拍案惊奇',\n",
       " '万里长城',\n",
       " '山楂树之恋',\n",
       " '金陵十三钗',\n",
       " '印象·刘三姐',\n",
       " '影子武士',\n",
       " '秋菊打官司',\n",
       " '太阳照常升起',\n",
       " '让子弹飞',\n",
       " '王朝的女人·杨贵妃',\n",
       " '建国大业',\n",
       " '大红灯笼高高挂',\n",
       " '英雄',\n",
       " '我的父亲母亲',\n",
       " '妻妾成群',\n",
       " '菊豆',\n",
       " '左耳',\n",
       " '山乡书记',\n",
       " '北京人在纽约',\n",
       " '对话·寓言2047',\n",
       " '十面埋伏',\n",
       " '长城',\n",
       " '习近平',\n",
       " '栀子花开']"
      ]
     },
     "execution_count": 79,
     "metadata": {},
     "output_type": "execute_result"
    }
   ],
   "source": [
    "query_neptune(query, 'alb-neptune-test-62758122.us-east-1.elb.amazonaws.com', 80)"
   ]
  },
  {
   "cell_type": "code",
   "execution_count": 175,
   "metadata": {},
   "outputs": [],
   "source": [
    "def question2answer(question, query_templates, nlu_endpoint_name, neptune_endpoint, neptune_endpoint_port):\n",
    "    _, intentions, slot_labels = parse_questions([question], nlu_endpoint_name)\n",
    "    print(f\"Intention: {intentions[0]}\")\n",
    "    slots, values = extract_slot_values(question, slot_labels[0])\n",
    "    print(f\"Slot labels: {slots},{values}\")\n",
    "    query = generate_graph_query(intentions[0], slots, values, query_templates)\n",
    "    print(f\"Query: {query}\")\n",
    "    try:\n",
    "        query_result = query_neptune(query, neptune_endpoint, neptune_endpoint_port)\n",
    "    except Exception as e:\n",
    "        print(e)\n",
    "        query_result = '我不知道'\n",
    "    return query_result"
   ]
  },
  {
   "cell_type": "code",
   "execution_count": 201,
   "metadata": {},
   "outputs": [],
   "source": [
    "query_templates = {\n",
    "    'ask_alumni': \"g.V().has('学校', 'name', '{}').inE().hasLabel('毕业院校').outV().values('name').toList()\",\n",
    "    'ask_school': \"g.V().has('人物','name','{}').out('毕业院校').values('name').toList()\",\n",
    "    'ask_books': \"g.V().has('人物', 'name', '{}').inE().hasLabel('作者').outV().values('name').toList()\", \n",
    "    'ask_author': \"g.V().has('图书作品','name','{}').out('作者').values('name').toList()\",\n",
    "    'ask_wife': \"g.V().has('人物','name','{}').out('妻子').values('name').toList()\",\n",
    "    'ask_husband': \"g.V().has('人物','name','{}').out('丈夫').values('name').toList()\",\n",
    "    'ask_films': \"g.V().has('人物', 'name', '{}').inE().hasLabel('导演').outV().values('name').toList()\",\n",
    "    'ask_director': \"g.V().has('影视作品','name','{}').out('导演').values('name').toList()\",\n",
    "    'ask_nationality': \"g.V().has('人物','name','{}').out('国籍').values('name').toList()\"\n",
    "}"
   ]
  },
  {
   "cell_type": "code",
   "execution_count": 202,
   "metadata": {},
   "outputs": [],
   "source": [
    "query_templates = {\n",
    "    'ask_alumni': \"g.V().has('学校', 'name', '{}').inE().hasLabel('毕业院校').outV().values('name').toList()\",\n",
    "    'ask_school': \"g.V().has('人物','name','{}').out('毕业院校').values('name').next()\",\n",
    "    'ask_books': \"g.V().has('人物', 'name', '{}').inE().hasLabel('作者').outV().values('name').toList()\", \n",
    "    'ask_author': \"g.V().has('图书作品','name','{}').out('作者').values('name').next()\",\n",
    "    'ask_wife': \"g.V().has('人物','name','{}').out('妻子').values('name').next()\",\n",
    "    'ask_husband': \"g.V().has('人物','name','{}').out('丈夫').values('name').next()\",\n",
    "    'ask_films': \"g.V().has('人物', 'name', '{}').inE().hasLabel('导演').outV().values('name').toList()\",\n",
    "    'ask_director': \"g.V().has('影视作品','name','{}').out('导演').values('name').next()\",\n",
    "    'ask_nationality': \"g.V().has('人物','name','{}').out('国籍').values('name').next()\"\n",
    "}"
   ]
  },
  {
   "cell_type": "code",
   "execution_count": 209,
   "metadata": {},
   "outputs": [],
   "source": [
    "question = '异界之再战风云是谁的作品'"
   ]
  },
  {
   "cell_type": "code",
   "execution_count": 210,
   "metadata": {},
   "outputs": [
    {
     "name": "stdout",
     "output_type": "stream",
     "text": [
      "Intention: ask_author\n",
      "Slot labels: ['book'],['异界之再战风云']\n",
      "Query: g.V().has('图书作品','name','异界之再战风云').out('作者').values('name').next()\n"
     ]
    },
    {
     "data": {
      "text/plain": [
       "'品味人生'"
      ]
     },
     "execution_count": 210,
     "metadata": {},
     "output_type": "execute_result"
    }
   ],
   "source": [
    "question2answer(question, query_templates, nlu_endpoint_name, 'alb-neptune-test-62758122.us-east-1.elb.amazonaws.com', 80)"
   ]
  },
  {
   "cell_type": "code",
   "execution_count": null,
   "metadata": {},
   "outputs": [],
   "source": []
  }
 ],
 "metadata": {
  "instance_type": "ml.t3.medium",
  "kernelspec": {
   "display_name": "Python 3 (Data Science)",
   "language": "python",
   "name": "python3__SAGEMAKER_INTERNAL__arn:aws:sagemaker:us-east-1:081325390199:image/datascience-1.0"
  },
  "language_info": {
   "codemirror_mode": {
    "name": "ipython",
    "version": 3
   },
   "file_extension": ".py",
   "mimetype": "text/x-python",
   "name": "python",
   "nbconvert_exporter": "python",
   "pygments_lexer": "ipython3",
   "version": "3.7.10"
  }
 },
 "nbformat": 4,
 "nbformat_minor": 4
}
