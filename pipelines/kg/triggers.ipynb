{
 "cells": [
  {
   "cell_type": "markdown",
   "metadata": {},
   "source": [
    "# Triggers\n",
    "\n",
    "## Scheduled Trigger\n",
    "\n",
    "Check created events in AmazonEventBridge->Events->Rules in your AWS console.\n",
    "\n",
    "**Parameters for scheduled trigger**"
   ]
  },
  {
   "cell_type": "code",
   "execution_count": 11,
   "metadata": {},
   "outputs": [],
   "source": [
    "rule_name = 'DailyKGPipelineTrigger'\n",
    "pipeline_id = \"Id26b29827-319a-45b4-8726-f33a37e5f22b\"\n",
    "pipeline_arn = \"arn:aws:sagemaker:us-east-1:093729152554:pipeline/ckgqa-p-kiqtyrraeiec1631235879\"\n",
    "run_pipeline_role_arn = \"arn:aws:iam::093729152554:role/service-role/AmazonSageMakerServiceCatalogProductsUseRole\""
   ]
  },
  {
   "cell_type": "markdown",
   "metadata": {},
   "source": [
    "Create a rule"
   ]
  },
  {
   "cell_type": "code",
   "execution_count": 8,
   "metadata": {},
   "outputs": [
    {
     "data": {
      "text/plain": [
       "{'RuleArn': 'arn:aws:events:us-east-1:093729152554:rule/DailyKGPipelineTrigger',\n",
       " 'ResponseMetadata': {'RequestId': 'ee572c89-eee7-4e29-8dde-a0cad909eb8e',\n",
       "  'HTTPStatusCode': 200,\n",
       "  'HTTPHeaders': {'x-amzn-requestid': 'ee572c89-eee7-4e29-8dde-a0cad909eb8e',\n",
       "   'content-type': 'application/x-amz-json-1.1',\n",
       "   'content-length': '79',\n",
       "   'date': 'Tue, 14 Sep 2021 05:55:07 GMT'},\n",
       "  'RetryAttempts': 0}}"
      ]
     },
     "execution_count": 8,
     "metadata": {},
     "output_type": "execute_result"
    }
   ],
   "source": [
    "import boto3\n",
    "\n",
    "events = boto3.client('events')\n",
    "\n",
    "# use the same name will update the trigger\n",
    "events.put_rule(\n",
    "    Name=rule_name,\n",
    "    ScheduleExpression='rate(1 day)',\n",
    "    State='DISABLED',\n",
    "    Description='Daily re-run the knowledge graph generation pipeline',\n",
    "    EventBusName='default'\n",
    ")"
   ]
  },
  {
   "cell_type": "markdown",
   "metadata": {},
   "source": [
    "Add the code pipeline as a target:"
   ]
  },
  {
   "cell_type": "code",
   "execution_count": 12,
   "metadata": {},
   "outputs": [
    {
     "data": {
      "text/plain": [
       "{'FailedEntryCount': 0,\n",
       " 'FailedEntries': [],\n",
       " 'ResponseMetadata': {'RequestId': '818aed89-52aa-4743-b5d5-71fcdc958ef1',\n",
       "  'HTTPStatusCode': 200,\n",
       "  'HTTPHeaders': {'x-amzn-requestid': '818aed89-52aa-4743-b5d5-71fcdc958ef1',\n",
       "   'content-type': 'application/x-amz-json-1.1',\n",
       "   'content-length': '41',\n",
       "   'date': 'Tue, 14 Sep 2021 06:06:56 GMT'},\n",
       "  'RetryAttempts': 0}}"
      ]
     },
     "execution_count": 12,
     "metadata": {},
     "output_type": "execute_result"
    }
   ],
   "source": [
    "events.put_targets(\n",
    "    Rule=rule_name,\n",
    "    EventBusName='default',\n",
    "    Targets=[\n",
    "        {\n",
    "            \"Id\": pipeline_id,\n",
    "            \"Arn\": pipeline_arn,\n",
    "            \"RoleArn\": run_pipeline_role_arn\n",
    "        }\n",
    "    ]\n",
    ")"
   ]
  },
  {
   "cell_type": "markdown",
   "metadata": {},
   "source": [
    "Check events with aws cli"
   ]
  },
  {
   "cell_type": "code",
   "execution_count": 23,
   "metadata": {},
   "outputs": [
    {
     "name": "stdout",
     "output_type": "stream",
     "text": [
      "Rule description:\n",
      "{\n",
      "    \"Name\": \"DailyKGPipelineTrigger\",\n",
      "    \"Arn\": \"arn:aws:events:us-east-1:093729152554:rule/DailyKGPipelineTrigger\",\n",
      "    \"ScheduleExpression\": \"rate(1 day)\",\n",
      "    \"State\": \"ENABLED\",\n",
      "    \"Description\": \"Daily re-run the knowledge graph generation pipeline\",\n",
      "    \"EventBusName\": \"default\",\n",
      "    \"CreatedBy\": \"093729152554\"\n",
      "}\n",
      "Targets associated:\n",
      "{\n",
      "    \"Targets\": [\n",
      "        {\n",
      "            \"Id\": \"Id26b29827-319a-45b4-8726-f33a37e5f22b\",\n",
      "            \"Arn\": \"arn:aws:sagemaker:us-east-1:093729152554:pipeline/ckgqa-p-kiqtyrraeiec1631235879\",\n",
      "            \"RoleArn\": \"arn:aws:iam::093729152554:role/service-role/AmazonSageMakerServiceCatalogProductsUseRole\"\n",
      "        }\n",
      "    ]\n",
      "}\n"
     ]
    }
   ],
   "source": [
    "!echo 'Rule description:'\n",
    "!aws events describe-rule --name $rule_name\n",
    "!echo 'Targets associated:'\n",
    "!aws events list-targets-by-rule --rule $rule_name"
   ]
  },
  {
   "cell_type": "markdown",
   "metadata": {},
   "source": [
    "## S3 Trigger\n",
    "\n",
    "This step follows instructions from [Automate Pipeline BERT S3 Trigger](https://github.com/data-science-on-aws/workshop/blob/dcb1c95a612d0caf9217c19d639dca16261088bc/10_pipeline/stepfunctions/03_Automate_Pipeline_Train_and_Deploy_Reviews_BERT_TensorFlow_S3_Trigger.ipynb)\n",
    "\n",
    "Parameters for S3 trigger:"
   ]
  },
  {
   "cell_type": "code",
   "execution_count": 88,
   "metadata": {},
   "outputs": [],
   "source": [
    "watched_bucket = 'sm-nlp-data'\n",
    "watched_prefix = 'ie-baseline/raw/DuIE_2_0.zip'\n",
    "trail_name = 'WatchKGInputDataset'\n",
    "s3_rule_name = 'S3-Trigger'"
   ]
  },
  {
   "cell_type": "markdown",
   "metadata": {},
   "source": [
    "### 1. Attach required bucket policy to allow CloudTrail to watch it. \n",
    "    \n",
    "    Check [permission for cloudtrail](https://docs.aws.amazon.com/awscloudtrail/latest/userguide/create-s3-bucket-policy-for-cloudtrail.html?icmpid=docs_cloudtrail_console) for more detail.\n",
    "\n",
    "    Note: you might want to keep original policy statements. But for the sake of simplicity, here I just overwrite the bucket policy. You can check the original policy with the following code."
   ]
  },
  {
   "cell_type": "code",
   "execution_count": 65,
   "metadata": {},
   "outputs": [
    {
     "name": "stdout",
     "output_type": "stream",
     "text": [
      "[{'Action': 's3:GetBucketAcl',\n",
      "  'Effect': 'Allow',\n",
      "  'Principal': {'Service': 'cloudtrail.amazonaws.com'},\n",
      "  'Resource': 'arn:aws:s3:::sm-nlp-data',\n",
      "  'Sid': 'AWSCloudTrailAclCheck20150319'},\n",
      " {'Action': 's3:PutObject',\n",
      "  'Condition': {'StringEquals': {'s3:x-amz-acl': 'bucket-owner-full-control'}},\n",
      "  'Effect': 'Allow',\n",
      "  'Principal': {'Service': 'cloudtrail.amazonaws.com'},\n",
      "  'Resource': 'arn:aws:s3:::sm-nlp-data/AWSLogs/093729152554/*',\n",
      "  'Sid': 'AWSCloudTrailWrite20150319'}]\n"
     ]
    }
   ],
   "source": [
    "import boto3\n",
    "from pprint import pprint\n",
    "# Retrieve the policy of the specified bucket\n",
    "s3 = boto3.client('s3')\n",
    "result = s3.get_bucket_policy(Bucket=watched_bucket)\n",
    "print(result['Policy'])\n",
    "# origin_statements = json.loads(result['Policy'])['Statement']\n",
    "# pprint(origin_statements)"
   ]
  },
  {
   "cell_type": "code",
   "execution_count": 64,
   "metadata": {},
   "outputs": [
    {
     "data": {
      "text/plain": [
       "{'ResponseMetadata': {'RequestId': '2KFPW3RQ79HHX5JZ',\n",
       "  'HostId': 'Y0L1klu2XzCYlcVREooZqBaK0GCyz9oRhIW+uIaOBJU0zqhlkLACioYDrHfCekYB2a1Hl3OXPbc=',\n",
       "  'HTTPStatusCode': 204,\n",
       "  'HTTPHeaders': {'x-amz-id-2': 'Y0L1klu2XzCYlcVREooZqBaK0GCyz9oRhIW+uIaOBJU0zqhlkLACioYDrHfCekYB2a1Hl3OXPbc=',\n",
       "   'x-amz-request-id': '2KFPW3RQ79HHX5JZ',\n",
       "   'date': 'Tue, 14 Sep 2021 07:26:55 GMT',\n",
       "   'server': 'AmazonS3'},\n",
       "  'RetryAttempts': 0}}"
      ]
     },
     "execution_count": 64,
     "metadata": {},
     "output_type": "execute_result"
    }
   ],
   "source": [
    "account_id = boto3.client('sts').get_caller_identity().get('Account')\n",
    "bucket_policy = {\n",
    "    \"Version\": \"2012-10-17\",\n",
    "    \"Statement\": [\n",
    "        {\n",
    "            \"Sid\": \"AWSCloudTrailAclCheck20150319\",\n",
    "            \"Effect\": \"Allow\",\n",
    "            \"Principal\": {\"Service\": \"cloudtrail.amazonaws.com\"},\n",
    "            \"Action\": \"s3:GetBucketAcl\",\n",
    "            \"Resource\": f\"arn:aws:s3:::{watched_bucket}\"\n",
    "        },\n",
    "        {\n",
    "            \"Sid\": \"AWSCloudTrailWrite20150319\",\n",
    "            \"Effect\": \"Allow\",\n",
    "            \"Principal\": {\"Service\": \"cloudtrail.amazonaws.com\"},\n",
    "            \"Action\": \"s3:PutObject\",\n",
    "            \"Resource\": f\"arn:aws:s3:::{watched_bucket}/AWSLogs/{account_id}/*\",\n",
    "            \"Condition\": {\"StringEquals\": {\"s3:x-amz-acl\": \"bucket-owner-full-control\"}}\n",
    "        }\n",
    "    ]\n",
    "}\n",
    "\n",
    "bucket_policy = json.dumps(bucket_policy)\n",
    "s3.put_bucket_policy(Bucket=watched_bucket, Policy=bucket_policy)"
   ]
  },
  {
   "cell_type": "markdown",
   "metadata": {},
   "source": [
    "### 2. Create a trail to log S3 events (check [`create_trail`](https://boto3.amazonaws.com/v1/documentation/api/latest/reference/services/cloudtrail.html#CloudTrail.Client.create_trail)):"
   ]
  },
  {
   "cell_type": "code",
   "execution_count": null,
   "metadata": {},
   "outputs": [],
   "source": [
    "cloudtrail = boto3.client('cloudtrail')\n",
    "cloudtrail.create_trail(\n",
    "    Name=trail_name,\n",
    "    S3BucketName=watched_bucket\n",
    ")"
   ]
  },
  {
   "cell_type": "markdown",
   "metadata": {},
   "source": [
    "### 3. Define event to with CloudTrail logging on S3 bucket"
   ]
  },
  {
   "cell_type": "code",
   "execution_count": 77,
   "metadata": {},
   "outputs": [],
   "source": [
    "watched_bucket_arn = \"arn:aws:s3:::{}/\".format(watched_bucket)\n",
    "event_selector = [\n",
    "    { \n",
    "        \"ReadWriteType\": \"WriteOnly\", \n",
    "        \"IncludeManagementEvents\":True, \n",
    "        \"DataResources\": \n",
    "            [\n",
    "                { \n",
    "                    \"Type\": \"AWS::S3::Object\", \n",
    "                    \"Values\": [watched_bucket_arn] \n",
    "                }\n",
    "            ] \n",
    "    }\n",
    "]"
   ]
  },
  {
   "cell_type": "code",
   "execution_count": 79,
   "metadata": {},
   "outputs": [
    {
     "data": {
      "text/plain": [
       "{'TrailARN': 'arn:aws:cloudtrail:us-east-1:093729152554:trail/WatchKGInputDataset',\n",
       " 'EventSelectors': [{'ReadWriteType': 'WriteOnly',\n",
       "   'IncludeManagementEvents': True,\n",
       "   'DataResources': [{'Type': 'AWS::S3::Object',\n",
       "     'Values': ['arn:aws:s3:::sm-nlp-data/']}],\n",
       "   'ExcludeManagementEventSources': []}],\n",
       " 'ResponseMetadata': {'RequestId': '65276a56-58f4-4a63-a15d-d2c1e0e9d540',\n",
       "  'HTTPStatusCode': 200,\n",
       "  'HTTPHeaders': {'x-amzn-requestid': '65276a56-58f4-4a63-a15d-d2c1e0e9d540',\n",
       "   'content-type': 'application/x-amz-json-1.1',\n",
       "   'content-length': '281',\n",
       "   'date': 'Tue, 14 Sep 2021 07:42:22 GMT'},\n",
       "  'RetryAttempts': 0}}"
      ]
     },
     "execution_count": 79,
     "metadata": {},
     "output_type": "execute_result"
    }
   ],
   "source": [
    "cloudtrail.put_event_selectors(\n",
    "    TrailName=trail_name,\n",
    "    EventSelectors=event_selector\n",
    ")"
   ]
  },
  {
   "cell_type": "markdown",
   "metadata": {},
   "source": [
    "### 4. Create EventBridge rule that can trigger SageMaker pipeline."
   ]
  },
  {
   "cell_type": "code",
   "execution_count": 84,
   "metadata": {},
   "outputs": [
    {
     "name": "stdout",
     "output_type": "stream",
     "text": [
      "{\"source\": [\"aws.s3\"], \"detail-type\": [\"AWS API Call via CloudTrail\"], \"detail\": {\"eventSource\": [\"s3.amazonaws.com\"], \"eventName\": [\"PutObject\", \"CompleteMultipartUpload\", \"CopyObject\"], \"requestParameters\": {\"bucketName\": [\"sm-nlp-data\"]}}}\n"
     ]
    }
   ],
   "source": [
    "pattern = {\n",
    "    \"source\": [\"aws.s3\"],\n",
    "    \"detail-type\": [\"AWS API Call via CloudTrail\"],\n",
    "    \"detail\": {\n",
    "        \"eventSource\": [\"s3.amazonaws.com\"],\n",
    "        \"eventName\": [\"PutObject\", \"CompleteMultipartUpload\", \"CopyObject\"],\n",
    "        \"requestParameters\": {\"bucketName\": [\"{}\".format(watched_bucket)]},\n",
    "    },\n",
    "}\n",
    "\n",
    "pattern_json = json.dumps(pattern)\n",
    "print(pattern_json)"
   ]
  },
  {
   "cell_type": "code",
   "execution_count": 86,
   "metadata": {},
   "outputs": [
    {
     "name": "stdout",
     "output_type": "stream",
     "text": [
      "{'RuleArn': 'arn:aws:events:us-east-1:093729152554:rule/S3-Trigger', 'ResponseMetadata': {'RequestId': '8fa3c9b3-fb58-415d-90f7-d5bddc09c33f', 'HTTPStatusCode': 200, 'HTTPHeaders': {'x-amzn-requestid': '8fa3c9b3-fb58-415d-90f7-d5bddc09c33f', 'content-type': 'application/x-amz-json-1.1', 'content-length': '67', 'date': 'Tue, 14 Sep 2021 07:48:47 GMT'}, 'RetryAttempts': 0}}\n"
     ]
    }
   ],
   "source": [
    "response = events.put_rule(\n",
    "    Name=s3_rule_name,\n",
    "    EventPattern=pattern_json,\n",
    "    State=\"ENABLED\",\n",
    "    Description=\"Triggers an event on S3 PUT\",\n",
    "    EventBusName=\"default\",\n",
    ")\n",
    "print(response)"
   ]
  },
  {
   "cell_type": "code",
   "execution_count": 87,
   "metadata": {},
   "outputs": [
    {
     "name": "stdout",
     "output_type": "stream",
     "text": [
      "arn:aws:events:us-east-1:093729152554:rule/S3-Trigger\n"
     ]
    }
   ],
   "source": [
    "rule_arn = response[\"RuleArn\"]\n",
    "print(rule_arn)"
   ]
  },
  {
   "cell_type": "markdown",
   "metadata": {},
   "source": [
    "### 5. Add pipeline as target to the rule"
   ]
  },
  {
   "cell_type": "code",
   "execution_count": 121,
   "metadata": {},
   "outputs": [],
   "source": [
    "lambda_fn_name = 'invoke-kg-pipeline'"
   ]
  },
  {
   "cell_type": "markdown",
   "metadata": {},
   "source": [
    "#### 5.1 Create an IAM role that enables event bridge to trigger pipeline"
   ]
  },
  {
   "cell_type": "code",
   "execution_count": 89,
   "metadata": {},
   "outputs": [],
   "source": [
    "iam = boto3.client(\"iam\")\n",
    "iam_role_name_eventbridge = \"EventBridge_Invoke_Pipeline\""
   ]
  },
  {
   "cell_type": "markdown",
   "metadata": {},
   "source": [
    "Create AssumeRolePolicyDocument"
   ]
  },
  {
   "cell_type": "code",
   "execution_count": 143,
   "metadata": {},
   "outputs": [],
   "source": [
    "from botocore.exceptions import ClientError\n",
    "\n",
    "assume_role_policy_doc = {\n",
    "    \"Version\": \"2012-10-17\",\n",
    "    \"Statement\": [\n",
    "        {\n",
    "            \"Effect\": \"Allow\", \n",
    "            \"Principal\": {\"Service\": \"events.amazonaws.com\"}, \n",
    "            \"Action\": \"sts:AssumeRole\"\n",
    "        },\n",
    "        {\n",
    "          \"Effect\": \"Allow\",\n",
    "          \"Principal\": {\"Service\": \"lambda.amazonaws.com\"},\n",
    "          \"Action\": \"sts:AssumeRole\"\n",
    "        }\n",
    "    ],\n",
    "}\n",
    "\n",
    "try:\n",
    "    iam_role_eventbridge = iam.create_role(\n",
    "        RoleName=iam_role_name_eventbridge,\n",
    "        AssumeRolePolicyDocument=json.dumps(assume_role_policy_doc),\n",
    "        Description=\"DSOAWS EventBridge Role\",\n",
    "    )\n",
    "except ClientError as e:\n",
    "    if e.response[\"Error\"][\"Code\"] == \"EntityAlreadyExists\":\n",
    "        print(\"Role already exists\")\n",
    "    else:\n",
    "        print(\"Unexpected error: %s\" % e)"
   ]
  },
  {
   "cell_type": "markdown",
   "metadata": {},
   "source": [
    "Get the Role ARN"
   ]
  },
  {
   "cell_type": "code",
   "execution_count": 144,
   "metadata": {},
   "outputs": [
    {
     "name": "stdout",
     "output_type": "stream",
     "text": [
      "arn:aws:iam::093729152554:role/EventBridge_Invoke_Pipeline\n"
     ]
    }
   ],
   "source": [
    "role_eventbridge = iam.get_role(RoleName=iam_role_name_eventbridge)\n",
    "iam_role_eventbridge_arn = role_eventbridge[\"Role\"][\"Arn\"]\n",
    "print(iam_role_eventbridge_arn)"
   ]
  },
  {
   "cell_type": "markdown",
   "metadata": {},
   "source": [
    "#### 5.2 Define and Create Eventbridge Policy"
   ]
  },
  {
   "cell_type": "code",
   "execution_count": 145,
   "metadata": {},
   "outputs": [
    {
     "name": "stdout",
     "output_type": "stream",
     "text": [
      "Policy already exists\n",
      "Policy updated.\n",
      "arn:aws:iam::093729152554:policy/EventBridgeInvokePipeline\n"
     ]
    }
   ],
   "source": [
    "eventbridge_sfn_policy = {\n",
    "    \"Version\": \"2012-10-17\",\n",
    "    \"Statement\": [\n",
    "        {\"Sid\": \"VisualEditor0\", \"Effect\": \"Allow\", \"Action\": \"states:StartExecution\", \"Resource\": \"*\"}\n",
    "    ],\n",
    "}\n",
    "\n",
    "\n",
    "try:\n",
    "    policy_eventbridge_sfn = iam.create_policy(\n",
    "        PolicyName=\"EventBridgeInvokePipeline\", PolicyDocument=json.dumps(eventbridge_sfn_policy)\n",
    "    )\n",
    "    print(\"Done.\")\n",
    "except ClientError as e:\n",
    "    if e.response[\"Error\"][\"Code\"] == \"EntityAlreadyExists\":\n",
    "        print(\"Policy already exists\")\n",
    "        policy_eventbridge_sfn_arn = f\"arn:aws:iam::{account_id}:policy/EventBridgeInvokePipeline\"\n",
    "        iam.create_policy_version(\n",
    "            PolicyArn=policy_eventbridge_sfn_arn, PolicyDocument=json.dumps(eventbridge_sfn_policy), SetAsDefault=True\n",
    "        )\n",
    "        print(\"Policy updated.\")\n",
    "    else:\n",
    "        print(\"Unexpected error: %s\" % e)\n",
    "\n",
    "# Get policy ARN        \n",
    "policy_eventbridge_sfn_arn = f\"arn:aws:iam::{account_id}:policy/EventBridgeInvokePipeline\"\n",
    "print(policy_eventbridge_sfn_arn)"
   ]
  },
  {
   "cell_type": "markdown",
   "metadata": {},
   "source": [
    "#### 5.3 Attach Policy To Role"
   ]
  },
  {
   "cell_type": "code",
   "execution_count": 146,
   "metadata": {},
   "outputs": [
    {
     "name": "stdout",
     "output_type": "stream",
     "text": [
      "Done.\n"
     ]
    }
   ],
   "source": [
    "try:\n",
    "    response = iam.attach_role_policy(PolicyArn=policy_eventbridge_sfn_arn, RoleName=iam_role_name_eventbridge)\n",
    "    print(\"Done.\")\n",
    "except ClientError as e:\n",
    "    if e.response[\"Error\"][\"Code\"] == \"EntityAlreadyExists\":\n",
    "        print(\"Policy is already attached. This is ok.\")\n",
    "    else:\n",
    "        print(\"Unexpected error: %s\" % e)"
   ]
  },
  {
   "cell_type": "markdown",
   "metadata": {},
   "source": [
    "#### 5.4 Define a Lambda to execute pipeline"
   ]
  },
  {
   "cell_type": "code",
   "execution_count": 149,
   "metadata": {},
   "outputs": [],
   "source": [
    "pipeline_name = 'KGPipeline1631239572'"
   ]
  },
  {
   "cell_type": "code",
   "execution_count": 98,
   "metadata": {},
   "outputs": [],
   "source": [
    "lambda_script = '''\n",
    "import json\n",
    "import os\n",
    "import time\n",
    "import sys\n",
    "from pip._internal import main\n",
    "\n",
    "main(['install', '-I', '-q', 'boto3==1.16.47', '--target', '/tmp/', '--no-cache-dir', '--disable-pip-version-check'])\n",
    "sys.path.insert(0,'/tmp/')\n",
    "\n",
    "import boto3\n",
    "\n",
    "region = boto3.Session().region_name\n",
    "s3 = boto3.client('s3', region_name=region)\n",
    "sm = boto3.client('sagemaker', region_name=region)\n",
    "\n",
    "# Need to set the Pipeline Name as Lambda environment variable\n",
    "PIPELINE_NAME = os.environ['PIPELINE_NAME']\n",
    "print('Pipeline Name: {}'.format(PIPELINE_NAME))\n",
    "\n",
    "timestamp = int(time.time())\n",
    "\n",
    "def lambda_handler(event, context):\n",
    "    print('boto3: {}'.format(boto3.__version__))\n",
    "    print('Starting execution of pipeline {}...'.format(PIPELINE_NAME))\n",
    "\n",
    "    response = sm.start_pipeline_execution(\n",
    "        PipelineName=PIPELINE_NAME,\n",
    "        PipelineExecutionDisplayName='trigger-{}'.format(timestamp),\n",
    "        PipelineParameters=[\n",
    "        ],\n",
    "        PipelineExecutionDescription= PIPELINE_NAME,\n",
    "        # ClientRequestToken='string'\n",
    "    )\n",
    "\n",
    "    print('Response: {}'.format(response))\n",
    "\n",
    "    execution_arn=response['PipelineExecutionArn']\n",
    "    print('Pipeline execution started with execution ARN: {}'.format(execution_arn))\n",
    "    print('Done.')\n",
    "'''"
   ]
  },
  {
   "cell_type": "code",
   "execution_count": 159,
   "metadata": {},
   "outputs": [
    {
     "name": "stdout",
     "output_type": "stream",
     "text": [
      "Hit:1 http://security.debian.org/debian-security buster/updates InRelease\n",
      "Hit:2 http://deb.debian.org/debian buster InRelease\n",
      "Hit:3 http://deb.debian.org/debian buster-updates InRelease\n",
      "Reading package lists... Done\n",
      "Reading package lists... Done\n",
      "Building dependency tree       \n",
      "Reading state information... Done\n",
      "zip is already the newest version (3.0-11+b1).\n",
      "0 upgraded, 0 newly installed, 0 to remove and 34 not upgraded.\n",
      "  adding: lambda_function.py (deflated 54%)\n",
      "upload: ./lambda_function.zip to s3://sm-nlp-data/ie-baseline/lambda/lambda_function.zip\n"
     ]
    }
   ],
   "source": [
    "fn_bucket = watched_bucket\n",
    "fn_key = 'ie-baseline/lambda/'\n",
    "upload_name = 'lambda_function.zip'\n",
    "!apt-get update\n",
    "!apt-get install zip\n",
    "!echo \"$lambda_script\" >> lambda_function.py\n",
    "!zip $upload_name lambda_function.py\n",
    "!aws s3 cp $upload_name s3://$fn_bucket/$fn_key\n",
    "!rm lambda_function.py $upload_name"
   ]
  },
  {
   "cell_type": "markdown",
   "metadata": {},
   "source": [
    "Use `!aws lambda delete-function --function-name invoke-kg-pipeline` to remove the pipeline if it already exists."
   ]
  },
  {
   "cell_type": "code",
   "execution_count": 163,
   "metadata": {},
   "outputs": [
    {
     "data": {
      "text/plain": [
       "{'ResponseMetadata': {'RequestId': '9f68503c-af4c-4f41-b858-5e0e25883ec6',\n",
       "  'HTTPStatusCode': 201,\n",
       "  'HTTPHeaders': {'date': 'Tue, 14 Sep 2021 09:24:52 GMT',\n",
       "   'content-type': 'application/json',\n",
       "   'content-length': '965',\n",
       "   'connection': 'keep-alive',\n",
       "   'x-amzn-requestid': '9f68503c-af4c-4f41-b858-5e0e25883ec6'},\n",
       "  'RetryAttempts': 0},\n",
       " 'FunctionName': 'invoke-kg-pipeline',\n",
       " 'FunctionArn': 'arn:aws:lambda:us-east-1:093729152554:function:invoke-kg-pipeline',\n",
       " 'Runtime': 'python3.9',\n",
       " 'Role': 'arn:aws:iam::093729152554:role/EventBridge_Invoke_Pipeline',\n",
       " 'Handler': 'lambda_handler',\n",
       " 'CodeSize': 737,\n",
       " 'Description': '',\n",
       " 'Timeout': 3,\n",
       " 'MemorySize': 128,\n",
       " 'LastModified': '2021-09-14T09:24:52.641+0000',\n",
       " 'CodeSha256': 'GxYl3aHk/JI+8XmIDtjjHlfU2NkVUHoKZDPH5arI6+M=',\n",
       " 'Version': '$LATEST',\n",
       " 'Environment': {'Variables': {'PIPELINE_NAME': 'KGPipeline1631239572'}},\n",
       " 'TracingConfig': {'Mode': 'PassThrough'},\n",
       " 'RevisionId': 'a476ed84-e936-4ad6-8cca-6f4872999154',\n",
       " 'State': 'Active',\n",
       " 'LastUpdateStatus': 'Successful',\n",
       " 'PackageType': 'Zip'}"
      ]
     },
     "execution_count": 163,
     "metadata": {},
     "output_type": "execute_result"
    }
   ],
   "source": [
    "lmd = boto3.client('lambda')\n",
    "\n",
    "response = lmd.create_function(\n",
    "    FunctionName=lambda_fn_name,\n",
    "    Runtime='python3.9',\n",
    "    Role=iam_role_eventbridge_arn,\n",
    "    Handler='lambda_handler',\n",
    "    Code={\n",
    "        'S3Bucket': fn_bucket,\n",
    "        'S3Key': fn_key+upload_name,\n",
    "    },\n",
    "    Environment={\n",
    "        'Variables': {\n",
    "            'PIPELINE_NAME': pipeline_name\n",
    "        }\n",
    "    },\n",
    ")\n",
    "response"
   ]
  },
  {
   "cell_type": "code",
   "execution_count": 165,
   "metadata": {},
   "outputs": [
    {
     "data": {
      "text/plain": [
       "'arn:aws:lambda:us-east-1:093729152554:function:invoke-kg-pipeline'"
      ]
     },
     "execution_count": 165,
     "metadata": {},
     "output_type": "execute_result"
    }
   ],
   "source": [
    "lambda_fn_arn = response['FunctionArn']\n",
    "lambda_fn_arn"
   ]
  },
  {
   "cell_type": "markdown",
   "metadata": {},
   "source": [
    "#### 5.5 Set the Lambda function as a target of the EventBridge rule"
   ]
  },
  {
   "cell_type": "code",
   "execution_count": null,
   "metadata": {},
   "outputs": [],
   "source": [
    "import uuid\n",
    "\n",
    "response = events.put_targets(\n",
    "    Rule=\"S3-Trigger\",\n",
    "    EventBusName=\"default\",\n",
    "    Targets=[\n",
    "        {\n",
    "            \"Id\": 'Id'+str(uuid.uuid1()), \n",
    "            \"Arn\": lambda_fn_arn\n",
    "        }\n",
    "    ],\n",
    ")\n",
    "\n",
    "response"
   ]
  },
  {
   "cell_type": "markdown",
   "metadata": {},
   "source": [
    "### 6. Trigger pipeline by writing to the watched location"
   ]
  },
  {
   "cell_type": "code",
   "execution_count": null,
   "metadata": {},
   "outputs": [],
   "source": []
  }
 ],
 "metadata": {
  "instance_type": "ml.t3.medium",
  "kernelspec": {
   "display_name": "Python 3 (Data Science)",
   "language": "python",
   "name": "python3__SAGEMAKER_INTERNAL__arn:aws:sagemaker:us-east-1:081325390199:image/datascience-1.0"
  },
  "language_info": {
   "codemirror_mode": {
    "name": "ipython",
    "version": 3
   },
   "file_extension": ".py",
   "mimetype": "text/x-python",
   "name": "python",
   "nbconvert_exporter": "python",
   "pygments_lexer": "ipython3",
   "version": "3.7.10"
  }
 },
 "nbformat": 4,
 "nbformat_minor": 4
}
