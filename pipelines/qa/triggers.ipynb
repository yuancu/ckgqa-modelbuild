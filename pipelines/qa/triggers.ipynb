{
 "cells": [
  {
   "cell_type": "markdown",
   "metadata": {},
   "source": [
    "# Triggers for QA Pipeline\n",
    "\n",
    "## Scheduled Trigger\n",
    "\n",
    "**Parameters**"
   ]
  },
  {
   "cell_type": "code",
   "execution_count": 9,
   "metadata": {},
   "outputs": [],
   "source": [
    "import uuid\n",
    "\n",
    "rule_name = 'DailyQAPipelineTrigger'\n",
    "pipeline_id = f\"Id{uuid.uuid1()}\"\n",
    "pipeline_name = 'qa-pipeline-16322955241632295524'"
   ]
  },
  {
   "cell_type": "code",
   "execution_count": 14,
   "metadata": {},
   "outputs": [
    {
     "name": "stdout",
     "output_type": "stream",
     "text": [
      "pipeline_arn:\t\t arn:aws:sagemaker:us-east-1:093729152554:pipeline/qa-pipeline-16322955241632295524\n",
      "run_pipeline_role_arn:\t arn:aws:iam::093729152554:role/service-role/AWSNeptuneNotebookRole-NepTestRole\n"
     ]
    }
   ],
   "source": [
    "import boto3\n",
    "\n",
    "sm = boto3.Session().client('sagemaker')\n",
    "pipeline = sm.describe_pipeline(PipelineName=pipeline_name)\n",
    "pipeline_arn = pipeline['PipelineArn']\n",
    "pipeline_role_arn = pipeline['RoleArn']\n",
    "\n",
    "print(f\"pipeline_arn:\\t\\t {pipeline_arn}\")\n",
    "print(f\"run_pipeline_role_arn:\\t {pipeline_role_arn}\") #\"arn:aws:iam::093729152554:role/service-role/AmazonSageMakerServiceCatalogProductsUseRole\""
   ]
  },
  {
   "cell_type": "markdown",
   "metadata": {},
   "source": [
    "Create a rule that executes the pipeline every 1 day:"
   ]
  },
  {
   "cell_type": "code",
   "execution_count": 15,
   "metadata": {},
   "outputs": [
    {
     "data": {
      "text/plain": [
       "{'RuleArn': 'arn:aws:events:us-east-1:093729152554:rule/DailyQAPipelineTrigger',\n",
       " 'ResponseMetadata': {'RequestId': '63aab4c5-f291-493d-ba19-e9676cb23252',\n",
       "  'HTTPStatusCode': 200,\n",
       "  'HTTPHeaders': {'x-amzn-requestid': '63aab4c5-f291-493d-ba19-e9676cb23252',\n",
       "   'content-type': 'application/x-amz-json-1.1',\n",
       "   'content-length': '79',\n",
       "   'date': 'Fri, 24 Sep 2021 09:22:38 GMT'},\n",
       "  'RetryAttempts': 0}}"
      ]
     },
     "execution_count": 15,
     "metadata": {},
     "output_type": "execute_result"
    }
   ],
   "source": [
    "import boto3\n",
    "\n",
    "events = boto3.client('events')\n",
    "\n",
    "# use the same name will update the trigger\n",
    "events.put_rule(\n",
    "    Name=rule_name,\n",
    "    ScheduleExpression='rate(1 day)',\n",
    "    State='DISABLED',\n",
    "    Description='Daily re-run the question answering pipeline',\n",
    "    EventBusName='default'\n",
    ")"
   ]
  },
  {
   "cell_type": "markdown",
   "metadata": {},
   "source": [
    "Add the qa code pipeline as a target:"
   ]
  },
  {
   "cell_type": "code",
   "execution_count": 16,
   "metadata": {},
   "outputs": [
    {
     "data": {
      "text/plain": [
       "{'FailedEntryCount': 0,\n",
       " 'FailedEntries': [],\n",
       " 'ResponseMetadata': {'RequestId': '676de8ef-7ff4-430f-9ce6-4984a426cd26',\n",
       "  'HTTPStatusCode': 200,\n",
       "  'HTTPHeaders': {'x-amzn-requestid': '676de8ef-7ff4-430f-9ce6-4984a426cd26',\n",
       "   'content-type': 'application/x-amz-json-1.1',\n",
       "   'content-length': '41',\n",
       "   'date': 'Fri, 24 Sep 2021 09:23:33 GMT'},\n",
       "  'RetryAttempts': 0}}"
      ]
     },
     "execution_count": 16,
     "metadata": {},
     "output_type": "execute_result"
    }
   ],
   "source": [
    "events.put_targets(\n",
    "    Rule=rule_name,\n",
    "    EventBusName='default',\n",
    "    Targets=[\n",
    "        {\n",
    "            \"Id\": pipeline_id,\n",
    "            \"Arn\": pipeline_arn,\n",
    "            \"RoleArn\": pipeline_role_arn\n",
    "        }\n",
    "    ]\n",
    ")"
   ]
  },
  {
   "cell_type": "markdown",
   "metadata": {},
   "source": [
    "Check events with aws cli"
   ]
  },
  {
   "cell_type": "code",
   "execution_count": 17,
   "metadata": {},
   "outputs": [
    {
     "name": "stdout",
     "output_type": "stream",
     "text": [
      "Rule description:\n",
      "{\n",
      "    \"Name\": \"DailyQAPipelineTrigger\",\n",
      "    \"Arn\": \"arn:aws:events:us-east-1:093729152554:rule/DailyQAPipelineTrigger\",\n",
      "    \"ScheduleExpression\": \"rate(1 day)\",\n",
      "    \"State\": \"DISABLED\",\n",
      "    \"Description\": \"Daily re-run the question answering pipeline\",\n",
      "    \"EventBusName\": \"default\",\n",
      "    \"CreatedBy\": \"093729152554\"\n",
      "}\n",
      "Targets associated:\n",
      "{\n",
      "    \"Targets\": [\n",
      "        {\n",
      "            \"Id\": \"Id7835a714-1d18-11ec-a471-5ed24fdeea0c\",\n",
      "            \"Arn\": \"arn:aws:sagemaker:us-east-1:093729152554:pipeline/qa-pipeline-16322955241632295524\",\n",
      "            \"RoleArn\": \"arn:aws:iam::093729152554:role/service-role/AWSNeptuneNotebookRole-NepTestRole\"\n",
      "        }\n",
      "    ]\n",
      "}\n"
     ]
    }
   ],
   "source": [
    "!echo 'Rule description:'\n",
    "!aws events describe-rule --name $rule_name\n",
    "!echo 'Targets associated:'\n",
    "!aws events list-targets-by-rule --rule $rule_name"
   ]
  },
  {
   "cell_type": "markdown",
   "metadata": {},
   "source": [
    "## S3 Trigger"
   ]
  },
  {
   "cell_type": "code",
   "execution_count": 21,
   "metadata": {},
   "outputs": [
    {
     "data": {
      "text/plain": [
       "'sagemaker-us-east-1-093729152554'"
      ]
     },
     "execution_count": 21,
     "metadata": {},
     "output_type": "execute_result"
    }
   ],
   "source": [
    "watched_bucket = 'sm-nlp-data'\n",
    "watched_prefix = 'nlu/data/processed/' # set watchted prefix to '' if you want to watch the whole bucket\n",
    "trail_name = 'WatchQAInputData'\n",
    "s3_rule_name = 'QA-S3-Trigger'\n",
    "s3_rule_description = 'Run question answering pipeline every time new data uploaded to specified location.'\n",
    "\n",
    "import sagemaker\n",
    "# We use default_bucket to save logs as it's better to store logs in a different bucket to avoid spin triggering.\n",
    "default_bucket = sagemaker.Session().default_bucket()\n",
    "default_bucket"
   ]
  },
  {
   "cell_type": "markdown",
   "metadata": {},
   "source": [
    "### 1. Attach policy to S3 bucket to receive the log files \n",
    "\n",
    "\n",
    "    \n",
    "Check [permission for cloudtrail](https://docs.aws.amazon.com/awscloudtrail/latest/userguide/create-s3-bucket-policy-for-cloudtrail.html?icmpid=docs_cloudtrail_console) for more detail.\n",
    "\n",
    "You can delete bucket policy to revoke permission using:</br>\n",
    "`$ aws s3api delete-bucket-policy --bucket [your-bucket]`\n",
    "\n",
    "Note: you might want to keep original policy statements. But for the sake of simplicity, here I just overwrite the bucket policy. You can check the original policy with the following code."
   ]
  },
  {
   "cell_type": "code",
   "execution_count": 22,
   "metadata": {},
   "outputs": [
    {
     "name": "stdout",
     "output_type": "stream",
     "text": [
      "{'Statement': [{'Action': 's3:GetBucketAcl',\n",
      "                'Effect': 'Allow',\n",
      "                'Principal': {'Service': 'cloudtrail.amazonaws.com'},\n",
      "                'Resource': 'arn:aws:s3:::sagemaker-us-east-1-093729152554',\n",
      "                'Sid': 'AWSCloudTrailAclCheck20150319'},\n",
      "               {'Action': 's3:PutObject',\n",
      "                'Condition': {'StringEquals': {'s3:x-amz-acl': 'bucket-owner-full-control'}},\n",
      "                'Effect': 'Allow',\n",
      "                'Principal': {'Service': 'cloudtrail.amazonaws.com'},\n",
      "                'Resource': 'arn:aws:s3:::sagemaker-us-east-1-093729152554/AWSLogs/093729152554/*',\n",
      "                'Sid': 'AWSCloudTrailWrite20150319'}],\n",
      " 'Version': '2012-10-17'}\n"
     ]
    }
   ],
   "source": [
    "import boto3\n",
    "import json\n",
    "from pprint import pprint\n",
    "\n",
    "# Retrieve the original policy of the specified bucket (this would be overwritten by new policies)\n",
    "s3 = boto3.client('s3')\n",
    "result = s3.get_bucket_policy(Bucket=default_bucket)\n",
    "pprint(json.loads(result['Policy']))"
   ]
  },
  {
   "cell_type": "code",
   "execution_count": 27,
   "metadata": {},
   "outputs": [
    {
     "data": {
      "text/plain": [
       "{'ResponseMetadata': {'RequestId': '9XKT7VP8CDS04H2K',\n",
       "  'HostId': '5TwBv38p4T+iT/iVLSNH8Mdu82Rx96tLLShqB1oAYVYyFW82ZsDni6jTFwuoZlKu4GW4rpIa2jE=',\n",
       "  'HTTPStatusCode': 204,\n",
       "  'HTTPHeaders': {'x-amz-id-2': '5TwBv38p4T+iT/iVLSNH8Mdu82Rx96tLLShqB1oAYVYyFW82ZsDni6jTFwuoZlKu4GW4rpIa2jE=',\n",
       "   'x-amz-request-id': '9XKT7VP8CDS04H2K',\n",
       "   'date': 'Fri, 24 Sep 2021 10:14:46 GMT',\n",
       "   'server': 'AmazonS3'},\n",
       "  'RetryAttempts': 0}}"
      ]
     },
     "execution_count": 27,
     "metadata": {},
     "output_type": "execute_result"
    }
   ],
   "source": [
    "account_id = boto3.client('sts').get_caller_identity().get('Account')\n",
    "log_bucket_policy = {\n",
    "    \"Version\": \"2012-10-17\",\n",
    "    \"Statement\": [\n",
    "        {\n",
    "            \"Sid\": \"AWSCloudTrailAclCheck20150319\",\n",
    "            \"Effect\": \"Allow\",\n",
    "            \"Principal\": {\"Service\": \"cloudtrail.amazonaws.com\"},\n",
    "            \"Action\": \"s3:GetBucketAcl\",\n",
    "            \"Resource\": f\"arn:aws:s3:::{default_bucket}\"\n",
    "        },\n",
    "        {\n",
    "            \"Sid\": \"AWSCloudTrailWrite20150319\",\n",
    "            \"Effect\": \"Allow\",\n",
    "            \"Principal\": {\"Service\": \"cloudtrail.amazonaws.com\"},\n",
    "            \"Action\": \"s3:PutObject\",\n",
    "            \"Resource\": f\"arn:aws:s3:::{default_bucket}/AWSLogs/{account_id}/*\",\n",
    "            \"Condition\": {\"StringEquals\": {\"s3:x-amz-acl\": \"bucket-owner-full-control\"}}\n",
    "        }\n",
    "    ]\n",
    "}\n",
    "\n",
    "log_bucket_policy = json.dumps(log_bucket_policy)\n",
    "s3.put_bucket_policy(Bucket=default_bucket, Policy=log_bucket_policy)"
   ]
  },
  {
   "cell_type": "markdown",
   "metadata": {},
   "source": [
    "### 2. Create a trail to log S3 events \n",
    "\n",
    "A trail captures API calls and related events in your account and then delivers the log files to an S3 bucket that you specify.\n",
    "\n",
    "You can delete a previously defined trail by running (the default trail name we defined is `WatchKGInputDataset`):</br>\n",
    "`$ aws cloudtrail delete-trail --name [your-trail-name]`"
   ]
  },
  {
   "cell_type": "code",
   "execution_count": 28,
   "metadata": {},
   "outputs": [],
   "source": [
    "cloudtrail = boto3.client('cloudtrail')"
   ]
  },
  {
   "cell_type": "code",
   "execution_count": 32,
   "metadata": {},
   "outputs": [
    {
     "data": {
      "text/plain": [
       "{'Name': 'WatchQAInputData',\n",
       " 'S3BucketName': 'sagemaker-us-east-1-093729152554',\n",
       " 'IncludeGlobalServiceEvents': True,\n",
       " 'IsMultiRegionTrail': False,\n",
       " 'TrailARN': 'arn:aws:cloudtrail:us-east-1:093729152554:trail/WatchQAInputData',\n",
       " 'LogFileValidationEnabled': False,\n",
       " 'IsOrganizationTrail': False,\n",
       " 'ResponseMetadata': {'RequestId': '11c6968c-e9b8-4a21-b72b-9177531c4427',\n",
       "  'HTTPStatusCode': 200,\n",
       "  'HTTPHeaders': {'x-amzn-requestid': '11c6968c-e9b8-4a21-b72b-9177531c4427',\n",
       "   'content-type': 'application/x-amz-json-1.1',\n",
       "   'content-length': '277',\n",
       "   'date': 'Fri, 24 Sep 2021 10:17:01 GMT'},\n",
       "  'RetryAttempts': 0}}"
      ]
     },
     "execution_count": 32,
     "metadata": {},
     "output_type": "execute_result"
    }
   ],
   "source": [
    "cloudtrail.create_trail(\n",
    "    Name=trail_name,\n",
    "    S3BucketName=default_bucket, # this specifies the bucket to save logs\n",
    "    TagsList=[\n",
    "        {\n",
    "            'Key': 'event',\n",
    "            'Value': 'qa-dataset-update'\n",
    "        }\n",
    "    ]\n",
    ")"
   ]
  },
  {
   "cell_type": "markdown",
   "metadata": {},
   "source": [
    "### 3. Define event selector for CloudTrail\n",
    "\n",
    "Use event selectors or advanced event selectors to specify management and data event settings for your trail. For each trail, if the event matches any event selector, the trail processes and logs the event."
   ]
  },
  {
   "cell_type": "code",
   "execution_count": 33,
   "metadata": {},
   "outputs": [],
   "source": [
    "watched_s3_resource_arn = \"arn:aws:s3:::{}/{}\".format(watched_bucket, watched_prefix)\n",
    "event_selector = [\n",
    "    { \n",
    "        \"ReadWriteType\": \"WriteOnly\", \n",
    "        \"IncludeManagementEvents\":False, \n",
    "        \"DataResources\": \n",
    "            [\n",
    "                { \n",
    "                    \"Type\": \"AWS::S3::Object\", \n",
    "                    \"Values\": [watched_s3_resource_arn] \n",
    "                }\n",
    "            ]\n",
    "    }\n",
    "]"
   ]
  },
  {
   "cell_type": "code",
   "execution_count": 34,
   "metadata": {},
   "outputs": [
    {
     "data": {
      "text/plain": [
       "{'TrailARN': 'arn:aws:cloudtrail:us-east-1:093729152554:trail/WatchQAInputData',\n",
       " 'EventSelectors': [{'ReadWriteType': 'WriteOnly',\n",
       "   'IncludeManagementEvents': False,\n",
       "   'DataResources': [{'Type': 'AWS::S3::Object',\n",
       "     'Values': ['arn:aws:s3:::sm-nlp-data/nlu/data/processed/']}],\n",
       "   'ExcludeManagementEventSources': []}],\n",
       " 'ResponseMetadata': {'RequestId': 'de1acf58-653a-4eb4-a030-8e2cb1e5288c',\n",
       "  'HTTPStatusCode': 200,\n",
       "  'HTTPHeaders': {'x-amzn-requestid': 'de1acf58-653a-4eb4-a030-8e2cb1e5288c',\n",
       "   'content-type': 'application/x-amz-json-1.1',\n",
       "   'content-length': '298',\n",
       "   'date': 'Fri, 24 Sep 2021 10:18:24 GMT'},\n",
       "  'RetryAttempts': 0}}"
      ]
     },
     "execution_count": 34,
     "metadata": {},
     "output_type": "execute_result"
    }
   ],
   "source": [
    "cloudtrail.put_event_selectors(\n",
    "    TrailName=trail_name,\n",
    "    EventSelectors=event_selector\n",
    ")"
   ]
  },
  {
   "cell_type": "code",
   "execution_count": 35,
   "metadata": {},
   "outputs": [
    {
     "data": {
      "text/plain": [
       "{'ResponseMetadata': {'RequestId': 'ef37b715-d1db-4588-93e1-ff611b89da55',\n",
       "  'HTTPStatusCode': 200,\n",
       "  'HTTPHeaders': {'x-amzn-requestid': 'ef37b715-d1db-4588-93e1-ff611b89da55',\n",
       "   'content-type': 'application/x-amz-json-1.1',\n",
       "   'content-length': '2',\n",
       "   'date': 'Fri, 24 Sep 2021 10:18:32 GMT'},\n",
       "  'RetryAttempts': 0}}"
      ]
     },
     "execution_count": 35,
     "metadata": {},
     "output_type": "execute_result"
    }
   ],
   "source": [
    "cloudtrail.start_logging(\n",
    "    Name=trail_name\n",
    ")"
   ]
  },
  {
   "cell_type": "markdown",
   "metadata": {},
   "source": [
    "### 4. Create EventBridge rule that can trigger SageMaker pipeline."
   ]
  },
  {
   "cell_type": "code",
   "execution_count": 36,
   "metadata": {},
   "outputs": [
    {
     "name": "stdout",
     "output_type": "stream",
     "text": [
      "{'detail': {'eventName': ['PutObject', 'CompleteMultipartUpload', 'CopyObject'],\n",
      "            'eventSource': ['s3.amazonaws.com'],\n",
      "            'requestParameters': {'bucketName': ['sm-nlp-data']}},\n",
      " 'detail-type': ['AWS API Call via CloudTrail'],\n",
      " 'source': ['aws.s3']}\n"
     ]
    }
   ],
   "source": [
    "pattern = {\n",
    "    \"source\": [\"aws.s3\"],\n",
    "    \"detail-type\": [\"AWS API Call via CloudTrail\"],\n",
    "    \"detail\": {\n",
    "        \"eventSource\": [\"s3.amazonaws.com\"],\n",
    "        \"eventName\": [\"PutObject\", \"CompleteMultipartUpload\", \"CopyObject\"],\n",
    "        \"requestParameters\": {\"bucketName\": [\"{}\".format(watched_bucket)]},\n",
    "    },\n",
    "}\n",
    "\n",
    "pattern_json = json.dumps(pattern)\n",
    "pprint(pattern)"
   ]
  },
  {
   "cell_type": "code",
   "execution_count": 38,
   "metadata": {},
   "outputs": [
    {
     "data": {
      "text/plain": [
       "{'RuleArn': 'arn:aws:events:us-east-1:093729152554:rule/QA-S3-Trigger',\n",
       " 'ResponseMetadata': {'RequestId': '5209885c-9bff-4761-8138-c03e8ac80c3e',\n",
       "  'HTTPStatusCode': 200,\n",
       "  'HTTPHeaders': {'x-amzn-requestid': '5209885c-9bff-4761-8138-c03e8ac80c3e',\n",
       "   'content-type': 'application/x-amz-json-1.1',\n",
       "   'content-length': '70',\n",
       "   'date': 'Fri, 24 Sep 2021 10:22:27 GMT'},\n",
       "  'RetryAttempts': 0}}"
      ]
     },
     "execution_count": 38,
     "metadata": {},
     "output_type": "execute_result"
    }
   ],
   "source": [
    "import boto3\n",
    "\n",
    "events = boto3.client('events')\n",
    "\n",
    "response = events.put_rule(\n",
    "    Name=s3_rule_name,\n",
    "    EventPattern=pattern_json,\n",
    "    State=\"ENABLED\",\n",
    "    Description=s3_rule_description,\n",
    "    EventBusName=\"default\",\n",
    "    Tags=[\n",
    "        {\n",
    "            'Key': 'event',\n",
    "            'Value': 'qa-dataset-update'\n",
    "        },\n",
    "    ],\n",
    ")\n",
    "response"
   ]
  },
  {
   "cell_type": "code",
   "execution_count": 39,
   "metadata": {},
   "outputs": [
    {
     "name": "stdout",
     "output_type": "stream",
     "text": [
      "arn:aws:events:us-east-1:093729152554:rule/QA-S3-Trigger\n"
     ]
    }
   ],
   "source": [
    "rule_arn = response[\"RuleArn\"]\n",
    "print(rule_arn)"
   ]
  },
  {
   "cell_type": "markdown",
   "metadata": {},
   "source": [
    "### 5. Add pipeline as target to the rule"
   ]
  },
  {
   "cell_type": "code",
   "execution_count": 40,
   "metadata": {},
   "outputs": [
    {
     "data": {
      "text/plain": [
       "{'FailedEntryCount': 0,\n",
       " 'FailedEntries': [],\n",
       " 'ResponseMetadata': {'RequestId': '1c4dc75f-feb0-41dc-86ba-f3e12ab7734e',\n",
       "  'HTTPStatusCode': 200,\n",
       "  'HTTPHeaders': {'x-amzn-requestid': '1c4dc75f-feb0-41dc-86ba-f3e12ab7734e',\n",
       "   'content-type': 'application/x-amz-json-1.1',\n",
       "   'content-length': '41',\n",
       "   'date': 'Fri, 24 Sep 2021 10:23:10 GMT'},\n",
       "  'RetryAttempts': 0}}"
      ]
     },
     "execution_count": 40,
     "metadata": {},
     "output_type": "execute_result"
    }
   ],
   "source": [
    "response = events.put_targets(\n",
    "    Rule=s3_rule_name,\n",
    "    EventBusName='default',\n",
    "    Targets=[\n",
    "        {\n",
    "            \"Id\": pipeline_id,\n",
    "            \"Arn\": pipeline_arn,\n",
    "            \"RoleArn\": pipeline_role_arn\n",
    "        }\n",
    "    ]\n",
    ")\n",
    "response"
   ]
  },
  {
   "cell_type": "markdown",
   "metadata": {},
   "source": [
    "### 6. Trigger pipeline by writing to the watched location"
   ]
  },
  {
   "cell_type": "code",
   "execution_count": null,
   "metadata": {},
   "outputs": [],
   "source": []
  }
 ],
 "metadata": {
  "instance_type": "ml.g4dn.xlarge",
  "kernelspec": {
   "display_name": "Python 3 (PyTorch 1.6 Python 3.6 GPU Optimized)",
   "language": "python",
   "name": "python3__SAGEMAKER_INTERNAL__arn:aws:sagemaker:us-east-1:081325390199:image/pytorch-1.6-gpu-py36-cu110-ubuntu18.04-v3"
  },
  "language_info": {
   "codemirror_mode": {
    "name": "ipython",
    "version": 3
   },
   "file_extension": ".py",
   "mimetype": "text/x-python",
   "name": "python",
   "nbconvert_exporter": "python",
   "pygments_lexer": "ipython3",
   "version": "3.6.13"
  }
 },
 "nbformat": 4,
 "nbformat_minor": 4
}
