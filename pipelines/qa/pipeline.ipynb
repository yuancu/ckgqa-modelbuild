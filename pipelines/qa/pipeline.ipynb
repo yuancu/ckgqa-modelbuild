{
 "cells": [
  {
   "cell_type": "markdown",
   "metadata": {},
   "source": [
    "# Pipeline for Question Understanding\n",
    "\n",
    "This notebook tests every step of the question understanding pipeline. It has similar contents as `pipeline.py`.\n",
    "\n",
    "Check the notebool `sagemaker-pipelines-project.ipynb` for an end-to-end pipeline.\n",
    "\n",
    "## Create SageMaker Clients and Session\n",
    "\n",
    "First, we create a new SageMaker Session in the current AWS region. We also acquire the role arn for the session.\n",
    "\n",
    "This role arn should be the execution role arn that you set up in the Prerequisites section of this notebook."
   ]
  },
  {
   "cell_type": "code",
   "execution_count": 1,
   "metadata": {},
   "outputs": [],
   "source": [
    "from botocore.exceptions import ClientError\n",
    "\n",
    "import os\n",
    "import sagemaker\n",
    "import logging\n",
    "import boto3\n",
    "import sagemaker\n",
    "import pandas as pd\n",
    "\n",
    "sess = sagemaker.Session()\n",
    "bucket = 'sm-nlp-data'\n",
    "role = sagemaker.get_execution_role()\n",
    "region = boto3.Session().region_name\n",
    "\n",
    "sm = boto3.Session().client(service_name=\"sagemaker\", region_name=region)"
   ]
  },
  {
   "cell_type": "markdown",
   "metadata": {},
   "source": [
    "## Track the Pipeline as an `Experiment`"
   ]
  },
  {
   "cell_type": "code",
   "execution_count": 23,
   "metadata": {},
   "outputs": [
    {
     "name": "stdout",
     "output_type": "stream",
     "text": [
      "Stored 'pipeline_name' (str)\n"
     ]
    }
   ],
   "source": [
    "import time\n",
    "timestamp = int(time.time())\n",
    "pipeline_name = \"qa-pipeline-{}\".format(timestamp)\n",
    "%store pipeline_name"
   ]
  },
  {
   "cell_type": "code",
   "execution_count": 4,
   "metadata": {},
   "outputs": [
    {
     "name": "stdout",
     "output_type": "stream",
     "text": [
      "Pipeline experiment name: qa-pipeline-1631956944\n"
     ]
    }
   ],
   "source": [
    "from smexperiments.experiment import Experiment\n",
    "\n",
    "pipeline_experiment = Experiment.create(\n",
    "    experiment_name=pipeline_name,\n",
    "    description=\"Extract intention and corresponding slots from questions\",\n",
    "    sagemaker_boto_client=sm,\n",
    ")\n",
    "\n",
    "pipeline_experiment_name = pipeline_experiment.experiment_name\n",
    "print(\"Pipeline experiment name: {}\".format(pipeline_experiment_name))"
   ]
  },
  {
   "cell_type": "code",
   "execution_count": 5,
   "metadata": {},
   "outputs": [
    {
     "name": "stdout",
     "output_type": "stream",
     "text": [
      "Stored 'pipeline_experiment_name' (str)\n"
     ]
    }
   ],
   "source": [
    "%store pipeline_experiment_name"
   ]
  },
  {
   "cell_type": "markdown",
   "metadata": {},
   "source": [
    "## Create the `Trial`"
   ]
  },
  {
   "cell_type": "code",
   "execution_count": 6,
   "metadata": {},
   "outputs": [
    {
     "name": "stdout",
     "output_type": "stream",
     "text": [
      "Trial name: trial-qa-1631956944\n",
      "Stored 'pipeline_trial_name' (str)\n"
     ]
    }
   ],
   "source": [
    "from smexperiments.trial import Trial\n",
    "\n",
    "pipeline_trial = Trial.create(\n",
    "    trial_name=\"trial-qa-{}\".format(timestamp), experiment_name=pipeline_experiment_name, sagemaker_boto_client=sm\n",
    ")\n",
    "pipeline_trial_name = pipeline_trial.trial_name\n",
    "print(\"Trial name: {}\".format(pipeline_trial_name))\n",
    "\n",
    "%store pipeline_trial_name"
   ]
  },
  {
   "cell_type": "markdown",
   "metadata": {},
   "source": [
    "## Define Parameters to Parametrize Pipeline Execution\n",
    "\n",
    "We define Workflow Parameters by which we can parametrize our Pipeline and vary the values injected and used in Pipeline executions and schedules without having to modify the Pipeline definition.\n"
   ]
  },
  {
   "cell_type": "code",
   "execution_count": 2,
   "metadata": {},
   "outputs": [],
   "source": [
    "from sagemaker.workflow.parameters import (\n",
    "    ParameterInteger,\n",
    "    ParameterString,\n",
    "    ParameterFloat,\n",
    ")"
   ]
  },
  {
   "cell_type": "markdown",
   "metadata": {},
   "source": [
    "### Experiment Parameters"
   ]
  },
  {
   "cell_type": "code",
   "execution_count": 8,
   "metadata": {},
   "outputs": [],
   "source": [
    "exp_name = ParameterString(\n",
    "    name=\"ExperimentName\",\n",
    "    default_value=pipeline_experiment_name,\n",
    ")"
   ]
  },
  {
   "cell_type": "markdown",
   "metadata": {},
   "source": [
    "# Preprocess Step\n",
    "\n",
    "Run following cell if you don't have training data on your s3 yet."
   ]
  },
  {
   "cell_type": "code",
   "execution_count": 144,
   "metadata": {},
   "outputs": [],
   "source": [
    "!aws s3 cp data/qa_raw.zip s3://$bucket/nlu/data/qa_raw.zip"
   ]
  },
  {
   "cell_type": "code",
   "execution_count": 9,
   "metadata": {},
   "outputs": [
    {
     "name": "stdout",
     "output_type": "stream",
     "text": [
      "Input: s3://sm-nlp-data/nlu/data/qa_raw.zip\n",
      "2021-09-08 11:33:36      48140 qa_raw.zip\n",
      "Output: s3://sm-nlp-data/nlu/data/processed/\n",
      "                           PRE dev/\n",
      "                           PRE schema/\n",
      "                           PRE test/\n",
      "                           PRE train/\n",
      "2021-09-03 06:45:26          0 \n",
      "2021-09-08 11:41:39        107 intent_label.txt\n",
      "2021-09-08 11:41:39         90 slot_label.txt\n"
     ]
    }
   ],
   "source": [
    "raw_input_data_s3_uri = \"s3://{}/nlu/data/qa_raw.zip\".format(bucket)\n",
    "processed_data_s3_uri = \"s3://{}/nlu/data/processed/\".format(bucket)\n",
    "\n",
    "print('Input:', raw_input_data_s3_uri)\n",
    "# check existence\n",
    "!aws s3 ls $raw_input_data_s3_uri\n",
    "print('Output:', processed_data_s3_uri)\n",
    "!aws s3 ls $processed_data_s3_uri"
   ]
  },
  {
   "cell_type": "markdown",
   "metadata": {},
   "source": [
    "Input parameters for preprocess step:"
   ]
  },
  {
   "cell_type": "code",
   "execution_count": 10,
   "metadata": {},
   "outputs": [],
   "source": [
    "input_data = ParameterString(name=\"InputData\", default_value=raw_input_data_s3_uri)\n",
    "output_dir = ParameterString(name=\"OutputData\", default_value=processed_data_s3_uri)\n",
    "validation_split = ParameterString(name=\"ValidationSplit\", default_value='0.1')\n",
    "test_split = ParameterString(name=\"TestSplit\", default_value='0.1')\n",
    "processing_instance_count = ParameterInteger(name=\"ProcessingInstanceCount\", default_value=1)\n",
    "processing_instance_type = ParameterString(name=\"ProcessingInstanceType\", default_value=\"ml.c5.2xlarge\")"
   ]
  },
  {
   "cell_type": "markdown",
   "metadata": {},
   "source": [
    "We create an instance of an `SKLearnProcessor` processor and we use that in our `ProcessingStep`."
   ]
  },
  {
   "cell_type": "code",
   "execution_count": 11,
   "metadata": {},
   "outputs": [
    {
     "name": "stderr",
     "output_type": "stream",
     "text": [
      "INFO:botocore.credentials:Credentials found in config file: ~/.aws/config\n",
      "INFO:sagemaker.image_uris:Same images used for training and inference. Defaulting to image scope: inference.\n",
      "INFO:sagemaker.image_uris:Defaulting to only available Python version: py3\n"
     ]
    }
   ],
   "source": [
    "from sagemaker.sklearn.processing import SKLearnProcessor\n",
    "\n",
    "processor = SKLearnProcessor(\n",
    "    framework_version=\"0.23-1\",\n",
    "    role=role,\n",
    "    instance_type=processing_instance_type,\n",
    "    instance_count=processing_instance_count,\n",
    "    env={\"AWS_DEFAULT_REGION\": region},\n",
    ")"
   ]
  },
  {
   "cell_type": "code",
   "execution_count": 12,
   "metadata": {},
   "outputs": [
    {
     "name": "stdout",
     "output_type": "stream",
     "text": [
      "ProcessingStep(name='Processing', step_type=<StepTypeEnum.PROCESSING: 'Processing'>, depends_on=None)\n"
     ]
    }
   ],
   "source": [
    "from sagemaker.processing import ProcessingInput, ProcessingOutput\n",
    "from sagemaker.workflow.steps import ProcessingStep\n",
    "\n",
    "processing_inputs = [\n",
    "    ProcessingInput(\n",
    "        input_name=\"raw\",\n",
    "        source=input_data,\n",
    "        destination=\"/opt/ml/processing/qa/data/raw\",\n",
    "        s3_data_distribution_type=\"ShardedByS3Key\",\n",
    "    )\n",
    "]\n",
    "\n",
    "processing_outputs = [\n",
    "    ProcessingOutput(\n",
    "        output_name=\"train\",\n",
    "        destination = output_dir,\n",
    "        s3_upload_mode=\"EndOfJob\",\n",
    "        source=\"/opt/ml/processing/qa/data/processed\", # processed data in preprocessing should be saved to this folder\n",
    "    )\n",
    "]\n",
    "\n",
    "processing_step = ProcessingStep(\n",
    "    name=\"Processing\",\n",
    "    code=\"preprocess.py\",\n",
    "    processor=processor,\n",
    "    inputs=processing_inputs,\n",
    "    outputs=processing_outputs,\n",
    "    job_arguments=[\n",
    "        \"--input-data\",\n",
    "        processing_inputs[0].destination, # /opt/ml/processing/ie/data/raw\n",
    "        \"--validation-split\",\n",
    "        validation_split,\n",
    "        \"--test-split\",\n",
    "        test_split\n",
    "    ],\n",
    ")\n",
    "\n",
    "print(processing_step)"
   ]
  },
  {
   "cell_type": "markdown",
   "metadata": {},
   "source": [
    "### Test Preprocess Step"
   ]
  },
  {
   "cell_type": "code",
   "execution_count": 17,
   "metadata": {},
   "outputs": [
    {
     "name": "stdout",
     "output_type": "stream",
     "text": [
      "{'Metadata': {},\n",
      " 'Parameters': [{'DefaultValue': 's3://sm-nlp-data/nlu/data/qa_raw.zip',\n",
      "                 'Name': 'InputData',\n",
      "                 'Type': 'String'},\n",
      "                {'DefaultValue': 's3://sm-nlp-data/nlu/data/processed/',\n",
      "                 'Name': 'OutputData',\n",
      "                 'Type': 'String'},\n",
      "                {'DefaultValue': '0.1',\n",
      "                 'Name': 'ValidationSplit',\n",
      "                 'Type': 'String'},\n",
      "                {'DefaultValue': '0.1', 'Name': 'TestSplit', 'Type': 'String'},\n",
      "                {'DefaultValue': 1,\n",
      "                 'Name': 'ProcessingInstanceCount',\n",
      "                 'Type': 'Integer'},\n",
      "                {'DefaultValue': 'ml.c5.2xlarge',\n",
      "                 'Name': 'ProcessingInstanceType',\n",
      "                 'Type': 'String'}],\n",
      " 'PipelineExperimentConfig': {'ExperimentName': {'Get': 'Execution.PipelineName'},\n",
      "                              'TrialName': {'Get': 'Execution.PipelineExecutionId'}},\n",
      " 'Steps': [{'Arguments': {'AppSpecification': {'ContainerArguments': ['--input-data',\n",
      "                                                                      '/opt/ml/processing/qa/data/raw',\n",
      "                                                                      '--validation-split',\n",
      "                                                                      {'Get': 'Parameters.ValidationSplit'},\n",
      "                                                                      '--test-split',\n",
      "                                                                      {'Get': 'Parameters.TestSplit'}],\n",
      "                                               'ContainerEntrypoint': ['python3',\n",
      "                                                                       '/opt/ml/processing/input/code/preprocess.py'],\n",
      "                                               'ImageUri': '683313688378.dkr.ecr.us-east-1.amazonaws.com/sagemaker-scikit-learn:0.23-1-cpu-py3'},\n",
      "                          'Environment': {'AWS_DEFAULT_REGION': 'us-east-1'},\n",
      "                          'ProcessingInputs': [{'AppManaged': False,\n",
      "                                                'InputName': 'raw',\n",
      "                                                'S3Input': {'LocalPath': '/opt/ml/processing/qa/data/raw',\n",
      "                                                            'S3CompressionType': 'None',\n",
      "                                                            'S3DataDistributionType': 'ShardedByS3Key',\n",
      "                                                            'S3DataType': 'S3Prefix',\n",
      "                                                            'S3InputMode': 'File',\n",
      "                                                            'S3Uri': {'Get': 'Parameters.InputData'}}},\n",
      "                                               {'AppManaged': False,\n",
      "                                                'InputName': 'code',\n",
      "                                                'S3Input': {'LocalPath': '/opt/ml/processing/input/code',\n",
      "                                                            'S3CompressionType': 'None',\n",
      "                                                            'S3DataDistributionType': 'FullyReplicated',\n",
      "                                                            'S3DataType': 'S3Prefix',\n",
      "                                                            'S3InputMode': 'File',\n",
      "                                                            'S3Uri': 's3://sagemaker-us-east-1-093729152554/sagemaker-scikit-learn-2021-09-18-09-23-53-732/input/code/preprocess.py'}}],\n",
      "                          'ProcessingOutputConfig': {'Outputs': [{'AppManaged': False,\n",
      "                                                                  'OutputName': 'train',\n",
      "                                                                  'S3Output': {'LocalPath': '/opt/ml/processing/qa/data/processed',\n",
      "                                                                               'S3UploadMode': 'EndOfJob',\n",
      "                                                                               'S3Uri': {'Get': 'Parameters.OutputData'}}}]},\n",
      "                          'ProcessingResources': {'ClusterConfig': {'InstanceCount': {'Get': 'Parameters.ProcessingInstanceCount'},\n",
      "                                                                    'InstanceType': {'Get': 'Parameters.ProcessingInstanceType'},\n",
      "                                                                    'VolumeSizeInGB': 30}},\n",
      "                          'RoleArn': 'arn:aws:iam::093729152554:role/service-role/AWSNeptuneNotebookRole-NepTestRole'},\n",
      "            'Name': 'Processing',\n",
      "            'Type': 'Processing'}],\n",
      " 'Version': '2020-12-01'}\n"
     ]
    }
   ],
   "source": [
    "from sagemaker.workflow.pipeline import Pipeline\n",
    "import json\n",
    "from pprint import pprint\n",
    "\n",
    "pipeline_name = f\"test-preprocess-{int(time.time())}\"\n",
    "pipeline = Pipeline(\n",
    "    name=pipeline_name,\n",
    "    parameters=[\n",
    "        input_data,\n",
    "        output_dir,\n",
    "        validation_split,\n",
    "        test_split,\n",
    "        processing_instance_count,\n",
    "        processing_instance_type,\n",
    "    ],\n",
    "    steps=[processing_step],\n",
    "    sagemaker_session=sess\n",
    ")\n",
    "\n",
    "definition = json.loads(pipeline.definition())\n",
    "pprint(definition)"
   ]
  },
  {
   "cell_type": "code",
   "execution_count": 18,
   "metadata": {},
   "outputs": [
    {
     "name": "stdout",
     "output_type": "stream",
     "text": [
      "arn:aws:sagemaker:us-east-1:093729152554:pipeline/test-preprocess-1631957033\n"
     ]
    }
   ],
   "source": [
    "response = pipeline.create(role_arn=role)\n",
    "pipeline_arn = response[\"PipelineArn\"]\n",
    "print(pipeline_arn)"
   ]
  },
  {
   "cell_type": "code",
   "execution_count": 19,
   "metadata": {},
   "outputs": [
    {
     "name": "stdout",
     "output_type": "stream",
     "text": [
      "arn:aws:sagemaker:us-east-1:093729152554:pipeline/test-preprocess-1631957033/execution/xrf8clzby5ru\n"
     ]
    }
   ],
   "source": [
    "execution = pipeline.start()\n",
    "print(execution.arn)"
   ]
  },
  {
   "cell_type": "code",
   "execution_count": 20,
   "metadata": {},
   "outputs": [
    {
     "name": "stdout",
     "output_type": "stream",
     "text": [
      "{'CreatedBy': {},\n",
      " 'CreationTime': datetime.datetime(2021, 9, 18, 9, 24, 0, 355000, tzinfo=tzlocal()),\n",
      " 'LastModifiedBy': {},\n",
      " 'LastModifiedTime': datetime.datetime(2021, 9, 18, 9, 24, 0, 355000, tzinfo=tzlocal()),\n",
      " 'PipelineArn': 'arn:aws:sagemaker:us-east-1:093729152554:pipeline/test-preprocess-1631957033',\n",
      " 'PipelineExecutionArn': 'arn:aws:sagemaker:us-east-1:093729152554:pipeline/test-preprocess-1631957033/execution/xrf8clzby5ru',\n",
      " 'PipelineExecutionDisplayName': 'execution-1631957040498',\n",
      " 'PipelineExecutionStatus': 'Executing',\n",
      " 'ResponseMetadata': {'HTTPHeaders': {'content-length': '519',\n",
      "                                      'content-type': 'application/x-amz-json-1.1',\n",
      "                                      'date': 'Sat, 18 Sep 2021 09:24:02 GMT',\n",
      "                                      'x-amzn-requestid': '4c718bfb-9cb1-4024-b5a6-c80ff96692b5'},\n",
      "                      'HTTPStatusCode': 200,\n",
      "                      'RequestId': '4c718bfb-9cb1-4024-b5a6-c80ff96692b5',\n",
      "                      'RetryAttempts': 0}}\n"
     ]
    }
   ],
   "source": [
    "execution_run = execution.describe()\n",
    "pprint(execution_run)"
   ]
  },
  {
   "cell_type": "markdown",
   "metadata": {},
   "source": [
    "# Train Step"
   ]
  },
  {
   "cell_type": "code",
   "execution_count": 20,
   "metadata": {},
   "outputs": [],
   "source": [
    "train_instance_type = ParameterString(name=\"TrainInstanceType\", default_value=\"ml.g4dn.4xlarge\")\n",
    "train_instance_count = ParameterInteger(name=\"TrainInstanceCount\", default_value=1)\n",
    "epochs = ParameterString(name=\"Epochs\", default_value='10')\n",
    "learning_rate = ParameterString(name=\"LearningRate\", default_value='5e-5')\n",
    "batch_size = ParameterString(name=\"BatchSize\", default_value='64')\n",
    "max_seq_len = ParameterString(name=\"MaxSeqLength\", default_value='50')"
   ]
  },
  {
   "cell_type": "code",
   "execution_count": 21,
   "metadata": {},
   "outputs": [],
   "source": [
    "from sagemaker.pytorch.estimator import PyTorch\n",
    "from sagemaker.debugger import TensorBoardOutputConfig\n",
    "import os\n",
    "\n",
    "tensorboard_output_config = TensorBoardOutputConfig(\n",
    "    s3_output_path='s3://sm-nlp-data/nlu/outputs/tb',\n",
    "    container_local_output_path='/root/ckgqa-p-kiqtyrraeiec/sagemaker-ckgqa-p-kiqtyrraeiec-modelbuild/pipelines/question_ansering/output/tb'\n",
    ")\n",
    "\n",
    "# Filter out metrics from output\n",
    "metric_definitions = [\n",
    "    {'Name': 'eval:intent_acc', 'Regex': 'intent_acc = ([0-9\\\\.]+)'},\n",
    "    {'Name': 'eval:loss', 'Regex': 'loss = ([0-9\\\\.]+)'},\n",
    "    {'Name': 'eval:semantic_frame_acc', 'Regex': 'sementic_frame_acc = ([0-9\\\\.]+)'},\n",
    "    {'Name': 'eval:slot_f1', 'Regex': 'slot_f1 = ([0-9\\\\.]+)'},\n",
    "    {'Name': 'eval:slot_precision', 'Regex': 'slot_precision = ([0-9\\\\.]+)'},\n",
    "    {'Name': 'eval:slot_recall', 'Regex': 'slot_recall = ([0-9\\\\.]+)'}\n",
    "]\n",
    "\n",
    "estimator = PyTorch(\n",
    "    entry_point = 'train.py',\n",
    "    role=role,\n",
    "    instance_type=train_instance_type, # ml.c5.4xlarge, ml.g4dn.4xlarge\n",
    "    instance_count=1,\n",
    "    framework_version='1.8.1',\n",
    "    py_version='py3',\n",
    "    source_dir='./',\n",
    "    output_path=f\"s3://{bucket}/nlu/outputs\",\n",
    "    code_location=f\"s3://{bucket}/nlu/source/train\",\n",
    "    metric_definitions = metric_definitions,\n",
    "    hyperparameters={\n",
    "        'task': 'naive',\n",
    "        'model_type': 'bert',\n",
    "        'train_batch_size': batch_size,\n",
    "        'max_seq_len': max_seq_len,\n",
    "        'learning_rate': learning_rate,\n",
    "        'num_train_epochs': epochs\n",
    "    }\n",
    ")"
   ]
  },
  {
   "cell_type": "markdown",
   "metadata": {},
   "source": [
    "Setup Pipeline Step Caching:\n",
    "\n",
    "If a previous execution is found, a cache hit is created. Pipelines then propagates the values from the cache hit during execution, rather than recomputing the step. "
   ]
  },
  {
   "cell_type": "code",
   "execution_count": 22,
   "metadata": {},
   "outputs": [],
   "source": [
    "from sagemaker.workflow.steps import CacheConfig\n",
    "cache_config = CacheConfig(enable_caching=True, expire_after=\"PT1H\")"
   ]
  },
  {
   "cell_type": "code",
   "execution_count": 23,
   "metadata": {},
   "outputs": [
    {
     "name": "stdout",
     "output_type": "stream",
     "text": [
      "TrainingStep(name='Train', step_type=<StepTypeEnum.TRAINING: 'Training'>, depends_on=None)\n"
     ]
    }
   ],
   "source": [
    "from sagemaker.inputs import TrainingInput\n",
    "from sagemaker.workflow.steps import TrainingStep\n",
    "\n",
    "training_step = TrainingStep(\n",
    "    name=\"Train\",\n",
    "    estimator=estimator,\n",
    "    inputs={\n",
    "        \"train\": TrainingInput(\n",
    "#             s3_data=processing_step.properties.ProcessingOutputConfig.Outputs[\"train\"].S3Output.S3Uri,\n",
    "            s3_data='s3://sm-nlp-data/nlu/data/processed/',\n",
    "            content_type=\"application/json\"\n",
    "        ),\n",
    "    },\n",
    "    cache_config=cache_config,\n",
    ")\n",
    "\n",
    "print(training_step)"
   ]
  },
  {
   "cell_type": "markdown",
   "metadata": {},
   "source": [
    "### Test Train Step"
   ]
  },
  {
   "cell_type": "code",
   "execution_count": 24,
   "metadata": {},
   "outputs": [
    {
     "name": "stdout",
     "output_type": "stream",
     "text": [
      "{'Metadata': {},\n",
      " 'Parameters': [{'DefaultValue': 'ml.g4dn.4xlarge',\n",
      "                 'Name': 'TrainInstanceType',\n",
      "                 'Type': 'String'},\n",
      "                {'DefaultValue': 1,\n",
      "                 'Name': 'TrainInstanceCount',\n",
      "                 'Type': 'Integer'},\n",
      "                {'DefaultValue': '10', 'Name': 'Epochs', 'Type': 'String'},\n",
      "                {'DefaultValue': '5e-5',\n",
      "                 'Name': 'LearningRate',\n",
      "                 'Type': 'String'},\n",
      "                {'DefaultValue': '64', 'Name': 'BatchSize', 'Type': 'String'},\n",
      "                {'DefaultValue': '50',\n",
      "                 'Name': 'MaxSeqLength',\n",
      "                 'Type': 'String'}],\n",
      " 'PipelineExperimentConfig': {'ExperimentName': {'Get': 'Execution.PipelineName'},\n",
      "                              'TrialName': {'Get': 'Execution.PipelineExecutionId'}},\n",
      " 'Steps': [{'Arguments': {'AlgorithmSpecification': {'EnableSageMakerMetricsTimeSeries': True,\n",
      "                                                     'MetricDefinitions': [{'Name': 'eval:intent_acc',\n",
      "                                                                            'Regex': 'intent_acc '\n",
      "                                                                                     '= '\n",
      "                                                                                     '([0-9\\\\.]+)'},\n",
      "                                                                           {'Name': 'eval:loss',\n",
      "                                                                            'Regex': 'loss '\n",
      "                                                                                     '= '\n",
      "                                                                                     '([0-9\\\\.]+)'},\n",
      "                                                                           {'Name': 'eval:semantic_frame_acc',\n",
      "                                                                            'Regex': 'sementic_frame_acc '\n",
      "                                                                                     '= '\n",
      "                                                                                     '([0-9\\\\.]+)'},\n",
      "                                                                           {'Name': 'eval:slot_f1',\n",
      "                                                                            'Regex': 'slot_f1 '\n",
      "                                                                                     '= '\n",
      "                                                                                     '([0-9\\\\.]+)'},\n",
      "                                                                           {'Name': 'eval:slot_precision',\n",
      "                                                                            'Regex': 'slot_precision '\n",
      "                                                                                     '= '\n",
      "                                                                                     '([0-9\\\\.]+)'},\n",
      "                                                                           {'Name': 'eval:slot_recall',\n",
      "                                                                            'Regex': 'slot_recall '\n",
      "                                                                                     '= '\n",
      "                                                                                     '([0-9\\\\.]+)'}],\n",
      "                                                     'TrainingImage': '763104351884.dkr.ecr.us-east-1.amazonaws.com/pytorch-training:1.8.1-gpu-py3',\n",
      "                                                     'TrainingInputMode': 'File'},\n",
      "                          'DebugHookConfig': {'CollectionConfigurations': [],\n",
      "                                              'S3OutputPath': 's3://sm-nlp-data/nlu/outputs'},\n",
      "                          'HyperParameters': {'learning_rate': {'Get': 'Parameters.LearningRate'},\n",
      "                                              'max_seq_len': {'Get': 'Parameters.MaxSeqLength'},\n",
      "                                              'model_type': '\"bert\"',\n",
      "                                              'num_train_epochs': {'Get': 'Parameters.Epochs'},\n",
      "                                              'sagemaker_container_log_level': '20',\n",
      "                                              'sagemaker_job_name': '\"pytorch-training-2021-09-18-13-29-54-776\"',\n",
      "                                              'sagemaker_program': '\"train.py\"',\n",
      "                                              'sagemaker_region': '\"us-east-1\"',\n",
      "                                              'sagemaker_submit_directory': '\"s3://sm-nlp-data/nlu/source/train/pytorch-training-2021-09-18-13-29-54-776/source/sourcedir.tar.gz\"',\n",
      "                                              'task': '\"naive\"',\n",
      "                                              'train_batch_size': {'Get': 'Parameters.BatchSize'}},\n",
      "                          'InputDataConfig': [{'ChannelName': 'train',\n",
      "                                               'ContentType': 'application/json',\n",
      "                                               'DataSource': {'S3DataSource': {'S3DataDistributionType': 'FullyReplicated',\n",
      "                                                                               'S3DataType': 'S3Prefix',\n",
      "                                                                               'S3Uri': 's3://sm-nlp-data/nlu/data/processed/'}}}],\n",
      "                          'OutputDataConfig': {'S3OutputPath': 's3://sm-nlp-data/nlu/outputs'},\n",
      "                          'ProfilerConfig': {'S3OutputPath': 's3://sm-nlp-data/nlu/outputs'},\n",
      "                          'ProfilerRuleConfigurations': [{'RuleConfigurationName': 'ProfilerReport-1631971794',\n",
      "                                                          'RuleEvaluatorImage': '503895931360.dkr.ecr.us-east-1.amazonaws.com/sagemaker-debugger-rules:latest',\n",
      "                                                          'RuleParameters': {'rule_to_invoke': 'ProfilerReport'}}],\n",
      "                          'ResourceConfig': {'InstanceCount': 1,\n",
      "                                             'InstanceType': {'Get': 'Parameters.TrainInstanceType'},\n",
      "                                             'VolumeSizeInGB': 30},\n",
      "                          'RoleArn': 'arn:aws:iam::093729152554:role/service-role/AWSNeptuneNotebookRole-NepTestRole',\n",
      "                          'StoppingCondition': {'MaxRuntimeInSeconds': 86400}},\n",
      "            'CacheConfig': {'Enabled': True, 'ExpireAfter': 'PT1H'},\n",
      "            'Name': 'Train',\n",
      "            'Type': 'Training'}],\n",
      " 'Version': '2020-12-01'}\n"
     ]
    }
   ],
   "source": [
    "from sagemaker.workflow.pipeline import Pipeline\n",
    "\n",
    "pipeline = Pipeline(\n",
    "    name='test-train-step-'+str(time.time())[:10],\n",
    "    parameters=[\n",
    "        train_instance_type,\n",
    "        train_instance_count,\n",
    "        epochs,\n",
    "        learning_rate,\n",
    "        batch_size,\n",
    "        max_seq_len\n",
    "    ],\n",
    "    steps=[training_step],\n",
    "    sagemaker_session=sess,\n",
    ")\n",
    "\n",
    "definition = json.loads(pipeline.definition())\n",
    "pprint(definition)"
   ]
  },
  {
   "cell_type": "code",
   "execution_count": 25,
   "metadata": {},
   "outputs": [
    {
     "name": "stdout",
     "output_type": "stream",
     "text": [
      "arn:aws:sagemaker:us-east-1:093729152554:pipeline/test-train-step-1631971794\n"
     ]
    }
   ],
   "source": [
    "response = pipeline.create(role_arn=role)\n",
    "pipeline_arn = response[\"PipelineArn\"]\n",
    "print(pipeline_arn)"
   ]
  },
  {
   "cell_type": "code",
   "execution_count": 26,
   "metadata": {},
   "outputs": [
    {
     "name": "stdout",
     "output_type": "stream",
     "text": [
      "arn:aws:sagemaker:us-east-1:093729152554:pipeline/test-train-step-1631971794/execution/gzixmcw9w2jh\n"
     ]
    }
   ],
   "source": [
    "execution = pipeline.start()\n",
    "print(execution.arn)"
   ]
  },
  {
   "cell_type": "code",
   "execution_count": 27,
   "metadata": {},
   "outputs": [
    {
     "name": "stdout",
     "output_type": "stream",
     "text": [
      "{'CreatedBy': {},\n",
      " 'CreationTime': datetime.datetime(2021, 9, 18, 13, 29, 56, 414000, tzinfo=tzlocal()),\n",
      " 'LastModifiedBy': {},\n",
      " 'LastModifiedTime': datetime.datetime(2021, 9, 18, 13, 29, 56, 414000, tzinfo=tzlocal()),\n",
      " 'PipelineArn': 'arn:aws:sagemaker:us-east-1:093729152554:pipeline/test-train-step-1631971794',\n",
      " 'PipelineExecutionArn': 'arn:aws:sagemaker:us-east-1:093729152554:pipeline/test-train-step-1631971794/execution/gzixmcw9w2jh',\n",
      " 'PipelineExecutionDisplayName': 'execution-1631971796496',\n",
      " 'PipelineExecutionStatus': 'Executing',\n",
      " 'ResponseMetadata': {'HTTPHeaders': {'content-length': '417',\n",
      "                                      'content-type': 'application/x-amz-json-1.1',\n",
      "                                      'date': 'Sat, 18 Sep 2021 13:29:55 GMT',\n",
      "                                      'x-amzn-requestid': 'a6ef10bd-6c09-4121-97a9-1cc38684cd46'},\n",
      "                      'HTTPStatusCode': 200,\n",
      "                      'RequestId': 'a6ef10bd-6c09-4121-97a9-1cc38684cd46',\n",
      "                      'RetryAttempts': 0}}\n"
     ]
    }
   ],
   "source": [
    "execution_run = execution.describe()\n",
    "pprint(execution_run)"
   ]
  },
  {
   "cell_type": "markdown",
   "metadata": {},
   "source": [
    "# Evaluation Step\n",
    "\n",
    "The evaluation script:\n",
    "\n",
    "* loads in the model\n",
    "* reads in the test data\n",
    "* issues a bunch of predictions against the test data\n",
    "* builds a classification report, including accuracy\n",
    "* saves the evaluation report to the evaluation directory"
   ]
  },
  {
   "cell_type": "code",
   "execution_count": 11,
   "metadata": {},
   "outputs": [],
   "source": [
    "evaluation_instance_count = ParameterInteger(name=\"EvaluationInstanceCount\", default_value=1)\n",
    "evaluation_instance_type = ParameterString(name=\"EvaluationInstanceType\", default_value=\"ml.c5.2xlarge\")"
   ]
  },
  {
   "cell_type": "code",
   "execution_count": 28,
   "metadata": {},
   "outputs": [],
   "source": [
    "trained_model_s3 = 's3://sm-nlp-data/nlu/outputs/pipelines-4w1w374i6osy-Train-Zm2plWqv9u/output/model.tar.gz'"
   ]
  },
  {
   "cell_type": "code",
   "execution_count": 29,
   "metadata": {},
   "outputs": [],
   "source": [
    "from sagemaker.sklearn.processing import SKLearnProcessor\n",
    "from sagemaker.workflow.properties import PropertyFile\n",
    "from sagemaker.processing import ProcessingInput, ProcessingOutput\n",
    "from sagemaker.workflow.steps import ProcessingStep\n",
    "\n",
    "evaluation_processor = SKLearnProcessor(\n",
    "    role=role,\n",
    "    framework_version=\"0.23-1\",\n",
    "    instance_type=evaluation_instance_type,\n",
    "    instance_count=evaluation_instance_count,\n",
    "    env={\"AWS_DEFAULT_REGION\": region},\n",
    "    max_runtime_in_seconds=7200,\n",
    ")\n",
    "\n",
    "evaluation_report = PropertyFile(name=\"EvaluationReport\", output_name=\"metrics\", path=\"evaluation.json\")\n",
    "evaluation_step = ProcessingStep(\n",
    "    name=\"EvaluateModel\",\n",
    "    processor=evaluation_processor,\n",
    "    code=\"evaluate.py\",\n",
    "    inputs=[\n",
    "        ProcessingInput(\n",
    "            input_name='model',\n",
    "#             source=dependencies['step_train'].properties.ModelArtifacts.S3ModelArtifacts,\n",
    "            source=trained_model_s3,\n",
    "            destination=\"/opt/ml/processing/input/model\",\n",
    "        ),\n",
    "        ProcessingInput(\n",
    "            input_name='data',\n",
    "#             source=dependencies['step_process'].properties.ProcessingOutputConfig.Outputs[\"train\"].S3Output.S3Uri,\n",
    "            source='s3://sm-nlp-data/nlu/data/processed/',\n",
    "            destination=\"/opt/ml/processing/input/data\",\n",
    "        ),\n",
    "#         ProcessingInput(\n",
    "#             input_name='source',\n",
    "#             source=dependencies['step_train'].arguments['HyperParameters']['sagemaker_submit_directory'][1:-1],\n",
    "#             destination=\"/opt/ml/processing/input/source/train\"\n",
    "#         )\n",
    "    ],\n",
    "    outputs=[\n",
    "        ProcessingOutput(\n",
    "            output_name=\"metrics\", s3_upload_mode=\"EndOfJob\", source=\"/opt/ml/processing/output/metrics/\"\n",
    "        ),\n",
    "    ],\n",
    "    job_arguments=[\n",
    "        \"--model_dir\", \"/opt/ml/processing/input/model/\",\n",
    "        \"--task\", \"naive\",\n",
    "        \"--model_type\", \"bert\",\n",
    "        \"--output_data_dir\", \"/opt/ml/processing/output/metrics/\",\n",
    "        \"--data_dir\", \"/opt/ml/processing/input/data\"\n",
    "    ],\n",
    "    property_files=[evaluation_report],\n",
    ")"
   ]
  },
  {
   "cell_type": "markdown",
   "metadata": {},
   "source": [
    "### Test Evaluation Step"
   ]
  },
  {
   "cell_type": "code",
   "execution_count": 30,
   "metadata": {},
   "outputs": [
    {
     "name": "stdout",
     "output_type": "stream",
     "text": [
      "{'Metadata': {},\n",
      " 'Parameters': [{'DefaultValue': 'ml.c5.2xlarge',\n",
      "                 'Name': 'EvaluationInstanceType',\n",
      "                 'Type': 'String'},\n",
      "                {'DefaultValue': 1,\n",
      "                 'Name': 'EvaluationInstanceCount',\n",
      "                 'Type': 'Integer'}],\n",
      " 'PipelineExperimentConfig': {'ExperimentName': {'Get': 'Execution.PipelineName'},\n",
      "                              'TrialName': {'Get': 'Execution.PipelineExecutionId'}},\n",
      " 'Steps': [{'Arguments': {'AppSpecification': {'ContainerArguments': ['--model_dir',\n",
      "                                                                      '/opt/ml/processing/input/model/',\n",
      "                                                                      '--task',\n",
      "                                                                      'naive',\n",
      "                                                                      '--model_type',\n",
      "                                                                      'bert',\n",
      "                                                                      '--output_data_dir',\n",
      "                                                                      '/opt/ml/processing/output/metrics/',\n",
      "                                                                      '--data_dir',\n",
      "                                                                      '/opt/ml/processing/input/data'],\n",
      "                                               'ContainerEntrypoint': ['python3',\n",
      "                                                                       '/opt/ml/processing/input/code/evaluate.py'],\n",
      "                                               'ImageUri': '683313688378.dkr.ecr.us-east-1.amazonaws.com/sagemaker-scikit-learn:0.23-1-cpu-py3'},\n",
      "                          'Environment': {'AWS_DEFAULT_REGION': 'us-east-1'},\n",
      "                          'ProcessingInputs': [{'AppManaged': False,\n",
      "                                                'InputName': 'model',\n",
      "                                                'S3Input': {'LocalPath': '/opt/ml/processing/input/model',\n",
      "                                                            'S3CompressionType': 'None',\n",
      "                                                            'S3DataDistributionType': 'FullyReplicated',\n",
      "                                                            'S3DataType': 'S3Prefix',\n",
      "                                                            'S3InputMode': 'File',\n",
      "                                                            'S3Uri': 's3://sm-nlp-data/nlu/outputs/pipelines-4w1w374i6osy-Train-Zm2plWqv9u/output/model.tar.gz'}},\n",
      "                                               {'AppManaged': False,\n",
      "                                                'InputName': 'data',\n",
      "                                                'S3Input': {'LocalPath': '/opt/ml/processing/input/data',\n",
      "                                                            'S3CompressionType': 'None',\n",
      "                                                            'S3DataDistributionType': 'FullyReplicated',\n",
      "                                                            'S3DataType': 'S3Prefix',\n",
      "                                                            'S3InputMode': 'File',\n",
      "                                                            'S3Uri': 's3://sm-nlp-data/nlu/data/processed/'}},\n",
      "                                               {'AppManaged': False,\n",
      "                                                'InputName': 'code',\n",
      "                                                'S3Input': {'LocalPath': '/opt/ml/processing/input/code',\n",
      "                                                            'S3CompressionType': 'None',\n",
      "                                                            'S3DataDistributionType': 'FullyReplicated',\n",
      "                                                            'S3DataType': 'S3Prefix',\n",
      "                                                            'S3InputMode': 'File',\n",
      "                                                            'S3Uri': 's3://sagemaker-us-east-1-093729152554/sagemaker-scikit-learn-2021-09-18-13-32-21-654/input/code/evaluate.py'}}],\n",
      "                          'ProcessingOutputConfig': {'Outputs': [{'AppManaged': False,\n",
      "                                                                  'OutputName': 'metrics',\n",
      "                                                                  'S3Output': {'LocalPath': '/opt/ml/processing/output/metrics/',\n",
      "                                                                               'S3UploadMode': 'EndOfJob',\n",
      "                                                                               'S3Uri': 's3://sagemaker-us-east-1-093729152554/sagemaker-scikit-learn-2021-09-18-13-32-21-654/output/metrics'}}]},\n",
      "                          'ProcessingResources': {'ClusterConfig': {'InstanceCount': {'Get': 'Parameters.EvaluationInstanceCount'},\n",
      "                                                                    'InstanceType': {'Get': 'Parameters.EvaluationInstanceType'},\n",
      "                                                                    'VolumeSizeInGB': 30}},\n",
      "                          'RoleArn': 'arn:aws:iam::093729152554:role/service-role/AWSNeptuneNotebookRole-NepTestRole',\n",
      "                          'StoppingCondition': {'MaxRuntimeInSeconds': 7200}},\n",
      "            'Name': 'EvaluateModel',\n",
      "            'PropertyFiles': [{'FilePath': 'evaluation.json',\n",
      "                               'OutputName': 'metrics',\n",
      "                               'PropertyFileName': 'EvaluationReport'}],\n",
      "            'Type': 'Processing'}],\n",
      " 'Version': '2020-12-01'}\n"
     ]
    }
   ],
   "source": [
    "import time\n",
    "import json\n",
    "from pprint import pprint\n",
    "from sagemaker.workflow.pipeline import Pipeline\n",
    "\n",
    "pipeline = Pipeline(\n",
    "    name='qa-eval-step-'+str(time.time())[:10],\n",
    "    parameters=[\n",
    "        evaluation_instance_type,\n",
    "        evaluation_instance_count,\n",
    "    ],\n",
    "    steps=[evaluation_step],\n",
    "    sagemaker_session=sess,\n",
    ")\n",
    "\n",
    "definition = json.loads(pipeline.definition())\n",
    "pprint(definition)"
   ]
  },
  {
   "cell_type": "code",
   "execution_count": 31,
   "metadata": {},
   "outputs": [
    {
     "name": "stdout",
     "output_type": "stream",
     "text": [
      "arn:aws:sagemaker:us-east-1:093729152554:pipeline/qa-eval-step-1631971941\n"
     ]
    }
   ],
   "source": [
    "response = pipeline.create(role_arn=role)\n",
    "pipeline_arn = response[\"PipelineArn\"]\n",
    "print(pipeline_arn)"
   ]
  },
  {
   "cell_type": "code",
   "execution_count": 32,
   "metadata": {},
   "outputs": [
    {
     "name": "stdout",
     "output_type": "stream",
     "text": [
      "arn:aws:sagemaker:us-east-1:093729152554:pipeline/qa-eval-step-1631971941/execution/37k2woo7xag0\n"
     ]
    }
   ],
   "source": [
    "execution = pipeline.start()\n",
    "print(execution.arn)"
   ]
  },
  {
   "cell_type": "code",
   "execution_count": 33,
   "metadata": {},
   "outputs": [
    {
     "name": "stdout",
     "output_type": "stream",
     "text": [
      "{'CreatedBy': {},\n",
      " 'CreationTime': datetime.datetime(2021, 9, 18, 13, 32, 25, 229000, tzinfo=tzlocal()),\n",
      " 'LastModifiedBy': {},\n",
      " 'LastModifiedTime': datetime.datetime(2021, 9, 18, 13, 32, 25, 229000, tzinfo=tzlocal()),\n",
      " 'PipelineArn': 'arn:aws:sagemaker:us-east-1:093729152554:pipeline/qa-eval-step-1631971941',\n",
      " 'PipelineExecutionArn': 'arn:aws:sagemaker:us-east-1:093729152554:pipeline/qa-eval-step-1631971941/execution/37k2woo7xag0',\n",
      " 'PipelineExecutionDisplayName': 'execution-1631971945335',\n",
      " 'PipelineExecutionStatus': 'Executing',\n",
      " 'ResponseMetadata': {'HTTPHeaders': {'content-length': '411',\n",
      "                                      'content-type': 'application/x-amz-json-1.1',\n",
      "                                      'date': 'Sat, 18 Sep 2021 13:32:25 GMT',\n",
      "                                      'x-amzn-requestid': 'b09a2d93-1f0a-43d9-a396-b8d3da22496e'},\n",
      "                      'HTTPStatusCode': 200,\n",
      "                      'RequestId': 'b09a2d93-1f0a-43d9-a396-b8d3da22496e',\n",
      "                      'RetryAttempts': 0}}\n"
     ]
    }
   ],
   "source": [
    "execution_run = execution.describe()\n",
    "pprint(execution_run)"
   ]
  },
  {
   "cell_type": "markdown",
   "metadata": {},
   "source": [
    "# Register Model Step"
   ]
  },
  {
   "cell_type": "code",
   "execution_count": 170,
   "metadata": {},
   "outputs": [],
   "source": [
    "model_approval_status = ParameterString(name=\"ModelApprovalStatus\", default_value=\"PendingManualApproval\")\n",
    "deploy_instance_type = ParameterString(name=\"DeployInstanceType\", default_value=\"ml.m4.xlarge\")\n",
    "deploy_instance_count = ParameterInteger(name=\"DeployInstanceCount\", default_value=1)"
   ]
  },
  {
   "cell_type": "code",
   "execution_count": 171,
   "metadata": {},
   "outputs": [
    {
     "name": "stdout",
     "output_type": "stream",
     "text": [
      "Question-Understanding-Models-1631090660\n"
     ]
    }
   ],
   "source": [
    "model_package_group_name = f\"Question-Understanding-Models-{timestamp}\"\n",
    "print(model_package_group_name)"
   ]
  },
  {
   "cell_type": "code",
   "execution_count": 172,
   "metadata": {},
   "outputs": [],
   "source": [
    "from sagemaker.model_metrics import MetricsSource, ModelMetrics\n",
    "from sagemaker.workflow.step_collections import RegisterModel\n",
    "\n",
    "model_s3 = 's3://sm-nlp-data/nlu/outputs/pipelines-2qjkjdrs52ev-Train-S78ARZPZst/output/model.tar.gz'\n",
    "\n",
    "model_metrics = ModelMetrics(\n",
    "    model_statistics=MetricsSource(\n",
    "        s3_uri=\"{}/evaluation.json\".format(\n",
    "            evaluation_step.arguments[\"ProcessingOutputConfig\"][\"Outputs\"][0][\"S3Output\"][\"S3Uri\"]\n",
    "        ),\n",
    "#         s3_uri='s3://sagemaker-us-east-1-093729152554/sagemaker-scikit-learn-2021-09-07-05-10-04-516/output/metrics/evaluation.json',\n",
    "        content_type=\"application/json\",\n",
    "    )\n",
    ")\n",
    "step_register = RegisterModel(\n",
    "    name=\"QARegisterModel\",\n",
    "    estimator=estimator,\n",
    "#     model_data=training_step.properties.ModelArtifacts.S3ModelArtifacts,\n",
    "    model_data=model_s3,\n",
    "    content_types=[\"application/json\"],\n",
    "    response_types=[\"application/json\"],\n",
    "    inference_instances=[\"ml.t2.medium\", \"ml.m5.xlarge\"],\n",
    "    transform_instances=[\"ml.c5.4xlarge\"],\n",
    "    model_package_group_name=model_package_group_name,\n",
    "    approval_status=model_approval_status,\n",
    "    model_metrics=model_metrics,\n",
    ")"
   ]
  },
  {
   "cell_type": "markdown",
   "metadata": {},
   "source": [
    "# Create Model Step"
   ]
  },
  {
   "cell_type": "code",
   "execution_count": 173,
   "metadata": {},
   "outputs": [],
   "source": [
    "from sagemaker.pytorch import PyTorchModel\n",
    "from sagemaker.model import Model\n",
    "from sagemaker.model import FrameworkModel\n",
    "import time\n",
    "\n",
    "model_s3 = 's3://sm-nlp-data/nlu/outputs/pipelines-2qjkjdrs52ev-Train-S78ARZPZst/output/model.tar.gz'\n",
    "# model_s3 = 's3://sm-nlp-data/ie-baseline/outputs/pipelines-k6maywbudevl-Train-VXbSKBTZ1l/output/model.tar.gz'\n",
    "\n",
    "# model_data = training_step.properties.ModelArtifacts.S3ModelArtifacts\n",
    "model_name = \"qa-model-{}\".format(timestamp)\n",
    "\n",
    "model = PyTorchModel(\n",
    "    name=model_name,\n",
    "#     model_data=dependencies['step_train'].properties.ModelArtifacts.S3ModelArtifacts,\n",
    "    model_data=model_s3,\n",
    "    framework_version='1.3.1',\n",
    "    py_version='py3',\n",
    "    role=role,\n",
    "    entry_point='inference.py',\n",
    "    source_dir='./',\n",
    "    sagemaker_session=sess\n",
    ")"
   ]
  },
  {
   "cell_type": "code",
   "execution_count": 174,
   "metadata": {},
   "outputs": [],
   "source": [
    "from sagemaker.inputs import CreateModelInput\n",
    "from sagemaker.workflow.steps import CreateModelStep\n",
    "\n",
    "create_inputs = CreateModelInput(\n",
    "    instance_type=\"ml.c5.4xlarge\",\n",
    "    accelerator_type=\"ml.eia1.medium\",\n",
    ")\n",
    "step_create_model = CreateModelStep(\n",
    "    name=\"CreateQAModel\",\n",
    "    model=model,\n",
    "    inputs=create_inputs,\n",
    ")"
   ]
  },
  {
   "cell_type": "markdown",
   "metadata": {},
   "source": [
    "# Condition Step"
   ]
  },
  {
   "cell_type": "code",
   "execution_count": 175,
   "metadata": {},
   "outputs": [],
   "source": [
    "min_intent_acc = ParameterFloat(name=\"MinIntentAccuracy\", default_value=0.9)\n",
    "min_slot_f1 = ParameterFloat(name=\"MinSlotF1\", default_value=0.95)"
   ]
  },
  {
   "cell_type": "code",
   "execution_count": 176,
   "metadata": {},
   "outputs": [
    {
     "name": "stderr",
     "output_type": "stream",
     "text": [
      "WARNING:sagemaker.deprecations:The class JsonGet has been renamed in sagemaker>=2.\n",
      "See: https://sagemaker.readthedocs.io/en/stable/v2.html for details.\n",
      "WARNING:sagemaker.deprecations:The class JsonGet has been renamed in sagemaker>=2.\n",
      "See: https://sagemaker.readthedocs.io/en/stable/v2.html for details.\n"
     ]
    }
   ],
   "source": [
    "from sagemaker.workflow.conditions import ConditionGreaterThanOrEqualTo\n",
    "from sagemaker.workflow.condition_step import (\n",
    "    ConditionStep,\n",
    "    JsonGet,\n",
    ")\n",
    "\n",
    "min_intent_acc_condition = ConditionGreaterThanOrEqualTo(\n",
    "    left=JsonGet(\n",
    "        step=evaluation_step,\n",
    "        property_file=evaluation_report,\n",
    "        json_path=\"intent_acc\",\n",
    "    ),\n",
    "    right=min_intent_acc,  # accuracy\n",
    ")\n",
    "\n",
    "min_slot_f1_condition = ConditionGreaterThanOrEqualTo(\n",
    "    left=JsonGet(\n",
    "        step=evaluation_step,\n",
    "        property_file=evaluation_report,\n",
    "        json_path=\"slot_f1\",\n",
    "    ),\n",
    "    right=min_slot_f1,  # accuracy\n",
    ")\n",
    "\n",
    "condition_step = ConditionStep(\n",
    "    name=\"IntentAndSlotCondition\",\n",
    "    conditions=[min_intent_acc_condition, min_slot_f1_condition],\n",
    "    if_steps=[step_register, step_create_model],  # success, continue with model registration\n",
    "    else_steps=[],  # fail, end the pipeline\n",
    ")"
   ]
  },
  {
   "cell_type": "markdown",
   "metadata": {},
   "source": [
    "## Test condition step"
   ]
  },
  {
   "cell_type": "code",
   "execution_count": 177,
   "metadata": {},
   "outputs": [
    {
     "name": "stderr",
     "output_type": "stream",
     "text": [
      "WARNING:sagemaker.estimator:No finished training job found associated with this estimator. Please make sure this estimator is only used for building workflow config\n"
     ]
    },
    {
     "name": "stdout",
     "output_type": "stream",
     "text": [
      "{'Metadata': {},\n",
      " 'Parameters': [{'DefaultValue': 'ml.c5.2xlarge',\n",
      "                 'Name': 'EvaluationInstanceType',\n",
      "                 'Type': 'String'},\n",
      "                {'DefaultValue': 1,\n",
      "                 'Name': 'EvaluationInstanceCount',\n",
      "                 'Type': 'Integer'},\n",
      "                {'DefaultValue': 'PendingManualApproval',\n",
      "                 'Name': 'ModelApprovalStatus',\n",
      "                 'Type': 'String'},\n",
      "                {'DefaultValue': 'ml.m4.xlarge',\n",
      "                 'Name': 'DeployInstanceType',\n",
      "                 'Type': 'String'},\n",
      "                {'DefaultValue': 1,\n",
      "                 'Name': 'DeployInstanceCount',\n",
      "                 'Type': 'Integer'},\n",
      "                {'DefaultValue': 0.9,\n",
      "                 'Name': 'MinIntentAccuracy',\n",
      "                 'Type': 'Float'},\n",
      "                {'DefaultValue': 0.95, 'Name': 'MinSlotF1', 'Type': 'Float'}],\n",
      " 'PipelineExperimentConfig': {'ExperimentName': {'Get': 'Execution.PipelineName'},\n",
      "                              'TrialName': {'Get': 'Execution.PipelineExecutionId'}},\n",
      " 'Steps': [{'Arguments': {'AppSpecification': {'ContainerArguments': ['--do_eval',\n",
      "                                                                      'True',\n",
      "                                                                      '--do_train',\n",
      "                                                                      'False',\n",
      "                                                                      '--model_dir',\n",
      "                                                                      '/opt/ml/processing/input/model/',\n",
      "                                                                      '--task',\n",
      "                                                                      'naive',\n",
      "                                                                      '--model_type',\n",
      "                                                                      'bert',\n",
      "                                                                      '--output_data_dir',\n",
      "                                                                      '/opt/ml/processing/output/metrics/',\n",
      "                                                                      '--data_dir',\n",
      "                                                                      '/opt/ml/processing/input/data'],\n",
      "                                               'ContainerEntrypoint': ['python3',\n",
      "                                                                       '/opt/ml/processing/input/code/main.py'],\n",
      "                                               'ImageUri': '683313688378.dkr.ecr.us-east-1.amazonaws.com/sagemaker-scikit-learn:0.23-1-cpu-py3'},\n",
      "                          'Environment': {'AWS_DEFAULT_REGION': 'us-east-1'},\n",
      "                          'ProcessingInputs': [{'AppManaged': False,\n",
      "                                                'InputName': 'model',\n",
      "                                                'S3Input': {'LocalPath': '/opt/ml/processing/input/model',\n",
      "                                                            'S3CompressionType': 'None',\n",
      "                                                            'S3DataDistributionType': 'FullyReplicated',\n",
      "                                                            'S3DataType': 'S3Prefix',\n",
      "                                                            'S3InputMode': 'File',\n",
      "                                                            'S3Uri': 's3://sm-nlp-data/nlu/outputs/pipelines-mpyz3z8uxzno-Train-rzHTDRQ9rJ/output/model.tar.gz'}},\n",
      "                                               {'AppManaged': False,\n",
      "                                                'InputName': 'data',\n",
      "                                                'S3Input': {'LocalPath': '/opt/ml/processing/input/data',\n",
      "                                                            'S3CompressionType': 'None',\n",
      "                                                            'S3DataDistributionType': 'FullyReplicated',\n",
      "                                                            'S3DataType': 'S3Prefix',\n",
      "                                                            'S3InputMode': 'File',\n",
      "                                                            'S3Uri': 's3://sm-nlp-data/nlu/data/processed/'}},\n",
      "                                               {'AppManaged': False,\n",
      "                                                'InputName': 'code',\n",
      "                                                'S3Input': {'LocalPath': '/opt/ml/processing/input/code',\n",
      "                                                            'S3CompressionType': 'None',\n",
      "                                                            'S3DataDistributionType': 'FullyReplicated',\n",
      "                                                            'S3DataType': 'S3Prefix',\n",
      "                                                            'S3InputMode': 'File',\n",
      "                                                            'S3Uri': 's3://sagemaker-us-east-1-093729152554/sagemaker-scikit-learn-2021-09-08-08-45-01-713/input/code/main.py'}}],\n",
      "                          'ProcessingOutputConfig': {'Outputs': [{'AppManaged': False,\n",
      "                                                                  'OutputName': 'metrics',\n",
      "                                                                  'S3Output': {'LocalPath': '/opt/ml/processing/output/metrics/',\n",
      "                                                                               'S3UploadMode': 'EndOfJob',\n",
      "                                                                               'S3Uri': 's3://sagemaker-us-east-1-093729152554/sagemaker-scikit-learn-2021-09-08-08-44-59-930/output/metrics'}}]},\n",
      "                          'ProcessingResources': {'ClusterConfig': {'InstanceCount': {'Get': 'Parameters.EvaluationInstanceCount'},\n",
      "                                                                    'InstanceType': {'Get': 'Parameters.EvaluationInstanceType'},\n",
      "                                                                    'VolumeSizeInGB': 30}},\n",
      "                          'RoleArn': 'arn:aws:iam::093729152554:role/service-role/AWSNeptuneNotebookRole-NepTestRole',\n",
      "                          'StoppingCondition': {'MaxRuntimeInSeconds': 7200}},\n",
      "            'Name': 'EvaluateModel',\n",
      "            'PropertyFiles': [{'FilePath': 'evaluation.json',\n",
      "                               'OutputName': 'metrics',\n",
      "                               'PropertyFileName': 'EvaluationReport'}],\n",
      "            'Type': 'Processing'},\n",
      "           {'Arguments': {'Conditions': [{'LeftValue': {'Std:JsonGet': {'Path': 'intent_acc',\n",
      "                                                                        'PropertyFile': {'Get': 'Steps.EvaluateModel.PropertyFiles.EvaluationReport'}}},\n",
      "                                          'RightValue': {'Get': 'Parameters.MinIntentAccuracy'},\n",
      "                                          'Type': 'GreaterThanOrEqualTo'},\n",
      "                                         {'LeftValue': {'Std:JsonGet': {'Path': 'slot_f1',\n",
      "                                                                        'PropertyFile': {'Get': 'Steps.EvaluateModel.PropertyFiles.EvaluationReport'}}},\n",
      "                                          'RightValue': {'Get': 'Parameters.MinSlotF1'},\n",
      "                                          'Type': 'GreaterThanOrEqualTo'}],\n",
      "                          'ElseSteps': [],\n",
      "                          'IfSteps': [{'Arguments': {'InferenceSpecification': {'Containers': [{'Image': '763104351884.dkr.ecr.us-east-1.amazonaws.com/pytorch-inference:1.8.1-gpu-py3',\n",
      "                                                                                                'ModelDataUrl': 's3://sm-nlp-data/nlu/outputs/pipelines-2qjkjdrs52ev-Train-S78ARZPZst/output/model.tar.gz'}],\n",
      "                                                                                'SupportedContentTypes': ['application/json'],\n",
      "                                                                                'SupportedRealtimeInferenceInstanceTypes': ['ml.t2.medium',\n",
      "                                                                                                                            'ml.m5.xlarge'],\n",
      "                                                                                'SupportedResponseMIMETypes': ['application/json'],\n",
      "                                                                                'SupportedTransformInstanceTypes': ['ml.c5.4xlarge']},\n",
      "                                                     'ModelApprovalStatus': {'Get': 'Parameters.ModelApprovalStatus'},\n",
      "                                                     'ModelMetrics': {'ModelQuality': {'Statistics': {'ContentType': 'application/json',\n",
      "                                                                                                      'S3Uri': 's3://sagemaker-us-east-1-093729152554/sagemaker-scikit-learn-2021-09-08-08-44-59-930/output/metrics/evaluation.json'}}},\n",
      "                                                     'ModelPackageGroupName': 'Question-Understanding-Models-1631090660'},\n",
      "                                       'Name': 'QARegisterModel',\n",
      "                                       'Type': 'RegisterModel'},\n",
      "                                      {'Arguments': {'ExecutionRoleArn': 'arn:aws:iam::093729152554:role/service-role/AWSNeptuneNotebookRole-NepTestRole',\n",
      "                                                     'PrimaryContainer': {'Environment': {'SAGEMAKER_CONTAINER_LOG_LEVEL': '20',\n",
      "                                                                                          'SAGEMAKER_PROGRAM': 'inference.py',\n",
      "                                                                                          'SAGEMAKER_REGION': 'us-east-1',\n",
      "                                                                                          'SAGEMAKER_SUBMIT_DIRECTORY': 's3://sagemaker-us-east-1-093729152554/qa-model-1631090660/model.tar.gz'},\n",
      "                                                                          'Image': '763104351884.dkr.ecr.us-east-1.amazonaws.com/pytorch-inference-eia:1.3.1-cpu-py3',\n",
      "                                                                          'ModelDataUrl': 's3://sagemaker-us-east-1-093729152554/qa-model-1631090660/model.tar.gz'}},\n",
      "                                       'Name': 'CreateQAModel',\n",
      "                                       'Type': 'Model'}]},\n",
      "            'Name': 'IntentAndSlotCondition',\n",
      "            'Type': 'Condition'}],\n",
      " 'Version': '2020-12-01'}\n"
     ]
    }
   ],
   "source": [
    "pipeline = Pipeline(\n",
    "    name='qa-condition-step-'+str(time.time())[:10],\n",
    "    parameters=[\n",
    "        evaluation_instance_type,\n",
    "        evaluation_instance_count,\n",
    "        \n",
    "        model_approval_status,\n",
    "        deploy_instance_type,\n",
    "        deploy_instance_count,\n",
    "        \n",
    "        min_intent_acc,\n",
    "        min_slot_f1\n",
    "    ],\n",
    "    steps=[evaluation_step, condition_step],\n",
    "    sagemaker_session=sess,\n",
    ")\n",
    "\n",
    "definition = json.loads(pipeline.definition())\n",
    "pprint(definition)"
   ]
  },
  {
   "cell_type": "markdown",
   "metadata": {},
   "source": [
    "## Test All Steps"
   ]
  },
  {
   "cell_type": "code",
   "execution_count": 178,
   "metadata": {},
   "outputs": [
    {
     "name": "stderr",
     "output_type": "stream",
     "text": [
      "WARNING:sagemaker.estimator:No finished training job found associated with this estimator. Please make sure this estimator is only used for building workflow config\n"
     ]
    },
    {
     "name": "stdout",
     "output_type": "stream",
     "text": [
      "{'Metadata': {},\n",
      " 'Parameters': [{'DefaultValue': 'ml.c5.2xlarge',\n",
      "                 'Name': 'EvaluationInstanceType',\n",
      "                 'Type': 'String'},\n",
      "                {'DefaultValue': 1,\n",
      "                 'Name': 'EvaluationInstanceCount',\n",
      "                 'Type': 'Integer'},\n",
      "                {'DefaultValue': 'PendingManualApproval',\n",
      "                 'Name': 'ModelApprovalStatus',\n",
      "                 'Type': 'String'},\n",
      "                {'DefaultValue': 'ml.m4.xlarge',\n",
      "                 'Name': 'DeployInstanceType',\n",
      "                 'Type': 'String'},\n",
      "                {'DefaultValue': 1,\n",
      "                 'Name': 'DeployInstanceCount',\n",
      "                 'Type': 'Integer'},\n",
      "                {'DefaultValue': 0.9,\n",
      "                 'Name': 'MinIntentAccuracy',\n",
      "                 'Type': 'Float'},\n",
      "                {'DefaultValue': 0.95, 'Name': 'MinSlotF1', 'Type': 'Float'}],\n",
      " 'PipelineExperimentConfig': {'ExperimentName': {'Get': 'Execution.PipelineName'},\n",
      "                              'TrialName': {'Get': 'Execution.PipelineExecutionId'}},\n",
      " 'Steps': [{'Arguments': {'AppSpecification': {'ContainerArguments': ['--do_eval',\n",
      "                                                                      'True',\n",
      "                                                                      '--do_train',\n",
      "                                                                      'False',\n",
      "                                                                      '--model_dir',\n",
      "                                                                      '/opt/ml/processing/input/model/',\n",
      "                                                                      '--task',\n",
      "                                                                      'naive',\n",
      "                                                                      '--model_type',\n",
      "                                                                      'bert',\n",
      "                                                                      '--output_data_dir',\n",
      "                                                                      '/opt/ml/processing/output/metrics/',\n",
      "                                                                      '--data_dir',\n",
      "                                                                      '/opt/ml/processing/input/data'],\n",
      "                                               'ContainerEntrypoint': ['python3',\n",
      "                                                                       '/opt/ml/processing/input/code/main.py'],\n",
      "                                               'ImageUri': '683313688378.dkr.ecr.us-east-1.amazonaws.com/sagemaker-scikit-learn:0.23-1-cpu-py3'},\n",
      "                          'Environment': {'AWS_DEFAULT_REGION': 'us-east-1'},\n",
      "                          'ProcessingInputs': [{'AppManaged': False,\n",
      "                                                'InputName': 'model',\n",
      "                                                'S3Input': {'LocalPath': '/opt/ml/processing/input/model',\n",
      "                                                            'S3CompressionType': 'None',\n",
      "                                                            'S3DataDistributionType': 'FullyReplicated',\n",
      "                                                            'S3DataType': 'S3Prefix',\n",
      "                                                            'S3InputMode': 'File',\n",
      "                                                            'S3Uri': 's3://sm-nlp-data/nlu/outputs/pipelines-mpyz3z8uxzno-Train-rzHTDRQ9rJ/output/model.tar.gz'}},\n",
      "                                               {'AppManaged': False,\n",
      "                                                'InputName': 'data',\n",
      "                                                'S3Input': {'LocalPath': '/opt/ml/processing/input/data',\n",
      "                                                            'S3CompressionType': 'None',\n",
      "                                                            'S3DataDistributionType': 'FullyReplicated',\n",
      "                                                            'S3DataType': 'S3Prefix',\n",
      "                                                            'S3InputMode': 'File',\n",
      "                                                            'S3Uri': 's3://sm-nlp-data/nlu/data/processed/'}},\n",
      "                                               {'AppManaged': False,\n",
      "                                                'InputName': 'code',\n",
      "                                                'S3Input': {'LocalPath': '/opt/ml/processing/input/code',\n",
      "                                                            'S3CompressionType': 'None',\n",
      "                                                            'S3DataDistributionType': 'FullyReplicated',\n",
      "                                                            'S3DataType': 'S3Prefix',\n",
      "                                                            'S3InputMode': 'File',\n",
      "                                                            'S3Uri': 's3://sagemaker-us-east-1-093729152554/sagemaker-scikit-learn-2021-09-08-08-45-31-835/input/code/main.py'}}],\n",
      "                          'ProcessingOutputConfig': {'Outputs': [{'AppManaged': False,\n",
      "                                                                  'OutputName': 'metrics',\n",
      "                                                                  'S3Output': {'LocalPath': '/opt/ml/processing/output/metrics/',\n",
      "                                                                               'S3UploadMode': 'EndOfJob',\n",
      "                                                                               'S3Uri': 's3://sagemaker-us-east-1-093729152554/sagemaker-scikit-learn-2021-09-08-08-44-59-930/output/metrics'}}]},\n",
      "                          'ProcessingResources': {'ClusterConfig': {'InstanceCount': {'Get': 'Parameters.EvaluationInstanceCount'},\n",
      "                                                                    'InstanceType': {'Get': 'Parameters.EvaluationInstanceType'},\n",
      "                                                                    'VolumeSizeInGB': 30}},\n",
      "                          'RoleArn': 'arn:aws:iam::093729152554:role/service-role/AWSNeptuneNotebookRole-NepTestRole',\n",
      "                          'StoppingCondition': {'MaxRuntimeInSeconds': 7200}},\n",
      "            'Name': 'EvaluateModel',\n",
      "            'PropertyFiles': [{'FilePath': 'evaluation.json',\n",
      "                               'OutputName': 'metrics',\n",
      "                               'PropertyFileName': 'EvaluationReport'}],\n",
      "            'Type': 'Processing'},\n",
      "           {'Arguments': {'Conditions': [{'LeftValue': {'Std:JsonGet': {'Path': 'intent_acc',\n",
      "                                                                        'PropertyFile': {'Get': 'Steps.EvaluateModel.PropertyFiles.EvaluationReport'}}},\n",
      "                                          'RightValue': {'Get': 'Parameters.MinIntentAccuracy'},\n",
      "                                          'Type': 'GreaterThanOrEqualTo'},\n",
      "                                         {'LeftValue': {'Std:JsonGet': {'Path': 'slot_f1',\n",
      "                                                                        'PropertyFile': {'Get': 'Steps.EvaluateModel.PropertyFiles.EvaluationReport'}}},\n",
      "                                          'RightValue': {'Get': 'Parameters.MinSlotF1'},\n",
      "                                          'Type': 'GreaterThanOrEqualTo'}],\n",
      "                          'ElseSteps': [],\n",
      "                          'IfSteps': [{'Arguments': {'InferenceSpecification': {'Containers': [{'Image': '763104351884.dkr.ecr.us-east-1.amazonaws.com/pytorch-inference:1.8.1-gpu-py3',\n",
      "                                                                                                'ModelDataUrl': 's3://sm-nlp-data/nlu/outputs/pipelines-2qjkjdrs52ev-Train-S78ARZPZst/output/model.tar.gz'}],\n",
      "                                                                                'SupportedContentTypes': ['application/json'],\n",
      "                                                                                'SupportedRealtimeInferenceInstanceTypes': ['ml.t2.medium',\n",
      "                                                                                                                            'ml.m5.xlarge'],\n",
      "                                                                                'SupportedResponseMIMETypes': ['application/json'],\n",
      "                                                                                'SupportedTransformInstanceTypes': ['ml.c5.4xlarge']},\n",
      "                                                     'ModelApprovalStatus': {'Get': 'Parameters.ModelApprovalStatus'},\n",
      "                                                     'ModelMetrics': {'ModelQuality': {'Statistics': {'ContentType': 'application/json',\n",
      "                                                                                                      'S3Uri': 's3://sagemaker-us-east-1-093729152554/sagemaker-scikit-learn-2021-09-08-08-44-59-930/output/metrics/evaluation.json'}}},\n",
      "                                                     'ModelPackageGroupName': 'Question-Understanding-Models-1631090660'},\n",
      "                                       'Name': 'QARegisterModel',\n",
      "                                       'Type': 'RegisterModel'},\n",
      "                                      {'Arguments': {'ExecutionRoleArn': 'arn:aws:iam::093729152554:role/service-role/AWSNeptuneNotebookRole-NepTestRole',\n",
      "                                                     'PrimaryContainer': {'Environment': {'SAGEMAKER_CONTAINER_LOG_LEVEL': '20',\n",
      "                                                                                          'SAGEMAKER_PROGRAM': 'inference.py',\n",
      "                                                                                          'SAGEMAKER_REGION': 'us-east-1',\n",
      "                                                                                          'SAGEMAKER_SUBMIT_DIRECTORY': 's3://sagemaker-us-east-1-093729152554/qa-model-1631090660/model.tar.gz'},\n",
      "                                                                          'Image': '763104351884.dkr.ecr.us-east-1.amazonaws.com/pytorch-inference-eia:1.3.1-cpu-py3',\n",
      "                                                                          'ModelDataUrl': 's3://sagemaker-us-east-1-093729152554/qa-model-1631090660/model.tar.gz'}},\n",
      "                                       'Name': 'CreateQAModel',\n",
      "                                       'Type': 'Model'}]},\n",
      "            'Name': 'IntentAndSlotCondition',\n",
      "            'Type': 'Condition'}],\n",
      " 'Version': '2020-12-01'}\n"
     ]
    }
   ],
   "source": [
    "pipeline = Pipeline(\n",
    "    name='qa-pipeline-'+str(time.time())[:10],\n",
    "    parameters=[\n",
    "        evaluation_instance_type,\n",
    "        evaluation_instance_count,\n",
    "        \n",
    "        model_approval_status,\n",
    "        deploy_instance_type,\n",
    "        deploy_instance_count,\n",
    "        \n",
    "        min_intent_acc,\n",
    "        min_slot_f1\n",
    "    ],\n",
    "    steps=[evaluation_step, condition_step],\n",
    "    sagemaker_session=sess,\n",
    ")\n",
    "\n",
    "definition = json.loads(pipeline.definition())\n",
    "pprint(definition)"
   ]
  },
  {
   "cell_type": "code",
   "execution_count": 179,
   "metadata": {},
   "outputs": [
    {
     "name": "stderr",
     "output_type": "stream",
     "text": [
      "WARNING:sagemaker.estimator:No finished training job found associated with this estimator. Please make sure this estimator is only used for building workflow config\n"
     ]
    },
    {
     "name": "stdout",
     "output_type": "stream",
     "text": [
      "arn:aws:sagemaker:us-east-1:093729152554:pipeline/qa-pipeline-1631090731\n"
     ]
    }
   ],
   "source": [
    "response = pipeline.create(role_arn=role)\n",
    "pipeline_arn = response[\"PipelineArn\"]\n",
    "print(pipeline_arn)"
   ]
  },
  {
   "cell_type": "code",
   "execution_count": 180,
   "metadata": {},
   "outputs": [
    {
     "name": "stdout",
     "output_type": "stream",
     "text": [
      "arn:aws:sagemaker:us-east-1:093729152554:pipeline/qa-pipeline-1631090731/execution/xr9k8mchhvc3\n"
     ]
    }
   ],
   "source": [
    "execution = pipeline.start()\n",
    "print(execution.arn)"
   ]
  },
  {
   "cell_type": "code",
   "execution_count": 181,
   "metadata": {},
   "outputs": [
    {
     "name": "stdout",
     "output_type": "stream",
     "text": [
      "{'CreatedBy': {},\n",
      " 'CreationTime': datetime.datetime(2021, 9, 8, 8, 46, 31, 517000, tzinfo=tzlocal()),\n",
      " 'LastModifiedBy': {},\n",
      " 'LastModifiedTime': datetime.datetime(2021, 9, 8, 8, 46, 31, 517000, tzinfo=tzlocal()),\n",
      " 'PipelineArn': 'arn:aws:sagemaker:us-east-1:093729152554:pipeline/qa-pipeline-1631090731',\n",
      " 'PipelineExecutionArn': 'arn:aws:sagemaker:us-east-1:093729152554:pipeline/qa-pipeline-1631090731/execution/xr9k8mchhvc3',\n",
      " 'PipelineExecutionDisplayName': 'execution-1631090791616',\n",
      " 'PipelineExecutionStatus': 'Executing',\n",
      " 'ResponseMetadata': {'HTTPHeaders': {'content-length': '409',\n",
      "                                      'content-type': 'application/x-amz-json-1.1',\n",
      "                                      'date': 'Wed, 08 Sep 2021 08:46:30 GMT',\n",
      "                                      'x-amzn-requestid': '70932247-e335-46e6-8f28-8d7b067780db'},\n",
      "                      'HTTPStatusCode': 200,\n",
      "                      'RequestId': '70932247-e335-46e6-8f28-8d7b067780db',\n",
      "                      'RetryAttempts': 0}}\n"
     ]
    }
   ],
   "source": [
    "from pprint import pprint\n",
    "\n",
    "execution_run = execution.describe()\n",
    "pprint(execution_run)"
   ]
  },
  {
   "cell_type": "code",
   "execution_count": null,
   "metadata": {},
   "outputs": [],
   "source": []
  }
 ],
 "metadata": {
  "instance_type": "ml.g4dn.xlarge",
  "kernelspec": {
   "display_name": "Python 3 (PyTorch 1.6 Python 3.6 GPU Optimized)",
   "language": "python",
   "name": "python3__SAGEMAKER_INTERNAL__arn:aws:sagemaker:us-east-1:081325390199:image/pytorch-1.6-gpu-py36-cu110-ubuntu18.04-v3"
  },
  "language_info": {
   "codemirror_mode": {
    "name": "ipython",
    "version": 3
   },
   "file_extension": ".py",
   "mimetype": "text/x-python",
   "name": "python",
   "nbconvert_exporter": "python",
   "pygments_lexer": "ipython3",
   "version": "3.6.13"
  }
 },
 "nbformat": 4,
 "nbformat_minor": 4
}
